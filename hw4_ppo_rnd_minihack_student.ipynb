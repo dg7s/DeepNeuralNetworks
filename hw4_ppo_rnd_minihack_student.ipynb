{
  "cells": [
    {
      "cell_type": "markdown",
      "metadata": {
        "id": "MrcCWSKQkwOo"
      },
      "source": [
        "# PPO and RND for MiniHack: Introduction"
      ]
    },
    {
      "cell_type": "code",
      "execution_count": null,
      "metadata": {
        "id": "Xrk6onMyLRn8"
      },
      "outputs": [],
      "source": [
        "### BEGIN SOLUTION - Student's name\n",
        "# Dominik Gaweł dg448617\n",
        "### END SOLUTION\n",
        "\n",
        "### BEGIN SOLUTION - Message\n",
        "# ALL_DONE - I have completed every task, and my solutions work correctly\n",
        "# In this run, TensorBoard is not visible, but as mentioned, it is not a problem.\n",
        "### END SOLUTION\n"
      ]
    },
    {
      "cell_type": "markdown",
      "metadata": {
        "id": "ZEqxK_hYhBXh"
      },
      "source": [
        "\n",
        "\n",
        "In this homework, we will explore [<b>Proximal Policy Optimization (PPO)</b>](https://arxiv.org/abs/1707.06347) combined with [<b>Random Network Distillation (RND)</b>](https://arxiv.org/abs/1810.12894) in the context of [MiniHack](https://github.com/facebookresearch/minihack) environments. These environments are challenging procedurally-generated tasks based on the [NetHack Learning Environment (NLE)](https://github.com/heiner/nle), designed to test advanced reinforcement learning algorithms. While PPO is a robust and popular policy optimization algorithm, RND introduces intrinsic rewards to encourage exploration in sparse-reward environments.\n",
        "\n",
        "The combination of PPO and RND addresses two key challenges in reinforcement learning:\n",
        "- <b>Sparse Rewards</b>: Many environments provide limited feedback, making it difficult for agents to learn effective policies. RND helps by providing intrinsic rewards based on prediction errors of a randomly initialized network, encouraging exploration.\n",
        "- <b>Efficient Policy Optimization</b>: PPO uses a clipped surrogate objective to ensure stable and efficient updates to the policy, preventing large deviations that could destabilize training.\n",
        "\n",
        "Submission requirements:\n",
        "* Please do not modify anything outside of the `### BEGIN SOLUTION ... ### END SOLUTION` blocks (if you feel it might be useful somewhere, ask on slack).\n",
        "* Don't use `tqdm.notebook` or `tqdm.auto`, just plain `tqdm`.\n",
        "* Don't use additional libraries than provided - see/run `hw4-rl_hw_tester_student` for reference.\n",
        "* Use only provided context objects and variables for each solution (common: numpy, torch) - example: (numpy, torch, self, x, action) - see/run `hw4-rl_hw_tester_student` for reference.\n",
        "* Include your full name in the designated solution field **Student\\'s name** - **required**.\n",
        "* Use the designated solution field **Message** for additional information to assist the reviewing instructor - optional.\n",
        "* It should be possible to execute the notebook from top to bottom when loaded in Colab with a GPU in a reasonable amount of time (perfect solution about 2h).\n",
        "* Plots should either be images embedded in cell outputs (in a way that shows correctly when loading the notebook from the file, without executing it), or attached with the exported .ipynb notebook in a .zip file (screenshots are admissible, but prefer exporting with e.g. `plt.savefig()`). At the end of the notebook method `save_static_plots_in_notebook` will embed sufficient plots automatically.\n",
        "* Please submit your solution as a notebook with saved cell outputs.\n",
        "* There is one provided completed solution for reference which has its own test - `PPOT compute_advantages`.\n",
        "* **(IMPORTANT) Make sure that every correctly completed solution passes its designated test in `hw4-rl_hw_tester_student` notebook.**\n"
      ]
    },
    {
      "cell_type": "markdown",
      "metadata": {
        "id": "KDgZx9aF8CPL"
      },
      "source": [
        "## Installation\n",
        "You will have to restart session on Google Colab\n",
        "\n",
        "(when configuring local env refer to local_config_instructions document)"
      ]
    },
    {
      "cell_type": "code",
      "execution_count": 1,
      "metadata": {
        "colab": {
          "base_uri": "https://localhost:8080/"
        },
        "id": "ywVD_uRMhBEx",
        "outputId": "1f46c36e-052b-4816-df21-8852dbb2055d"
      },
      "outputs": [
        {
          "output_type": "stream",
          "name": "stdout",
          "text": [
            "\u001b[33mWARNING: Ignoring invalid distribution ~ensorboard (/usr/local/lib/python3.11/dist-packages)\u001b[0m\u001b[33m\n",
            "\u001b[0m\u001b[33mWARNING: Ignoring invalid distribution ~ensorboard (/usr/local/lib/python3.11/dist-packages)\u001b[0m\u001b[33m\n",
            "\u001b[0mRequirement already satisfied: tyro in /usr/local/lib/python3.11/dist-packages (0.9.13)\n",
            "Requirement already satisfied: docstring-parser>=0.15 in /usr/local/lib/python3.11/dist-packages (from tyro) (0.16)\n",
            "Requirement already satisfied: rich>=11.1.0 in /usr/local/lib/python3.11/dist-packages (from tyro) (13.9.4)\n",
            "Requirement already satisfied: shtab>=1.5.6 in /usr/local/lib/python3.11/dist-packages (from tyro) (1.7.1)\n",
            "Requirement already satisfied: typeguard>=4.0.0 in /usr/local/lib/python3.11/dist-packages (from tyro) (4.4.1)\n",
            "Requirement already satisfied: typing-extensions>=4.9.0 in /usr/local/lib/python3.11/dist-packages (from tyro) (4.12.2)\n",
            "Requirement already satisfied: markdown-it-py>=2.2.0 in /usr/local/lib/python3.11/dist-packages (from rich>=11.1.0->tyro) (3.0.0)\n",
            "Requirement already satisfied: pygments<3.0.0,>=2.13.0 in /usr/local/lib/python3.11/dist-packages (from rich>=11.1.0->tyro) (2.18.0)\n",
            "Requirement already satisfied: mdurl~=0.1 in /usr/local/lib/python3.11/dist-packages (from markdown-it-py>=2.2.0->rich>=11.1.0->tyro) (0.1.2)\n",
            "\u001b[33mWARNING: Ignoring invalid distribution ~ensorboard (/usr/local/lib/python3.11/dist-packages)\u001b[0m\u001b[33m\n",
            "\u001b[0m\u001b[33mWARNING: Ignoring invalid distribution ~ensorboard (/usr/local/lib/python3.11/dist-packages)\u001b[0m\u001b[33m\n",
            "\u001b[0m\u001b[33mWARNING: Ignoring invalid distribution ~ensorboard (/usr/local/lib/python3.11/dist-packages)\u001b[0m\u001b[33m\n",
            "\u001b[0mRequirement already satisfied: imageio[ffmpeg] in /usr/local/lib/python3.11/dist-packages (2.36.1)\n",
            "Requirement already satisfied: numpy in /usr/local/lib/python3.11/dist-packages (from imageio[ffmpeg]) (1.23.3)\n",
            "Requirement already satisfied: pillow>=8.3.2 in /usr/local/lib/python3.11/dist-packages (from imageio[ffmpeg]) (11.1.0)\n",
            "Requirement already satisfied: imageio-ffmpeg in /usr/local/lib/python3.11/dist-packages (from imageio[ffmpeg]) (0.6.0)\n",
            "Requirement already satisfied: psutil in /usr/local/lib/python3.11/dist-packages (from imageio[ffmpeg]) (5.9.5)\n",
            "\u001b[33mWARNING: Ignoring invalid distribution ~ensorboard (/usr/local/lib/python3.11/dist-packages)\u001b[0m\u001b[33m\n",
            "\u001b[0m\u001b[33mWARNING: Ignoring invalid distribution ~ensorboard (/usr/local/lib/python3.11/dist-packages)\u001b[0m\u001b[33m\n",
            "\u001b[0m\u001b[33mWARNING: Ignoring invalid distribution ~ensorboard (/usr/local/lib/python3.11/dist-packages)\u001b[0m\u001b[33m\n",
            "\u001b[0mRequirement already satisfied: pufferlib==1.0 in /usr/local/lib/python3.11/dist-packages (1.0.0)\n",
            "Requirement already satisfied: numpy==1.23.3 in /usr/local/lib/python3.11/dist-packages (from pufferlib==1.0) (1.23.3)\n",
            "Requirement already satisfied: opencv-python==3.4.17.63 in /usr/local/lib/python3.11/dist-packages (from pufferlib==1.0) (3.4.17.63)\n",
            "Requirement already satisfied: cython>=3.0.0 in /usr/local/lib/python3.11/dist-packages (from pufferlib==1.0) (3.0.11)\n",
            "Requirement already satisfied: rich in /usr/local/lib/python3.11/dist-packages (from pufferlib==1.0) (13.9.4)\n",
            "Requirement already satisfied: rich-argparse in /usr/local/lib/python3.11/dist-packages (from pufferlib==1.0) (1.6.0)\n",
            "Requirement already satisfied: gym<=0.23 in /usr/local/lib/python3.11/dist-packages (from pufferlib==1.0) (0.23.0)\n",
            "Requirement already satisfied: gymnasium<=0.29.1 in /usr/local/lib/python3.11/dist-packages (from pufferlib==1.0) (0.29.1)\n",
            "Requirement already satisfied: pettingzoo<=1.24.1 in /usr/local/lib/python3.11/dist-packages (from pufferlib==1.0) (1.24.1)\n",
            "Requirement already satisfied: shimmy[gym-v21] in /usr/local/lib/python3.11/dist-packages (from pufferlib==1.0) (1.3.0)\n",
            "Requirement already satisfied: cloudpickle>=1.2.0 in /usr/local/lib/python3.11/dist-packages (from gym<=0.23->pufferlib==1.0) (3.1.1)\n",
            "Requirement already satisfied: gym_notices>=0.0.4 in /usr/local/lib/python3.11/dist-packages (from gym<=0.23->pufferlib==1.0) (0.0.8)\n",
            "Requirement already satisfied: typing-extensions>=4.3.0 in /usr/local/lib/python3.11/dist-packages (from gymnasium<=0.29.1->pufferlib==1.0) (4.12.2)\n",
            "Requirement already satisfied: farama-notifications>=0.0.1 in /usr/local/lib/python3.11/dist-packages (from gymnasium<=0.29.1->pufferlib==1.0) (0.0.4)\n",
            "Requirement already satisfied: markdown-it-py>=2.2.0 in /usr/local/lib/python3.11/dist-packages (from rich->pufferlib==1.0) (3.0.0)\n",
            "Requirement already satisfied: pygments<3.0.0,>=2.13.0 in /usr/local/lib/python3.11/dist-packages (from rich->pufferlib==1.0) (2.18.0)\n",
            "Requirement already satisfied: pyglet==1.5.11 in /usr/local/lib/python3.11/dist-packages (from shimmy[gym-v21]->pufferlib==1.0) (1.5.11)\n",
            "Requirement already satisfied: mdurl~=0.1 in /usr/local/lib/python3.11/dist-packages (from markdown-it-py>=2.2.0->rich->pufferlib==1.0) (0.1.2)\n",
            "\u001b[33mWARNING: Ignoring invalid distribution ~ensorboard (/usr/local/lib/python3.11/dist-packages)\u001b[0m\u001b[33m\n",
            "\u001b[0m\u001b[33mWARNING: Ignoring invalid distribution ~ensorboard (/usr/local/lib/python3.11/dist-packages)\u001b[0m\u001b[33m\n",
            "\u001b[0m\u001b[33mWARNING: Ignoring invalid distribution ~ensorboard (/usr/local/lib/python3.11/dist-packages)\u001b[0m\u001b[33m\n",
            "\u001b[0mCollecting tensorboard\n",
            "  Using cached tensorboard-2.18.0-py3-none-any.whl.metadata (1.6 kB)\n",
            "Requirement already satisfied: absl-py>=0.4 in /usr/local/lib/python3.11/dist-packages (from tensorboard) (1.4.0)\n",
            "Requirement already satisfied: grpcio>=1.48.2 in /usr/local/lib/python3.11/dist-packages (from tensorboard) (1.70.0)\n",
            "Requirement already satisfied: markdown>=2.6.8 in /usr/local/lib/python3.11/dist-packages (from tensorboard) (3.7)\n",
            "Requirement already satisfied: numpy>=1.12.0 in /usr/local/lib/python3.11/dist-packages (from tensorboard) (1.23.3)\n",
            "Requirement already satisfied: packaging in /usr/local/lib/python3.11/dist-packages (from tensorboard) (24.2)\n",
            "Requirement already satisfied: protobuf!=4.24.0,>=3.19.6 in /usr/local/lib/python3.11/dist-packages (from tensorboard) (4.25.6)\n",
            "Requirement already satisfied: setuptools>=41.0.0 in /usr/local/lib/python3.11/dist-packages (from tensorboard) (75.1.0)\n",
            "Requirement already satisfied: six>1.9 in /usr/local/lib/python3.11/dist-packages (from tensorboard) (1.17.0)\n",
            "Requirement already satisfied: tensorboard-data-server<0.8.0,>=0.7.0 in /usr/local/lib/python3.11/dist-packages (from tensorboard) (0.7.2)\n",
            "Requirement already satisfied: werkzeug>=1.0.1 in /usr/local/lib/python3.11/dist-packages (from tensorboard) (3.1.3)\n",
            "Requirement already satisfied: MarkupSafe>=2.1.1 in /usr/local/lib/python3.11/dist-packages (from werkzeug>=1.0.1->tensorboard) (3.0.2)\n",
            "Using cached tensorboard-2.18.0-py3-none-any.whl (5.5 MB)\n",
            "\u001b[33mWARNING: Ignoring invalid distribution ~ensorboard (/usr/local/lib/python3.11/dist-packages)\u001b[0m\u001b[33m\n",
            "\u001b[0mInstalling collected packages: tensorboard\n",
            "\u001b[33mWARNING: Ignoring invalid distribution ~ensorboard (/usr/local/lib/python3.11/dist-packages)\u001b[0m\u001b[33m\n",
            "\u001b[0m\u001b[31mERROR: pip's dependency resolver does not currently take into account all the packages that are installed. This behaviour is the source of the following dependency conflicts.\n",
            "tensorflow 2.17.1 requires numpy<2.0.0,>=1.23.5; python_version <= \"3.11\", but you have numpy 1.23.3 which is incompatible.\n",
            "tensorflow 2.17.1 requires tensorboard<2.18,>=2.17, but you have tensorboard 2.18.0 which is incompatible.\u001b[0m\u001b[31m\n",
            "\u001b[0mSuccessfully installed tensorboard\n",
            "\u001b[33mWARNING: Ignoring invalid distribution ~ensorboard (/usr/local/lib/python3.11/dist-packages)\u001b[0m\u001b[33m\n",
            "\u001b[0m\u001b[33mWARNING: Ignoring invalid distribution ~ensorboard (/usr/local/lib/python3.11/dist-packages)\u001b[0m\u001b[33m\n",
            "\u001b[0mCollecting nle==0.9.0\n",
            "  Using cached https://github.com/BartekCupial/nle/releases/download/fair/nle-0.9.0-cp311-cp311-manylinux_2_17_x86_64.manylinux2014_x86_64.whl (3.3 MB)\n",
            "Requirement already satisfied: pybind11>=2.2 in /usr/local/lib/python3.11/dist-packages (from nle==0.9.0) (2.13.6)\n",
            "Requirement already satisfied: numpy>=1.16 in /usr/local/lib/python3.11/dist-packages (from nle==0.9.0) (1.23.3)\n",
            "Requirement already satisfied: gym==0.23 in /usr/local/lib/python3.11/dist-packages (from nle==0.9.0) (0.23.0)\n",
            "Requirement already satisfied: cloudpickle>=1.2.0 in /usr/local/lib/python3.11/dist-packages (from gym==0.23->nle==0.9.0) (3.1.1)\n",
            "Requirement already satisfied: gym_notices>=0.0.4 in /usr/local/lib/python3.11/dist-packages (from gym==0.23->nle==0.9.0) (0.0.8)\n",
            "\u001b[33mWARNING: Ignoring invalid distribution ~ensorboard (/usr/local/lib/python3.11/dist-packages)\u001b[0m\u001b[33m\n",
            "\u001b[0m\u001b[33mWARNING: Ignoring invalid distribution ~ensorboard (/usr/local/lib/python3.11/dist-packages)\u001b[0m\u001b[33m\n",
            "\u001b[0m\u001b[33mWARNING: Ignoring invalid distribution ~ensorboard (/usr/local/lib/python3.11/dist-packages)\u001b[0m\u001b[33m\n",
            "\u001b[0mCollecting minihack\n",
            "  Downloading minihack-0.1.6.tar.gz (248 kB)\n",
            "\u001b[2K     \u001b[90m━━━━━━━━━━━━━━━━━━━━━━━━━━━━━━━━━━━━━━━━\u001b[0m \u001b[32m248.4/248.4 kB\u001b[0m \u001b[31m11.9 MB/s\u001b[0m eta \u001b[36m0:00:00\u001b[0m\n",
            "\u001b[?25h  Installing build dependencies ... \u001b[?25l\u001b[?25hdone\n",
            "  Getting requirements to build wheel ... \u001b[?25l\u001b[?25hdone\n",
            "  Preparing metadata (pyproject.toml) ... \u001b[?25l\u001b[?25hdone\n",
            "Requirement already satisfied: numpy>=1.16 in /usr/local/lib/python3.11/dist-packages (from minihack) (1.23.3)\n",
            "Requirement already satisfied: gym<=0.23,>=0.15 in /usr/local/lib/python3.11/dist-packages (from minihack) (0.23.0)\n",
            "Requirement already satisfied: nle==0.9.0 in /usr/local/lib/python3.11/dist-packages (from minihack) (0.9.0)\n",
            "Requirement already satisfied: pybind11>=2.2 in /usr/local/lib/python3.11/dist-packages (from nle==0.9.0->minihack) (2.13.6)\n",
            "Requirement already satisfied: cloudpickle>=1.2.0 in /usr/local/lib/python3.11/dist-packages (from gym<=0.23,>=0.15->minihack) (3.1.1)\n",
            "Requirement already satisfied: gym_notices>=0.0.4 in /usr/local/lib/python3.11/dist-packages (from gym<=0.23,>=0.15->minihack) (0.0.8)\n",
            "Building wheels for collected packages: minihack\n",
            "  Building wheel for minihack (pyproject.toml) ... \u001b[?25l\u001b[?25hdone\n",
            "  Created wheel for minihack: filename=minihack-0.1.6-py3-none-any.whl size=288602 sha256=10894b14ed7214ec3ee3f5df09d61d4cbbfe12a6bf4f5262ba8526e31ddfecbc\n",
            "  Stored in directory: /root/.cache/pip/wheels/bd/35/53/f1bf7d12b8c9c7e697c00658536326a28f164459d754abdaea\n",
            "Successfully built minihack\n",
            "\u001b[33mWARNING: Ignoring invalid distribution ~ensorboard (/usr/local/lib/python3.11/dist-packages)\u001b[0m\u001b[33m\n",
            "\u001b[0mInstalling collected packages: minihack\n",
            "Successfully installed minihack-0.1.6\n"
          ]
        }
      ],
      "source": [
        "# works for Google Colab\n",
        "!pip install tyro\n",
        "!pip install imageio[ffmpeg]\n",
        "!pip install pufferlib==1.0\n",
        "!pip install --upgrade tensorboard\n",
        "!pip install \"https://github.com/BartekCupial/nle/releases/download/fair/nle-0.9.0-cp311-cp311-manylinux_2_17_x86_64.manylinux2014_x86_64.whl\"\n",
        "!pip install minihack"
      ]
    },
    {
      "cell_type": "markdown",
      "metadata": {
        "id": "JJIWNyGgMBBt"
      },
      "source": [
        "### Alternative local installation tips\n",
        "(Ubuntu Linux)\n",
        "\n",
        "sudo apt update && sudo apt upgrade -y\n",
        "\n",
        "sudo apt install python3 python3-pip python3-venv build-essential cmake git -y \\\n",
        "sudo apt install libffi-dev libbz2-dev liblzma-dev zlib1g-dev libncurses5-dev libncursesw5-dev -y \\\n",
        "sudo apt install flex bison\n",
        "\n",
        "conda create -n rl_hw python=3.10 \\\n",
        "conda activate rl_hw\n",
        "\n",
        "(in env)\n",
        "\n",
        "pip install tyro \\\n",
        "pip install imageio[ffmpeg] \\\n",
        "pip install pufferlib==1.0 \\\n",
        "pip install --upgrade tensorboard \\\n",
        "pip install minihack\n",
        "\n",
        "other libs can be installed via “conda install”\n"
      ]
    },
    {
      "cell_type": "markdown",
      "metadata": {
        "id": "DAlNr4mj7tfr"
      },
      "source": [
        "## Imports"
      ]
    },
    {
      "cell_type": "code",
      "execution_count": 2,
      "metadata": {
        "id": "177U0axHg801"
      },
      "outputs": [],
      "source": [
        "import random\n",
        "import argparse\n",
        "import time\n",
        "from functools import partial\n",
        "from collections import deque\n",
        "from dataclasses import dataclass\n",
        "\n",
        "import numpy as np\n",
        "import torch\n",
        "import torch.nn as nn\n",
        "import torch.nn.functional as F\n",
        "import torch.optim as optim\n",
        "from gym.wrappers.normalize import RunningMeanStd\n",
        "from torch.utils.tensorboard import SummaryWriter\n",
        "\n",
        "# RL library for vectorized environments\n",
        "import pufferlib\n",
        "import pufferlib.vector\n",
        "import pufferlib.emulation"
      ]
    },
    {
      "cell_type": "markdown",
      "metadata": {
        "id": "P_xp9noHLRn_"
      },
      "source": [
        "## Loggers"
      ]
    },
    {
      "cell_type": "code",
      "execution_count": 3,
      "metadata": {
        "colab": {
          "base_uri": "https://localhost:8080/",
          "height": 1000,
          "referenced_widgets": [
            "a656c980f21c4bddb2356f91e796e28b",
            "705c52bfb835451d89479264b31890d0",
            "927ebbfe33464f7cae38b0d500633e68",
            "9907bf6098794ea59b23c4b1d868664c"
          ]
        },
        "id": "GVVDfVRrLRn_",
        "outputId": "9426d2a0-b549-4be4-f05d-1ea225d7c458"
      },
      "outputs": [
        {
          "output_type": "display_data",
          "data": {
            "application/vnd.jupyter.widget-view+json": {
              "version_major": 2,
              "version_minor": 0,
              "model_id": "a656c980f21c4bddb2356f91e796e28b"
            },
            "text/plain": [
              "FigureWidget({\n",
              "    'data': [{'mode': 'lines',\n",
              "              'showlegend': True,\n",
              "              'type': 'scatter',\n",
              "              'uid': 'd90d4034-7c61-4fcd-bab4-8f138f253ac6',\n",
              "              'x': [],\n",
              "              'y': []},\n",
              "             {'mode': 'lines',\n",
              "              'showlegend': True,\n",
              "              'type': 'scatter',\n",
              "              'uid': '98aa16ce-e0ad-40c2-ab76-ceae94f9e9ed',\n",
              "              'x': [],\n",
              "              'y': []},\n",
              "             {'mode': 'lines',\n",
              "              'showlegend': True,\n",
              "              'type': 'scatter',\n",
              "              'uid': '0db12f88-205a-46f4-9700-04fbcfd6d7d5',\n",
              "              'x': [],\n",
              "              'y': []},\n",
              "             {'mode': 'lines',\n",
              "              'showlegend': True,\n",
              "              'type': 'scatter',\n",
              "              'uid': '13300774-bc78-4890-8c8d-339108ac58b0',\n",
              "              'x': [],\n",
              "              'y': []},\n",
              "             {'mode': 'lines',\n",
              "              'showlegend': True,\n",
              "              'type': 'scatter',\n",
              "              'uid': '21925499-871c-4a65-a1aa-6b4b00c3e39e',\n",
              "              'x': [],\n",
              "              'y': []},\n",
              "             {'mode': 'lines',\n",
              "              'showlegend': True,\n",
              "              'type': 'scatter',\n",
              "              'uid': '5de04baf-f669-483c-a927-84f6fd21429a',\n",
              "              'x': [],\n",
              "              'y': []},\n",
              "             {'mode': 'lines',\n",
              "              'showlegend': True,\n",
              "              'type': 'scatter',\n",
              "              'uid': '75d6f528-da65-47d1-a83d-51e3e63b2f31',\n",
              "              'x': [],\n",
              "              'y': []},\n",
              "             {'mode': 'lines',\n",
              "              'showlegend': True,\n",
              "              'type': 'scatter',\n",
              "              'uid': 'ee940530-327f-44ac-a914-31cc961d40da',\n",
              "              'x': [],\n",
              "              'y': []},\n",
              "             {'mode': 'lines',\n",
              "              'showlegend': True,\n",
              "              'type': 'scatter',\n",
              "              'uid': '5ba2d965-34ec-48e8-bb87-53aa799367ee',\n",
              "              'x': [],\n",
              "              'y': []},\n",
              "             {'mode': 'lines',\n",
              "              'showlegend': True,\n",
              "              'type': 'scatter',\n",
              "              'uid': '06095be4-5293-45e0-909d-052913bb32fc',\n",
              "              'x': [],\n",
              "              'y': []},\n",
              "             {'mode': 'lines',\n",
              "              'showlegend': True,\n",
              "              'type': 'scatter',\n",
              "              'uid': '7ec4b369-8900-4a3a-b204-56ef420c8b85',\n",
              "              'x': [],\n",
              "              'y': []},\n",
              "             {'mode': 'lines',\n",
              "              'showlegend': True,\n",
              "              'type': 'scatter',\n",
              "              'uid': '42204734-3558-4734-a5bc-8fc764dec1bb',\n",
              "              'x': [],\n",
              "              'y': []},\n",
              "             {'mode': 'lines',\n",
              "              'showlegend': True,\n",
              "              'type': 'scatter',\n",
              "              'uid': 'feba8c01-b141-440d-a937-a54116d51a1c',\n",
              "              'x': [],\n",
              "              'y': []},\n",
              "             {'mode': 'lines',\n",
              "              'showlegend': True,\n",
              "              'type': 'scatter',\n",
              "              'uid': 'b2bb7c3f-47bd-4351-9abc-b4fa7f748d0f',\n",
              "              'x': [],\n",
              "              'y': []},\n",
              "             {'mode': 'lines',\n",
              "              'showlegend': True,\n",
              "              'type': 'scatter',\n",
              "              'uid': 'cd705d6e-8025-4a4c-8ae6-b2559971bab8',\n",
              "              'x': [],\n",
              "              'y': []},\n",
              "             {'mode': 'lines',\n",
              "              'showlegend': True,\n",
              "              'type': 'scatter',\n",
              "              'uid': 'abe5c2de-9584-4850-8ee9-e94825df3a40',\n",
              "              'x': [],\n",
              "              'y': []},\n",
              "             {'mode': 'lines',\n",
              "              'showlegend': True,\n",
              "              'type': 'scatter',\n",
              "              'uid': 'd4c1a584-d551-4d89-ab30-d1d57dae3ca1',\n",
              "              'x': [],\n",
              "              'y': []},\n",
              "             {'mode': 'lines',\n",
              "              'showlegend': True,\n",
              "              'type': 'scatter',\n",
              "              'uid': 'c862d9f5-0b96-4e20-9309-1ac0e63a4f05',\n",
              "              'x': [],\n",
              "              'y': []},\n",
              "             {'mode': 'lines',\n",
              "              'showlegend': True,\n",
              "              'type': 'scatter',\n",
              "              'uid': '55e56f67-e0df-4746-91b5-362aa0b9ac4a',\n",
              "              'x': [],\n",
              "              'y': []},\n",
              "             {'mode': 'lines',\n",
              "              'showlegend': True,\n",
              "              'type': 'scatter',\n",
              "              'uid': 'e96e408f-d6eb-4be4-989e-54b095d56c17',\n",
              "              'x': [],\n",
              "              'y': []},\n",
              "             {'mode': 'lines',\n",
              "              'showlegend': True,\n",
              "              'type': 'scatter',\n",
              "              'uid': '195f9fa5-e2b3-4487-a8df-800c6d9072f4',\n",
              "              'x': [],\n",
              "              'y': []},\n",
              "             {'mode': 'lines',\n",
              "              'showlegend': True,\n",
              "              'type': 'scatter',\n",
              "              'uid': 'e28ea495-a4d1-48e3-96f6-8fcbcf754303',\n",
              "              'x': [],\n",
              "              'y': []},\n",
              "             {'mode': 'lines',\n",
              "              'showlegend': True,\n",
              "              'type': 'scatter',\n",
              "              'uid': 'f74a603b-f672-4d36-a89f-0d35bb6ba4f1',\n",
              "              'x': [],\n",
              "              'y': []},\n",
              "             {'mode': 'lines',\n",
              "              'showlegend': True,\n",
              "              'type': 'scatter',\n",
              "              'uid': 'd59a3720-26c1-43cb-918f-a7ea4e29fceb',\n",
              "              'x': [],\n",
              "              'y': []},\n",
              "             {'mode': 'lines',\n",
              "              'showlegend': True,\n",
              "              'type': 'scatter',\n",
              "              'uid': 'e47b1bbc-8e9c-4cae-96b3-c7142fd7eac2',\n",
              "              'x': [],\n",
              "              'y': []}],\n",
              "    'layout': {'height': 400,\n",
              "               'margin': {'b': 10, 't': 60},\n",
              "               'template': '...',\n",
              "               'title': {'text': 'Training entropy loss', 'x': 0.5},\n",
              "               'width': 1500,\n",
              "               'xaxis': {'title': {'text': 'Global step'}},\n",
              "               'yaxis': {'type': 'linear'}}\n",
              "})"
            ]
          },
          "metadata": {
            "application/vnd.jupyter.widget-view+json": {
              "colab": {
                "custom_widget_manager": {
                  "url": "https://ssl.gstatic.com/colaboratory-static/widgets/colab-cdn-widget-manager/2b70e893a8ba7c0f/manager.min.js"
                }
              }
            }
          }
        },
        {
          "output_type": "display_data",
          "data": {
            "application/vnd.jupyter.widget-view+json": {
              "version_major": 2,
              "version_minor": 0,
              "model_id": "705c52bfb835451d89479264b31890d0"
            },
            "text/plain": [
              "FigureWidget({\n",
              "    'data': [{'mode': 'lines',\n",
              "              'showlegend': True,\n",
              "              'type': 'scatter',\n",
              "              'uid': 'daa8889a-8a44-418a-8d0d-c4ae32a3b13d',\n",
              "              'x': [],\n",
              "              'y': []},\n",
              "             {'mode': 'lines',\n",
              "              'showlegend': True,\n",
              "              'type': 'scatter',\n",
              "              'uid': '60c39bdc-2b72-441d-979f-2922897c26fd',\n",
              "              'x': [],\n",
              "              'y': []},\n",
              "             {'mode': 'lines',\n",
              "              'showlegend': True,\n",
              "              'type': 'scatter',\n",
              "              'uid': '13a70b6d-5fa5-40b1-8306-52d721424c32',\n",
              "              'x': [],\n",
              "              'y': []},\n",
              "             {'mode': 'lines',\n",
              "              'showlegend': True,\n",
              "              'type': 'scatter',\n",
              "              'uid': '501e0ec2-b98c-4068-9c1c-b93f8dc17509',\n",
              "              'x': [],\n",
              "              'y': []},\n",
              "             {'mode': 'lines',\n",
              "              'showlegend': True,\n",
              "              'type': 'scatter',\n",
              "              'uid': 'fce8cb79-0055-4a2e-9710-ad0decd3741b',\n",
              "              'x': [],\n",
              "              'y': []},\n",
              "             {'mode': 'lines',\n",
              "              'showlegend': True,\n",
              "              'type': 'scatter',\n",
              "              'uid': '92873160-6a02-4dc4-8a0d-3b37ff61545b',\n",
              "              'x': [],\n",
              "              'y': []},\n",
              "             {'mode': 'lines',\n",
              "              'showlegend': True,\n",
              "              'type': 'scatter',\n",
              "              'uid': '28347fb2-1d3f-48a4-8afa-cc367d070662',\n",
              "              'x': [],\n",
              "              'y': []},\n",
              "             {'mode': 'lines',\n",
              "              'showlegend': True,\n",
              "              'type': 'scatter',\n",
              "              'uid': '708b347a-f49f-4c8e-bc51-7f4eaf71d1cd',\n",
              "              'x': [],\n",
              "              'y': []},\n",
              "             {'mode': 'lines',\n",
              "              'showlegend': True,\n",
              "              'type': 'scatter',\n",
              "              'uid': '88d66a89-64da-442a-bdbe-11623cbd9a96',\n",
              "              'x': [],\n",
              "              'y': []},\n",
              "             {'mode': 'lines',\n",
              "              'showlegend': True,\n",
              "              'type': 'scatter',\n",
              "              'uid': '78337071-5886-4d51-a09c-6fccbe8c1a9f',\n",
              "              'x': [],\n",
              "              'y': []},\n",
              "             {'mode': 'lines',\n",
              "              'showlegend': True,\n",
              "              'type': 'scatter',\n",
              "              'uid': '583c5382-0208-4b3c-9840-e58cbbb5fae8',\n",
              "              'x': [],\n",
              "              'y': []},\n",
              "             {'mode': 'lines',\n",
              "              'showlegend': True,\n",
              "              'type': 'scatter',\n",
              "              'uid': '4bae39b8-0a57-4893-8287-0656e2d1bb77',\n",
              "              'x': [],\n",
              "              'y': []},\n",
              "             {'mode': 'lines',\n",
              "              'showlegend': True,\n",
              "              'type': 'scatter',\n",
              "              'uid': 'c490f303-1859-4792-82a3-f62d1e0921a8',\n",
              "              'x': [],\n",
              "              'y': []},\n",
              "             {'mode': 'lines',\n",
              "              'showlegend': True,\n",
              "              'type': 'scatter',\n",
              "              'uid': 'db5d9f05-fdf0-47ea-aaf5-9cf770a81ff6',\n",
              "              'x': [],\n",
              "              'y': []},\n",
              "             {'mode': 'lines',\n",
              "              'showlegend': True,\n",
              "              'type': 'scatter',\n",
              "              'uid': '87fed213-1f5d-4004-84de-d39c52985cd5',\n",
              "              'x': [],\n",
              "              'y': []},\n",
              "             {'mode': 'lines',\n",
              "              'showlegend': True,\n",
              "              'type': 'scatter',\n",
              "              'uid': '3054ae1f-a426-4172-a2fd-1e7512a1e4a9',\n",
              "              'x': [],\n",
              "              'y': []},\n",
              "             {'mode': 'lines',\n",
              "              'showlegend': True,\n",
              "              'type': 'scatter',\n",
              "              'uid': 'a57279e9-0af2-4c7a-863d-eaa40081f250',\n",
              "              'x': [],\n",
              "              'y': []},\n",
              "             {'mode': 'lines',\n",
              "              'showlegend': True,\n",
              "              'type': 'scatter',\n",
              "              'uid': '70b9e8c2-1cfb-4a52-aa5e-6292e5b63e8f',\n",
              "              'x': [],\n",
              "              'y': []},\n",
              "             {'mode': 'lines',\n",
              "              'showlegend': True,\n",
              "              'type': 'scatter',\n",
              "              'uid': '3b47197b-c12f-473b-b346-87e4260aed87',\n",
              "              'x': [],\n",
              "              'y': []},\n",
              "             {'mode': 'lines',\n",
              "              'showlegend': True,\n",
              "              'type': 'scatter',\n",
              "              'uid': '982fbe8c-d3f3-482d-a5e0-54cfde740ebc',\n",
              "              'x': [],\n",
              "              'y': []},\n",
              "             {'mode': 'lines',\n",
              "              'showlegend': True,\n",
              "              'type': 'scatter',\n",
              "              'uid': '1f46242d-70c2-4810-a5e0-444eba1b843d',\n",
              "              'x': [],\n",
              "              'y': []},\n",
              "             {'mode': 'lines',\n",
              "              'showlegend': True,\n",
              "              'type': 'scatter',\n",
              "              'uid': '092d924e-fa49-4e50-bdee-5830b350cec2',\n",
              "              'x': [],\n",
              "              'y': []},\n",
              "             {'mode': 'lines',\n",
              "              'showlegend': True,\n",
              "              'type': 'scatter',\n",
              "              'uid': 'af7d5227-6e8c-4474-8f0f-f28011245f1d',\n",
              "              'x': [],\n",
              "              'y': []},\n",
              "             {'mode': 'lines',\n",
              "              'showlegend': True,\n",
              "              'type': 'scatter',\n",
              "              'uid': 'a6810819-7871-444b-9a37-41ba30921e09',\n",
              "              'x': [],\n",
              "              'y': []},\n",
              "             {'mode': 'lines',\n",
              "              'showlegend': True,\n",
              "              'type': 'scatter',\n",
              "              'uid': '78360b0f-9001-4be3-9b0a-4c471aa06d88',\n",
              "              'x': [],\n",
              "              'y': []}],\n",
              "    'layout': {'height': 400,\n",
              "               'margin': {'b': 10, 't': 60},\n",
              "               'template': '...',\n",
              "               'title': {'text': 'Training average episode return', 'x': 0.5},\n",
              "               'width': 1500,\n",
              "               'xaxis': {'title': {'text': 'Global step'}},\n",
              "               'yaxis': {'type': 'linear'}}\n",
              "})"
            ]
          },
          "metadata": {
            "application/vnd.jupyter.widget-view+json": {
              "colab": {
                "custom_widget_manager": {
                  "url": "https://ssl.gstatic.com/colaboratory-static/widgets/colab-cdn-widget-manager/2b70e893a8ba7c0f/manager.min.js"
                }
              }
            }
          }
        },
        {
          "output_type": "display_data",
          "data": {
            "application/vnd.jupyter.widget-view+json": {
              "version_major": 2,
              "version_minor": 0,
              "model_id": "927ebbfe33464f7cae38b0d500633e68"
            },
            "text/plain": [
              "FigureWidget({\n",
              "    'data': [{'mode': 'lines',\n",
              "              'showlegend': True,\n",
              "              'type': 'scatter',\n",
              "              'uid': '0e95593d-4855-41a7-9af4-554f2fe3526b',\n",
              "              'x': [],\n",
              "              'y': []},\n",
              "             {'mode': 'lines',\n",
              "              'showlegend': True,\n",
              "              'type': 'scatter',\n",
              "              'uid': '7c07311d-1927-41a4-97a6-f7b423fc9015',\n",
              "              'x': [],\n",
              "              'y': []},\n",
              "             {'mode': 'lines',\n",
              "              'showlegend': True,\n",
              "              'type': 'scatter',\n",
              "              'uid': 'a25dd9d8-e29f-4a7d-922e-3295349292fd',\n",
              "              'x': [],\n",
              "              'y': []},\n",
              "             {'mode': 'lines',\n",
              "              'showlegend': True,\n",
              "              'type': 'scatter',\n",
              "              'uid': 'ac1f50e7-ace6-425b-b028-e01c83298807',\n",
              "              'x': [],\n",
              "              'y': []},\n",
              "             {'mode': 'lines',\n",
              "              'showlegend': True,\n",
              "              'type': 'scatter',\n",
              "              'uid': 'cd29d7d1-19fb-43d9-bc6b-364185e1209a',\n",
              "              'x': [],\n",
              "              'y': []},\n",
              "             {'mode': 'lines',\n",
              "              'showlegend': True,\n",
              "              'type': 'scatter',\n",
              "              'uid': '4fe5dd21-cbf2-4fd4-8403-c65a310af5eb',\n",
              "              'x': [],\n",
              "              'y': []},\n",
              "             {'mode': 'lines',\n",
              "              'showlegend': True,\n",
              "              'type': 'scatter',\n",
              "              'uid': '2f01b3df-a53e-47ed-aa11-9b155bae2dcd',\n",
              "              'x': [],\n",
              "              'y': []},\n",
              "             {'mode': 'lines',\n",
              "              'showlegend': True,\n",
              "              'type': 'scatter',\n",
              "              'uid': 'eaf15c52-ea95-49e1-bb91-e97b2fa28ded',\n",
              "              'x': [],\n",
              "              'y': []},\n",
              "             {'mode': 'lines',\n",
              "              'showlegend': True,\n",
              "              'type': 'scatter',\n",
              "              'uid': '82ffa3fa-b765-4701-b172-7f4fe32a1d78',\n",
              "              'x': [],\n",
              "              'y': []},\n",
              "             {'mode': 'lines',\n",
              "              'showlegend': True,\n",
              "              'type': 'scatter',\n",
              "              'uid': '3b9feeef-d548-4a84-bd30-d60b8d9d899d',\n",
              "              'x': [],\n",
              "              'y': []},\n",
              "             {'mode': 'lines',\n",
              "              'showlegend': True,\n",
              "              'type': 'scatter',\n",
              "              'uid': 'e537daf5-7c07-4ed9-a5b6-604483a0589d',\n",
              "              'x': [],\n",
              "              'y': []},\n",
              "             {'mode': 'lines',\n",
              "              'showlegend': True,\n",
              "              'type': 'scatter',\n",
              "              'uid': '7aa93ded-4dc4-4010-887c-07a230875783',\n",
              "              'x': [],\n",
              "              'y': []},\n",
              "             {'mode': 'lines',\n",
              "              'showlegend': True,\n",
              "              'type': 'scatter',\n",
              "              'uid': '946f78b1-a3ac-458e-9e1a-8e4269177f20',\n",
              "              'x': [],\n",
              "              'y': []},\n",
              "             {'mode': 'lines',\n",
              "              'showlegend': True,\n",
              "              'type': 'scatter',\n",
              "              'uid': 'c4091ff0-92f1-45b9-b4ae-4723a64794a3',\n",
              "              'x': [],\n",
              "              'y': []},\n",
              "             {'mode': 'lines',\n",
              "              'showlegend': True,\n",
              "              'type': 'scatter',\n",
              "              'uid': 'e607e15c-dcc8-49fc-8c84-e974939718ce',\n",
              "              'x': [],\n",
              "              'y': []},\n",
              "             {'mode': 'lines',\n",
              "              'showlegend': True,\n",
              "              'type': 'scatter',\n",
              "              'uid': 'f4e428b6-7554-4c6d-8c5d-3b081213b2b9',\n",
              "              'x': [],\n",
              "              'y': []},\n",
              "             {'mode': 'lines',\n",
              "              'showlegend': True,\n",
              "              'type': 'scatter',\n",
              "              'uid': 'a67c8213-565b-4bd5-92f1-bf1eeddac355',\n",
              "              'x': [],\n",
              "              'y': []},\n",
              "             {'mode': 'lines',\n",
              "              'showlegend': True,\n",
              "              'type': 'scatter',\n",
              "              'uid': '6825fb34-e5db-4c23-9662-22c9d4812508',\n",
              "              'x': [],\n",
              "              'y': []},\n",
              "             {'mode': 'lines',\n",
              "              'showlegend': True,\n",
              "              'type': 'scatter',\n",
              "              'uid': '35eb5798-c7ff-4379-a9cb-808cdb99fc82',\n",
              "              'x': [],\n",
              "              'y': []},\n",
              "             {'mode': 'lines',\n",
              "              'showlegend': True,\n",
              "              'type': 'scatter',\n",
              "              'uid': '061eab5f-39c4-45ac-8084-ed466fa0edb7',\n",
              "              'x': [],\n",
              "              'y': []},\n",
              "             {'mode': 'lines',\n",
              "              'showlegend': True,\n",
              "              'type': 'scatter',\n",
              "              'uid': 'f0efce0e-d86c-4d17-abd6-604c425bcb24',\n",
              "              'x': [],\n",
              "              'y': []},\n",
              "             {'mode': 'lines',\n",
              "              'showlegend': True,\n",
              "              'type': 'scatter',\n",
              "              'uid': '5f1bfa38-c345-4d79-a021-391f2be41fcf',\n",
              "              'x': [],\n",
              "              'y': []},\n",
              "             {'mode': 'lines',\n",
              "              'showlegend': True,\n",
              "              'type': 'scatter',\n",
              "              'uid': '79dad124-8610-4935-876e-f87b1b7fe1b4',\n",
              "              'x': [],\n",
              "              'y': []},\n",
              "             {'mode': 'lines',\n",
              "              'showlegend': True,\n",
              "              'type': 'scatter',\n",
              "              'uid': '85be2e29-86c7-40e4-a934-22d7e72b8a7f',\n",
              "              'x': [],\n",
              "              'y': []},\n",
              "             {'mode': 'lines',\n",
              "              'showlegend': True,\n",
              "              'type': 'scatter',\n",
              "              'uid': '818c5a44-4dc9-4ac2-ac94-fbe744d906b8',\n",
              "              'x': [],\n",
              "              'y': []}],\n",
              "    'layout': {'height': 400,\n",
              "               'margin': {'b': 10, 't': 60},\n",
              "               'template': '...',\n",
              "               'title': {'text': 'Training average curiosity reward', 'x': 0.5},\n",
              "               'width': 1500,\n",
              "               'xaxis': {'title': {'text': 'Global step'}},\n",
              "               'yaxis': {'type': 'linear'}}\n",
              "})"
            ]
          },
          "metadata": {
            "application/vnd.jupyter.widget-view+json": {
              "colab": {
                "custom_widget_manager": {
                  "url": "https://ssl.gstatic.com/colaboratory-static/widgets/colab-cdn-widget-manager/2b70e893a8ba7c0f/manager.min.js"
                }
              }
            }
          }
        },
        {
          "output_type": "display_data",
          "data": {
            "application/vnd.jupyter.widget-view+json": {
              "version_major": 2,
              "version_minor": 0,
              "model_id": "9907bf6098794ea59b23c4b1d868664c"
            },
            "text/plain": [
              "FigureWidget({\n",
              "    'data': [{'mode': 'lines',\n",
              "              'showlegend': True,\n",
              "              'type': 'scatter',\n",
              "              'uid': 'c20da99e-4e5b-4bcf-8503-e2c94dc5d99b',\n",
              "              'x': [],\n",
              "              'y': []},\n",
              "             {'mode': 'lines',\n",
              "              'showlegend': True,\n",
              "              'type': 'scatter',\n",
              "              'uid': 'bdd6f4e0-6ce3-4ad0-967b-d9345aeb0d6f',\n",
              "              'x': [],\n",
              "              'y': []},\n",
              "             {'mode': 'lines',\n",
              "              'showlegend': True,\n",
              "              'type': 'scatter',\n",
              "              'uid': 'ba4721d1-0c09-4735-8c34-ffd43d83ae94',\n",
              "              'x': [],\n",
              "              'y': []},\n",
              "             {'mode': 'lines',\n",
              "              'showlegend': True,\n",
              "              'type': 'scatter',\n",
              "              'uid': 'bc159531-98c5-4303-962c-ef50f941c882',\n",
              "              'x': [],\n",
              "              'y': []},\n",
              "             {'mode': 'lines',\n",
              "              'showlegend': True,\n",
              "              'type': 'scatter',\n",
              "              'uid': '4d38bd8e-f558-4313-b6c3-8bce006eacf9',\n",
              "              'x': [],\n",
              "              'y': []},\n",
              "             {'mode': 'lines',\n",
              "              'showlegend': True,\n",
              "              'type': 'scatter',\n",
              "              'uid': '824f2897-2a52-4de7-b16e-aeed2d959ae4',\n",
              "              'x': [],\n",
              "              'y': []},\n",
              "             {'mode': 'lines',\n",
              "              'showlegend': True,\n",
              "              'type': 'scatter',\n",
              "              'uid': 'f8361919-82fd-42a7-a661-347062e5eac1',\n",
              "              'x': [],\n",
              "              'y': []},\n",
              "             {'mode': 'lines',\n",
              "              'showlegend': True,\n",
              "              'type': 'scatter',\n",
              "              'uid': '3f48f79b-b584-4e8f-9bed-23718aa4196c',\n",
              "              'x': [],\n",
              "              'y': []},\n",
              "             {'mode': 'lines',\n",
              "              'showlegend': True,\n",
              "              'type': 'scatter',\n",
              "              'uid': '6ec2a83d-cfc8-4010-9b30-ea704ce4ff9c',\n",
              "              'x': [],\n",
              "              'y': []},\n",
              "             {'mode': 'lines',\n",
              "              'showlegend': True,\n",
              "              'type': 'scatter',\n",
              "              'uid': 'ab04d7e3-255e-42ac-956e-21f89acdd150',\n",
              "              'x': [],\n",
              "              'y': []},\n",
              "             {'mode': 'lines',\n",
              "              'showlegend': True,\n",
              "              'type': 'scatter',\n",
              "              'uid': 'fe491697-38f7-4a9c-98be-5058da7fc360',\n",
              "              'x': [],\n",
              "              'y': []},\n",
              "             {'mode': 'lines',\n",
              "              'showlegend': True,\n",
              "              'type': 'scatter',\n",
              "              'uid': '475017ac-0b46-458d-87ac-721ad8d5296c',\n",
              "              'x': [],\n",
              "              'y': []},\n",
              "             {'mode': 'lines',\n",
              "              'showlegend': True,\n",
              "              'type': 'scatter',\n",
              "              'uid': '2fd9e137-a285-425c-997f-39f7dbb6e2b8',\n",
              "              'x': [],\n",
              "              'y': []},\n",
              "             {'mode': 'lines',\n",
              "              'showlegend': True,\n",
              "              'type': 'scatter',\n",
              "              'uid': 'e801254c-b7a6-4ddd-a931-b7685d573361',\n",
              "              'x': [],\n",
              "              'y': []},\n",
              "             {'mode': 'lines',\n",
              "              'showlegend': True,\n",
              "              'type': 'scatter',\n",
              "              'uid': 'e7b4b5c7-c02f-4fab-9e84-f568a41f578e',\n",
              "              'x': [],\n",
              "              'y': []},\n",
              "             {'mode': 'lines',\n",
              "              'showlegend': True,\n",
              "              'type': 'scatter',\n",
              "              'uid': 'a81f1a9d-2b7e-4676-9707-e7dfca29e204',\n",
              "              'x': [],\n",
              "              'y': []},\n",
              "             {'mode': 'lines',\n",
              "              'showlegend': True,\n",
              "              'type': 'scatter',\n",
              "              'uid': '54cc503f-070b-488d-806e-fb3ed7020db0',\n",
              "              'x': [],\n",
              "              'y': []},\n",
              "             {'mode': 'lines',\n",
              "              'showlegend': True,\n",
              "              'type': 'scatter',\n",
              "              'uid': '6c1ee63e-6e2f-4a9b-83c4-4590a765e992',\n",
              "              'x': [],\n",
              "              'y': []},\n",
              "             {'mode': 'lines',\n",
              "              'showlegend': True,\n",
              "              'type': 'scatter',\n",
              "              'uid': '20f166fe-e146-4ee7-bb4d-aaf28938bd60',\n",
              "              'x': [],\n",
              "              'y': []},\n",
              "             {'mode': 'lines',\n",
              "              'showlegend': True,\n",
              "              'type': 'scatter',\n",
              "              'uid': '2ec29180-7b9a-4807-b920-b2a7d25f918d',\n",
              "              'x': [],\n",
              "              'y': []},\n",
              "             {'mode': 'lines',\n",
              "              'showlegend': True,\n",
              "              'type': 'scatter',\n",
              "              'uid': '1f304b13-3615-40de-be60-8e5f31105c44',\n",
              "              'x': [],\n",
              "              'y': []},\n",
              "             {'mode': 'lines',\n",
              "              'showlegend': True,\n",
              "              'type': 'scatter',\n",
              "              'uid': 'f3bf9a29-e501-4f0f-a1b5-d6705befadde',\n",
              "              'x': [],\n",
              "              'y': []},\n",
              "             {'mode': 'lines',\n",
              "              'showlegend': True,\n",
              "              'type': 'scatter',\n",
              "              'uid': '9dc03cf1-92ab-45b8-b02f-aec76e9719b1',\n",
              "              'x': [],\n",
              "              'y': []},\n",
              "             {'mode': 'lines',\n",
              "              'showlegend': True,\n",
              "              'type': 'scatter',\n",
              "              'uid': '9a66946e-98b5-4b12-93b5-f7eddbf2a197',\n",
              "              'x': [],\n",
              "              'y': []},\n",
              "             {'mode': 'lines',\n",
              "              'showlegend': True,\n",
              "              'type': 'scatter',\n",
              "              'uid': '55fa99b4-6b8f-44e3-a051-42fadb56b759',\n",
              "              'x': [],\n",
              "              'y': []}],\n",
              "    'layout': {'height': 400,\n",
              "               'margin': {'b': 10, 't': 60},\n",
              "               'template': '...',\n",
              "               'title': {'text': 'Steps Per Socond', 'x': 0.5},\n",
              "               'width': 1500,\n",
              "               'xaxis': {'title': {'text': 'Global step'}},\n",
              "               'yaxis': {'type': 'linear'}}\n",
              "})"
            ]
          },
          "metadata": {
            "application/vnd.jupyter.widget-view+json": {
              "colab": {
                "custom_widget_manager": {
                  "url": "https://ssl.gstatic.com/colaboratory-static/widgets/colab-cdn-widget-manager/2b70e893a8ba7c0f/manager.min.js"
                }
              }
            }
          }
        }
      ],
      "source": [
        "import plotly.graph_objects as go\n",
        "import plotly.io as pio\n",
        "import matplotlib.pyplot as plt\n",
        "from google.colab import output # only for Google Colab\n",
        "output.enable_custom_widget_manager()\n",
        "\n",
        "class TrainingLolcaLogger:\n",
        "    def __init__(self):\n",
        "        self.loss = self.init_line_plot(title='Training entropy loss', xaxis_title='Global step')\n",
        "        self.ave_er = self.init_line_plot(title='Training average episode return', xaxis_title='Global step')\n",
        "        self.ave_cr = self.init_line_plot(title='Training average curiosity reward', xaxis_title='Global step')\n",
        "        self.sps = self.init_line_plot(title='Steps Per Socond', xaxis_title='Global step')\n",
        "\n",
        "        self.loss.data[0].name = f'PPO'\n",
        "        self.loss.data[1].name = f'PPO+RND'\n",
        "        self.ave_er.data[0].name = f'PPO'\n",
        "        self.ave_er.data[1].name = f'PPO+RND'\n",
        "        self.ave_cr.data[0].name = f'PPO+RND'\n",
        "        self.sps.data[0].name = f'PPO'\n",
        "        self.sps.data[1].name = f'PPO+RND'\n",
        "\n",
        "\n",
        "    def init_line_plot(\n",
        "        self,\n",
        "        title,\n",
        "        x=None, xaxis_title=None,\n",
        "        yaxis_title=None, yaxis_type='linear',\n",
        "        mode='lines'\n",
        "    ):\n",
        "        fig = go.Figure()\n",
        "        fig.update_layout(\n",
        "            title=title, title_x=0.5,\n",
        "            xaxis_title=xaxis_title, yaxis_title=yaxis_title,\n",
        "            height=400, width=1500, margin=dict(b=10, t=60)\n",
        "        )\n",
        "        fig.update_yaxes(type=yaxis_type)\n",
        "        for _ in range(25):\n",
        "            fig.add_trace(go.Scatter(x=[], y=[], showlegend=True, mode=mode))\n",
        "\n",
        "        fig_widget = go.FigureWidget(fig)\n",
        "        display(fig_widget)\n",
        "        return fig_widget\n",
        "\n",
        "    def plot_ppo_loss(self, loss, step):\n",
        "        self.loss.data[0].y += (loss, )\n",
        "        self.loss.data[0].x += (step, )\n",
        "\n",
        "    def plot_rnd_loss(self, loss, step):\n",
        "        self.loss.data[1].y += (loss, )\n",
        "        self.loss.data[1].x += (step, )\n",
        "\n",
        "    def plot_ppo_er(self, er, step):\n",
        "        self.ave_er.data[0].y += (er, )\n",
        "        self.ave_er.data[0].x += (step, )\n",
        "\n",
        "    def plot_rnd_er(self, er, cr, step):\n",
        "        self.ave_er.data[1].y += (er, )\n",
        "        self.ave_er.data[1].x += (step, )\n",
        "        self.ave_cr.data[0].y += (cr, )\n",
        "        self.ave_cr.data[0].x += (step, )\n",
        "\n",
        "    def plot_ppo_sps(self, sps, step):\n",
        "        self.sps.data[0].y += (sps, )\n",
        "        self.sps.data[0].x += (step, )\n",
        "\n",
        "    def plot_rnd_sps(self, sps, step):\n",
        "        self.sps.data[1].y += (sps, )\n",
        "        self.sps.data[1].x += (step, )\n",
        "\n",
        "    def save_static_plots_in_notebook(self):\n",
        "        # Convert each FigureWidget to a regular Figure and display it using matplotlib\n",
        "        static_loss = go.Figure(self.loss)\n",
        "        static_ave_er = go.Figure(self.ave_er)\n",
        "        static_ave_cr = go.Figure(self.ave_cr)\n",
        "        static_sps = go.Figure(self.sps)\n",
        "\n",
        "        # Plot loss\n",
        "        plt.figure()\n",
        "        for trace in static_loss.data:\n",
        "            plt.plot(trace.x, trace.y, label=trace.name)\n",
        "        plt.title(\"Training entropy loss\")\n",
        "        plt.xlabel(\"Global step\")\n",
        "        plt.ylabel(\"Loss\")\n",
        "        plt.legend()\n",
        "        plt.show()\n",
        "\n",
        "        # Plot average episode return\n",
        "        plt.figure()\n",
        "        for trace in static_ave_er.data:\n",
        "            plt.plot(trace.x, trace.y, label=trace.name)\n",
        "        plt.title(\"Training average episode return\")\n",
        "        plt.xlabel(\"Global step\")\n",
        "        plt.ylabel(\"Episode Return\")\n",
        "        plt.legend()\n",
        "        plt.show()\n",
        "\n",
        "        # Plot curiosity reward\n",
        "        plt.figure()\n",
        "        for trace in static_ave_cr.data:\n",
        "            plt.plot(trace.x, trace.y, label=trace.name)\n",
        "        plt.title(\"Training average curiosity reward\")\n",
        "        plt.xlabel(\"Global step\")\n",
        "        plt.ylabel(\"Curiosity Reward\")\n",
        "        plt.legend()\n",
        "        plt.show()\n",
        "\n",
        "        # Plot SPS\n",
        "        plt.figure()\n",
        "        for trace in static_sps.data:\n",
        "            plt.plot(trace.x, trace.y, label=trace.name)\n",
        "        plt.title(\"Steps per socond\")\n",
        "        plt.xlabel(\"Global step\")\n",
        "        plt.ylabel(\"SPS\")\n",
        "        plt.legend()\n",
        "        plt.show()\n",
        "\n",
        "\n",
        "tlol = TrainingLolcaLogger()"
      ]
    },
    {
      "cell_type": "code",
      "execution_count": 32,
      "metadata": {
        "colab": {
          "base_uri": "https://localhost:8080/",
          "height": 1000
        },
        "id": "OC5U7KISLRoA",
        "outputId": "e71f9565-a2f7-4926-a6a9-7bd8c120de9c"
      },
      "outputs": [
        {
          "output_type": "stream",
          "name": "stdout",
          "text": [
            "The tensorboard extension is already loaded. To reload it, use:\n",
            "  %reload_ext tensorboard\n"
          ]
        },
        {
          "output_type": "display_data",
          "data": {
            "text/plain": [
              "ERROR: Failed to launch TensorBoard (exited with 1).\n",
              "Contents of stderr:\n",
              "2025-01-29 00:39:37.457932: E external/local_xla/xla/stream_executor/cuda/cuda_fft.cc:485] Unable to register cuFFT factory: Attempting to register factory for plugin cuFFT when one has already been registered\n",
              "2025-01-29 00:39:37.478208: E external/local_xla/xla/stream_executor/cuda/cuda_dnn.cc:8454] Unable to register cuDNN factory: Attempting to register factory for plugin cuDNN when one has already been registered\n",
              "2025-01-29 00:39:37.484192: E external/local_xla/xla/stream_executor/cuda/cuda_blas.cc:1452] Unable to register cuBLAS factory: Attempting to register factory for plugin cuBLAS when one has already been registered\n",
              "2025-01-29 00:39:38.594290: W tensorflow/compiler/tf2tensorrt/utils/py_utils.cc:38] TF-TRT Warning: Could not find TensorRT\n",
              "WARNING: All log messages before absl::InitializeLog() is called are written to STDERR\n",
              "I0000 00:00:1738111180.054282   35982 cuda_executor.cc:1015] successful NUMA node read from SysFS had negative value (-1), but there must be at least one NUMA node, so returning NUMA node zero. See more at https://github.com/torvalds/linux/blob/v6.0/Documentation/ABI/testing/sysfs-bus-pci#L344-L355\n",
              "I0000 00:00:1738111180.102942   35982 cuda_executor.cc:1015] successful NUMA node read from SysFS had negative value (-1), but there must be at least one NUMA node, so returning NUMA node zero. See more at https://github.com/torvalds/linux/blob/v6.0/Documentation/ABI/testing/sysfs-bus-pci#L344-L355\n",
              "I0000 00:00:1738111180.103249   35982 cuda_executor.cc:1015] successful NUMA node read from SysFS had negative value (-1), but there must be at least one NUMA node, so returning NUMA node zero. See more at https://github.com/torvalds/linux/blob/v6.0/Documentation/ABI/testing/sysfs-bus-pci#L344-L355\n",
              "I0129 00:39:40.106479 139648339170432 server_ingester.py:290] Server binary (from Python package v0.7.2): /usr/local/lib/python3.11/dist-packages/tensorboard_data_server/bin/server\n",
              "I0129 00:39:40.106939 139648339170432 server_ingester.py:138] Spawning data server: ['/usr/local/lib/python3.11/dist-packages/tensorboard_data_server/bin/server', '--logdir=runs', '--reload=5', '--samples-per-plugin=', '--port=0', '--port-file=/tmp/tensorboard_data_server_4ajbdq24/port', '--die-after-stdin', '--error-file=/tmp/tensorboard_data_server_4ajbdq24/startup_error', '--verbose', '--verbose']\n",
              "[2025-01-29T00:39:40Z DEBUG rustboard_core::cli] Parsed options: Opts { logdir: \"runs\", host: \"localhost\", port: 0, reload: Loop { delay: 5s }, verbosity: 2, die_after_stdin: true, port_file: Some(\"/tmp/tensorboard_data_server_4ajbdq24/port\"), error_file: Some(\"/tmp/tensorboard_data_server_4ajbdq24/startup_error\"), checksum: false, no_checksum: false, samples_per_plugin: PluginSamplingHint({}) }\n",
              "[2025-01-29T00:39:40Z TRACE mio::poll] registering event source with poller: token=Token(0), interests=READABLE | WRITABLE\n",
              "[2025-01-29T00:39:40Z INFO  rustboard_core::cli] Wrote port \"44823\" to /tmp/tensorboard_data_server_4ajbdq24/port\n",
              "[2025-01-29T00:39:40Z INFO  rustboard_core::cli] Starting load cycle\n",
              "[2025-01-29T00:39:40Z DEBUG rustboard_core::run] Starting load for run \"MiniHack-KeyRoom-S5-v0__rnd__1__1738106691\"\n",
              "[2025-01-29T00:39:40Z DEBUG rustboard_core::run] Starting load for run \"MiniHack-KeyRoom-S5-v0__rnd__1__1738106544\"\n",
              "[2025-01-29T00:39:40Z DEBUG rustboard_core::run] Finished load for run \"MiniHack-KeyRoom-S5-v0__rnd__1__1738106544\" (50.484µs)\n",
              "[2025-01-29T00:39:40Z DEBUG rustboard_core::run] Starting load for run \"MiniHack-KeyRoom-S5-v0__ppo__1__1738104474\"\n",
              "I0129 00:39:40.117725 139648339170432 server_ingester.py:160] Polling for data server port (attempt 0)\n",
              "I0129 00:39:40.118138 139648339170432 server_ingester.py:162] Port file contents: '44823\\n'\n",
              "I0129 00:39:40.125055 139648339170432 server_ingester.py:176] Opened channel to data server at pid 36002 via localhost:44823\n",
              "[2025-01-29T00:39:40Z TRACE mio::poll] registering event source with poller: token=Token(1), interests=READABLE | WRITABLE\n",
              "[2025-01-29T00:39:40Z TRACE h2::server] server_handshake;\n",
              "[2025-01-29T00:39:40Z TRACE h2::server] -> server_handshake;\n",
              "[2025-01-29T00:39:40Z TRACE h2::codec::framed_write] FramedWrite::buffer; frame=Settings { flags: (0x0), initial_window_size: 1048576, max_frame_size: 16384, max_header_list_size: 16777216 }\n",
              "[2025-01-29T00:39:40Z TRACE h2::codec::framed_write] -> FramedWrite::buffer;\n",
              "[2025-01-29T00:39:40Z DEBUG h2::codec::framed_write] send frame=Settings { flags: (0x0), initial_window_size: 1048576, max_frame_size: 16384, max_header_list_size: 16777216 }\n",
              "[2025-01-29T00:39:40Z TRACE h2::frame::settings] encoding SETTINGS; len=18\n",
              "[2025-01-29T00:39:40Z TRACE h2::frame::settings] encoding setting; val=InitialWindowSize(1048576)\n",
              "[2025-01-29T00:39:40Z TRACE h2::frame::settings] encoding setting; val=MaxFrameSize(16384)\n",
              "[2025-01-29T00:39:40Z TRACE h2::frame::settings] encoding setting; val=MaxHeaderListSize(16777216)\n",
              "[2025-01-29T00:39:40Z TRACE h2::codec::framed_write] encoded settings rem=27\n",
              "[2025-01-29T00:39:40Z TRACE h2::codec::framed_write] <- FramedWrite::buffer;\n",
              "[2025-01-29T00:39:40Z TRACE h2::codec::framed_write] -- FramedWrite::buffer;\n",
              "[2025-01-29T00:39:40Z TRACE h2::server] flush;\n",
              "[2025-01-29T00:39:40Z TRACE h2::server] <- server_handshake;\n",
              "[2025-01-29T00:39:40Z TRACE h2::server] -> server_handshake;\n",
              "[2025-01-29T00:39:40Z TRACE h2::server] state=Flushing(_)\n",
              "[2025-01-29T00:39:40Z TRACE h2::server] -> flush;\n",
              "[2025-01-29T00:39:40Z TRACE h2::codec::framed_write] FramedWrite::flush;\n",
              "[2025-01-29T00:39:40Z TRACE h2::codec::framed_write] -> FramedWrite::flush;\n",
              "[2025-01-29T00:39:40Z TRACE h2::codec::framed_write] queued_data_frame=false\n",
              "[2025-01-29T00:39:40Z TRACE h2::codec::framed_write] flushing buffer\n",
              "[2025-01-29T00:39:40Z TRACE h2::codec::framed_write] <- FramedWrite::flush;\n",
              "[2025-01-29T00:39:40Z TRACE h2::codec::framed_write] -- FramedWrite::flush;\n",
              "[2025-01-29T00:39:40Z TRACE h2::server] <- flush;\n",
              "[2025-01-29T00:39:40Z TRACE h2::server] flush.poll=Ready\n",
              "[2025-01-29T00:39:40Z TRACE h2::server] read_preface;\n",
              "[2025-01-29T00:39:40Z TRACE h2::server] -- flush;\n",
              "[2025-01-29T00:39:40Z TRACE h2::server] -> read_preface;\n",
              "[2025-01-29T00:39:40Z TRACE h2::server] <- read_preface;\n",
              "[2025-01-29T00:39:40Z TRACE h2::server] <- server_handshake;\n",
              "[2025-01-29T00:39:40Z TRACE h2::server] -- server_handshake;\n",
              "[2025-01-29T00:39:40Z TRACE h2::server] -> server_handshake;\n",
              "[2025-01-29T00:39:40Z TRACE h2::server] state=ReadingPreface(_)\n",
              "[2025-01-29T00:39:40Z TRACE h2::server] -> read_preface;\n",
              "[2025-01-29T00:39:40Z TRACE h2::server] <- read_preface;\n",
              "[2025-01-29T00:39:40Z TRACE h2::server] -- read_preface;\n",
              "[2025-01-29T00:39:40Z TRACE h2::proto::streams::flow_control] inc_window; sz=65535; old=0; new=65535\n",
              "[2025-01-29T00:39:40Z TRACE h2::proto::streams::flow_control] inc_window; sz=65535; old=0; new=65535\n",
              "[2025-01-29T00:39:40Z TRACE h2::proto::streams::prioritize] Prioritize::new; flow=FlowControl { window_size: Window(65535), available: Window(65535) }\n",
              "[2025-01-29T00:39:40Z DEBUG h2::proto::connection] Connection; peer=Server\n",
              "[2025-01-29T00:39:40Z TRACE h2::server] connection established!\n",
              "[2025-01-29T00:39:40Z TRACE h2::proto::streams::recv] set_target_connection_window; target=1048576; available=65535, reserved=0\n",
              "[2025-01-29T00:39:40Z TRACE h2::server] <- server_handshake;\n",
              "[2025-01-29T00:39:40Z TRACE h2::server] -- server_handshake;\n",
              "[2025-01-29T00:39:40Z TRACE h2::server] -- server_handshake;\n",
              "[2025-01-29T00:39:40Z TRACE h2::proto::connection] -> Connection;\n",
              "[2025-01-29T00:39:40Z TRACE h2::proto::connection] poll;\n",
              "[2025-01-29T00:39:40Z TRACE h2::proto::connection] -> poll;\n",
              "[2025-01-29T00:39:40Z TRACE h2::proto::connection] connection.state=Open\n",
              "[2025-01-29T00:39:40Z TRACE h2::proto::connection] -> Connection;\n",
              "[2025-01-29T00:39:40Z TRACE h2::proto::connection] poll_ready;\n",
              "[2025-01-29T00:39:40Z TRACE h2::proto::connection] -> poll_ready;\n",
              "[2025-01-29T00:39:40Z TRACE h2::proto::connection] <- poll_ready;\n",
              "[2025-01-29T00:39:40Z TRACE h2::proto::connection] -- poll_ready;\n",
              "[2025-01-29T00:39:40Z TRACE h2::proto::connection] <- Connection;\n",
              "[2025-01-29T00:39:40Z TRACE h2::codec::framed_read] FramedRead::poll_next;\n",
              "[2025-01-29T00:39:40Z TRACE h2::codec::framed_read] -> FramedRead::poll_next;\n",
              "[2025-01-29T00:39:40Z TRACE h2::codec::framed_read] poll\n",
              "[2025-01-29T00:39:40Z TRACE tokio_util::codec::framed_impl] attempting to decode a frame\n",
              "[2025-01-29T00:39:40Z TRACE tokio_util::codec::framed_impl] frame decoded from buffer\n",
              "[2025-01-29T00:39:40Z TRACE h2::codec::framed_read] read.bytes=45\n",
              "[2025-01-29T00:39:40Z TRACE h2::codec::framed_read] FramedRead::decode_frame; offset=45\n",
              "[2025-01-29T00:39:40Z TRACE h2::codec::framed_read] -> FramedRead::decode_frame;\n",
              "[2025-01-29T00:39:40Z TRACE h2::codec::framed_read] decoding frame from 45B\n",
              "[2025-01-29T00:39:40Z TRACE h2::codec::framed_read] frame.kind=Settings\n",
              "[2025-01-29T00:39:40Z TRACE h2::codec::framed_read] <- FramedRead::decode_frame;\n",
              "[2025-01-29T00:39:40Z TRACE h2::codec::framed_read] -- FramedRead::decode_frame;\n",
              "[2025-01-29T00:39:40Z DEBUG h2::codec::framed_read] received frame=Settings { flags: (0x0), enable_push: 0, max_concurrent_streams: 0, initial_window_size: 4194304, max_frame_size: 4194304, max_header_list_size: 16384 }\n",
              "[2025-01-29T00:39:40Z TRACE h2::codec::framed_read] <- FramedRead::poll_next;\n",
              "[2025-01-29T00:39:40Z TRACE h2::codec::framed_read] -- FramedRead::poll_next;\n",
              "[2025-01-29T00:39:40Z TRACE h2::proto::connection] recv SETTINGS frame=Settings { flags: (0x0), enable_push: 0, max_concurrent_streams: 0, initial_window_size: 4194304, max_frame_size: 4194304, max_header_list_size: 16384 }\n",
              "[2025-01-29T00:39:40Z TRACE h2::proto::connection] -> Connection;\n",
              "[2025-01-29T00:39:40Z TRACE h2::proto::connection] poll_ready;\n",
              "[2025-01-29T00:39:40Z TRACE h2::proto::connection] -> poll_ready;\n",
              "[2025-01-29T00:39:40Z TRACE h2::codec::framed_write] FramedWrite::buffer; frame=Settings { flags: (0x1: ACK) }\n",
              "[2025-01-29T00:39:40Z TRACE h2::codec::framed_write] -> FramedWrite::buffer;\n",
              "[2025-01-29T00:39:40Z DEBUG h2::codec::framed_write] send frame=Settings { flags: (0x1: ACK) }\n",
              "[2025-01-29T00:39:40Z TRACE h2::frame::settings] encoding SETTINGS; len=0\n",
              "[2025-01-29T00:39:40Z TRACE h2::codec::framed_write] encoded settings rem=9\n",
              "[2025-01-29T00:39:40Z TRACE h2::codec::framed_write] <- FramedWrite::buffer;\n",
              "[2025-01-29T00:39:40Z TRACE h2::codec::framed_write] -- FramedWrite::buffer;\n",
              "[2025-01-29T00:39:40Z TRACE h2::proto::settings] ACK sent; applying settings\n",
              "[2025-01-29T00:39:40Z TRACE h2::proto::connection] <- poll_ready;\n",
              "[2025-01-29T00:39:40Z TRACE h2::proto::connection] -- poll_ready;\n",
              "[2025-01-29T00:39:40Z TRACE h2::proto::connection] <- Connection;\n",
              "[2025-01-29T00:39:40Z TRACE h2::codec::framed_read] FramedRead::poll_next;\n",
              "[2025-01-29T00:39:40Z TRACE h2::codec::framed_read] -> FramedRead::poll_next;\n",
              "[2025-01-29T00:39:40Z TRACE h2::codec::framed_read] poll\n",
              "[2025-01-29T00:39:40Z TRACE tokio_util::codec::framed_impl] attempting to decode a frame\n",
              "[2025-01-29T00:39:40Z TRACE tokio_util::codec::framed_impl] frame decoded from buffer\n",
              "[2025-01-29T00:39:40Z TRACE h2::codec::framed_read] read.bytes=13\n",
              "[2025-01-29T00:39:40Z TRACE h2::codec::framed_read] FramedRead::decode_frame; offset=13\n",
              "[2025-01-29T00:39:40Z TRACE h2::codec::framed_read] -> FramedRead::decode_frame;\n",
              "[2025-01-29T00:39:40Z TRACE h2::codec::framed_read] decoding frame from 13B\n",
              "[2025-01-29T00:39:40Z TRACE h2::codec::framed_read] frame.kind=WindowUpdate\n",
              "[2025-01-29T00:39:40Z TRACE h2::codec::framed_read] <- FramedRead::decode_frame;\n",
              "[2025-01-29T00:39:40Z TRACE h2::codec::framed_read] -- FramedRead::decode_frame;\n",
              "[2025-01-29T00:39:40Z DEBUG h2::codec::framed_read] received frame=WindowUpdate { stream_id: StreamId(0), size_increment: 4128769 }\n",
              "[2025-01-29T00:39:40Z TRACE h2::codec::framed_read] <- FramedRead::poll_next;\n",
              "[2025-01-29T00:39:40Z TRACE h2::codec::framed_read] -- FramedRead::poll_next;\n",
              "[2025-01-29T00:39:40Z TRACE h2::proto::connection] recv WINDOW_UPDATE frame=WindowUpdate { stream_id: StreamId(0), size_increment: 4128769 }\n",
              "[2025-01-29T00:39:40Z TRACE h2::proto::streams::flow_control] inc_window; sz=4128769; old=65535; new=4194304\n",
              "[2025-01-29T00:39:40Z TRACE h2::proto::streams::prioritize] assign_connection_capacity; inc=4128769\n",
              "[2025-01-29T00:39:40Z TRACE h2::proto::streams::prioritize] -> assign_connection_capacity;\n",
              "[2025-01-29T00:39:40Z TRACE h2::proto::streams::prioritize] <- assign_connection_capacity;\n",
              "[2025-01-29T00:39:40Z TRACE h2::proto::streams::prioritize] -- assign_connection_capacity;\n",
              "[2025-01-29T00:39:40Z TRACE h2::proto::connection] -> Connection;\n",
              "[2025-01-29T00:39:40Z TRACE h2::proto::connection] poll_ready;\n",
              "[2025-01-29T00:39:40Z TRACE h2::proto::connection] -> poll_ready;\n",
              "[2025-01-29T00:39:40Z TRACE h2::proto::connection] <- poll_ready;\n",
              "[2025-01-29T00:39:40Z TRACE h2::proto::connection] -- poll_ready;\n",
              "[2025-01-29T00:39:40Z TRACE h2::proto::connection] <- Connection;\n",
              "[2025-01-29T00:39:40Z TRACE h2::codec::framed_read] FramedRead::poll_next;\n",
              "[2025-01-29T00:39:40Z TRACE h2::codec::framed_read] -> FramedRead::poll_next;\n",
              "[2025-01-29T00:39:40Z TRACE h2::codec::framed_read] poll\n",
              "[2025-01-29T00:39:40Z TRACE tokio_util::codec::framed_impl] attempting to decode a frame\n",
              "[2025-01-29T00:39:40Z TRACE tokio_util::codec::framed_impl] frame decoded from buffer\n",
              "[2025-01-29T00:39:40Z TRACE h2::codec::framed_read] read.bytes=9\n",
              "[2025-01-29T00:39:40Z TRACE h2::codec::framed_read] FramedRead::decode_frame; offset=9\n",
              "[2025-01-29T00:39:40Z TRACE h2::codec::framed_read] -> FramedRead::decode_frame;\n",
              "[2025-01-29T00:39:40Z TRACE h2::codec::framed_read] decoding frame from 9B\n",
              "[2025-01-29T00:39:40Z TRACE h2::codec::framed_read] frame.kind=Settings\n",
              "[2025-01-29T00:39:40Z TRACE h2::codec::framed_read] <- FramedRead::decode_frame;\n",
              "[2025-01-29T00:39:40Z TRACE h2::codec::framed_read] -- FramedRead::decode_frame;\n",
              "[2025-01-29T00:39:40Z DEBUG h2::codec::framed_read] received frame=Settings { flags: (0x1: ACK) }\n",
              "[2025-01-29T00:39:40Z TRACE h2::codec::framed_read] <- FramedRead::poll_next;\n",
              "[2025-01-29T00:39:40Z TRACE h2::codec::framed_read] -- FramedRead::poll_next;\n",
              "[2025-01-29T00:39:40Z TRACE h2::proto::connection] recv SETTINGS frame=Settings { flags: (0x1: ACK) }\n",
              "[2025-01-29T00:39:40Z DEBUG h2::proto::settings] received settings ACK; applying Settings { flags: (0x0), initial_window_size: 1048576, max_frame_size: 16384, max_header_list_size: 16777216 }\n",
              "[2025-01-29T00:39:40Z TRACE h2::proto::streams::recv] update_initial_window_size; new=1048576; old=1048576\n",
              "[2025-01-29T00:39:40Z TRACE h2::proto::connection] -> Connection;\n",
              "[2025-01-29T00:39:40Z TRACE h2::proto::connection] poll_ready;\n",
              "[2025-01-29T00:39:40Z TRACE h2::proto::connection] -> poll_ready;\n",
              "[2025-01-29T00:39:40Z TRACE h2::proto::connection] <- poll_ready;\n",
              "[2025-01-29T00:39:40Z TRACE h2::proto::connection] -- poll_ready;\n",
              "[2025-01-29T00:39:40Z TRACE h2::proto::connection] <- Connection;\n",
              "[2025-01-29T00:39:40Z TRACE h2::codec::framed_read] FramedRead::poll_next;\n",
              "[2025-01-29T00:39:40Z TRACE h2::codec::framed_read] -> FramedRead::poll_next;\n",
              "[2025-01-29T00:39:40Z TRACE h2::codec::framed_read] poll\n",
              "[2025-01-29T00:39:40Z TRACE tokio_util::codec::framed_impl] attempting to decode a frame\n",
              "[2025-01-29T00:39:40Z TRACE tokio_util::codec::framed_impl] frame decoded from buffer\n",
              "[2025-01-29T00:39:40Z TRACE h2::codec::framed_read] read.bytes=270\n",
              "[2025-01-29T00:39:40Z TRACE h2::codec::framed_read] FramedRead::decode_frame; offset=270\n",
              "[2025-01-29T00:39:40Z TRACE h2::codec::framed_read] -> FramedRead::decode_frame;\n",
              "[2025-01-29T00:39:40Z TRACE h2::codec::framed_read] decoding frame from 270B\n",
              "[2025-01-29T00:39:40Z TRACE h2::codec::framed_read] frame.kind=Headers\n",
              "[2025-01-29T00:39:40Z TRACE h2::frame::headers] loading headers; flags=(0x4: END_HEADERS)\n",
              "[2025-01-29T00:39:40Z TRACE h2::hpack::decoder] hpack::decode;\n",
              "[2025-01-29T00:39:40Z TRACE h2::hpack::decoder] -> hpack::decode;\n",
              "[2025-01-29T00:39:40Z TRACE h2::hpack::decoder] decode\n",
              "[2025-01-29T00:39:40Z TRACE h2::hpack::decoder] rem=261 kind=LiteralWithIndexing\n",
              "[2025-01-29T00:39:40Z TRACE h2::hpack::decoder] rem=198 kind=LiteralWithIndexing\n",
              "[2025-01-29T00:39:40Z TRACE h2::hpack::decoder] rem=170 kind=Indexed\n",
              "[2025-01-29T00:39:40Z TRACE h2::hpack::decoder] rem=169 kind=Indexed\n",
              "[2025-01-29T00:39:40Z TRACE h2::hpack::decoder] rem=168 kind=LiteralWithIndexing\n",
              "[2025-01-29T00:39:40Z TRACE h2::hpack::decoder] rem=137 kind=LiteralWithIndexing\n",
              "[2025-01-29T00:39:40Z TRACE h2::hpack::decoder] rem=124 kind=LiteralWithIndexing\n",
              "[2025-01-29T00:39:40Z TRACE h2::hpack::decoder] rem=78 kind=LiteralWithIndexing\n",
              "[2025-01-29T00:39:40Z TRACE h2::hpack::decoder] rem=61 kind=LiteralWithIndexing\n",
              "[2025-01-29T00:39:40Z TRACE h2::hpack::decoder] <- hpack::decode;\n",
              "[2025-01-29T00:39:40Z TRACE h2::hpack::decoder] -- hpack::decode;\n",
              "[2025-01-29T00:39:40Z TRACE h2::codec::framed_read] <- FramedRead::decode_frame;\n",
              "[2025-01-29T00:39:40Z TRACE h2::codec::framed_read] -- FramedRead::decode_frame;\n",
              "[2025-01-29T00:39:40Z DEBUG h2::codec::framed_read] received frame=Headers { stream_id: StreamId(1), flags: (0x4: END_HEADERS) }\n",
              "[2025-01-29T00:39:40Z TRACE h2::codec::framed_read] <- FramedRead::poll_next;\n",
              "[2025-01-29T00:39:40Z TRACE h2::codec::framed_read] -- FramedRead::poll_next;\n",
              "[2025-01-29T00:39:40Z TRACE h2::proto::connection] recv HEADERS frame=Headers { stream_id: StreamId(1), flags: (0x4: END_HEADERS) }\n",
              "[2025-01-29T00:39:40Z TRACE h2::proto::streams::flow_control] inc_window; sz=1048576; old=0; new=1048576\n",
              "[2025-01-29T00:39:40Z TRACE h2::proto::streams::flow_control] inc_window; sz=4194304; old=0; new=4194304\n",
              "[2025-01-29T00:39:40Z TRACE h2::proto::streams::streams] recv_headers; stream=StreamId(1); state=State { inner: Idle }\n",
              "[2025-01-29T00:39:40Z TRACE h2::proto::streams::recv] opening stream; init_window=1048576\n",
              "[2025-01-29T00:39:40Z TRACE h2::proto::streams::store] Queue::push\n",
              "[2025-01-29T00:39:40Z TRACE h2::proto::streams::store]  -> first entry\n",
              "[2025-01-29T00:39:40Z TRACE h2::proto::streams::counts] transition_after; stream=StreamId(1); state=State { inner: Open { local: AwaitingHeaders, remote: Streaming } }; is_closed=false; pending_send_empty=true; buffered_send_data=0; num_recv=1; num_send=0\n",
              "[2025-01-29T00:39:40Z TRACE h2::proto::connection] -> Connection;\n",
              "[2025-01-29T00:39:40Z TRACE h2::proto::connection] poll_ready;\n",
              "[2025-01-29T00:39:40Z TRACE h2::proto::connection] -> poll_ready;\n",
              "[2025-01-29T00:39:40Z TRACE h2::proto::connection] <- poll_ready;\n",
              "[2025-01-29T00:39:40Z TRACE h2::proto::connection] -- poll_ready;\n",
              "[2025-01-29T00:39:40Z TRACE h2::proto::connection] <- Connection;\n",
              "[2025-01-29T00:39:40Z TRACE h2::codec::framed_read] FramedRead::poll_next;\n",
              "[2025-01-29T00:39:40Z TRACE h2::codec::framed_read] -> FramedRead::poll_next;\n",
              "[2025-01-29T00:39:40Z TRACE h2::codec::framed_read] poll\n",
              "[2025-01-29T00:39:40Z TRACE tokio_util::codec::framed_impl] attempting to decode a frame\n",
              "[2025-01-29T00:39:40Z TRACE tokio_util::codec::framed_impl] frame decoded from buffer\n",
              "[2025-01-29T00:39:40Z TRACE h2::codec::framed_read] read.bytes=13\n",
              "[2025-01-29T00:39:40Z TRACE h2::codec::framed_read] FramedRead::decode_frame; offset=13\n",
              "[2025-01-29T00:39:40Z TRACE h2::codec::framed_read] -> FramedRead::decode_frame;\n",
              "[2025-01-29T00:39:40Z TRACE h2::codec::framed_read] decoding frame from 13B\n",
              "[2025-01-29T00:39:40Z TRACE h2::codec::framed_read] frame.kind=WindowUpdate\n",
              "[2025-01-29T00:39:40Z TRACE h2::codec::framed_read] <- FramedRead::decode_frame;\n",
              "[2025-01-29T00:39:40Z TRACE h2::codec::framed_read] -- FramedRead::decode_frame;\n",
              "[2025-01-29T00:39:40Z DEBUG h2::codec::framed_read] received frame=WindowUpdate { stream_id: StreamId(1), size_increment: 5 }\n",
              "[2025-01-29T00:39:40Z TRACE h2::codec::framed_read] <- FramedRead::poll_next;\n",
              "[2025-01-29T00:39:40Z TRACE h2::codec::framed_read] -- FramedRead::poll_next;\n",
              "[2025-01-29T00:39:40Z TRACE h2::proto::connection] recv WINDOW_UPDATE frame=WindowUpdate { stream_id: StreamId(1), size_increment: 5 }\n",
              "[2025-01-29T00:39:40Z TRACE h2::proto::streams::prioritize] recv_stream_window_update; stream.id=StreamId(1) stream.state=State { inner: Open { local: AwaitingHeaders, remote: Streaming } } inc=5 flow=FlowControl { window_size: Window(4194304), available: Window(0) }\n",
              "[2025-01-29T00:39:40Z TRACE h2::proto::streams::prioritize] -> recv_stream_window_update;\n",
              "[2025-01-29T00:39:40Z TRACE h2::proto::streams::flow_control] inc_window; sz=5; old=4194304; new=4194309\n",
              "[2025-01-29T00:39:40Z TRACE h2::proto::streams::prioritize] try_assign_capacity; stream.id=StreamId(1)\n",
              "[2025-01-29T00:39:40Z TRACE h2::proto::streams::prioritize] -> try_assign_capacity;\n",
              "[2025-01-29T00:39:40Z TRACE h2::proto::streams::prioritize] requested=0 additional=0 buffered=0 window=4194309 conn=4194304\n",
              "[2025-01-29T00:39:40Z TRACE h2::proto::streams::prioritize] <- try_assign_capacity;\n",
              "[2025-01-29T00:39:40Z TRACE h2::proto::streams::prioritize] -- try_assign_capacity;\n",
              "[2025-01-29T00:39:40Z TRACE h2::proto::streams::prioritize] <- recv_stream_window_update;\n",
              "[2025-01-29T00:39:40Z TRACE h2::proto::streams::prioritize] -- recv_stream_window_update;\n",
              "[2025-01-29T00:39:40Z TRACE h2::proto::connection] -> Connection;\n",
              "[2025-01-29T00:39:40Z TRACE h2::proto::connection] poll_ready;\n",
              "[2025-01-29T00:39:40Z TRACE h2::proto::connection] -> poll_ready;\n",
              "[2025-01-29T00:39:40Z TRACE h2::proto::connection] <- poll_ready;\n",
              "[2025-01-29T00:39:40Z TRACE h2::proto::connection] -- poll_ready;\n",
              "[2025-01-29T00:39:40Z TRACE h2::proto::connection] <- Connection;\n",
              "[2025-01-29T00:39:40Z TRACE h2::codec::framed_read] FramedRead::poll_next;\n",
              "[2025-01-29T00:39:40Z TRACE h2::codec::framed_read] -> FramedRead::poll_next;\n",
              "[2025-01-29T00:39:40Z TRACE h2::codec::framed_read] poll\n",
              "[2025-01-29T00:39:40Z TRACE tokio_util::codec::framed_impl] attempting to decode a frame\n",
              "[2025-01-29T00:39:40Z TRACE tokio_util::codec::framed_impl] frame decoded from buffer\n",
              "[2025-01-29T00:39:40Z TRACE h2::codec::framed_read] read.bytes=14\n",
              "[2025-01-29T00:39:40Z TRACE h2::codec::framed_read] FramedRead::decode_frame; offset=14\n",
              "[2025-01-29T00:39:40Z TRACE h2::codec::framed_read] -> FramedRead::decode_frame;\n",
              "[2025-01-29T00:39:40Z TRACE h2::codec::framed_read] decoding frame from 14B\n",
              "[2025-01-29T00:39:40Z TRACE h2::codec::framed_read] frame.kind=Data\n",
              "[2025-01-29T00:39:40Z TRACE h2::codec::framed_read] <- FramedRead::decode_frame;\n",
              "[2025-01-29T00:39:40Z TRACE h2::codec::framed_read] -- FramedRead::decode_frame;\n",
              "[2025-01-29T00:39:40Z DEBUG h2::codec::framed_read] received frame=Data { stream_id: StreamId(1), flags: (0x1: END_STREAM) }\n",
              "[2025-01-29T00:39:40Z TRACE h2::codec::framed_read] <- FramedRead::poll_next;\n",
              "[2025-01-29T00:39:40Z TRACE h2::codec::framed_read] -- FramedRead::poll_next;\n",
              "[2025-01-29T00:39:40Z TRACE h2::proto::connection] recv DATA frame=Data { stream_id: StreamId(1), flags: (0x1: END_STREAM) }\n",
              "[2025-01-29T00:39:40Z TRACE h2::proto::streams::recv] recv_data; size=5; connection=65535; stream=1048576\n",
              "[2025-01-29T00:39:40Z TRACE h2::proto::streams::flow_control] send_data; sz=5; window=65535; available=1048576\n",
              "[2025-01-29T00:39:40Z TRACE h2::proto::streams::state] recv_close: Open => HalfClosedRemote(AwaitingHeaders)\n",
              "[2025-01-29T00:39:40Z TRACE h2::proto::streams::flow_control] send_data; sz=5; window=1048576; available=1048576\n",
              "[2025-01-29T00:39:40Z TRACE h2::proto::streams::counts] transition_after; stream=StreamId(1); state=State { inner: HalfClosedRemote(AwaitingHeaders) }; is_closed=false; pending_send_empty=true; buffered_send_data=0; num_recv=1; num_send=0\n",
              "[2025-01-29T00:39:40Z TRACE h2::proto::connection] -> Connection;\n",
              "[2025-01-29T00:39:40Z TRACE h2::proto::connection] poll_ready;\n",
              "[2025-01-29T00:39:40Z TRACE h2::proto::connection] -> poll_ready;\n",
              "[2025-01-29T00:39:40Z TRACE h2::proto::connection] <- poll_ready;\n",
              "[2025-01-29T00:39:40Z TRACE h2::proto::connection] -- poll_ready;\n",
              "[2025-01-29T00:39:40Z TRACE h2::proto::connection] <- Connection;\n",
              "[2025-01-29T00:39:40Z TRACE h2::codec::framed_read] FramedRead::poll_next;\n",
              "[2025-01-29T00:39:40Z TRACE h2::codec::framed_read] -> FramedRead::poll_next;\n",
              "[2025-01-29T00:39:40Z TRACE h2::codec::framed_read] poll\n",
              "[2025-01-29T00:39:40Z TRACE tokio_util::codec::framed_impl] attempting to decode a frame\n",
              "[2025-01-29T00:39:40Z TRACE tokio_util::codec::framed_impl] frame decoded from buffer\n",
              "[2025-01-29T00:39:40Z TRACE h2::codec::framed_read] read.bytes=13\n",
              "[2025-01-29T00:39:40Z TRACE h2::codec::framed_read] FramedRead::decode_frame; offset=13\n",
              "[2025-01-29T00:39:40Z TRACE h2::codec::framed_read] -> FramedRead::decode_frame;\n",
              "[2025-01-29T00:39:40Z TRACE h2::codec::framed_read] decoding frame from 13B\n",
              "[2025-01-29T00:39:40Z TRACE h2::codec::framed_read] frame.kind=WindowUpdate\n",
              "[2025-01-29T00:39:40Z TRACE h2::codec::framed_read] <- FramedRead::decode_frame;\n",
              "[2025-01-29T00:39:40Z TRACE h2::codec::framed_read] -- FramedRead::decode_frame;\n",
              "[2025-01-29T00:39:40Z DEBUG h2::codec::framed_read] received frame=WindowUpdate { stream_id: StreamId(0), size_increment: 5 }\n",
              "[2025-01-29T00:39:40Z TRACE h2::codec::framed_read] <- FramedRead::poll_next;\n",
              "[2025-01-29T00:39:40Z TRACE h2::codec::framed_read] -- FramedRead::poll_next;\n",
              "[2025-01-29T00:39:40Z TRACE h2::proto::connection] recv WINDOW_UPDATE frame=WindowUpdate { stream_id: StreamId(0), size_increment: 5 }\n",
              "[2025-01-29T00:39:40Z TRACE h2::proto::streams::flow_control] inc_window; sz=5; old=4194304; new=4194309\n",
              "[2025-01-29T00:39:40Z TRACE h2::proto::streams::prioritize] assign_connection_capacity; inc=5\n",
              "[2025-01-29T00:39:40Z TRACE h2::proto::streams::prioritize] -> assign_connection_capacity;\n",
              "[2025-01-29T00:39:40Z TRACE h2::proto::streams::prioritize] <- assign_connection_capacity;\n",
              "[2025-01-29T00:39:40Z TRACE h2::proto::streams::prioritize] -- assign_connection_capacity;\n",
              "[2025-01-29T00:39:40Z TRACE h2::proto::connection] -> Connection;\n",
              "[2025-01-29T00:39:40Z TRACE h2::proto::connection] poll_ready;\n",
              "[2025-01-29T00:39:40Z TRACE h2::proto::connection] -> poll_ready;\n",
              "[2025-01-29T00:39:40Z TRACE h2::proto::connection] <- poll_ready;\n",
              "[2025-01-29T00:39:40Z TRACE h2::proto::connection] -- poll_ready;\n",
              "[2025-01-29T00:39:40Z TRACE h2::proto::connection] <- Connection;\n",
              "[2025-01-29T00:39:40Z TRACE h2::codec::framed_read] FramedRead::poll_next;\n",
              "[2025-01-29T00:39:40Z TRACE h2::codec::framed_read] -> FramedRead::poll_next;\n",
              "[2025-01-29T00:39:40Z TRACE h2::codec::framed_read] poll\n",
              "[2025-01-29T00:39:40Z TRACE tokio_util::codec::framed_impl] attempting to decode a frame\n",
              "[2025-01-29T00:39:40Z TRACE h2::codec::framed_read] <- FramedRead::poll_next;\n",
              "[2025-01-29T00:39:40Z TRACE h2::codec::framed_read] -- FramedRead::poll_next;\n",
              "[2025-01-29T00:39:40Z TRACE h2::codec::framed_write] FramedWrite::buffer; frame=WindowUpdate { stream_id: StreamId(0), size_increment: 983041 }\n",
              "[2025-01-29T00:39:40Z TRACE h2::codec::framed_write] -> FramedWrite::buffer;\n",
              "[2025-01-29T00:39:40Z DEBUG h2::codec::framed_write] send frame=WindowUpdate { stream_id: StreamId(0), size_increment: 983041 }\n",
              "[2025-01-29T00:39:40Z TRACE h2::frame::window_update] encoding WINDOW_UPDATE; id=StreamId(0)\n",
              "[2025-01-29T00:39:40Z TRACE h2::codec::framed_write] encoded window_update rem=22\n",
              "[2025-01-29T00:39:40Z TRACE h2::codec::framed_write] <- FramedWrite::buffer;\n",
              "[2025-01-29T00:39:40Z TRACE h2::codec::framed_write] -- FramedWrite::buffer;\n",
              "[2025-01-29T00:39:40Z TRACE h2::proto::streams::flow_control] inc_window; sz=983041; old=65530; new=1048571\n",
              "[2025-01-29T00:39:40Z TRACE h2::proto::streams::prioritize] try_reclaim_frame;\n",
              "[2025-01-29T00:39:40Z TRACE h2::proto::streams::prioritize] -> try_reclaim_frame;\n",
              "[2025-01-29T00:39:40Z TRACE h2::proto::streams::prioritize] <- try_reclaim_frame;\n",
              "[2025-01-29T00:39:40Z TRACE h2::proto::streams::prioritize] -- try_reclaim_frame;\n",
              "[2025-01-29T00:39:40Z TRACE h2::proto::streams::prioritize] poll_complete\n",
              "[2025-01-29T00:39:40Z TRACE h2::proto::streams::prioritize] schedule_pending_open\n",
              "[2025-01-29T00:39:40Z TRACE h2::proto::streams::prioritize] pop_frame;\n",
              "[2025-01-29T00:39:40Z TRACE h2::proto::streams::prioritize] -> pop_frame;\n",
              "[2025-01-29T00:39:40Z TRACE h2::proto::streams::prioritize] <- pop_frame;\n",
              "[2025-01-29T00:39:40Z TRACE h2::proto::streams::prioritize] -- pop_frame;\n",
              "[2025-01-29T00:39:40Z TRACE h2::codec::framed_write] FramedWrite::flush;\n",
              "[2025-01-29T00:39:40Z TRACE h2::codec::framed_write] -> FramedWrite::flush;\n",
              "[2025-01-29T00:39:40Z TRACE h2::codec::framed_write] queued_data_frame=false\n",
              "[2025-01-29T00:39:40Z TRACE h2::codec::framed_write] flushing buffer\n",
              "[2025-01-29T00:39:40Z TRACE h2::codec::framed_write] <- FramedWrite::flush;\n",
              "[2025-01-29T00:39:40Z TRACE h2::codec::framed_write] -- FramedWrite::flush;\n",
              "[2025-01-29T00:39:40Z TRACE h2::proto::streams::prioritize] try_reclaim_frame;\n",
              "[2025-01-29T00:39:40Z TRACE h2::proto::streams::prioritize] -> try_reclaim_frame;\n",
              "[2025-01-29T00:39:40Z TRACE h2::proto::streams::prioritize] <- try_reclaim_frame;\n",
              "[2025-01-29T00:39:40Z TRACE h2::proto::streams::prioritize] -- try_reclaim_frame;\n",
              "[2025-01-29T00:39:40Z TRACE h2::proto::connection] <- poll;\n",
              "[2025-01-29T00:39:40Z TRACE h2::proto::connection] -- poll;\n",
              "[2025-01-29T00:39:40Z TRACE h2::proto::connection] <- Connection;\n",
              "[2025-01-29T00:39:40Z TRACE h2::proto::connection] -- Connection;\n",
              "[2025-01-29T00:39:40Z TRACE h2::proto::streams::streams] next_incoming; id=StreamId(1), state=State { inner: HalfClosedRemote(AwaitingHeaders) }\n",
              "[2025-01-29T00:39:40Z TRACE h2::server] received incoming\n",
              "[2025-01-29T00:39:40Z TRACE hyper::proto::h2::server] incoming request\n",
              "[2025-01-29T00:39:40Z TRACE h2::proto::connection] -> Connection;\n",
              "[2025-01-29T00:39:40Z TRACE h2::proto::connection] poll;\n",
              "[2025-01-29T00:39:40Z TRACE h2::proto::connection] -> poll;\n",
              "[2025-01-29T00:39:40Z TRACE h2::proto::connection] connection.state=Open\n",
              "[2025-01-29T00:39:40Z TRACE h2::proto::connection] -> Connection;\n",
              "[2025-01-29T00:39:40Z TRACE h2::proto::connection] poll_ready;\n",
              "[2025-01-29T00:39:40Z TRACE h2::proto::connection] -> poll_ready;\n",
              "[2025-01-29T00:39:40Z TRACE h2::proto::connection] <- poll_ready;\n",
              "[2025-01-29T00:39:40Z TRACE h2::proto::connection] -- poll_ready;\n",
              "[2025-01-29T00:39:40Z TRACE h2::proto::connection] <- Connection;\n",
              "[2025-01-29T00:39:40Z TRACE h2::codec::framed_read] FramedRead::poll_next;\n",
              "[2025-01-29T00:39:40Z TRACE h2::codec::framed_read] -> FramedRead::poll_next;\n",
              "[2025-01-29T00:39:40Z TRACE h2::codec::framed_read] poll\n",
              "[2025-01-29T00:39:40Z TRACE h2::codec::framed_read] <- FramedRead::poll_next;\n",
              "[2025-01-29T00:39:40Z TRACE h2::codec::framed_read] -- FramedRead::poll_next;\n",
              "[2025-01-29T00:39:40Z TRACE h2::proto::streams::prioritize] try_reclaim_frame;\n",
              "[2025-01-29T00:39:40Z TRACE h2::proto::streams::prioritize] -> try_reclaim_frame;\n",
              "[2025-01-29T00:39:40Z TRACE h2::proto::streams::prioritize] <- try_reclaim_frame;\n",
              "[2025-01-29T00:39:40Z TRACE h2::proto::streams::prioritize] -- try_reclaim_frame;\n",
              "[2025-01-29T00:39:40Z TRACE h2::proto::streams::prioritize] poll_complete\n",
              "[2025-01-29T00:39:40Z TRACE h2::proto::streams::prioritize] schedule_pending_open\n",
              "[2025-01-29T00:39:40Z TRACE h2::proto::streams::prioritize] pop_frame;\n",
              "[2025-01-29T00:39:40Z TRACE h2::proto::streams::prioritize] -> pop_frame;\n",
              "[2025-01-29T00:39:40Z TRACE h2::proto::streams::prioritize] <- pop_frame;\n",
              "[2025-01-29T00:39:40Z TRACE h2::proto::streams::prioritize] -- pop_frame;\n",
              "[2025-01-29T00:39:40Z TRACE h2::codec::framed_write] FramedWrite::flush;\n",
              "[2025-01-29T00:39:40Z TRACE h2::codec::framed_write] -> FramedWrite::flush;\n",
              "[2025-01-29T00:39:40Z TRACE h2::codec::framed_write] flushing buffer\n",
              "[2025-01-29T00:39:40Z TRACE h2::codec::framed_write] <- FramedWrite::flush;\n",
              "[2025-01-29T00:39:40Z TRACE h2::codec::framed_write] -- FramedWrite::flush;\n",
              "[2025-01-29T00:39:40Z TRACE h2::proto::streams::prioritize] try_reclaim_frame;\n",
              "[2025-01-29T00:39:40Z TRACE h2::proto::streams::prioritize] -> try_reclaim_frame;\n",
              "[2025-01-29T00:39:40Z TRACE h2::proto::streams::prioritize] <- try_reclaim_frame;\n",
              "[2025-01-29T00:39:40Z TRACE h2::proto::streams::prioritize] -- try_reclaim_frame;\n",
              "[2025-01-29T00:39:40Z TRACE h2::proto::connection] <- poll;\n",
              "[2025-01-29T00:39:40Z TRACE h2::proto::connection] -- poll;\n",
              "[2025-01-29T00:39:40Z TRACE h2::proto::connection] <- Connection;\n",
              "[2025-01-29T00:39:40Z TRACE h2::proto::connection] -- Connection;\n",
              "[2025-01-29T00:39:40Z TRACE h2::proto::streams::recv] release_capacity; size=5\n",
              "[2025-01-29T00:39:40Z TRACE h2::proto::streams::recv] release_connection_capacity; size=5, connection in_flight_data=5\n",
              "[2025-01-29T00:39:40Z TRACE h2::proto::streams::streams] drop_stream_ref; stream=Stream { id: StreamId(1), state: State { inner: HalfClosedRemote(AwaitingHeaders) }, is_counted: true, ref_count: 2, next_pending_send: None, is_pending_send: false, send_flow: FlowControl { window_size: Window(4194309), available: Window(0) }, requested_send_capacity: 0, buffered_send_data: 0, send_task: None, pending_send: Deque { indices: None }, next_pending_send_capacity: None, is_pending_send_capacity: false, send_capacity_inc: false, next_open: None, is_pending_open: false, is_pending_push: false, next_pending_accept: None, is_pending_accept: false, recv_flow: FlowControl { window_size: Window(1048571), available: Window(1048576) }, in_flight_recv_data: 0, next_window_update: None, is_pending_window_update: false, reset_at: None, next_reset_expire: None, pending_recv: Deque { indices: None }, is_recv: false, recv_task: None, pending_push_promises: Queue { indices: None, _p: PhantomData }, content_length: Omitted }\n",
              "[2025-01-29T00:39:40Z TRACE h2::proto::streams::counts] transition_after; stream=StreamId(1); state=State { inner: HalfClosedRemote(AwaitingHeaders) }; is_closed=false; pending_send_empty=true; buffered_send_data=0; num_recv=1; num_send=0\n",
              "[2025-01-29T00:39:40Z TRACE h2::proto::streams::send] send_headers; frame=Headers { stream_id: StreamId(1), flags: (0x4: END_HEADERS) }; init_window=4194304\n",
              "[2025-01-29T00:39:40Z TRACE h2::proto::streams::prioritize] Prioritize::queue_frame; stream.id=StreamId(1)\n",
              "[2025-01-29T00:39:40Z TRACE h2::proto::streams::prioritize] -> Prioritize::queue_frame;\n",
              "[2025-01-29T00:39:40Z TRACE h2::proto::streams::prioritize] schedule_send stream.id=StreamId(1)\n",
              "[2025-01-29T00:39:40Z TRACE h2::proto::streams::store] Queue::push\n",
              "[2025-01-29T00:39:40Z TRACE h2::proto::streams::store]  -> first entry\n",
              "[2025-01-29T00:39:40Z TRACE h2::proto::streams::prioritize] <- Prioritize::queue_frame;\n",
              "[2025-01-29T00:39:40Z TRACE h2::proto::streams::prioritize] -- Prioritize::queue_frame;\n",
              "[2025-01-29T00:39:40Z TRACE h2::proto::streams::counts] transition_after; stream=StreamId(1); state=State { inner: HalfClosedRemote(Streaming) }; is_closed=false; pending_send_empty=false; buffered_send_data=0; num_recv=1; num_send=0\n",
              "[2025-01-29T00:39:40Z TRACE h2::proto::streams::prioritize] reserve_capacity; stream.id=StreamId(1) requested=1 effective=1 curr=0\n",
              "[2025-01-29T00:39:40Z TRACE h2::proto::streams::prioritize] -> reserve_capacity;\n",
              "[2025-01-29T00:39:40Z TRACE h2::proto::streams::prioritize] try_assign_capacity; stream.id=StreamId(1)\n",
              "[2025-01-29T00:39:40Z TRACE h2::proto::streams::prioritize] -> try_assign_capacity;\n",
              "[2025-01-29T00:39:40Z TRACE h2::proto::streams::prioritize] requested=1 additional=1 buffered=0 window=4194309 conn=4194309\n",
              "[2025-01-29T00:39:40Z TRACE h2::proto::streams::prioritize] assigning capacity=1\n",
              "[2025-01-29T00:39:40Z TRACE h2::proto::streams::stream]   assigned capacity to stream; available=1; buffered=0; id=StreamId(1); max_buffer_size=409600 prev=0\n",
              "[2025-01-29T00:39:40Z TRACE h2::proto::streams::stream]   notifying task\n",
              "[2025-01-29T00:39:40Z TRACE h2::proto::streams::prioritize] available=1 requested=1 buffered=0 has_unavailable=true\n",
              "[2025-01-29T00:39:40Z TRACE h2::proto::streams::prioritize] <- try_assign_capacity;\n",
              "[2025-01-29T00:39:40Z TRACE h2::proto::streams::prioritize] -- try_assign_capacity;\n",
              "[2025-01-29T00:39:40Z TRACE h2::proto::streams::prioritize] <- reserve_capacity;\n",
              "[2025-01-29T00:39:40Z TRACE h2::proto::streams::prioritize] -- reserve_capacity;\n",
              "[2025-01-29T00:39:40Z TRACE hyper::proto::h2] send body chunk: 11 bytes, eos=false\n",
              "[2025-01-29T00:39:40Z TRACE h2::proto::streams::prioritize] send_data; sz=11 requested=1\n",
              "[2025-01-29T00:39:40Z TRACE h2::proto::streams::prioritize] -> send_data;\n",
              "[2025-01-29T00:39:40Z TRACE h2::proto::streams::prioritize] buffered=11\n",
              "[2025-01-29T00:39:40Z TRACE h2::proto::streams::prioritize] try_assign_capacity; stream.id=StreamId(1)\n",
              "[2025-01-29T00:39:40Z TRACE h2::proto::streams::prioritize] -> try_assign_capacity;\n",
              "[2025-01-29T00:39:40Z TRACE h2::proto::streams::prioritize] requested=11 additional=10 buffered=11 window=4194309 conn=4194308\n",
              "[2025-01-29T00:39:40Z TRACE h2::proto::streams::prioritize] assigning capacity=10\n",
              "[2025-01-29T00:39:40Z TRACE h2::proto::streams::stream]   assigned capacity to stream; available=11; buffered=11; id=StreamId(1); max_buffer_size=409600 prev=0\n",
              "[2025-01-29T00:39:40Z TRACE h2::proto::streams::prioritize] available=11 requested=11 buffered=11 has_unavailable=true\n",
              "[2025-01-29T00:39:40Z TRACE h2::proto::streams::store] Queue::push\n",
              "[2025-01-29T00:39:40Z TRACE h2::proto::streams::store]  -> already queued\n",
              "[2025-01-29T00:39:40Z TRACE h2::proto::streams::prioritize] <- try_assign_capacity;\n",
              "[2025-01-29T00:39:40Z TRACE h2::proto::streams::prioritize] -- try_assign_capacity;\n",
              "[2025-01-29T00:39:40Z TRACE h2::proto::streams::prioritize] available=11 buffered=11\n",
              "[2025-01-29T00:39:40Z TRACE h2::proto::streams::prioritize] Prioritize::queue_frame; stream.id=StreamId(1)\n",
              "[2025-01-29T00:39:40Z TRACE h2::proto::streams::prioritize] -> Prioritize::queue_frame;\n",
              "[2025-01-29T00:39:40Z TRACE h2::proto::streams::prioritize] schedule_send stream.id=StreamId(1)\n",
              "[2025-01-29T00:39:40Z TRACE h2::proto::streams::store] Queue::push\n",
              "[2025-01-29T00:39:40Z TRACE h2::proto::streams::store]  -> already queued\n",
              "[2025-01-29T00:39:40Z TRACE h2::proto::streams::prioritize] <- Prioritize::queue_frame;\n",
              "[2025-01-29T00:39:40Z TRACE h2::proto::streams::prioritize] -- Prioritize::queue_frame;\n",
              "[2025-01-29T00:39:40Z TRACE h2::proto::streams::prioritize] <- send_data;\n",
              "[2025-01-29T00:39:40Z TRACE h2::proto::streams::prioritize] -- send_data;\n",
              "[2025-01-29T00:39:40Z TRACE h2::proto::streams::counts] transition_after; stream=StreamId(1); state=State { inner: HalfClosedRemote(Streaming) }; is_closed=false; pending_send_empty=false; buffered_send_data=11; num_recv=1; num_send=0\n",
              "[2025-01-29T00:39:40Z TRACE h2::proto::streams::prioritize] reserve_capacity; stream.id=StreamId(1) requested=1 effective=12 curr=11\n",
              "[2025-01-29T00:39:40Z TRACE h2::proto::streams::prioritize] -> reserve_capacity;\n",
              "[2025-01-29T00:39:40Z TRACE h2::proto::streams::prioritize] try_assign_capacity; stream.id=StreamId(1)\n",
              "[2025-01-29T00:39:40Z TRACE h2::proto::streams::prioritize] -> try_assign_capacity;\n",
              "[2025-01-29T00:39:40Z TRACE h2::proto::streams::prioritize] requested=12 additional=1 buffered=11 window=4194309 conn=4194298\n",
              "[2025-01-29T00:39:40Z TRACE h2::proto::streams::prioritize] assigning capacity=1\n",
              "[2025-01-29T00:39:40Z TRACE h2::proto::streams::stream]   assigned capacity to stream; available=12; buffered=11; id=StreamId(1); max_buffer_size=409600 prev=0\n",
              "[2025-01-29T00:39:40Z TRACE h2::proto::streams::stream]   notifying task\n",
              "[2025-01-29T00:39:40Z TRACE h2::proto::streams::prioritize] available=12 requested=12 buffered=11 has_unavailable=true\n",
              "[2025-01-29T00:39:40Z TRACE h2::proto::streams::store] Queue::push\n",
              "[2025-01-29T00:39:40Z TRACE h2::proto::streams::store]  -> already queued\n",
              "[2025-01-29T00:39:40Z TRACE h2::proto::streams::prioritize] <- try_assign_capacity;\n",
              "[2025-01-29T00:39:40Z TRACE h2::proto::streams::prioritize] -- try_assign_capacity;\n",
              "[2025-01-29T00:39:40Z TRACE h2::proto::streams::prioritize] <- reserve_capacity;\n",
              "[2025-01-29T00:39:40Z TRACE h2::proto::streams::prioritize] -- reserve_capacity;\n",
              "[2025-01-29T00:39:40Z TRACE h2::proto::streams::prioritize] reserve_capacity; stream.id=StreamId(1) requested=0 effective=11 curr=12\n",
              "[2025-01-29T00:39:40Z TRACE h2::proto::streams::prioritize] -> reserve_capacity;\n",
              "[2025-01-29T00:39:40Z TRACE h2::proto::streams::prioritize] assign_connection_capacity; inc=1\n",
              "[2025-01-29T00:39:40Z TRACE h2::proto::streams::prioritize] -> assign_connection_capacity;\n",
              "[2025-01-29T00:39:40Z TRACE h2::proto::streams::prioritize] <- assign_connection_capacity;\n",
              "[2025-01-29T00:39:40Z TRACE h2::proto::streams::prioritize] -- assign_connection_capacity;\n",
              "[2025-01-29T00:39:40Z TRACE h2::proto::streams::prioritize] <- reserve_capacity;\n",
              "[2025-01-29T00:39:40Z TRACE h2::proto::streams::prioritize] -- reserve_capacity;\n",
              "[2025-01-29T00:39:40Z TRACE h2::proto::streams::state] send_close: HalfClosedRemote => Closed\n",
              "[2025-01-29T00:39:40Z TRACE h2::proto::streams::send] send_trailers -- queuing; frame=Headers { stream_id: StreamId(1), flags: (0x5: END_HEADERS | END_STREAM) }\n",
              "[2025-01-29T00:39:40Z TRACE h2::proto::streams::prioritize] Prioritize::queue_frame; stream.id=StreamId(1)\n",
              "[2025-01-29T00:39:40Z TRACE h2::proto::streams::prioritize] -> Prioritize::queue_frame;\n",
              "[2025-01-29T00:39:40Z TRACE h2::proto::streams::prioritize] schedule_send stream.id=StreamId(1)\n",
              "[2025-01-29T00:39:40Z TRACE h2::proto::streams::store] Queue::push\n",
              "[2025-01-29T00:39:40Z TRACE h2::proto::streams::store]  -> already queued\n",
              "[2025-01-29T00:39:40Z TRACE h2::proto::streams::prioritize] <- Prioritize::queue_frame;\n",
              "[2025-01-29T00:39:40Z TRACE h2::proto::streams::prioritize] -- Prioritize::queue_frame;\n",
              "[2025-01-29T00:39:40Z TRACE h2::proto::streams::prioritize] reserve_capacity; stream.id=StreamId(1) requested=0 effective=11 curr=11\n",
              "[2025-01-29T00:39:40Z TRACE h2::proto::streams::prioritize] -> reserve_capacity;\n",
              "[2025-01-29T00:39:40Z TRACE h2::proto::streams::prioritize] <- reserve_capacity;\n",
              "[2025-01-29T00:39:40Z TRACE h2::proto::streams::prioritize] -- reserve_capacity;\n",
              "[2025-01-29T00:39:40Z TRACE h2::proto::streams::counts] transition_after; stream=StreamId(1); state=State { inner: Closed(EndStream) }; is_closed=false; pending_send_empty=false; buffered_send_data=11; num_recv=1; num_send=0\n",
              "[2025-01-29T00:39:40Z TRACE h2::proto::streams::streams] drop_stream_ref; stream=Stream { id: StreamId(1), state: State { inner: Closed(EndStream) }, is_counted: true, ref_count: 2, next_pending_send: None, is_pending_send: true, send_flow: FlowControl { window_size: Window(4194309), available: Window(11) }, requested_send_capacity: 11, buffered_send_data: 11, send_task: Some(Waker { data: 0x78f0cc000d70, vtable: 0x5aff47e7bc48 }), pending_send: Deque { indices: Some(Indices { head: 0, tail: 2 }) }, next_pending_send_capacity: None, is_pending_send_capacity: false, send_capacity_inc: true, next_open: None, is_pending_open: false, is_pending_push: false, next_pending_accept: None, is_pending_accept: false, recv_flow: FlowControl { window_size: Window(1048571), available: Window(1048576) }, in_flight_recv_data: 0, next_window_update: None, is_pending_window_update: false, reset_at: None, next_reset_expire: None, pending_recv: Deque { indices: None }, is_recv: false, recv_task: None, pending_push_promises: Queue { indices: None, _p: PhantomData }, content_length: Omitted }\n",
              "[2025-01-29T00:39:40Z TRACE h2::proto::streams::counts] transition_after; stream=StreamId(1); state=State { inner: Closed(EndStream) }; is_closed=false; pending_send_empty=false; buffered_send_data=11; num_recv=1; num_send=0\n",
              "[2025-01-29T00:39:40Z TRACE h2::proto::streams::streams] drop_stream_ref; stream=Stream { id: StreamId(1), state: State { inner: Closed(EndStream) }, is_counted: true, ref_count: 1, next_pending_send: None, is_pending_send: true, send_flow: FlowControl { window_size: Window(4194309), available: Window(11) }, requested_send_capacity: 11, buffered_send_data: 11, send_task: Some(Waker { data: 0x78f0cc000d70, vtable: 0x5aff47e7bc48 }), pending_send: Deque { indices: Some(Indices { head: 0, tail: 2 }) }, next_pending_send_capacity: None, is_pending_send_capacity: false, send_capacity_inc: true, next_open: None, is_pending_open: false, is_pending_push: false, next_pending_accept: None, is_pending_accept: false, recv_flow: FlowControl { window_size: Window(1048571), available: Window(1048576) }, in_flight_recv_data: 0, next_window_update: None, is_pending_window_update: false, reset_at: None, next_reset_expire: None, pending_recv: Deque { indices: None }, is_recv: false, recv_task: None, pending_push_promises: Queue { indices: None, _p: PhantomData }, content_length: Omitted }\n",
              "[2025-01-29T00:39:40Z TRACE h2::proto::streams::counts] transition_after; stream=StreamId(1); state=State { inner: Closed(EndStream) }; is_closed=false; pending_send_empty=false; buffered_send_data=11; num_recv=1; num_send=0\n",
              "[2025-01-29T00:39:40Z TRACE h2::proto::connection] -> Connection;\n",
              "[2025-01-29T00:39:40Z TRACE h2::proto::connection] poll;\n",
              "[2025-01-29T00:39:40Z TRACE h2::proto::connection] -> poll;\n",
              "[2025-01-29T00:39:40Z TRACE h2::proto::connection] connection.state=Open\n",
              "[2025-01-29T00:39:40Z TRACE h2::proto::connection] -> Connection;\n",
              "[2025-01-29T00:39:40Z TRACE h2::proto::connection] poll_ready;\n",
              "[2025-01-29T00:39:40Z TRACE h2::proto::connection] -> poll_ready;\n",
              "[2025-01-29T00:39:40Z TRACE h2::proto::connection] <- poll_ready;\n",
              "[2025-01-29T00:39:40Z TRACE h2::proto::connection] -- poll_ready;\n",
              "[2025-01-29T00:39:40Z TRACE h2::proto::connection] <- Connection;\n",
              "[2025-01-29T00:39:40Z TRACE h2::codec::framed_read] FramedRead::poll_next;\n",
              "[2025-01-29T00:39:40Z TRACE h2::codec::framed_read] -> FramedRead::poll_next;\n",
              "[2025-01-29T00:39:40Z TRACE h2::codec::framed_read] poll\n",
              "[2025-01-29T00:39:40Z TRACE h2::codec::framed_read] <- FramedRead::poll_next;\n",
              "[2025-01-29T00:39:40Z TRACE h2::codec::framed_read] -- FramedRead::poll_next;\n",
              "[2025-01-29T00:39:40Z TRACE h2::proto::streams::prioritize] try_reclaim_frame;\n",
              "[2025-01-29T00:39:40Z TRACE h2::proto::streams::prioritize] -> try_reclaim_frame;\n",
              "[2025-01-29T00:39:40Z TRACE h2::proto::streams::prioritize] <- try_reclaim_frame;\n",
              "[2025-01-29T00:39:40Z TRACE h2::proto::streams::prioritize] -- try_reclaim_frame;\n",
              "[2025-01-29T00:39:40Z TRACE h2::proto::streams::prioritize] poll_complete\n",
              "[2025-01-29T00:39:40Z TRACE h2::proto::streams::prioritize] schedule_pending_open\n",
              "[2025-01-29T00:39:40Z TRACE h2::proto::streams::prioritize] pop_frame;\n",
              "[2025-01-29T00:39:40Z TRACE h2::proto::streams::prioritize] -> pop_frame;\n",
              "[2025-01-29T00:39:40Z TRACE h2::proto::streams::prioritize] popped; stream.id=StreamId(1) stream.state=State { inner: Closed(EndStream) }\n",
              "[2025-01-29T00:39:40Z TRACE h2::proto::streams::prioritize] -> popped;\n",
              "[2025-01-29T00:39:40Z TRACE h2::proto::streams::prioritize] is_pending_reset=false\n",
              "[2025-01-29T00:39:40Z TRACE h2::proto::streams::prioritize] pop_frame; frame=Headers { stream_id: StreamId(1), flags: (0x4: END_HEADERS) }\n",
              "[2025-01-29T00:39:40Z TRACE h2::proto::streams::store] Queue::push\n",
              "[2025-01-29T00:39:40Z TRACE h2::proto::streams::store]  -> first entry\n",
              "[2025-01-29T00:39:40Z TRACE h2::proto::streams::counts] transition_after; stream=StreamId(1); state=State { inner: Closed(EndStream) }; is_closed=false; pending_send_empty=false; buffered_send_data=11; num_recv=1; num_send=0\n",
              "[2025-01-29T00:39:40Z TRACE h2::proto::streams::prioritize] <- popped;\n",
              "[2025-01-29T00:39:40Z TRACE h2::proto::streams::prioritize] -- popped;\n",
              "[2025-01-29T00:39:40Z TRACE h2::proto::streams::prioritize] <- pop_frame;\n",
              "[2025-01-29T00:39:40Z TRACE h2::proto::streams::prioritize] -- pop_frame;\n",
              "[2025-01-29T00:39:40Z TRACE h2::proto::streams::prioritize] writing frame=Headers { stream_id: StreamId(1), flags: (0x4: END_HEADERS) }\n",
              "[2025-01-29T00:39:40Z TRACE h2::codec::framed_write] FramedWrite::buffer; frame=Headers { stream_id: StreamId(1), flags: (0x4: END_HEADERS) }\n",
              "[2025-01-29T00:39:40Z TRACE h2::codec::framed_write] -> FramedWrite::buffer;\n",
              "[2025-01-29T00:39:40Z DEBUG h2::codec::framed_write] send frame=Headers { stream_id: StreamId(1), flags: (0x4: END_HEADERS) }\n",
              "[2025-01-29T00:39:40Z TRACE h2::hpack::encoder] hpack::encode;\n",
              "[2025-01-29T00:39:40Z TRACE h2::hpack::encoder] -> hpack::encode;\n",
              "[2025-01-29T00:39:40Z TRACE h2::hpack::encoder] <- hpack::encode;\n",
              "[2025-01-29T00:39:40Z TRACE h2::hpack::encoder] -- hpack::encode;\n",
              "[2025-01-29T00:39:40Z TRACE h2::codec::framed_write] <- FramedWrite::buffer;\n",
              "[2025-01-29T00:39:40Z TRACE h2::codec::framed_write] -- FramedWrite::buffer;\n",
              "[2025-01-29T00:39:40Z TRACE h2::proto::streams::prioritize] try_reclaim_frame;\n",
              "[2025-01-29T00:39:40Z TRACE h2::proto::streams::prioritize] -> try_reclaim_frame;\n",
              "[2025-01-29T00:39:40Z TRACE h2::proto::streams::prioritize] <- try_reclaim_frame;\n",
              "[2025-01-29T00:39:40Z TRACE h2::proto::streams::prioritize] -- try_reclaim_frame;\n",
              "[2025-01-29T00:39:40Z TRACE h2::proto::streams::prioritize] schedule_pending_open\n",
              "[2025-01-29T00:39:40Z TRACE h2::proto::streams::prioritize] pop_frame;\n",
              "[2025-01-29T00:39:40Z TRACE h2::proto::streams::prioritize] -> pop_frame;\n",
              "[2025-01-29T00:39:40Z TRACE h2::proto::streams::prioritize] popped; stream.id=StreamId(1) stream.state=State { inner: Closed(EndStream) }\n",
              "[2025-01-29T00:39:40Z TRACE h2::proto::streams::prioritize] -> popped;\n",
              "[2025-01-29T00:39:40Z TRACE h2::proto::streams::prioritize] is_pending_reset=false\n",
              "[2025-01-29T00:39:40Z TRACE h2::proto::streams::prioritize] data frame sz=11 eos=false window=11 available=11 requested=11 buffered=11\n",
              "[2025-01-29T00:39:40Z TRACE h2::proto::streams::prioritize] sending data frame len=11\n",
              "[2025-01-29T00:39:40Z TRACE h2::proto::streams::prioritize] updating stream flow;\n",
              "[2025-01-29T00:39:40Z TRACE h2::proto::streams::prioritize] -> updating stream flow;\n",
              "[2025-01-29T00:39:40Z TRACE h2::proto::streams::flow_control] send_data; sz=11; window=4194309; available=11\n",
              "[2025-01-29T00:39:40Z TRACE h2::proto::streams::stream]   sent stream data; available=0; buffered=0; id=StreamId(1); max_buffer_size=409600 prev=0\n",
              "[2025-01-29T00:39:40Z TRACE h2::proto::streams::prioritize] <- updating stream flow;\n",
              "[2025-01-29T00:39:40Z TRACE h2::proto::streams::prioritize] -- updating stream flow;\n",
              "[2025-01-29T00:39:40Z TRACE h2::proto::streams::prioritize] updating connection flow;\n",
              "[2025-01-29T00:39:40Z TRACE h2::proto::streams::prioritize] -> updating connection flow;\n",
              "[2025-01-29T00:39:40Z TRACE h2::proto::streams::flow_control] send_data; sz=11; window=4194309; available=4194309\n",
              "[2025-01-29T00:39:40Z TRACE h2::proto::streams::prioritize] <- updating connection flow;\n",
              "[2025-01-29T00:39:40Z TRACE h2::proto::streams::prioritize] -- updating connection flow;\n",
              "[2025-01-29T00:39:40Z TRACE h2::proto::streams::prioritize] pop_frame; frame=Data { stream_id: StreamId(1) }\n",
              "[2025-01-29T00:39:40Z TRACE h2::proto::streams::store] Queue::push\n",
              "[2025-01-29T00:39:40Z TRACE h2::proto::streams::store]  -> first entry\n",
              "[2025-01-29T00:39:40Z TRACE h2::proto::streams::counts] transition_after; stream=StreamId(1); state=State { inner: Closed(EndStream) }; is_closed=false; pending_send_empty=false; buffered_send_data=0; num_recv=1; num_send=0\n",
              "[2025-01-29T00:39:40Z TRACE h2::proto::streams::prioritize] <- popped;\n",
              "[2025-01-29T00:39:40Z TRACE h2::proto::streams::prioritize] -- popped;\n",
              "[2025-01-29T00:39:40Z TRACE h2::proto::streams::prioritize] <- pop_frame;\n",
              "[2025-01-29T00:39:40Z TRACE h2::proto::streams::prioritize] -- pop_frame;\n",
              "[2025-01-29T00:39:40Z TRACE h2::proto::streams::prioritize] writing frame=Data { stream_id: StreamId(1) }\n",
              "[2025-01-29T00:39:40Z TRACE h2::codec::framed_write] FramedWrite::buffer; frame=Data { stream_id: StreamId(1) }\n",
              "[2025-01-29T00:39:40Z TRACE h2::codec::framed_write] -> FramedWrite::buffer;\n",
              "[2025-01-29T00:39:40Z DEBUG h2::codec::framed_write] send frame=Data { stream_id: StreamId(1) }\n",
              "[2025-01-29T00:39:40Z TRACE h2::codec::framed_write] <- FramedWrite::buffer;\n",
              "[2025-01-29T00:39:40Z TRACE h2::codec::framed_write] -- FramedWrite::buffer;\n",
              "[2025-01-29T00:39:40Z TRACE h2::proto::streams::prioritize] try_reclaim_frame;\n",
              "[2025-01-29T00:39:40Z TRACE h2::proto::streams::prioritize] -> try_reclaim_frame;\n",
              "[2025-01-29T00:39:40Z TRACE h2::proto::streams::prioritize] reclaimed frame=Data { stream_id: StreamId(1) } sz=0\n",
              "[2025-01-29T00:39:40Z TRACE h2::proto::streams::prioritize] <- try_reclaim_frame;\n",
              "[2025-01-29T00:39:40Z TRACE h2::proto::streams::prioritize] -- try_reclaim_frame;\n",
              "[2025-01-29T00:39:40Z TRACE h2::proto::streams::prioritize] schedule_pending_open\n",
              "[2025-01-29T00:39:40Z TRACE h2::proto::streams::prioritize] pop_frame;\n",
              "[2025-01-29T00:39:40Z TRACE h2::proto::streams::prioritize] -> pop_frame;\n",
              "[2025-01-29T00:39:40Z TRACE h2::proto::streams::prioritize] popped; stream.id=StreamId(1) stream.state=State { inner: Closed(EndStream) }\n",
              "[2025-01-29T00:39:40Z TRACE h2::proto::streams::prioritize] -> popped;\n",
              "[2025-01-29T00:39:40Z TRACE h2::proto::streams::prioritize] is_pending_reset=false\n",
              "[2025-01-29T00:39:40Z TRACE h2::proto::streams::prioritize] pop_frame; frame=Headers { stream_id: StreamId(1), flags: (0x5: END_HEADERS | END_STREAM) }\n",
              "[2025-01-29T00:39:40Z TRACE h2::proto::streams::counts] transition_after; stream=StreamId(1); state=State { inner: Closed(EndStream) }; is_closed=true; pending_send_empty=true; buffered_send_data=0; num_recv=1; num_send=0\n",
              "[2025-01-29T00:39:40Z TRACE h2::proto::streams::counts] dec_num_streams; stream=StreamId(1)\n",
              "[2025-01-29T00:39:40Z TRACE h2::proto::streams::prioritize] <- popped;\n",
              "[2025-01-29T00:39:40Z TRACE h2::proto::streams::prioritize] -- popped;\n",
              "[2025-01-29T00:39:40Z TRACE h2::proto::streams::prioritize] <- pop_frame;\n",
              "[2025-01-29T00:39:40Z TRACE h2::proto::streams::prioritize] -- pop_frame;\n",
              "[2025-01-29T00:39:40Z TRACE h2::proto::streams::prioritize] writing frame=Headers { stream_id: StreamId(1), flags: (0x5: END_HEADERS | END_STREAM) }\n",
              "[2025-01-29T00:39:40Z TRACE h2::codec::framed_write] FramedWrite::buffer; frame=Headers { stream_id: StreamId(1), flags: (0x5: END_HEADERS | END_STREAM) }\n",
              "[2025-01-29T00:39:40Z TRACE h2::codec::framed_write] -> FramedWrite::buffer;\n",
              "[2025-01-29T00:39:40Z DEBUG h2::codec::framed_write] send frame=Headers { stream_id: StreamId(1), flags: (0x5: END_HEADERS | END_STREAM) }\n",
              "[2025-01-29T00:39:40Z TRACE h2::hpack::encoder] hpack::encode;\n",
              "[2025-01-29T00:39:40Z TRACE h2::hpack::encoder] -> hpack::encode;\n",
              "[2025-01-29T00:39:40Z TRACE h2::hpack::encoder] <- hpack::encode;\n",
              "[2025-01-29T00:39:40Z TRACE h2::hpack::encoder] -- hpack::encode;\n",
              "[2025-01-29T00:39:40Z TRACE h2::codec::framed_write] <- FramedWrite::buffer;\n",
              "[2025-01-29T00:39:40Z TRACE h2::codec::framed_write] -- FramedWrite::buffer;\n",
              "[2025-01-29T00:39:40Z TRACE h2::proto::streams::prioritize] try_reclaim_frame;\n",
              "[2025-01-29T00:39:40Z TRACE h2::proto::streams::prioritize] -> try_reclaim_frame;\n",
              "[2025-01-29T00:39:40Z TRACE h2::proto::streams::prioritize] <- try_reclaim_frame;\n",
              "[2025-01-29T00:39:40Z TRACE h2::proto::streams::prioritize] -- try_reclaim_frame;\n",
              "[2025-01-29T00:39:40Z TRACE h2::proto::streams::prioritize] schedule_pending_open\n",
              "[2025-01-29T00:39:40Z TRACE h2::proto::streams::prioritize] pop_frame;\n",
              "[2025-01-29T00:39:40Z TRACE h2::proto::streams::prioritize] -> pop_frame;\n",
              "[2025-01-29T00:39:40Z TRACE h2::proto::streams::prioritize] <- pop_frame;\n",
              "[2025-01-29T00:39:40Z TRACE h2::proto::streams::prioritize] -- pop_frame;\n",
              "[2025-01-29T00:39:40Z TRACE h2::codec::framed_write] FramedWrite::flush;\n",
              "[2025-01-29T00:39:40Z TRACE h2::codec::framed_write] -> FramedWrite::flush;\n",
              "[2025-01-29T00:39:40Z TRACE h2::codec::framed_write] queued_data_frame=false\n",
              "[2025-01-29T00:39:40Z TRACE h2::codec::framed_write] flushing buffer\n",
              "[2025-01-29T00:39:40Z TRACE h2::codec::framed_write] <- FramedWrite::flush;\n",
              "[2025-01-29T00:39:40Z TRACE h2::codec::framed_write] -- FramedWrite::flush;\n",
              "[2025-01-29T00:39:40Z TRACE h2::proto::streams::prioritize] try_reclaim_frame;\n",
              "[2025-01-29T00:39:40Z TRACE h2::proto::streams::prioritize] -> try_reclaim_frame;\n",
              "[2025-01-29T00:39:40Z TRACE h2::proto::streams::prioritize] <- try_reclaim_frame;\n",
              "[2025-01-29T00:39:40Z TRACE h2::proto::streams::prioritize] -- try_reclaim_frame;\n",
              "[2025-01-29T00:39:40Z TRACE h2::proto::connection] <- poll;\n",
              "[2025-01-29T00:39:40Z TRACE h2::proto::connection] -- poll;\n",
              "[2025-01-29T00:39:40Z TRACE h2::proto::connection] <- Connection;\n",
              "[2025-01-29T00:39:40Z TRACE h2::proto::connection] -- Connection;\n",
              "I0129 00:39:40.172440 139648339170432 server_ingester.py:189] Got valid response from data server\n",
              "\n",
              "NOTE: Using experimental fast data loading logic. To disable, pass\n",
              "    \"--load_fast=false\" and report issues on GitHub. More details:\n",
              "    https://github.com/tensorflow/tensorboard/issues/4784\n",
              "\n",
              "[2025-01-29T00:39:40Z TRACE h2::proto::connection] -> Connection;\n",
              "[2025-01-29T00:39:40Z TRACE h2::proto::connection] poll;\n",
              "[2025-01-29T00:39:40Z TRACE h2::proto::connection] -> poll;\n",
              "[2025-01-29T00:39:40Z TRACE h2::proto::connection] connection.state=Open\n",
              "[2025-01-29T00:39:40Z TRACE h2::proto::connection] -> Connection;\n",
              "[2025-01-29T00:39:40Z TRACE h2::proto::connection] poll_ready;\n",
              "[2025-01-29T00:39:40Z TRACE h2::proto::connection] -> poll_ready;\n",
              "[2025-01-29T00:39:40Z TRACE h2::proto::connection] <- poll_ready;\n",
              "[2025-01-29T00:39:40Z TRACE h2::proto::connection] -- poll_ready;\n",
              "[2025-01-29T00:39:40Z TRACE h2::proto::connection] <- Connection;\n",
              "[2025-01-29T00:39:40Z TRACE h2::codec::framed_read] FramedRead::poll_next;\n",
              "[2025-01-29T00:39:40Z TRACE h2::codec::framed_read] -> FramedRead::poll_next;\n",
              "[2025-01-29T00:39:40Z TRACE h2::codec::framed_read] poll\n",
              "[2025-01-29T00:39:40Z TRACE tokio_util::codec::framed_impl] attempting to decode a frame\n",
              "[2025-01-29T00:39:40Z TRACE tokio_util::codec::framed_impl] frame decoded from buffer\n",
              "[2025-01-29T00:39:40Z TRACE h2::codec::framed_read] read.bytes=17\n",
              "[2025-01-29T00:39:40Z TRACE h2::codec::framed_read] FramedRead::decode_frame; offset=17\n",
              "[2025-01-29T00:39:40Z TRACE h2::codec::framed_read] -> FramedRead::decode_frame;\n",
              "[2025-01-29T00:39:40Z TRACE h2::codec::framed_read] decoding frame from 17B\n",
              "[2025-01-29T00:39:40Z TRACE h2::codec::framed_read] frame.kind=Ping\n",
              "[2025-01-29T00:39:40Z TRACE h2::codec::framed_read] <- FramedRead::decode_frame;\n",
              "[2025-01-29T00:39:40Z TRACE h2::codec::framed_read] -- FramedRead::decode_frame;\n",
              "[2025-01-29T00:39:40Z DEBUG h2::codec::framed_read] received frame=Ping { ack: false, payload: [135, 254, 233, 111, 236, 14, 244, 245] }\n",
              "[2025-01-29T00:39:40Z TRACE h2::codec::framed_read] <- FramedRead::poll_next;\n",
              "[2025-01-29T00:39:40Z TRACE h2::codec::framed_read] -- FramedRead::poll_next;\n",
              "[2025-01-29T00:39:40Z TRACE h2::proto::connection] recv PING frame=Ping { ack: false, payload: [135, 254, 233, 111, 236, 14, 244, 245] }\n",
              "[2025-01-29T00:39:40Z TRACE h2::proto::connection] -> Connection;\n",
              "[2025-01-29T00:39:40Z TRACE h2::proto::connection] poll_ready;\n",
              "[2025-01-29T00:39:40Z TRACE h2::proto::connection] -> poll_ready;\n",
              "[2025-01-29T00:39:40Z TRACE h2::codec::framed_write] FramedWrite::buffer; frame=Ping { ack: true, payload: [135, 254, 233, 111, 236, 14, 244, 245] }\n",
              "[2025-01-29T00:39:40Z TRACE h2::codec::framed_write] -> FramedWrite::buffer;\n",
              "[2025-01-29T00:39:40Z DEBUG h2::codec::framed_write] send frame=Ping { ack: true, payload: [135, 254, 233, 111, 236, 14, 244, 245] }\n",
              "[2025-01-29T00:39:40Z TRACE h2::frame::ping] encoding PING; ack=true len=8\n",
              "[2025-01-29T00:39:40Z TRACE h2::codec::framed_write] encoded ping rem=17\n",
              "[2025-01-29T00:39:40Z TRACE h2::codec::framed_write] <- FramedWrite::buffer;\n",
              "[2025-01-29T00:39:40Z TRACE h2::codec::framed_write] -- FramedWrite::buffer;\n",
              "[2025-01-29T00:39:40Z TRACE h2::proto::connection] <- poll_ready;\n",
              "[2025-01-29T00:39:40Z TRACE h2::proto::connection] -- poll_ready;\n",
              "[2025-01-29T00:39:40Z TRACE h2::proto::connection] <- Connection;\n",
              "[2025-01-29T00:39:40Z TRACE h2::codec::framed_read] FramedRead::poll_next;\n",
              "[2025-01-29T00:39:40Z TRACE h2::codec::framed_read] -> FramedRead::poll_next;\n",
              "[2025-01-29T00:39:40Z TRACE h2::codec::framed_read] poll\n",
              "[2025-01-29T00:39:40Z TRACE tokio_util::codec::framed_impl] attempting to decode a frame\n",
              "[2025-01-29T00:39:40Z TRACE h2::codec::framed_read] <- FramedRead::poll_next;\n",
              "[2025-01-29T00:39:40Z TRACE h2::codec::framed_read] -- FramedRead::poll_next;\n",
              "[2025-01-29T00:39:40Z TRACE h2::proto::streams::prioritize] try_reclaim_frame;\n",
              "[2025-01-29T00:39:40Z TRACE h2::proto::streams::prioritize] -> try_reclaim_frame;\n",
              "[2025-01-29T00:39:40Z TRACE h2::proto::streams::prioritize] <- try_reclaim_frame;\n",
              "[2025-01-29T00:39:40Z TRACE h2::proto::streams::prioritize] -- try_reclaim_frame;\n",
              "[2025-01-29T00:39:40Z TRACE h2::proto::streams::prioritize] poll_complete\n",
              "[2025-01-29T00:39:40Z TRACE h2::proto::streams::prioritize] schedule_pending_open\n",
              "[2025-01-29T00:39:40Z TRACE h2::proto::streams::prioritize] pop_frame;\n",
              "[2025-01-29T00:39:40Z TRACE h2::proto::streams::prioritize] -> pop_frame;\n",
              "[2025-01-29T00:39:40Z TRACE h2::proto::streams::prioritize] <- pop_frame;\n",
              "[2025-01-29T00:39:40Z TRACE h2::proto::streams::prioritize] -- pop_frame;\n",
              "[2025-01-29T00:39:40Z TRACE h2::codec::framed_write] FramedWrite::flush;\n",
              "[2025-01-29T00:39:40Z TRACE h2::codec::framed_write] -> FramedWrite::flush;\n",
              "[2025-01-29T00:39:40Z TRACE h2::codec::framed_write] queued_data_frame=false\n",
              "[2025-01-29T00:39:40Z TRACE h2::codec::framed_write] flushing buffer\n",
              "[2025-01-29T00:39:40Z TRACE h2::codec::framed_write] <- FramedWrite::flush;\n",
              "[2025-01-29T00:39:40Z TRACE h2::codec::framed_write] -- FramedWrite::flush;\n",
              "[2025-01-29T00:39:40Z TRACE h2::proto::streams::prioritize] try_reclaim_frame;\n",
              "[2025-01-29T00:39:40Z TRACE h2::proto::streams::prioritize] -> try_reclaim_frame;\n",
              "[2025-01-29T00:39:40Z TRACE h2::proto::streams::prioritize] <- try_reclaim_frame;\n",
              "[2025-01-29T00:39:40Z TRACE h2::proto::streams::prioritize] -- try_reclaim_frame;\n",
              "[2025-01-29T00:39:40Z TRACE h2::proto::connection] <- poll;\n",
              "[2025-01-29T00:39:40Z TRACE h2::proto::connection] -- poll;\n",
              "[2025-01-29T00:39:40Z TRACE h2::proto::connection] <- Connection;\n",
              "[2025-01-29T00:39:40Z TRACE h2::proto::connection] -- Connection;\n",
              "[2025-01-29T00:39:40Z DEBUG rustboard_core::run] Finished load for run \"MiniHack-KeyRoom-S5-v0__ppo__1__1738104474\" (117.534518ms)\n",
              "[2025-01-29T00:39:40Z DEBUG rustboard_core::run] Finished load for run \"MiniHack-KeyRoom-S5-v0__rnd__1__1738106691\" (182.657677ms)\n",
              "[2025-01-29T00:39:40Z INFO  rustboard_core::cli] Finished load cycle (182.941738ms)\n",
              "Traceback (most recent call last):\n",
              "  File \"/usr/local/bin/tensorboard\", line 8, in <module>\n",
              "    sys.exit(run_main())\n",
              "             ^^^^^^^^^^\n",
              "  File \"/usr/local/lib/python3.11/dist-packages/tensorboard/main.py\", line 41, in run_main\n",
              "    app.run(tensorboard.main, flags_parser=tensorboard.configure)\n",
              "  File \"/usr/local/lib/python3.11/dist-packages/absl/app.py\", line 308, in run\n",
              "    _run_main(main, args)\n",
              "  File \"/usr/local/lib/python3.11/dist-packages/absl/app.py\", line 254, in _run_main\n",
              "    sys.exit(main(argv))\n",
              "             ^^^^^^^^^^\n",
              "  File \"/usr/local/lib/python3.11/dist-packages/tensorboard/program.py\", line 278, in main\n",
              "    return runner(self.flags) or 0\n",
              "           ^^^^^^^^^^^^^^^^^^\n",
              "  File \"/usr/local/lib/python3.11/dist-packages/tensorboard/program.py\", line 294, in _run_serve_subcommand\n",
              "    server = self._make_server()\n",
              "             ^^^^^^^^^^^^^^^^^^^\n",
              "  File \"/usr/local/lib/python3.11/dist-packages/tensorboard/program.py\", line 469, in _make_server\n",
              "    app = application.TensorBoardWSGIApp(\n",
              "          ^^^^^^^^^^^^^^^^^^^^^^^^^^^^^^^\n",
              "  File \"/usr/local/lib/python3.11/dist-packages/tensorboard/backend/application.py\", line 139, in TensorBoardWSGIApp\n",
              "    return TensorBoardWSGI(\n",
              "           ^^^^^^^^^^^^^^^^\n",
              "  File \"/usr/local/lib/python3.11/dist-packages/tensorboard/backend/application.py\", line 252, in __init__\n",
              "    raise ValueError(\n",
              "ValueError: Duplicate plugins for name projector\n",
              "[2025-01-29T00:39:40Z TRACE h2::proto::connection] -> Connection;\n",
              "[2025-01-29T00:39:40Z TRACE h2::proto::connection] poll;\n",
              "[2025-01-29T00:39:40Z TRACE h2::proto::connection] -> poll;\n",
              "[2025-01-29T00:39:40Z TRACE h2::proto::connection] connection.state=Open\n",
              "[2025-01-29T00:39:40Z TRACE h2::proto::connection] -> Connection;\n",
              "[2025-01-29T00:39:40Z TRACE h2::proto::connection] poll_ready;\n",
              "[2025-01-29T00:39:40Z TRACE h2::proto::connection] -> poll_ready;\n",
              "[2025-01-29T00:39:40Z TRACE h2::proto::connection] <- poll_ready;\n",
              "[2025-01-29T00:39:40Z TRACE h2::proto::connection] -- poll_ready;\n",
              "[2025-01-29T00:39:40Z TRACE h2::proto::connection] <- Connection;\n",
              "[2025-01-29T00:39:40Z TRACE h2::codec::framed_read] FramedRead::poll_next;\n",
              "[2025-01-29T00:39:40Z TRACE h2::codec::framed_read] -> FramedRead::poll_next;\n",
              "[2025-01-29T00:39:40Z TRACE h2::codec::framed_read] poll\n",
              "[2025-01-29T00:39:40Z TRACE h2::codec::framed_read] <- FramedRead::poll_next;\n",
              "[2025-01-29T00:39:40Z TRACE h2::codec::framed_read] -- FramedRead::poll_next;\n",
              "[2025-01-29T00:39:40Z TRACE h2::proto::connection] codec closed\n",
              "[2025-01-29T00:39:40Z TRACE h2::proto::streams::streams] Streams::recv_eof\n",
              "[2025-01-29T00:39:40Z TRACE h2::proto::streams::prioritize] clear_pending_capacity;\n",
              "[2025-01-29T00:39:40Z TRACE h2::proto::streams::prioritize] -> clear_pending_capacity;\n",
              "[2025-01-29T00:39:40Z TRACE h2::proto::streams::prioritize] <- clear_pending_capacity;\n",
              "[2025-01-29T00:39:40Z TRACE h2::proto::streams::prioritize] -- clear_pending_capacity;\n",
              "[2025-01-29T00:39:40Z TRACE h2::proto::connection] connection.state=Closing(NO_ERROR, Library)\n",
              "[2025-01-29T00:39:40Z TRACE h2::proto::connection] connection closing after flush\n",
              "[2025-01-29T00:39:40Z TRACE h2::codec::framed_write] FramedWrite::flush;\n",
              "[2025-01-29T00:39:40Z TRACE h2::codec::framed_write] -> FramedWrite::flush;\n",
              "[2025-01-29T00:39:40Z TRACE h2::codec::framed_write] flushing buffer\n",
              "[2025-01-29T00:39:40Z TRACE h2::codec::framed_write] <- FramedWrite::flush;\n",
              "[2025-01-29T00:39:40Z TRACE h2::codec::framed_write] -- FramedWrite::flush;\n",
              "[2025-01-29T00:39:40Z TRACE h2::proto::connection] <- poll;\n",
              "[2025-01-29T00:39:40Z TRACE h2::proto::connection] -- poll;\n",
              "[2025-01-29T00:39:40Z TRACE h2::proto::connection] <- Connection;\n",
              "[2025-01-29T00:39:40Z TRACE h2::proto::connection] -- Connection;\n",
              "[2025-01-29T00:39:40Z DEBUG hyper::server::server::new_svc] connection error: connection error: not connected\n",
              "[2025-01-29T00:39:40Z TRACE h2::proto::streams::streams] Streams::recv_eof\n",
              "[2025-01-29T00:39:40Z TRACE h2::proto::streams::prioritize] clear_pending_capacity;\n",
              "[2025-01-29T00:39:40Z TRACE h2::proto::streams::prioritize] -> clear_pending_capacity;\n",
              "[2025-01-29T00:39:40Z TRACE h2::proto::streams::prioritize] <- clear_pending_capacity;\n",
              "[2025-01-29T00:39:40Z TRACE h2::proto::streams::prioritize] -- clear_pending_capacity;\n",
              "[2025-01-29T00:39:40Z TRACE mio::poll] deregistering event source from poller\n",
              "[2025-01-29T00:39:40Z TRACE h2::proto::connection] -- Connection;\n",
              "[2025-01-29T00:39:41Z INFO  rustboard_core::cli] Stdin closed; exiting"
            ]
          },
          "metadata": {}
        }
      ],
      "source": [
        "%load_ext tensorboard\n",
        "%tensorboard --logdir runs --verbosity=1"
      ]
    },
    {
      "cell_type": "markdown",
      "metadata": {
        "id": "ftSsX46q8Tx_"
      },
      "source": [
        "## Argument Parsing"
      ]
    },
    {
      "cell_type": "code",
      "execution_count": 5,
      "metadata": {
        "id": "RjjNLjdSidja"
      },
      "outputs": [],
      "source": [
        "def str2bool(v):\n",
        "    if isinstance(v, bool):\n",
        "        return v\n",
        "    if isinstance(v, str) and v.lower() in (\"true\",):\n",
        "        return True\n",
        "    elif isinstance(v, str) and v.lower() in (\"false\",):\n",
        "        return False\n",
        "    else:\n",
        "        raise argparse.ArgumentTypeError(\"Boolean value expected\")\n",
        "\n",
        "\n",
        "@dataclass\n",
        "class Args:\n",
        "    exp_name: str = \"ppo_rnd\"\n",
        "    \"\"\"the name of this experiment\"\"\"\n",
        "    seed: int = 1\n",
        "    \"\"\"seed of the experiment\"\"\"\n",
        "    torch_deterministic: str2bool = True\n",
        "    \"\"\"if toggled, `torch.backends.cudnn.deterministic=False`\"\"\"\n",
        "    cuda: str2bool = True\n",
        "    \"\"\"if toggled, cuda will be enabled by default\"\"\"\n",
        "    track: str2bool = False\n",
        "    \"\"\"if toggled, this experiment will be tracked with Weights and Biases\"\"\"\n",
        "    wandb_project_name: str = \"cleanRL\"\n",
        "    \"\"\"the wandb's project name\"\"\"\n",
        "    wandb_entity: str = None\n",
        "    \"\"\"the entity (team) of wandb's project\"\"\"\n",
        "    capture_video: str2bool = False\n",
        "    \"\"\"whether to capture videos of the agent performances (check out `videos` folder)\"\"\"\n",
        "\n",
        "    # Algorithm specific arguments\n",
        "    env_id: str = \"MiniHack-KeyRoom-Dark-S5-v0\"\n",
        "    \"\"\"the id of the environment\"\"\"\n",
        "    max_episode_steps: int = None\n",
        "    \"\"\"number of episode steps\"\"\"\n",
        "    total_timesteps: int = 5000000\n",
        "    \"\"\"total timesteps of the experiments\"\"\"\n",
        "    learning_rate: float = 2e-4\n",
        "    \"\"\"the learning rate of the optimizer\"\"\"\n",
        "    num_envs: int = 128\n",
        "    \"\"\"the number of parallel game environments\"\"\"\n",
        "    num_workers: int = 16\n",
        "    \"\"\"the number of workers\"\"\"\n",
        "    num_steps: int = 128\n",
        "    \"\"\"the number of steps to run in each environment per policy rollout\"\"\"\n",
        "    anneal_lr: str2bool = True\n",
        "    \"\"\"Toggle learning rate annealing for policy and value networks\"\"\"\n",
        "    gamma: float = 0.999\n",
        "    \"\"\"the discount factor gamma\"\"\"\n",
        "    gae_lambda: float = 0.95\n",
        "    \"\"\"the lambda for the general advantage estimation\"\"\"\n",
        "    num_minibatches: int = 8\n",
        "    \"\"\"the number of mini-batches\"\"\"\n",
        "    update_epochs: int = 8\n",
        "    \"\"\"the K epochs to update the policy\"\"\"\n",
        "    norm_adv: str2bool = True\n",
        "    \"\"\"Toggles advantages normalization\"\"\"\n",
        "    clip_coef: float = 0.1\n",
        "    \"\"\"the surrogate clipping coefficient\"\"\"\n",
        "    clip_vloss: str2bool = True\n",
        "    \"\"\"Toggles whether or not to use a clipped loss for the value function, as per the paper.\"\"\"\n",
        "    ent_coef: float = 0.001\n",
        "    \"\"\"coefficient of the entropy\"\"\"\n",
        "    vf_coef: float = 0.5\n",
        "    \"\"\"coefficient of the value function\"\"\"\n",
        "    max_grad_norm: float = 40\n",
        "    \"\"\"the maximum norm for the gradient clipping\"\"\"\n",
        "    target_kl: float = None\n",
        "    \"\"\"the target KL divergence threshold\"\"\"\n",
        "    penalty_step: float = 0.0\n",
        "    \"\"\"the penalty for each env step\"\"\"\n",
        "    value_bootstrap: str2bool = True\n",
        "    \"\"\"Value bootstrapping\"\"\"\n",
        "\n",
        "    # RND arguments\n",
        "    update_proportion: float = 1.0\n",
        "    \"\"\"proportion of exp used for predictor update\"\"\"\n",
        "    int_coef: float = 0.1\n",
        "    \"\"\"coefficient of extrinsic reward\"\"\"\n",
        "    ext_coef: float = 1.0\n",
        "    \"\"\"coefficient of intrinsic reward\"\"\"\n",
        "    int_gamma: float = 0.99\n",
        "    \"\"\"Intrinsic reward discount rate\"\"\"\n",
        "    num_iterations_obs_norm_init: int = 5\n",
        "    \"\"\"number of iterations to initialize the observations normalization parameters\"\"\"\n",
        "    forward_coef: float = 0.1\n",
        "    \"\"\"weight on modelling loss (ie convergence of predictor)\"\"\"\n",
        "\n",
        "    # to be filled in runtime\n",
        "    batch_size: int = 0\n",
        "    \"\"\"the batch size (computed in runtime)\"\"\"\n",
        "    minibatch_size: int = 0\n",
        "    \"\"\"the mini-batch size (computed in runtime)\"\"\"\n",
        "    num_iterations: int = 0\n",
        "    \"\"\"the number of iterations (computed in runtime)\"\"\""
      ]
    },
    {
      "cell_type": "markdown",
      "metadata": {
        "id": "CNWH_lRk8b0F"
      },
      "source": [
        "## RecordEpisodeStatistics, RewardForwardFilter, layer_init"
      ]
    },
    {
      "cell_type": "code",
      "execution_count": 6,
      "metadata": {
        "id": "XKN20w1Yg-Vv"
      },
      "outputs": [],
      "source": [
        "class RecordEpisodeStatistics:\n",
        "    def __init__(self, env, deque_size=100):\n",
        "        self.env = env\n",
        "        self.num_envs = getattr(env, \"num_envs\", 1)\n",
        "        self.episode_returns = None\n",
        "        self.episode_lengths = None\n",
        "\n",
        "    def __getattr__(self, name):\n",
        "        return getattr(self.env, name)\n",
        "\n",
        "    def reset(self, **kwargs):\n",
        "        observations, infos = self.env.reset(**kwargs)\n",
        "        self.episode_returns = np.zeros(self.num_envs, dtype=np.float32)\n",
        "        self.episode_lengths = np.zeros(self.num_envs, dtype=np.int32)\n",
        "        self.lives = np.zeros(self.num_envs, dtype=np.int32)\n",
        "        self.returned_episode_returns = np.zeros(self.num_envs, dtype=np.float32)\n",
        "        self.returned_episode_lengths = np.zeros(self.num_envs, dtype=np.int32)\n",
        "        return observations, {}\n",
        "\n",
        "    def step(self, action):\n",
        "        observations, rewards, terminatedes, truncatedes, infos = self.env.step(action)\n",
        "        self.episode_returns += rewards\n",
        "        self.episode_lengths += 1\n",
        "        self.returned_episode_returns[:] = self.episode_returns\n",
        "        self.returned_episode_lengths[:] = self.episode_lengths\n",
        "        self.episode_returns *= 1 - terminatedes\n",
        "        self.episode_lengths *= 1 - terminatedes\n",
        "\n",
        "        infos = {}\n",
        "        infos[\"r\"] = self.returned_episode_returns\n",
        "        infos[\"l\"] = self.returned_episode_lengths\n",
        "\n",
        "        return (\n",
        "            observations,\n",
        "            rewards,\n",
        "            terminatedes,\n",
        "            truncatedes,\n",
        "            infos,\n",
        "        )\n",
        "\n",
        "\n",
        "class RewardForwardFilter:\n",
        "    def __init__(self, gamma):\n",
        "        self.rewems = None\n",
        "        self.gamma = gamma\n",
        "\n",
        "    def update(self, rews):\n",
        "        if self.rewems is None:\n",
        "            self.rewems = rews\n",
        "        else:\n",
        "            self.rewems = self.rewems * self.gamma + rews\n",
        "        return self.rewems\n",
        "\n",
        "\n",
        "# ALGO LOGIC: initialize agent here:\n",
        "def layer_init(layer, std=np.sqrt(2), bias_const=0.0):\n",
        "    torch.nn.init.orthogonal_(layer.weight, std)\n",
        "    torch.nn.init.constant_(layer.bias, bias_const)\n",
        "    return layer"
      ]
    },
    {
      "cell_type": "markdown",
      "metadata": {
        "id": "F-GZAbEIlvZ0"
      },
      "source": [
        "## Create Envs"
      ]
    },
    {
      "cell_type": "code",
      "execution_count": 7,
      "metadata": {
        "id": "bRY-uyH2LRoB"
      },
      "outputs": [],
      "source": [
        "import gymnasium\n",
        "from nle.env.base import NLE\n",
        "\n",
        "class NLETimeLimit(gymnasium.Wrapper):\n",
        "    def __init__(self, env: gymnasium.Env):\n",
        "        super().__init__(env)\n",
        "\n",
        "    def step(self, action):\n",
        "        obs, reward, terminated, truncated, info = super().step(action)\n",
        "        if \"end_status\" in info:  # Add safety check\n",
        "            if info[\"end_status\"] == NLE.StepStatus.ABORTED:\n",
        "                truncated = True\n",
        "        return obs, reward, terminated, truncated, info\n",
        "\n",
        "\n",
        "def env_creator(args):\n",
        "    '''NetHack binding creation function'''\n",
        "    import minihack\n",
        "    import gym\n",
        "    import shimmy\n",
        "    from pufferlib.environments.minihack.environment import MinihackWrapper, EXTRA_OBS_KEYS\n",
        "\n",
        "    obs_key = minihack.base.MH_DEFAULT_OBS_KEYS + EXTRA_OBS_KEYS\n",
        "    kwargs = dict(\n",
        "        observation_keys=obs_key,\n",
        "        penalty_step=args.penalty_step,\n",
        "    )\n",
        "    env = gym.make(args.env_id, **kwargs)\n",
        "    env = shimmy.GymV21CompatibilityV0(env=env)\n",
        "    env = NLETimeLimit(env)\n",
        "    env = MinihackWrapper(env)\n",
        "    return pufferlib.emulation.GymnasiumPufferEnv(env=env)\n",
        "\n",
        "def create_env(args):\n",
        "    env = pufferlib.vector.make(partial(env_creator, args), batch_size=args.num_envs, num_envs=args.num_envs, num_workers=args.num_workers, backend=pufferlib.vector.Multiprocessing)\n",
        "    env = RecordEpisodeStatistics(env)\n",
        "    return env"
      ]
    },
    {
      "cell_type": "markdown",
      "metadata": {
        "id": "D0sDo7p0LRoC"
      },
      "source": [
        "## VideoRecorder"
      ]
    },
    {
      "cell_type": "code",
      "execution_count": 8,
      "metadata": {
        "id": "OhTfhc-3xd0s"
      },
      "outputs": [],
      "source": [
        "import imageio\n",
        "import pathlib\n",
        "from PIL import Image, ImageDraw, ImageFont\n",
        "from IPython.display import Video\n",
        "\n",
        "\n",
        "class VideoRecorder:\n",
        "    def __init__(self, env, directory, size=(512, 512)):\n",
        "        self.env = env\n",
        "        self._directory = pathlib.Path(directory).expanduser()\n",
        "        self._directory.mkdir(exist_ok=True, parents=True)\n",
        "        self._size = size\n",
        "        self._frames = None\n",
        "\n",
        "    def __getattr__(self, name):\n",
        "        return getattr(self.env, name)\n",
        "\n",
        "    def reset(self, **kwargs):\n",
        "        obs, info = self.env.reset(**kwargs)\n",
        "        self._frames = [self.render_image()]\n",
        "        return obs, info\n",
        "\n",
        "    def step(self, action):\n",
        "        obs, reward, terminated, truncated, info = self.env.step(action)\n",
        "        self._frames.append(self.render_image())\n",
        "\n",
        "        if terminated or truncated:\n",
        "            self._save()\n",
        "\n",
        "        return obs, reward, terminated, truncated, info\n",
        "\n",
        "    def _save(self):\n",
        "        if self._frames:\n",
        "            filename = str(self._directory / \"trajectory.mp4\")\n",
        "            imageio.mimsave(filename, self._frames)\n",
        "\n",
        "    def render_image(self):\n",
        "        obs = self.env.env.env.gym_env.last_observation\n",
        "        obs_keys = self.env.env.env.gym_env._observation_keys\n",
        "        tty_chars = obs[obs_keys.index(\"tty_chars\")]\n",
        "        tty_colors = obs[obs_keys.index(\"tty_colors\")]\n",
        "        tty_cursor = obs[obs_keys.index(\"tty_cursor\")]\n",
        "        image = tty_render(tty_chars, tty_colors, tty_cursor, font_path=None)\n",
        "        image = image.resize((600, 430))\n",
        "        return np.asanyarray(image)\n",
        "\n",
        "\n",
        "def tty_render(chars, colors, cursor=None, font_size=16, font_path=\"Hack-Regular.ttf\"):\n",
        "    # Create font object\n",
        "    font = ImageFont.truetype(font_path, font_size) if font_path else ImageFont.load_default()\n",
        "\n",
        "    height, width = chars.shape\n",
        "    line_height = font_size + 6\n",
        "    line_width = font_size - 6\n",
        "\n",
        "    # Create image\n",
        "    img = Image.new(\"RGB\", (width * line_width, height * line_height), color=\"black\")\n",
        "    draw = ImageDraw.Draw(img)\n",
        "\n",
        "    color_palette = [\n",
        "        (0, 0, 0),\n",
        "        (255, 0, 0),\n",
        "        (0, 255, 0),\n",
        "        (255, 255, 0),\n",
        "        (0, 0, 255),\n",
        "        (255, 0, 255),\n",
        "        (0, 255, 255),\n",
        "        (255, 255, 255),\n",
        "    ]\n",
        "\n",
        "    color_palette = [\n",
        "        # Standard colors (30-37)\n",
        "        (0, 0, 0),  # Black\n",
        "        (255, 0, 0),  # Red\n",
        "        (0, 255, 0),  # Green\n",
        "        (255, 255, 0),  # Yellow\n",
        "        (0, 0, 255),  # Blue\n",
        "        (255, 0, 255),  # Magenta\n",
        "        (0, 255, 255),  # Cyan\n",
        "        (255, 255, 255),  # White\n",
        "        # Bright colors (90-97)\n",
        "        (128, 128, 128),  # Bright Black / Gray\n",
        "        (255, 85, 85),  # Bright Red\n",
        "        (85, 255, 85),  # Bright Green\n",
        "        (255, 255, 85),  # Bright Yellow\n",
        "        (85, 85, 255),  # Bright Blue\n",
        "        (255, 85, 255),  # Bright Magenta\n",
        "        (85, 255, 255),  # Bright Cyan\n",
        "        (255, 255, 255),  # Bright White\n",
        "    ]\n",
        "\n",
        "    if cursor is None:\n",
        "        cursor = (-1, -1)\n",
        "    cursor = tuple(cursor)\n",
        "\n",
        "    rows, cols = chars.shape\n",
        "    y = 0\n",
        "    for i in range(rows):\n",
        "        x = 0\n",
        "        for j in range(cols):\n",
        "            draw.text((x, y), chr(chars[i, j]), fill=color_palette[colors[i, j] % 16], font=font)\n",
        "            if cursor == (i, j):\n",
        "                draw.text((x, y + 2), \"_\", fill=color_palette[7], font=font)\n",
        "\n",
        "            x += line_width\n",
        "        y += line_height\n",
        "\n",
        "    return img\n",
        "\n",
        "\n",
        "@torch.no_grad\n",
        "def play(agent, args):\n",
        "    env = env_creator(args)\n",
        "    env = VideoRecorder(env, \".\")\n",
        "    obs, info = env.reset()\n",
        "\n",
        "    device = next(agent.parameters()).device\n",
        "\n",
        "    steps = 0\n",
        "    reward = 0.0\n",
        "    total_reward = 0.0\n",
        "\n",
        "    while True:\n",
        "        action = agent.get_action_and_value(torch.Tensor(obs).unsqueeze(0).to(device))[0][0].item()\n",
        "        obs, reward, terminated, truncated, info = env.step(action)\n",
        "\n",
        "        steps += 1\n",
        "        total_reward += reward\n",
        "\n",
        "        if not (terminated or truncated):\n",
        "            continue\n",
        "\n",
        "        break\n",
        "    print(f\"reward: {reward}, steps: {steps}\")\n",
        "    env.close()\n",
        "    return info"
      ]
    },
    {
      "cell_type": "markdown",
      "metadata": {
        "id": "JHdtBPWEkBAp"
      },
      "source": [
        "# Task 1: PPO"
      ]
    },
    {
      "cell_type": "markdown",
      "metadata": {
        "id": "JoPxKO7CAvQ0"
      },
      "source": [
        "## Motivation\n",
        "Policy optimization methods in reinforcement learning face two major challenges: <b>sample inefficiency</b> and <b>training instability</b>. On-policy methods require fresh data collection for each policy update, making them sample inefficient since data cannot be reused once the policy changes. Additionally, early policy gradient approaches often suffered from instability during training, as large parameter updates could lead to performance collapse.\n",
        "\n",
        "<b>Trust Region Policy Optimization (TRPO)</b> attempted to address these issues by introducing constraints on policy updates. However, TRPO's reliance on complex second-order optimization made it computationally expensive and difficult to implement. This led to the development of <b>Proximal Policy Optimization (PPO)</b>, which maintains TRPO's benefits while simplifying the implementation.\n",
        "\n",
        "## Core Idea\n",
        "\n",
        "The fundamental idea behind PPO is to prevent excessive policy changes during training by implementing a \"clip\" mechanism. This clipping function ensures that the ratio between new and old policies stays within a small range, typically $[1-\\epsilon,1+\\epsilon]$ where $\\epsilon$ is usually between 0.1 and 0.2. When the policy update results in a ratio outside this range, the clipping function restricts the change, effectively creating a trust region without the computational complexity of second-order methods\n",
        "\n",
        "\n",
        "PPO operates in two main phases: data collection and optimization. During data collection, the algorithm gathers trajectories using the current policy. In the optimization phase, it performs multiple epochs of minibatch updates on this collected data. $\\pi_{\\theta_{old}(a_t|s_t)}$ are outputs of the actor when we collected the data, $\\pi_{\\theta_{old}(a_t|s_t)}$ are the outputs of the policy after we performed minibatch update.\n",
        "\n",
        "The PPO objective function is defined as:\n",
        "\n",
        "$$ L^{CLIP}(\\theta)=\\hat {\\mathbb{E}}_t \\left [ \\min(r_t(\\theta) \\hat A_t, \\text{clip}(r_t(\\theta), 1-\\epsilon, 1+\\epsilon)\\hat A_t) \\right ] $$\n",
        "\n",
        "Here, $t$ indexes the time steps in the collected trajectories, $A_t$ denotes the estimated advantage function, and the probability ratio is defined as:\n",
        "\n",
        "$$r_t(\\theta) = {\\pi_\\theta(a_t|s_t) \\over \\pi_{\\theta_{old}}(a_t|s_t)}$$\n",
        "\n",
        "The hat over $A_t$ signifies that it is an **estimator** of the advantage function, and the hat over $E_t$ indicates an **empirical average** used to approximate the true expectation.\n",
        "\n",
        "The objective function maximizes the expected return by increasing the likelihood of actions with positive advantages ($A_t > 0$) while decreasing the likelihood of actions with negative advantages ($A_t < 0$). This balanced approach facilitates stable policy improvement. The expectation operator $\\mathbb{E}_t$ indicates averaging over the sampled trajectories during data collection.\n",
        "\n",
        "## Implementation Details\n",
        "\n",
        "1. <b>Actor</b>: The actor represents the policy, $\\pi_\\theta(a_t|s_t)$, which maps states to a probability distribution over actions. It is responsible for deciding what action the agent should take in a given state. During training, the actor is updated to maximize the PPO objective function by either increasing or decreasing the likelihood of actions based on their estimated advantages.\n",
        "\n",
        "2. <b>Critic</b>: The critic estimates the value of a state, typically using a value function $V_{\\phi}(s_t)$. This value function helps determine how \"good\" a particular state is by predicting the expected cumulative reward from that state onward. The critic is trained to minimize the mean squared error between its predictions and the actual discounted returns observed during training.\n",
        "\n",
        "3. <b>Data Collection</b>: In this phase, trajectories are collected by having the agent interact with the environment using its current policy $\\pi_{\\theta_{old}}(a_t|s_t)$. Each trajectory contains sequences of states, actions, rewards, and log probabilities of actions under the current policy. These trajectories are used to compute several key quantities:\n",
        "  - Discounted Returns: The cumulative rewards from each state onward.\n",
        "\n",
        " $$ G_t = \\sum_{t=0}^{∞} \\gamma^t r_t $$\n",
        " $$ G_t = \\sum_{t=0}^k \\gamma^t r_t + V_{\\phi}(s_{k+1})  $$\n",
        "\n",
        "  - Advantages: The difference between observed returns and predicted state values. PPO uses Generalized Advantage Estimation (GAE) to compute these advantages efficiently and reduce variance.\n",
        "  \n",
        " $$ \\hat{A}_t^{GAE(\\gamma, \\lambda)} = \\sum_{l=0}^∞ (\\gamma \\lambda)^l \\delta_{t+l}^V$$\n",
        " $$\\delta_t^V=-V(s_t) + r_t + \\gamma V(s_{t+1})$$\n",
        "\n",
        "4. <b>Optimization</b>: Once data is collected, PPO performs multiple epochs of minibatch updates on this data to improve both the actor (policy network) and the critic (value network). The optimization process involves:\n",
        "  - Policy Update (Actor): The PPO objective function is used to update the policy network.\n",
        "  \n",
        " $$ L^{CLIP}(\\theta)=\\hat {\\mathbb{E}}_t \\left [ \\min(r_t(\\theta) \\hat A_t, \\text{clip}(r_t(\\theta), 1-\\epsilon, 1+\\epsilon)\\hat A_t) \\right ] $$\n",
        "\n",
        "  - Value Function Update (Critic): The critic network is updated by minimizing a mean squared error loss. Here, $G_t$ represents the discounted return or target value for state $s_t$\n",
        "  \n",
        " $$L^{VF}=\\frac{1}{2N}\\sum_{t=1}^{N}(V_{\\phi}(s_t)-G_t)^2$$\n",
        "  \n",
        "  - Entropy Regularization: To encourage exploration and prevent premature convergence to suboptimal policies, an entropy term is often added to the loss function.\n",
        "\n",
        " $$L^{ENTROPY}=-\\beta \\sum_{\\alpha} \\pi_{\\theta}(a|s) \\text{log} \\pi_{\\theta}(a|s)$$\n",
        "\n",
        "## Training Loop\n",
        "The overall training loop for PPO can be summarized as follows:\n",
        "- Collect trajectories using the current policy.\n",
        "- Compute discounted returns and advantages using GAE.\n",
        "- Perform multiple epochs of minibatch updates on both:\n",
        "  - The actor using the clipped surrogate objective.\n",
        "  - The critic using mean squared error loss.\n",
        "- Repeat until convergence or until a predefined number of iterations is reached.\n",
        "\n",
        "## References\n",
        "\n",
        "- PPO: [J. Schulman et al., \"Proximal Policy Optimization Algorithms.\" arXiv preprint arXiv:1707.06347, 2017.](https://arxiv.org/abs/1707.06347.pdf)\n",
        "- TRPO: [Schulman, John, et al. \"Trust region policy optimization.\" International conference on machine learning. 2015.](http://proceedings.mlr.press/v37/schulman15.pdf)\n",
        "- GAE: [Schulman, John, et al. \"High-dimensional continuous control using generalized advantage estimation.\"](https://arxiv.org/abs/1506.02438)"
      ]
    },
    {
      "cell_type": "markdown",
      "metadata": {
        "id": "3dGAl2s98qai"
      },
      "source": [
        "## Implement Agent class\n",
        "\n",
        "We will use a shared encoder and three linear networks for the actor and two critics respectively. The encoder network consists of three parts:\n",
        "1. A `blstats_net` that processes game statistics through an embedding layer,\n",
        "2. A convolutional network (`chars_net`) that processes the game's character-based display after embedding each character,\n",
        "3. A combination layer that merges and projects down these features.\n",
        "\n",
        "Projected features are then fed into three output heads:\n",
        "- actor that decides actions (policy),\n",
        "- critic that estimates extrinsic rewards (rewards from our environment),\n",
        "- critic that estimates intrinsic rewards (for curiosity-driven exploration).\n"
      ]
    },
    {
      "cell_type": "code",
      "execution_count": 9,
      "metadata": {
        "id": "A9nQbsY48pgK"
      },
      "outputs": [],
      "source": [
        "class Agent(nn.Module):\n",
        "    def __init__(self, env):\n",
        "        super().__init__()\n",
        "        self.dtype = pufferlib.pytorch.nativize_dtype(env.emulated)\n",
        "\n",
        "        self.blstats_net = nn.Sequential(\n",
        "            nn.Embedding(256, 32),\n",
        "            nn.Flatten(),\n",
        "        )\n",
        "\n",
        "        self.char_embed = nn.Embedding(256, 32)\n",
        "        self.chars_net = nn.Sequential(\n",
        "            layer_init(nn.Conv2d(32, 32, 5, stride=(2, 3))),\n",
        "            nn.ReLU(),\n",
        "            layer_init(nn.Conv2d(32, 64, 5, stride=(1, 3))),\n",
        "            nn.ReLU(),\n",
        "            layer_init(nn.Conv2d(64, 64, 3, stride=1)),\n",
        "            nn.ReLU(),\n",
        "            nn.Flatten(),\n",
        "        )\n",
        "\n",
        "        self.proj = nn.Linear(864+960, 256)\n",
        "        self.actor = layer_init(nn.Linear(256, env.single_action_space.n), std=0.01)\n",
        "        self.critic_ext = layer_init(nn.Linear(256, 1), std=0.01)\n",
        "        self.critic_int = layer_init(nn.Linear(256, 1), std=0.01)\n",
        "\n",
        "    def encode_observations(self, x):\n",
        "        x = x.type(torch.uint8) # Undo bad cleanrl cast\n",
        "        x = pufferlib.pytorch.nativize_tensor(x, self.dtype)\n",
        "\n",
        "        blstats = torch.clip(x['blstats'] + 1, 0, 255).int()\n",
        "        blstats = self.blstats_net(blstats)\n",
        "\n",
        "        chars = self.char_embed(x['chars'].int())\n",
        "        chars = torch.permute(chars, (0, 3, 1, 2))\n",
        "        chars = self.chars_net(chars)\n",
        "\n",
        "        concat = torch.cat([blstats, chars], dim=1)\n",
        "        return self.proj(concat)\n",
        "\n",
        "    def get_action_and_value(self, x, action=None):\n",
        "        # 1. encode the observations using the existing code\n",
        "        # 2. pass this hidden state through the actor network to get action logits,\n",
        "        # 3. create a torch.distributions.categorical.Categorical distribution from these logits\n",
        "        # 4. either sample an action (if none is provided) or use the given action,\n",
        "        # 5. The method should return a tuple containing:\n",
        "        #     (\n",
        "        #       the action,\n",
        "        #       its log probability,\n",
        "        #       the entropy of the distribution,\n",
        "        #       and the values from both critic networks (extrinsic and intrinsic)\n",
        "        #     ).\n",
        "        ### BEGIN SOLUTION - PPO get_action_and_value\n",
        "        #1, 2, 3\n",
        "        hidden_state = self.encode_observations(x)\n",
        "        action_logits = self.actor(hidden_state)\n",
        "        dist = torch.distributions.categorical.Categorical(logits=action_logits)\n",
        "\n",
        "        if action is None:\n",
        "            action = dist.sample()\n",
        "\n",
        "        log_prob = dist.log_prob(action)\n",
        "        entropy_prop = dist.entropy()\n",
        "        extrinsic_output = self.critic_ext(hidden_state)\n",
        "        intrinsic_output = self.critic_int(hidden_state)\n",
        "        ### END SOLUTIONa\n",
        "        return (\n",
        "            action,\n",
        "            log_prob,\n",
        "            entropy_prop,\n",
        "            extrinsic_output,\n",
        "            intrinsic_output\n",
        "        )\n",
        "\n",
        "    def get_value(self, x):\n",
        "        # simply encode the observations and return the outputs of both critic networks (extrinsic and intrinsic).\n",
        "        ### BEGIN SOLUTION - PPO get_value\n",
        "        hidden_state = self.encode_observations(x)\n",
        "\n",
        "        extrinsic_output = self.critic_ext(hidden_state)\n",
        "        intrinsic_output = self.critic_int(hidden_state)\n",
        "        ### END SOLUTION\n",
        "        return extrinsic_output, intrinsic_output"
      ]
    },
    {
      "cell_type": "markdown",
      "metadata": {
        "id": "DVSo0FUV1fGG"
      },
      "source": [
        "## PPO Trainer\n",
        "\n"
      ]
    },
    {
      "cell_type": "code",
      "execution_count": 10,
      "metadata": {
        "id": "5D1LA-9pjyZp"
      },
      "outputs": [],
      "source": [
        "class PPOTrainer:\n",
        "    def __init__(self, args, writer, env, agent, tlol:TrainingLolcaLogger):\n",
        "        self.args = args\n",
        "        self.writer = writer\n",
        "        self.env = env\n",
        "        self.agent = agent\n",
        "        self.device = next(agent.parameters()).device\n",
        "        self.tlol = tlol\n",
        "\n",
        "        self.combined_parameters = list(self.agent.parameters())\n",
        "        self.optimizer = optim.Adam(\n",
        "            self.combined_parameters,\n",
        "            lr=self.args.learning_rate,\n",
        "            eps=1e-5,\n",
        "        )\n",
        "\n",
        "        self.obs = torch.zeros((self.args.num_steps, self.args.num_envs) + self.env.single_observation_space.shape).to(self.device)\n",
        "        self.actions = torch.zeros((self.args.num_steps, self.args.num_envs) + self.env.single_action_space.shape).to(self.device)\n",
        "        self.logprobs = torch.zeros((self.args.num_steps, self.args.num_envs)).to(self.device)\n",
        "        self.rewards = torch.zeros((self.args.num_steps, self.args.num_envs)).to(self.device)\n",
        "        self.dones = torch.zeros((self.args.num_steps, self.args.num_envs)).to(self.device)\n",
        "        self.time_outs = torch.zeros((self.args.num_steps, self.args.num_envs)).to(self.device)\n",
        "        self.ext_values = torch.zeros((self.args.num_steps, self.args.num_envs)).to(self.device)\n",
        "\n",
        "        self.er_counter = 0\n",
        "        self.av_er_interval = 20\n",
        "\n",
        "    def compute_advantages(self, next_obs, next_done):\n",
        "        \"\"\"\n",
        "        Your task is to implement the computation of advantages using Generalized Advantage Estimation (GAE).\n",
        "\n",
        "        Key Concepts:\n",
        "        - **Generalized Advantage Estimation (GAE):** A technique to compute advantage values that balances bias and variance\n",
        "        using a combination of temporal difference (TD) errors and discounted returns.\n",
        "        - **Temporal Difference Error (Delta):** Measures the difference between the predicted value and the observed reward\n",
        "        plus the discounted value of the next state.\n",
        "        - **Discount Factor (gamma):** Determines how much future rewards are taken into account.\n",
        "        - **GAE Lambda (gae_lambda):** Controls the trade-off between bias and variance in advantage estimation.\n",
        "\n",
        "        Available Variables:\n",
        "        - `self.rewards`: A tensor containing rewards for each timestep in the trajectory.\n",
        "        - `self.dones`: A tensor indicating whether each timestep is terminal.\n",
        "        - `self.ext_values`: A tensor containing value estimates for each timestep in the trajectory.\n",
        "        - `self.agent.get_value(obs)`: A method that returns the value estimate for a given observation.\n",
        "        - `self.args.gamma`: The discount factor for future rewards.\n",
        "        - `self.args.gae_lambda`: The GAE lambda parameter.\n",
        "\n",
        "        Implementation Details:\n",
        "        - Use a loop to iterate backward through time steps (`range(self.args.num_steps)`).\n",
        "        - Compute temporal difference error (`delta`) at each step.\n",
        "        - Use GAE to compute advantages recursively, starting from the last timestep.\n",
        "        - Ensure that computations handle terminal states appropriately using `next_done` and `self.dones`.\n",
        "        \"\"\"\n",
        "\n",
        "        with torch.no_grad():\n",
        "            next_value_ext, _ = self.agent.get_value(next_obs)\n",
        "            # Completed solution in studnet version\n",
        "            ### BEGIN SOLUTION - PPOT compute_advantages\n",
        "            next_value_ext = next_value_ext.reshape(1, -1)\n",
        "\n",
        "            ext_advantages = torch.zeros_like(self.rewards, device=self.device)\n",
        "            ext_lastgaelam = 0\n",
        "\n",
        "            for t in reversed(range(self.args.num_steps)):\n",
        "                if t == self.args.num_steps - 1:\n",
        "                    ext_nextnonterminal = 1.0 - next_done\n",
        "                    ext_nextvalues = next_value_ext\n",
        "                else:\n",
        "                    ext_nextnonterminal = 1.0 - self.dones[t + 1]\n",
        "                    ext_nextvalues = self.ext_values[t + 1]\n",
        "\n",
        "                ext_delta = (self.rewards[t] + self.args.gamma * ext_nextvalues * ext_nextnonterminal - self.ext_values[t])\n",
        "                ext_advantages[t] = ext_lastgaelam = (ext_delta + self.args.gamma * self.args.gae_lambda * ext_nextnonterminal * ext_lastgaelam)\n",
        "            ### END SOLUTION\n",
        "        return ext_advantages\n",
        "\n",
        "    def compute_policy_loss(self, mb_advantages, ratio):\n",
        "        \"\"\"\n",
        "        Compute the clipped policy loss for Proximal Policy Optimization (PPO).\n",
        "\n",
        "        Key Concepts:\n",
        "        - PPO optimizes a policy by maximizing a clipped objective function to ensure stable training.\n",
        "        This method computes the negative of that objective function to facilitate minimization, as\n",
        "        required by Torch optimization frameworks.\n",
        "        - **Policy Ratio (ratio):** The ratio of the probability of taking an action under the current policy\n",
        "        to the probability under the old policy. This measures how much the policy has changed.\n",
        "        - **Clipping:** A technique to limit the change in the policy ratio to a range defined by `clip_coef`\n",
        "        (e.g., [1 - clip_coef, 1 + clip_coef]). This prevents excessively large updates that can destabilize training.\n",
        "        - **Advantages (mb_advantages):** Precomputed advantage values that guide the direction of policy updates.\n",
        "\n",
        "        Available Variables:\n",
        "        - `self.args.clip_coef`: The clipping coefficient used to limit changes in the policy ratio.\n",
        "\n",
        "        Expected Output:\n",
        "        - Return a scalar tensor representing the computed clipped policy loss. This loss is minimized to maximize the PPO objective.\n",
        "        \"\"\"\n",
        "        ### BEGIN SOLUTION - PPOT compute_policy_loss\n",
        "        clipped_ratio = torch.clamp(ratio, 1 - self.args.clip_coef, 1 + self.args.clip_coef)\n",
        "\n",
        "        unclipped_loss = ratio * mb_advantages\n",
        "        clipped_loss = clipped_ratio * mb_advantages\n",
        "\n",
        "        pg_loss = -torch.min(unclipped_loss, clipped_loss).mean()\n",
        "        ### END SOLUTION\n",
        "        return pg_loss\n",
        "\n",
        "    def compute_value_loss(self, new_values, returns):\n",
        "        \"\"\"\n",
        "        Compute the value loss for a reinforcement learning agent.\n",
        "\n",
        "        Key Concepts:\n",
        "        - **Value Function:** A function that predicts the expected return (sum of future rewards) from a given state.\n",
        "\n",
        "        Available Variables:\n",
        "        - `new_values.view(-1)`: Reshape `new_values` into a flat tensor if necessary.\n",
        "        - `returns`: Target returns for each timestep in the trajectory.\n",
        "\n",
        "        Expected Output:\n",
        "        - Return a scalar tensor `v_loss` representing the computed value loss.\n",
        "        \"\"\"\n",
        "        ### BEGIN SOLUTION - PPOT compute_value_loss\n",
        "        # Value loss\n",
        "        new_values = new_values.view(-1)\n",
        "\n",
        "        v_loss = 0.5 * torch.nn.functional.mse_loss(new_values, returns)\n",
        "        ### END SOLUTION\n",
        "        return v_loss\n",
        "\n",
        "    def train(self):\n",
        "        # ALGO Logic: Storage setup\n",
        "        avg_returns = deque(maxlen=self.av_er_interval)\n",
        "\n",
        "        # start the game\n",
        "        global_step = 0\n",
        "        start_time = time.time()\n",
        "        next_obs = torch.Tensor(self.env.reset()[0]).to(self.device)\n",
        "        next_done = torch.zeros(self.args.num_envs).to(self.device)\n",
        "        next_time_out = torch.zeros(self.args.num_envs).to(self.device)\n",
        "        num_updates = self.args.total_timesteps // self.args.batch_size\n",
        "\n",
        "        for update in range(1, num_updates + 1):\n",
        "            # Annealing the rate if instructed to do so.\n",
        "            if self.args.anneal_lr:\n",
        "                frac = 1.0 - (update - 1.0) / num_updates\n",
        "                lrnow = frac * self.args.learning_rate\n",
        "                self.optimizer.param_groups[0][\"lr\"] = lrnow\n",
        "\n",
        "            for step in range(0, self.args.num_steps):\n",
        "                global_step += 1 * self.args.num_envs\n",
        "                self.obs[step] = next_obs\n",
        "                self.dones[step] = next_done\n",
        "                self.time_outs[step] = next_time_out\n",
        "\n",
        "                # ALGO LOGIC: action logic\n",
        "                with torch.no_grad():\n",
        "                    value_ext, _ = self.agent.get_value(self.obs[step])\n",
        "                    self.ext_values[step] = value_ext.flatten()\n",
        "                    action, logprob, _, _, _ = self.agent.get_action_and_value(self.obs[step])\n",
        "\n",
        "                self.actions[step] = action\n",
        "                self.logprobs[step] = logprob\n",
        "\n",
        "                # execute the game and log data.\n",
        "                next_obs, reward, terminated, truncated, info = self.env.step(action.cpu().numpy())\n",
        "                self.rewards[step] = torch.tensor(reward).to(self.device).view(-1)\n",
        "                next_obs = torch.Tensor(next_obs).to(self.device)\n",
        "                next_done = torch.Tensor(terminated).to(self.device)\n",
        "                next_time_out = torch.Tensor(truncated).to(self.device)\n",
        "\n",
        "                local_step = global_step - 1 * self.args.num_envs\n",
        "                for idx, d in enumerate(terminated | truncated):\n",
        "                    local_step+=1\n",
        "                    if d:\n",
        "                        avg_returns.append(info[\"r\"][idx])\n",
        "                        epi_ret = np.average(avg_returns)\n",
        "                        epi_suc = np.average([1 if r > 0 else 0 for r in avg_returns])\n",
        "                        if self.er_counter >= self.av_er_interval:\n",
        "                            self.er_counter = 0\n",
        "                            print(\n",
        "                                f\"local_step={local_step}, {self.av_er_interval}_avg_episodic_return={epi_ret}\"\n",
        "                            )\n",
        "                            tlol.plot_ppo_er(epi_ret, local_step)\n",
        "                        else:\n",
        "                            self.er_counter += 1\n",
        "                        self.writer.add_scalar(\"charts/avg_success_rate\", epi_suc, local_step)\n",
        "                        self.writer.add_scalar(\"charts/avg_episodic_return\", epi_ret, local_step)\n",
        "                        self.writer.add_scalar(\"charts/episodic_return\", info[\"r\"][idx], local_step)\n",
        "                        self.writer.add_scalar(\"charts/episodic_length\", info[\"l\"][idx], local_step)\n",
        "\n",
        "            if self.args.value_bootstrap:\n",
        "                # Value bootstrapping is a technique that reduces the surprise for the critic in case\n",
        "                # we're ending the episode by timeout. Intuitively, in this case the cumulative return for the last step\n",
        "                # should not be zero, but rather what the critic expects. This improves learning in many envs\n",
        "                # because otherwise the critic cannot predict the abrupt change in rewards in a timed-out episode.\n",
        "                # What we really want here is v(t+1) which we don't have because we don't have obs(t+1) (since\n",
        "                # the episode ended). Using v(t) is an approximation that requires that rew(t) can be generally ignored.\n",
        "                self.rewards.add_(self.args.gamma * self.ext_values * self.time_outs)\n",
        "\n",
        "            # bootstrap value if not done\n",
        "            with torch.no_grad():\n",
        "                ext_advantages = self.compute_advantages(next_obs, next_done)\n",
        "                ext_returns = ext_advantages + self.ext_values\n",
        "\n",
        "            # flatten the batch\n",
        "            b_obs = self.obs.reshape((-1,) + self.env.single_observation_space.shape)\n",
        "            b_logprobs = self.logprobs.reshape(-1)\n",
        "            b_actions = self.actions.reshape(-1)\n",
        "            b_ext_advantages = ext_advantages.reshape(-1)\n",
        "            b_ext_returns = ext_returns.reshape(-1)\n",
        "\n",
        "            b_advantages = b_ext_advantages * self.args.ext_coef\n",
        "\n",
        "            # Optimizing the policy and value network\n",
        "            b_inds = np.arange(self.args.batch_size)\n",
        "\n",
        "            clipfracs = []\n",
        "            for epoch in range(self.args.update_epochs):\n",
        "                np.random.shuffle(b_inds)\n",
        "                for start in range(0, self.args.batch_size, self.args.minibatch_size):\n",
        "                    end = start + self.args.minibatch_size\n",
        "                    mb_inds = b_inds[start:end]\n",
        "\n",
        "                    _, newlogprob, entropy, new_ext_values, _ = self.agent.get_action_and_value(\n",
        "                        b_obs[mb_inds], b_actions.long()[mb_inds]\n",
        "                    )\n",
        "                    logratio = newlogprob - b_logprobs[mb_inds]\n",
        "                    ratio = logratio.exp()\n",
        "\n",
        "                    with torch.no_grad():\n",
        "                        # calculate approx_kl http://joschu.net/blog/kl-approx.html\n",
        "                        old_approx_kl = (-logratio).mean()\n",
        "                        approx_kl = ((ratio - 1) - logratio).mean()\n",
        "                        clipfracs += [((ratio - 1.0).abs() > self.args.clip_coef).float().mean().item()]\n",
        "\n",
        "                    mb_advantages = b_advantages[mb_inds]\n",
        "                    if self.args.norm_adv:\n",
        "                        mb_advantages = (mb_advantages - mb_advantages.mean()) / (mb_advantages.std() + 1e-8)\n",
        "\n",
        "                    # Policy loss\n",
        "                    pg_loss = self.compute_policy_loss(mb_advantages, ratio)\n",
        "\n",
        "                    # Value loss\n",
        "                    v_loss = self.compute_value_loss(new_ext_values, b_ext_returns[mb_inds])\n",
        "\n",
        "                    # Entropy loss\n",
        "                    entropy_loss = entropy.mean()\n",
        "                    loss = pg_loss - self.args.ent_coef * entropy_loss + v_loss * self.args.vf_coef\n",
        "\n",
        "                    self.optimizer.zero_grad()\n",
        "                    loss.backward()\n",
        "                    if self.args.max_grad_norm:\n",
        "                        nn.utils.clip_grad_norm_(\n",
        "                            self.combined_parameters,\n",
        "                            self.args.max_grad_norm,\n",
        "                        )\n",
        "                    self.optimizer.step()\n",
        "\n",
        "                if self.args.target_kl is not None:\n",
        "                    if approx_kl > self.args.target_kl:\n",
        "                        break\n",
        "\n",
        "            # record rewards for plotting purposes\n",
        "            self.writer.add_scalar(\"charts/learning_rate\", self.optimizer.param_groups[0][\"lr\"], global_step)\n",
        "            self.writer.add_scalar(\"losses/value_loss\", v_loss.item(), global_step)\n",
        "            self.writer.add_scalar(\"losses/policy_loss\", pg_loss.item(), global_step)\n",
        "            self.writer.add_scalar(\"losses/entropy\", entropy_loss.item(), global_step)\n",
        "            self.tlol.plot_ppo_loss(entropy_loss.item(), global_step)\n",
        "            self.writer.add_scalar(\"losses/old_approx_kl\", old_approx_kl.item(), global_step)\n",
        "            self.writer.add_scalar(\"losses/approx_kl\", approx_kl.item(), global_step)\n",
        "            # print(\"SPS:\", int(global_step / (time.time() - start_time))) # Uncomment if you want to estimate your training speed - should be around 50 and the beginning and 200+ later steps per second on Colab\n",
        "            self.tlol.plot_ppo_sps(int(global_step / (time.time() - start_time)), global_step)\n",
        "            self.writer.add_scalar(\"charts/SPS\", int(global_step / (time.time() - start_time)), global_step)\n"
      ]
    },
    {
      "cell_type": "code",
      "execution_count": 11,
      "metadata": {
        "id": "DUfmpiyQxI-1"
      },
      "outputs": [],
      "source": [
        "args = Args(\n",
        "    num_steps=32,\n",
        "    num_workers=8,\n",
        "    num_envs=128,\n",
        "    env_id=\"MiniHack-KeyRoom-S5-v0\",\n",
        "    total_timesteps=1_000_000,\n",
        ")"
      ]
    },
    {
      "cell_type": "code",
      "execution_count": 12,
      "metadata": {
        "colab": {
          "base_uri": "https://localhost:8080/",
          "height": 1000
        },
        "id": "LIR0EWFCo2ZO",
        "outputId": "0db22cab-8806-4fd9-b258-392c27558d65"
      },
      "outputs": [
        {
          "output_type": "stream",
          "name": "stdout",
          "text": [
            "local_step=25486, 20_avg_episodic_return=0.30000001192092896\n",
            "local_step=25509, 20_avg_episodic_return=0.0\n",
            "local_step=25531, 20_avg_episodic_return=0.0\n",
            "local_step=25552, 20_avg_episodic_return=0.0\n",
            "local_step=25574, 20_avg_episodic_return=0.0\n",
            "local_step=25598, 20_avg_episodic_return=0.0\n",
            "local_step=46738, 20_avg_episodic_return=0.75\n",
            "local_step=51216, 20_avg_episodic_return=0.30000001192092896\n",
            "local_step=51244, 20_avg_episodic_return=0.0\n",
            "local_step=51267, 20_avg_episodic_return=0.0\n",
            "local_step=51289, 20_avg_episodic_return=0.0\n",
            "local_step=51320, 20_avg_episodic_return=0.05000000074505806\n",
            "local_step=68073, 20_avg_episodic_return=0.4000000059604645\n",
            "local_step=75673, 20_avg_episodic_return=0.3499999940395355\n",
            "local_step=76950, 20_avg_episodic_return=0.15000000596046448\n",
            "local_step=76983, 20_avg_episodic_return=0.0\n",
            "local_step=77008, 20_avg_episodic_return=0.0\n",
            "local_step=77037, 20_avg_episodic_return=0.0\n",
            "local_step=85374, 20_avg_episodic_return=0.3499999940395355\n",
            "local_step=94710, 20_avg_episodic_return=0.4000000059604645\n",
            "local_step=100797, 20_avg_episodic_return=0.5\n",
            "local_step=102683, 20_avg_episodic_return=0.10000000149011612\n",
            "local_step=102715, 20_avg_episodic_return=0.05000000074505806\n",
            "local_step=102748, 20_avg_episodic_return=0.0\n",
            "local_step=108247, 20_avg_episodic_return=0.10000000149011612\n",
            "local_step=114906, 20_avg_episodic_return=0.5\n",
            "local_step=121154, 20_avg_episodic_return=0.44999998807907104\n",
            "local_step=126325, 20_avg_episodic_return=0.30000001192092896\n",
            "local_step=128411, 20_avg_episodic_return=0.10000000149011612\n",
            "local_step=128453, 20_avg_episodic_return=0.0\n",
            "local_step=128508, 20_avg_episodic_return=0.0\n",
            "local_step=135078, 20_avg_episodic_return=0.44999998807907104\n",
            "local_step=141189, 20_avg_episodic_return=0.4000000059604645\n",
            "local_step=145964, 20_avg_episodic_return=0.550000011920929\n",
            "local_step=150092, 20_avg_episodic_return=0.3499999940395355\n",
            "local_step=154118, 20_avg_episodic_return=0.30000001192092896\n",
            "local_step=154183, 20_avg_episodic_return=0.0\n",
            "local_step=156002, 20_avg_episodic_return=0.15000000596046448\n",
            "local_step=160254, 20_avg_episodic_return=0.44999998807907104\n",
            "local_step=164933, 20_avg_episodic_return=0.699999988079071\n",
            "local_step=168660, 20_avg_episodic_return=0.4000000059604645\n",
            "local_step=171686, 20_avg_episodic_return=0.550000011920929\n",
            "local_step=175482, 20_avg_episodic_return=0.30000001192092896\n",
            "local_step=179841, 20_avg_episodic_return=0.3499999940395355\n",
            "local_step=179932, 20_avg_episodic_return=0.05000000074505806\n",
            "local_step=183276, 20_avg_episodic_return=0.550000011920929\n",
            "local_step=186130, 20_avg_episodic_return=0.25\n",
            "local_step=191207, 20_avg_episodic_return=0.6499999761581421\n",
            "local_step=194099, 20_avg_episodic_return=0.550000011920929\n",
            "local_step=197871, 20_avg_episodic_return=0.4000000059604645\n",
            "local_step=202131, 20_avg_episodic_return=0.5\n",
            "local_step=205613, 20_avg_episodic_return=0.4000000059604645\n",
            "local_step=207914, 20_avg_episodic_return=0.15000000596046448\n",
            "local_step=211754, 20_avg_episodic_return=0.44999998807907104\n",
            "local_step=214744, 20_avg_episodic_return=0.550000011920929\n",
            "local_step=217668, 20_avg_episodic_return=0.4000000059604645\n",
            "local_step=220905, 20_avg_episodic_return=0.3499999940395355\n",
            "local_step=223599, 20_avg_episodic_return=0.5\n",
            "local_step=227943, 20_avg_episodic_return=0.44999998807907104\n",
            "local_step=230588, 20_avg_episodic_return=0.550000011920929\n",
            "local_step=233196, 20_avg_episodic_return=0.4000000059604645\n",
            "local_step=237006, 20_avg_episodic_return=0.4000000059604645\n",
            "local_step=240129, 20_avg_episodic_return=0.5\n",
            "local_step=243194, 20_avg_episodic_return=0.550000011920929\n",
            "local_step=245614, 20_avg_episodic_return=0.4000000059604645\n",
            "local_step=248841, 20_avg_episodic_return=0.5\n",
            "local_step=252825, 20_avg_episodic_return=0.6499999761581421\n",
            "local_step=256065, 20_avg_episodic_return=0.25\n",
            "local_step=258473, 20_avg_episodic_return=0.3499999940395355\n",
            "local_step=262448, 20_avg_episodic_return=0.3499999940395355\n",
            "local_step=266167, 20_avg_episodic_return=0.5\n",
            "local_step=269245, 20_avg_episodic_return=0.44999998807907104\n",
            "local_step=271562, 20_avg_episodic_return=0.3499999940395355\n",
            "local_step=275022, 20_avg_episodic_return=0.3499999940395355\n",
            "local_step=278662, 20_avg_episodic_return=0.5\n",
            "local_step=282366, 20_avg_episodic_return=0.4000000059604645\n",
            "local_step=285058, 20_avg_episodic_return=0.4000000059604645\n",
            "local_step=288176, 20_avg_episodic_return=0.4000000059604645\n",
            "local_step=291250, 20_avg_episodic_return=0.6000000238418579\n",
            "local_step=294641, 20_avg_episodic_return=0.44999998807907104\n",
            "local_step=296665, 20_avg_episodic_return=0.3499999940395355\n",
            "local_step=300416, 20_avg_episodic_return=0.5\n",
            "local_step=303622, 20_avg_episodic_return=0.6000000238418579\n",
            "local_step=307608, 20_avg_episodic_return=0.3499999940395355\n",
            "local_step=310119, 20_avg_episodic_return=0.6000000238418579\n",
            "local_step=313188, 20_avg_episodic_return=0.3499999940395355\n",
            "local_step=316546, 20_avg_episodic_return=0.3499999940395355\n",
            "local_step=319873, 20_avg_episodic_return=0.5\n",
            "local_step=321816, 20_avg_episodic_return=0.3499999940395355\n",
            "local_step=325220, 20_avg_episodic_return=0.6000000238418579\n",
            "local_step=328208, 20_avg_episodic_return=0.5\n",
            "local_step=331232, 20_avg_episodic_return=0.44999998807907104\n",
            "local_step=334219, 20_avg_episodic_return=0.5\n",
            "local_step=338028, 20_avg_episodic_return=0.44999998807907104\n",
            "local_step=339872, 20_avg_episodic_return=0.44999998807907104\n",
            "local_step=342517, 20_avg_episodic_return=0.4000000059604645\n",
            "local_step=345806, 20_avg_episodic_return=0.5\n",
            "local_step=348818, 20_avg_episodic_return=0.4000000059604645\n",
            "local_step=351872, 20_avg_episodic_return=0.5\n",
            "local_step=354723, 20_avg_episodic_return=0.550000011920929\n",
            "local_step=357603, 20_avg_episodic_return=0.5\n",
            "local_step=361609, 20_avg_episodic_return=0.3499999940395355\n",
            "local_step=364529, 20_avg_episodic_return=0.44999998807907104\n",
            "local_step=367336, 20_avg_episodic_return=0.44999998807907104\n",
            "local_step=369809, 20_avg_episodic_return=0.3499999940395355\n",
            "local_step=373127, 20_avg_episodic_return=0.4000000059604645\n",
            "local_step=376399, 20_avg_episodic_return=0.5\n",
            "local_step=379135, 20_avg_episodic_return=0.4000000059604645\n",
            "local_step=380806, 20_avg_episodic_return=0.44999998807907104\n",
            "local_step=383833, 20_avg_episodic_return=0.8500000238418579\n",
            "local_step=386788, 20_avg_episodic_return=0.699999988079071\n",
            "local_step=389607, 20_avg_episodic_return=0.550000011920929\n",
            "local_step=392423, 20_avg_episodic_return=0.550000011920929\n",
            "local_step=395237, 20_avg_episodic_return=0.4000000059604645\n",
            "local_step=398016, 20_avg_episodic_return=0.6000000238418579\n",
            "local_step=400209, 20_avg_episodic_return=0.550000011920929\n",
            "local_step=403567, 20_avg_episodic_return=0.550000011920929\n",
            "local_step=406320, 20_avg_episodic_return=0.6000000238418579\n",
            "local_step=409233, 20_avg_episodic_return=0.4000000059604645\n",
            "local_step=411482, 20_avg_episodic_return=0.699999988079071\n",
            "local_step=414458, 20_avg_episodic_return=0.6499999761581421\n",
            "local_step=417181, 20_avg_episodic_return=0.4000000059604645\n",
            "local_step=420076, 20_avg_episodic_return=0.5\n",
            "local_step=422042, 20_avg_episodic_return=0.44999998807907104\n",
            "local_step=424925, 20_avg_episodic_return=0.550000011920929\n",
            "local_step=428714, 20_avg_episodic_return=0.550000011920929\n",
            "local_step=430966, 20_avg_episodic_return=0.5\n",
            "local_step=433684, 20_avg_episodic_return=0.6000000238418579\n",
            "local_step=436864, 20_avg_episodic_return=0.6000000238418579\n",
            "local_step=440027, 20_avg_episodic_return=0.44999998807907104\n",
            "local_step=442671, 20_avg_episodic_return=0.5\n",
            "local_step=445516, 20_avg_episodic_return=0.6499999761581421\n",
            "local_step=446841, 20_avg_episodic_return=0.550000011920929\n",
            "local_step=449956, 20_avg_episodic_return=0.75\n",
            "local_step=451710, 20_avg_episodic_return=0.550000011920929\n",
            "local_step=453847, 20_avg_episodic_return=0.75\n",
            "local_step=456399, 20_avg_episodic_return=0.6000000238418579\n",
            "local_step=458540, 20_avg_episodic_return=0.6499999761581421\n",
            "local_step=460543, 20_avg_episodic_return=0.75\n",
            "local_step=462975, 20_avg_episodic_return=0.699999988079071\n",
            "local_step=465755, 20_avg_episodic_return=0.75\n",
            "local_step=467861, 20_avg_episodic_return=0.699999988079071\n",
            "local_step=469650, 20_avg_episodic_return=0.699999988079071\n",
            "local_step=471985, 20_avg_episodic_return=0.8999999761581421\n",
            "local_step=474317, 20_avg_episodic_return=0.6000000238418579\n",
            "local_step=475891, 20_avg_episodic_return=0.75\n",
            "local_step=479309, 20_avg_episodic_return=0.800000011920929\n",
            "local_step=482281, 20_avg_episodic_return=0.699999988079071\n",
            "local_step=484064, 20_avg_episodic_return=0.6499999761581421\n",
            "local_step=486650, 20_avg_episodic_return=0.550000011920929\n",
            "local_step=489736, 20_avg_episodic_return=0.6000000238418579\n",
            "local_step=492272, 20_avg_episodic_return=0.8500000238418579\n",
            "local_step=494217, 20_avg_episodic_return=0.6000000238418579\n",
            "local_step=496119, 20_avg_episodic_return=0.6499999761581421\n",
            "local_step=497982, 20_avg_episodic_return=0.800000011920929\n",
            "local_step=500529, 20_avg_episodic_return=0.800000011920929\n",
            "local_step=502144, 20_avg_episodic_return=0.699999988079071\n",
            "local_step=503682, 20_avg_episodic_return=0.800000011920929\n",
            "local_step=506345, 20_avg_episodic_return=0.75\n",
            "local_step=507918, 20_avg_episodic_return=0.8999999761581421\n",
            "local_step=509911, 20_avg_episodic_return=0.6499999761581421\n",
            "local_step=511743, 20_avg_episodic_return=0.8500000238418579\n",
            "local_step=512442, 20_avg_episodic_return=0.8500000238418579\n",
            "local_step=514363, 20_avg_episodic_return=0.699999988079071\n",
            "local_step=516597, 20_avg_episodic_return=0.8999999761581421\n",
            "local_step=518657, 20_avg_episodic_return=0.75\n",
            "local_step=520565, 20_avg_episodic_return=0.8500000238418579\n",
            "local_step=521678, 20_avg_episodic_return=0.8999999761581421\n",
            "local_step=523836, 20_avg_episodic_return=0.699999988079071\n",
            "local_step=526005, 20_avg_episodic_return=0.8500000238418579\n",
            "local_step=528072, 20_avg_episodic_return=0.75\n",
            "local_step=530541, 20_avg_episodic_return=0.75\n",
            "local_step=532785, 20_avg_episodic_return=0.75\n",
            "local_step=534618, 20_avg_episodic_return=0.699999988079071\n",
            "local_step=536990, 20_avg_episodic_return=0.75\n",
            "local_step=538320, 20_avg_episodic_return=0.699999988079071\n",
            "local_step=540212, 20_avg_episodic_return=0.699999988079071\n",
            "local_step=542155, 20_avg_episodic_return=0.8500000238418579\n",
            "local_step=543740, 20_avg_episodic_return=0.949999988079071\n",
            "local_step=545611, 20_avg_episodic_return=0.8500000238418579\n",
            "local_step=547184, 20_avg_episodic_return=0.699999988079071\n",
            "local_step=549216, 20_avg_episodic_return=0.75\n",
            "local_step=550823, 20_avg_episodic_return=0.800000011920929\n",
            "local_step=553063, 20_avg_episodic_return=0.8999999761581421\n",
            "local_step=554738, 20_avg_episodic_return=0.949999988079071\n",
            "local_step=556066, 20_avg_episodic_return=0.8999999761581421\n",
            "local_step=557595, 20_avg_episodic_return=0.8999999761581421\n",
            "local_step=559189, 20_avg_episodic_return=0.8500000238418579\n",
            "local_step=560779, 20_avg_episodic_return=0.8999999761581421\n",
            "local_step=562648, 20_avg_episodic_return=0.949999988079071\n",
            "local_step=563963, 20_avg_episodic_return=0.6499999761581421\n",
            "local_step=565923, 20_avg_episodic_return=0.8500000238418579\n",
            "local_step=567458, 20_avg_episodic_return=0.8500000238418579\n",
            "local_step=569119, 20_avg_episodic_return=0.800000011920929\n",
            "local_step=570098, 20_avg_episodic_return=1.0\n",
            "local_step=571611, 20_avg_episodic_return=0.8999999761581421\n",
            "local_step=572912, 20_avg_episodic_return=0.800000011920929\n",
            "local_step=574156, 20_avg_episodic_return=1.0\n",
            "local_step=575276, 20_avg_episodic_return=0.949999988079071\n",
            "local_step=576444, 20_avg_episodic_return=0.949999988079071\n",
            "local_step=577748, 20_avg_episodic_return=1.0\n",
            "local_step=578972, 20_avg_episodic_return=1.0\n",
            "local_step=580298, 20_avg_episodic_return=0.949999988079071\n",
            "local_step=581620, 20_avg_episodic_return=0.8999999761581421\n",
            "local_step=582993, 20_avg_episodic_return=1.0\n",
            "local_step=583833, 20_avg_episodic_return=0.949999988079071\n",
            "local_step=585279, 20_avg_episodic_return=0.8500000238418579\n",
            "local_step=586888, 20_avg_episodic_return=0.8999999761581421\n",
            "local_step=587923, 20_avg_episodic_return=0.949999988079071\n",
            "local_step=589541, 20_avg_episodic_return=0.949999988079071\n",
            "local_step=590980, 20_avg_episodic_return=0.8999999761581421\n",
            "local_step=592188, 20_avg_episodic_return=1.0\n",
            "local_step=593630, 20_avg_episodic_return=0.8999999761581421\n",
            "local_step=594593, 20_avg_episodic_return=0.8999999761581421\n",
            "local_step=595942, 20_avg_episodic_return=0.8999999761581421\n",
            "local_step=597567, 20_avg_episodic_return=1.0\n",
            "local_step=598552, 20_avg_episodic_return=1.0\n",
            "local_step=599741, 20_avg_episodic_return=1.0\n",
            "local_step=601236, 20_avg_episodic_return=0.949999988079071\n",
            "local_step=602416, 20_avg_episodic_return=1.0\n",
            "local_step=603661, 20_avg_episodic_return=0.949999988079071\n",
            "local_step=604379, 20_avg_episodic_return=0.949999988079071\n",
            "local_step=605796, 20_avg_episodic_return=1.0\n",
            "local_step=607345, 20_avg_episodic_return=1.0\n",
            "local_step=608249, 20_avg_episodic_return=0.949999988079071\n",
            "local_step=609570, 20_avg_episodic_return=0.8999999761581421\n",
            "local_step=610330, 20_avg_episodic_return=1.0\n",
            "local_step=611511, 20_avg_episodic_return=1.0\n",
            "local_step=612681, 20_avg_episodic_return=0.949999988079071\n",
            "local_step=613360, 20_avg_episodic_return=0.8500000238418579\n",
            "local_step=614788, 20_avg_episodic_return=1.0\n",
            "local_step=615604, 20_avg_episodic_return=0.949999988079071\n",
            "local_step=616625, 20_avg_episodic_return=1.0\n",
            "local_step=617726, 20_avg_episodic_return=0.949999988079071\n",
            "local_step=618907, 20_avg_episodic_return=1.0\n",
            "local_step=619999, 20_avg_episodic_return=0.949999988079071\n",
            "local_step=620757, 20_avg_episodic_return=1.0\n",
            "local_step=621664, 20_avg_episodic_return=1.0\n",
            "local_step=622827, 20_avg_episodic_return=1.0\n",
            "local_step=623704, 20_avg_episodic_return=0.949999988079071\n",
            "local_step=624670, 20_avg_episodic_return=1.0\n",
            "local_step=625691, 20_avg_episodic_return=1.0\n",
            "local_step=626846, 20_avg_episodic_return=1.0\n",
            "local_step=627589, 20_avg_episodic_return=0.949999988079071\n",
            "local_step=628952, 20_avg_episodic_return=0.8500000238418579\n",
            "local_step=630090, 20_avg_episodic_return=0.949999988079071\n",
            "local_step=630985, 20_avg_episodic_return=1.0\n",
            "local_step=632286, 20_avg_episodic_return=1.0\n",
            "local_step=633894, 20_avg_episodic_return=1.0\n",
            "local_step=634768, 20_avg_episodic_return=1.0\n",
            "local_step=636072, 20_avg_episodic_return=0.8999999761581421\n",
            "local_step=637022, 20_avg_episodic_return=1.0\n",
            "local_step=638070, 20_avg_episodic_return=1.0\n",
            "local_step=639250, 20_avg_episodic_return=1.0\n",
            "local_step=640360, 20_avg_episodic_return=1.0\n",
            "local_step=641656, 20_avg_episodic_return=0.949999988079071\n",
            "local_step=642601, 20_avg_episodic_return=1.0\n",
            "local_step=643390, 20_avg_episodic_return=1.0\n",
            "local_step=644486, 20_avg_episodic_return=1.0\n",
            "local_step=645504, 20_avg_episodic_return=0.8999999761581421\n",
            "local_step=646789, 20_avg_episodic_return=1.0\n",
            "local_step=648125, 20_avg_episodic_return=1.0\n",
            "local_step=649084, 20_avg_episodic_return=0.949999988079071\n",
            "local_step=650050, 20_avg_episodic_return=1.0\n",
            "local_step=651051, 20_avg_episodic_return=1.0\n",
            "local_step=651976, 20_avg_episodic_return=1.0\n",
            "local_step=652982, 20_avg_episodic_return=0.949999988079071\n",
            "local_step=654299, 20_avg_episodic_return=1.0\n",
            "local_step=655099, 20_avg_episodic_return=0.949999988079071\n",
            "local_step=655821, 20_avg_episodic_return=1.0\n",
            "local_step=657137, 20_avg_episodic_return=1.0\n",
            "local_step=657980, 20_avg_episodic_return=1.0\n",
            "local_step=659123, 20_avg_episodic_return=0.949999988079071\n",
            "local_step=659880, 20_avg_episodic_return=0.949999988079071\n",
            "local_step=660748, 20_avg_episodic_return=0.8999999761581421\n",
            "local_step=661846, 20_avg_episodic_return=0.949999988079071\n",
            "local_step=662747, 20_avg_episodic_return=0.949999988079071\n",
            "local_step=663734, 20_avg_episodic_return=1.0\n",
            "local_step=664554, 20_avg_episodic_return=1.0\n",
            "local_step=666075, 20_avg_episodic_return=1.0\n",
            "local_step=666923, 20_avg_episodic_return=0.949999988079071\n",
            "local_step=667994, 20_avg_episodic_return=1.0\n",
            "local_step=668810, 20_avg_episodic_return=1.0\n",
            "local_step=669698, 20_avg_episodic_return=0.949999988079071\n",
            "local_step=671050, 20_avg_episodic_return=0.949999988079071\n",
            "local_step=671507, 20_avg_episodic_return=1.0\n",
            "local_step=672546, 20_avg_episodic_return=1.0\n",
            "local_step=673947, 20_avg_episodic_return=1.0\n",
            "local_step=674870, 20_avg_episodic_return=1.0\n",
            "local_step=675667, 20_avg_episodic_return=0.949999988079071\n",
            "local_step=676794, 20_avg_episodic_return=0.949999988079071\n",
            "local_step=677587, 20_avg_episodic_return=0.8999999761581421\n",
            "local_step=678404, 20_avg_episodic_return=1.0\n",
            "local_step=679525, 20_avg_episodic_return=1.0\n",
            "local_step=680164, 20_avg_episodic_return=0.949999988079071\n",
            "local_step=681383, 20_avg_episodic_return=1.0\n",
            "local_step=682293, 20_avg_episodic_return=1.0\n",
            "local_step=683119, 20_avg_episodic_return=0.949999988079071\n",
            "local_step=683912, 20_avg_episodic_return=0.949999988079071\n",
            "local_step=685293, 20_avg_episodic_return=1.0\n",
            "local_step=686104, 20_avg_episodic_return=0.8999999761581421\n",
            "local_step=687034, 20_avg_episodic_return=1.0\n",
            "local_step=687896, 20_avg_episodic_return=1.0\n",
            "local_step=688777, 20_avg_episodic_return=1.0\n",
            "local_step=689732, 20_avg_episodic_return=1.0\n",
            "local_step=690343, 20_avg_episodic_return=0.949999988079071\n",
            "local_step=691220, 20_avg_episodic_return=1.0\n",
            "local_step=691762, 20_avg_episodic_return=1.0\n",
            "local_step=692958, 20_avg_episodic_return=0.8999999761581421\n",
            "local_step=693763, 20_avg_episodic_return=1.0\n",
            "local_step=694600, 20_avg_episodic_return=0.949999988079071\n",
            "local_step=695410, 20_avg_episodic_return=1.0\n",
            "local_step=696454, 20_avg_episodic_return=1.0\n",
            "local_step=697358, 20_avg_episodic_return=1.0\n",
            "local_step=698199, 20_avg_episodic_return=1.0\n",
            "local_step=699063, 20_avg_episodic_return=1.0\n",
            "local_step=700043, 20_avg_episodic_return=1.0\n",
            "local_step=700904, 20_avg_episodic_return=1.0\n",
            "local_step=701746, 20_avg_episodic_return=1.0\n",
            "local_step=702441, 20_avg_episodic_return=1.0\n",
            "local_step=703167, 20_avg_episodic_return=1.0\n",
            "local_step=704271, 20_avg_episodic_return=1.0\n",
            "local_step=704827, 20_avg_episodic_return=1.0\n",
            "local_step=705774, 20_avg_episodic_return=1.0\n",
            "local_step=706354, 20_avg_episodic_return=1.0\n",
            "local_step=706977, 20_avg_episodic_return=1.0\n",
            "local_step=708038, 20_avg_episodic_return=1.0\n",
            "local_step=708899, 20_avg_episodic_return=1.0\n",
            "local_step=709528, 20_avg_episodic_return=1.0\n",
            "local_step=710250, 20_avg_episodic_return=1.0\n",
            "local_step=711008, 20_avg_episodic_return=1.0\n",
            "local_step=711952, 20_avg_episodic_return=1.0\n",
            "local_step=712795, 20_avg_episodic_return=1.0\n",
            "local_step=713271, 20_avg_episodic_return=1.0\n",
            "local_step=714057, 20_avg_episodic_return=1.0\n",
            "local_step=714735, 20_avg_episodic_return=0.949999988079071\n",
            "local_step=715702, 20_avg_episodic_return=1.0\n",
            "local_step=716296, 20_avg_episodic_return=1.0\n",
            "local_step=716964, 20_avg_episodic_return=1.0\n",
            "local_step=717741, 20_avg_episodic_return=1.0\n",
            "local_step=718286, 20_avg_episodic_return=1.0\n",
            "local_step=719147, 20_avg_episodic_return=1.0\n",
            "local_step=719969, 20_avg_episodic_return=1.0\n",
            "local_step=720684, 20_avg_episodic_return=1.0\n",
            "local_step=721150, 20_avg_episodic_return=1.0\n",
            "local_step=722054, 20_avg_episodic_return=1.0\n",
            "local_step=722766, 20_avg_episodic_return=1.0\n",
            "local_step=723486, 20_avg_episodic_return=1.0\n",
            "local_step=724267, 20_avg_episodic_return=0.949999988079071\n",
            "local_step=724762, 20_avg_episodic_return=1.0\n",
            "local_step=725488, 20_avg_episodic_return=1.0\n",
            "local_step=726154, 20_avg_episodic_return=1.0\n",
            "local_step=726796, 20_avg_episodic_return=1.0\n",
            "local_step=727563, 20_avg_episodic_return=1.0\n",
            "local_step=728620, 20_avg_episodic_return=1.0\n",
            "local_step=729251, 20_avg_episodic_return=1.0\n",
            "local_step=730040, 20_avg_episodic_return=1.0\n",
            "local_step=730677, 20_avg_episodic_return=1.0\n",
            "local_step=731399, 20_avg_episodic_return=1.0\n",
            "local_step=732138, 20_avg_episodic_return=1.0\n",
            "local_step=732602, 20_avg_episodic_return=1.0\n",
            "local_step=733499, 20_avg_episodic_return=1.0\n",
            "local_step=734017, 20_avg_episodic_return=1.0\n",
            "local_step=734627, 20_avg_episodic_return=1.0\n",
            "local_step=735386, 20_avg_episodic_return=1.0\n",
            "local_step=736051, 20_avg_episodic_return=1.0\n",
            "local_step=736810, 20_avg_episodic_return=1.0\n",
            "local_step=737353, 20_avg_episodic_return=0.949999988079071\n",
            "local_step=738016, 20_avg_episodic_return=1.0\n",
            "local_step=738808, 20_avg_episodic_return=1.0\n",
            "local_step=739549, 20_avg_episodic_return=1.0\n",
            "local_step=740138, 20_avg_episodic_return=1.0\n",
            "local_step=740806, 20_avg_episodic_return=1.0\n",
            "local_step=741429, 20_avg_episodic_return=1.0\n",
            "local_step=742211, 20_avg_episodic_return=1.0\n",
            "local_step=742852, 20_avg_episodic_return=1.0\n",
            "local_step=743647, 20_avg_episodic_return=1.0\n",
            "local_step=744607, 20_avg_episodic_return=1.0\n",
            "local_step=745345, 20_avg_episodic_return=1.0\n",
            "local_step=746038, 20_avg_episodic_return=1.0\n",
            "local_step=746531, 20_avg_episodic_return=1.0\n",
            "local_step=747294, 20_avg_episodic_return=1.0\n",
            "local_step=747850, 20_avg_episodic_return=1.0\n",
            "local_step=748785, 20_avg_episodic_return=1.0\n",
            "local_step=749500, 20_avg_episodic_return=1.0\n",
            "local_step=750219, 20_avg_episodic_return=1.0\n",
            "local_step=751051, 20_avg_episodic_return=1.0\n",
            "local_step=751766, 20_avg_episodic_return=1.0\n",
            "local_step=752355, 20_avg_episodic_return=1.0\n",
            "local_step=753188, 20_avg_episodic_return=1.0\n",
            "local_step=753806, 20_avg_episodic_return=1.0\n",
            "local_step=754489, 20_avg_episodic_return=1.0\n",
            "local_step=755299, 20_avg_episodic_return=1.0\n",
            "local_step=756003, 20_avg_episodic_return=1.0\n",
            "local_step=756525, 20_avg_episodic_return=1.0\n",
            "local_step=757236, 20_avg_episodic_return=1.0\n",
            "local_step=758190, 20_avg_episodic_return=1.0\n",
            "local_step=758903, 20_avg_episodic_return=1.0\n",
            "local_step=759319, 20_avg_episodic_return=1.0\n",
            "local_step=760057, 20_avg_episodic_return=0.949999988079071\n",
            "local_step=760704, 20_avg_episodic_return=1.0\n",
            "local_step=761536, 20_avg_episodic_return=1.0\n",
            "local_step=762458, 20_avg_episodic_return=0.949999988079071\n",
            "local_step=763037, 20_avg_episodic_return=1.0\n",
            "local_step=763602, 20_avg_episodic_return=1.0\n",
            "local_step=764367, 20_avg_episodic_return=1.0\n",
            "local_step=765280, 20_avg_episodic_return=1.0\n",
            "local_step=766028, 20_avg_episodic_return=1.0\n",
            "local_step=766669, 20_avg_episodic_return=1.0\n",
            "local_step=767432, 20_avg_episodic_return=1.0\n",
            "local_step=767907, 20_avg_episodic_return=1.0\n",
            "local_step=768445, 20_avg_episodic_return=1.0\n",
            "local_step=769316, 20_avg_episodic_return=1.0\n",
            "local_step=769978, 20_avg_episodic_return=1.0\n",
            "local_step=770634, 20_avg_episodic_return=0.949999988079071\n",
            "local_step=771352, 20_avg_episodic_return=0.949999988079071\n",
            "local_step=772068, 20_avg_episodic_return=1.0\n",
            "local_step=772925, 20_avg_episodic_return=1.0\n",
            "local_step=773514, 20_avg_episodic_return=1.0\n",
            "local_step=774086, 20_avg_episodic_return=1.0\n",
            "local_step=774605, 20_avg_episodic_return=1.0\n",
            "local_step=775491, 20_avg_episodic_return=1.0\n",
            "local_step=775982, 20_avg_episodic_return=1.0\n",
            "local_step=776493, 20_avg_episodic_return=1.0\n",
            "local_step=777222, 20_avg_episodic_return=1.0\n",
            "local_step=778126, 20_avg_episodic_return=1.0\n",
            "local_step=778632, 20_avg_episodic_return=1.0\n",
            "local_step=779291, 20_avg_episodic_return=1.0\n",
            "local_step=780007, 20_avg_episodic_return=1.0\n",
            "local_step=780832, 20_avg_episodic_return=1.0\n",
            "local_step=781401, 20_avg_episodic_return=1.0\n",
            "local_step=781843, 20_avg_episodic_return=1.0\n",
            "local_step=782422, 20_avg_episodic_return=1.0\n",
            "local_step=782963, 20_avg_episodic_return=1.0\n",
            "local_step=783810, 20_avg_episodic_return=1.0\n",
            "local_step=784320, 20_avg_episodic_return=1.0\n",
            "local_step=784859, 20_avg_episodic_return=1.0\n",
            "local_step=785416, 20_avg_episodic_return=0.949999988079071\n",
            "local_step=786116, 20_avg_episodic_return=0.949999988079071\n",
            "local_step=786806, 20_avg_episodic_return=1.0\n",
            "local_step=787307, 20_avg_episodic_return=1.0\n",
            "local_step=788208, 20_avg_episodic_return=1.0\n",
            "local_step=788855, 20_avg_episodic_return=1.0\n",
            "local_step=789349, 20_avg_episodic_return=1.0\n",
            "local_step=789910, 20_avg_episodic_return=1.0\n",
            "local_step=790384, 20_avg_episodic_return=1.0\n",
            "local_step=790966, 20_avg_episodic_return=1.0\n",
            "local_step=791569, 20_avg_episodic_return=1.0\n",
            "local_step=792281, 20_avg_episodic_return=1.0\n",
            "local_step=792833, 20_avg_episodic_return=1.0\n",
            "local_step=793507, 20_avg_episodic_return=1.0\n",
            "local_step=793886, 20_avg_episodic_return=1.0\n",
            "local_step=794417, 20_avg_episodic_return=1.0\n",
            "local_step=795215, 20_avg_episodic_return=1.0\n",
            "local_step=795806, 20_avg_episodic_return=1.0\n",
            "local_step=796268, 20_avg_episodic_return=1.0\n",
            "local_step=796638, 20_avg_episodic_return=1.0\n",
            "local_step=797550, 20_avg_episodic_return=1.0\n",
            "local_step=798177, 20_avg_episodic_return=1.0\n",
            "local_step=798610, 20_avg_episodic_return=1.0\n",
            "local_step=799123, 20_avg_episodic_return=1.0\n",
            "local_step=799774, 20_avg_episodic_return=1.0\n",
            "local_step=800470, 20_avg_episodic_return=1.0\n",
            "local_step=800994, 20_avg_episodic_return=1.0\n",
            "local_step=801662, 20_avg_episodic_return=1.0\n",
            "local_step=802162, 20_avg_episodic_return=1.0\n",
            "local_step=802828, 20_avg_episodic_return=1.0\n",
            "local_step=803386, 20_avg_episodic_return=1.0\n",
            "local_step=804122, 20_avg_episodic_return=1.0\n",
            "local_step=804648, 20_avg_episodic_return=1.0\n",
            "local_step=805349, 20_avg_episodic_return=1.0\n",
            "local_step=806076, 20_avg_episodic_return=1.0\n",
            "local_step=806503, 20_avg_episodic_return=1.0\n",
            "local_step=806981, 20_avg_episodic_return=1.0\n",
            "local_step=808021, 20_avg_episodic_return=1.0\n",
            "local_step=808515, 20_avg_episodic_return=1.0\n",
            "local_step=809110, 20_avg_episodic_return=1.0\n",
            "local_step=809663, 20_avg_episodic_return=1.0\n",
            "local_step=810228, 20_avg_episodic_return=1.0\n",
            "local_step=810684, 20_avg_episodic_return=1.0\n",
            "local_step=811232, 20_avg_episodic_return=1.0\n",
            "local_step=811591, 20_avg_episodic_return=1.0\n",
            "local_step=812489, 20_avg_episodic_return=1.0\n",
            "local_step=813280, 20_avg_episodic_return=1.0\n",
            "local_step=813807, 20_avg_episodic_return=1.0\n",
            "local_step=814466, 20_avg_episodic_return=1.0\n",
            "local_step=814983, 20_avg_episodic_return=1.0\n",
            "local_step=815646, 20_avg_episodic_return=1.0\n",
            "local_step=816162, 20_avg_episodic_return=1.0\n",
            "local_step=816621, 20_avg_episodic_return=1.0\n",
            "local_step=817372, 20_avg_episodic_return=1.0\n",
            "local_step=818168, 20_avg_episodic_return=1.0\n",
            "local_step=818712, 20_avg_episodic_return=0.949999988079071\n",
            "local_step=819128, 20_avg_episodic_return=1.0\n",
            "local_step=819691, 20_avg_episodic_return=1.0\n",
            "local_step=820401, 20_avg_episodic_return=1.0\n",
            "local_step=821171, 20_avg_episodic_return=1.0\n",
            "local_step=821864, 20_avg_episodic_return=1.0\n",
            "local_step=822282, 20_avg_episodic_return=0.949999988079071\n",
            "local_step=822924, 20_avg_episodic_return=1.0\n",
            "local_step=823415, 20_avg_episodic_return=1.0\n",
            "local_step=824221, 20_avg_episodic_return=1.0\n",
            "local_step=824735, 20_avg_episodic_return=1.0\n",
            "local_step=825098, 20_avg_episodic_return=1.0\n",
            "local_step=825912, 20_avg_episodic_return=1.0\n",
            "local_step=826555, 20_avg_episodic_return=1.0\n",
            "local_step=826972, 20_avg_episodic_return=1.0\n",
            "local_step=827555, 20_avg_episodic_return=1.0\n",
            "local_step=828205, 20_avg_episodic_return=1.0\n",
            "local_step=828670, 20_avg_episodic_return=1.0\n",
            "local_step=829436, 20_avg_episodic_return=1.0\n",
            "local_step=829894, 20_avg_episodic_return=1.0\n",
            "local_step=830527, 20_avg_episodic_return=1.0\n",
            "local_step=831064, 20_avg_episodic_return=1.0\n",
            "local_step=831724, 20_avg_episodic_return=1.0\n",
            "local_step=832396, 20_avg_episodic_return=1.0\n",
            "local_step=833005, 20_avg_episodic_return=1.0\n",
            "local_step=833342, 20_avg_episodic_return=1.0\n",
            "local_step=833959, 20_avg_episodic_return=1.0\n",
            "local_step=834398, 20_avg_episodic_return=1.0\n",
            "local_step=835131, 20_avg_episodic_return=1.0\n",
            "local_step=835686, 20_avg_episodic_return=0.949999988079071\n",
            "local_step=836143, 20_avg_episodic_return=1.0\n",
            "local_step=836869, 20_avg_episodic_return=1.0\n",
            "local_step=837365, 20_avg_episodic_return=1.0\n",
            "local_step=838053, 20_avg_episodic_return=1.0\n",
            "local_step=838410, 20_avg_episodic_return=1.0\n",
            "local_step=839058, 20_avg_episodic_return=1.0\n",
            "local_step=839705, 20_avg_episodic_return=1.0\n",
            "local_step=840225, 20_avg_episodic_return=1.0\n",
            "local_step=840635, 20_avg_episodic_return=1.0\n",
            "local_step=841306, 20_avg_episodic_return=1.0\n",
            "local_step=841880, 20_avg_episodic_return=1.0\n",
            "local_step=842384, 20_avg_episodic_return=1.0\n",
            "local_step=842969, 20_avg_episodic_return=1.0\n",
            "local_step=843341, 20_avg_episodic_return=1.0\n",
            "local_step=844035, 20_avg_episodic_return=1.0\n",
            "local_step=844705, 20_avg_episodic_return=1.0\n",
            "local_step=845219, 20_avg_episodic_return=1.0\n",
            "local_step=845653, 20_avg_episodic_return=1.0\n",
            "local_step=846182, 20_avg_episodic_return=1.0\n",
            "local_step=846754, 20_avg_episodic_return=1.0\n",
            "local_step=847185, 20_avg_episodic_return=1.0\n",
            "local_step=847702, 20_avg_episodic_return=1.0\n",
            "local_step=848404, 20_avg_episodic_return=1.0\n",
            "local_step=848957, 20_avg_episodic_return=1.0\n",
            "local_step=849401, 20_avg_episodic_return=1.0\n",
            "local_step=849999, 20_avg_episodic_return=1.0\n",
            "local_step=850529, 20_avg_episodic_return=1.0\n",
            "local_step=851096, 20_avg_episodic_return=1.0\n",
            "local_step=851643, 20_avg_episodic_return=1.0\n",
            "local_step=852180, 20_avg_episodic_return=1.0\n",
            "local_step=852711, 20_avg_episodic_return=1.0\n",
            "local_step=853245, 20_avg_episodic_return=1.0\n",
            "local_step=853669, 20_avg_episodic_return=1.0\n",
            "local_step=854260, 20_avg_episodic_return=1.0\n",
            "local_step=854573, 20_avg_episodic_return=1.0\n",
            "local_step=855229, 20_avg_episodic_return=1.0\n",
            "local_step=855794, 20_avg_episodic_return=1.0\n",
            "local_step=856227, 20_avg_episodic_return=1.0\n",
            "local_step=856716, 20_avg_episodic_return=1.0\n",
            "local_step=857189, 20_avg_episodic_return=1.0\n",
            "local_step=857662, 20_avg_episodic_return=1.0\n",
            "local_step=858488, 20_avg_episodic_return=1.0\n",
            "local_step=859033, 20_avg_episodic_return=1.0\n",
            "local_step=859445, 20_avg_episodic_return=1.0\n",
            "local_step=859854, 20_avg_episodic_return=1.0\n",
            "local_step=860504, 20_avg_episodic_return=1.0\n",
            "local_step=860835, 20_avg_episodic_return=1.0\n",
            "local_step=861434, 20_avg_episodic_return=1.0\n",
            "local_step=862029, 20_avg_episodic_return=1.0\n",
            "local_step=862545, 20_avg_episodic_return=1.0\n",
            "local_step=862973, 20_avg_episodic_return=1.0\n",
            "local_step=863495, 20_avg_episodic_return=1.0\n",
            "local_step=864174, 20_avg_episodic_return=1.0\n",
            "local_step=864646, 20_avg_episodic_return=1.0\n",
            "local_step=865049, 20_avg_episodic_return=1.0\n",
            "local_step=865623, 20_avg_episodic_return=1.0\n",
            "local_step=866325, 20_avg_episodic_return=1.0\n",
            "local_step=866893, 20_avg_episodic_return=1.0\n",
            "local_step=867607, 20_avg_episodic_return=1.0\n",
            "local_step=868226, 20_avg_episodic_return=1.0\n",
            "local_step=868698, 20_avg_episodic_return=1.0\n",
            "local_step=869298, 20_avg_episodic_return=1.0\n",
            "local_step=869862, 20_avg_episodic_return=1.0\n",
            "local_step=870517, 20_avg_episodic_return=1.0\n",
            "local_step=870990, 20_avg_episodic_return=1.0\n",
            "local_step=871594, 20_avg_episodic_return=1.0\n",
            "local_step=872115, 20_avg_episodic_return=1.0\n",
            "local_step=872677, 20_avg_episodic_return=1.0\n",
            "local_step=873214, 20_avg_episodic_return=1.0\n",
            "local_step=873671, 20_avg_episodic_return=1.0\n",
            "local_step=874312, 20_avg_episodic_return=1.0\n",
            "local_step=874794, 20_avg_episodic_return=1.0\n",
            "local_step=875281, 20_avg_episodic_return=1.0\n",
            "local_step=875887, 20_avg_episodic_return=1.0\n",
            "local_step=876428, 20_avg_episodic_return=1.0\n",
            "local_step=876833, 20_avg_episodic_return=1.0\n",
            "local_step=877389, 20_avg_episodic_return=1.0\n",
            "local_step=877829, 20_avg_episodic_return=1.0\n",
            "local_step=878588, 20_avg_episodic_return=1.0\n",
            "local_step=879234, 20_avg_episodic_return=1.0\n",
            "local_step=880003, 20_avg_episodic_return=1.0\n",
            "local_step=880691, 20_avg_episodic_return=1.0\n",
            "local_step=881129, 20_avg_episodic_return=1.0\n",
            "local_step=881816, 20_avg_episodic_return=1.0\n",
            "local_step=882480, 20_avg_episodic_return=1.0\n",
            "local_step=882941, 20_avg_episodic_return=1.0\n",
            "local_step=883469, 20_avg_episodic_return=1.0\n",
            "local_step=883895, 20_avg_episodic_return=1.0\n",
            "local_step=884491, 20_avg_episodic_return=1.0\n",
            "local_step=885085, 20_avg_episodic_return=1.0\n",
            "local_step=885697, 20_avg_episodic_return=1.0\n",
            "local_step=886160, 20_avg_episodic_return=1.0\n",
            "local_step=886669, 20_avg_episodic_return=1.0\n",
            "local_step=887233, 20_avg_episodic_return=1.0\n",
            "local_step=887687, 20_avg_episodic_return=1.0\n",
            "local_step=888292, 20_avg_episodic_return=1.0\n",
            "local_step=888859, 20_avg_episodic_return=1.0\n",
            "local_step=889670, 20_avg_episodic_return=1.0\n",
            "local_step=890192, 20_avg_episodic_return=1.0\n",
            "local_step=890558, 20_avg_episodic_return=1.0\n",
            "local_step=891223, 20_avg_episodic_return=1.0\n",
            "local_step=891745, 20_avg_episodic_return=1.0\n",
            "local_step=892261, 20_avg_episodic_return=1.0\n",
            "local_step=892821, 20_avg_episodic_return=1.0\n",
            "local_step=893472, 20_avg_episodic_return=1.0\n",
            "local_step=894266, 20_avg_episodic_return=1.0\n",
            "local_step=894582, 20_avg_episodic_return=1.0\n",
            "local_step=895067, 20_avg_episodic_return=1.0\n",
            "local_step=895405, 20_avg_episodic_return=1.0\n",
            "local_step=896002, 20_avg_episodic_return=1.0\n",
            "local_step=896595, 20_avg_episodic_return=1.0\n",
            "local_step=897197, 20_avg_episodic_return=1.0\n",
            "local_step=897807, 20_avg_episodic_return=1.0\n",
            "local_step=898397, 20_avg_episodic_return=1.0\n",
            "local_step=899070, 20_avg_episodic_return=1.0\n",
            "local_step=899523, 20_avg_episodic_return=1.0\n",
            "local_step=899956, 20_avg_episodic_return=1.0\n",
            "local_step=900709, 20_avg_episodic_return=1.0\n",
            "local_step=901243, 20_avg_episodic_return=1.0\n",
            "local_step=901748, 20_avg_episodic_return=1.0\n",
            "local_step=902303, 20_avg_episodic_return=1.0\n",
            "local_step=902866, 20_avg_episodic_return=1.0\n",
            "local_step=903475, 20_avg_episodic_return=1.0\n",
            "local_step=903948, 20_avg_episodic_return=1.0\n",
            "local_step=904487, 20_avg_episodic_return=1.0\n",
            "local_step=904998, 20_avg_episodic_return=1.0\n",
            "local_step=905398, 20_avg_episodic_return=1.0\n",
            "local_step=906139, 20_avg_episodic_return=1.0\n",
            "local_step=906503, 20_avg_episodic_return=1.0\n",
            "local_step=907235, 20_avg_episodic_return=1.0\n",
            "local_step=907921, 20_avg_episodic_return=1.0\n",
            "local_step=908324, 20_avg_episodic_return=1.0\n",
            "local_step=908731, 20_avg_episodic_return=1.0\n",
            "local_step=909447, 20_avg_episodic_return=1.0\n",
            "local_step=910116, 20_avg_episodic_return=1.0\n",
            "local_step=910576, 20_avg_episodic_return=1.0\n",
            "local_step=910982, 20_avg_episodic_return=1.0\n",
            "local_step=911436, 20_avg_episodic_return=1.0\n",
            "local_step=912002, 20_avg_episodic_return=0.949999988079071\n",
            "local_step=912589, 20_avg_episodic_return=1.0\n",
            "local_step=913084, 20_avg_episodic_return=1.0\n",
            "local_step=913481, 20_avg_episodic_return=1.0\n",
            "local_step=913940, 20_avg_episodic_return=1.0\n",
            "local_step=914463, 20_avg_episodic_return=1.0\n",
            "local_step=915053, 20_avg_episodic_return=1.0\n",
            "local_step=915510, 20_avg_episodic_return=1.0\n",
            "local_step=916173, 20_avg_episodic_return=1.0\n",
            "local_step=916595, 20_avg_episodic_return=1.0\n",
            "local_step=917113, 20_avg_episodic_return=1.0\n",
            "local_step=917579, 20_avg_episodic_return=1.0\n",
            "local_step=918226, 20_avg_episodic_return=1.0\n",
            "local_step=918989, 20_avg_episodic_return=1.0\n",
            "local_step=919408, 20_avg_episodic_return=1.0\n",
            "local_step=919848, 20_avg_episodic_return=1.0\n",
            "local_step=920351, 20_avg_episodic_return=1.0\n",
            "local_step=920914, 20_avg_episodic_return=1.0\n",
            "local_step=921571, 20_avg_episodic_return=1.0\n",
            "local_step=922042, 20_avg_episodic_return=1.0\n",
            "local_step=922503, 20_avg_episodic_return=1.0\n",
            "local_step=922935, 20_avg_episodic_return=1.0\n",
            "local_step=923540, 20_avg_episodic_return=1.0\n",
            "local_step=924168, 20_avg_episodic_return=1.0\n",
            "local_step=924679, 20_avg_episodic_return=1.0\n",
            "local_step=925085, 20_avg_episodic_return=1.0\n",
            "local_step=925674, 20_avg_episodic_return=1.0\n",
            "local_step=926293, 20_avg_episodic_return=1.0\n",
            "local_step=926675, 20_avg_episodic_return=1.0\n",
            "local_step=927050, 20_avg_episodic_return=1.0\n",
            "local_step=927481, 20_avg_episodic_return=1.0\n",
            "local_step=928035, 20_avg_episodic_return=1.0\n",
            "local_step=928734, 20_avg_episodic_return=1.0\n",
            "local_step=929184, 20_avg_episodic_return=1.0\n",
            "local_step=929820, 20_avg_episodic_return=1.0\n",
            "local_step=930388, 20_avg_episodic_return=1.0\n",
            "local_step=930856, 20_avg_episodic_return=1.0\n",
            "local_step=931313, 20_avg_episodic_return=1.0\n",
            "local_step=931923, 20_avg_episodic_return=1.0\n",
            "local_step=932305, 20_avg_episodic_return=1.0\n",
            "local_step=932972, 20_avg_episodic_return=1.0\n",
            "local_step=933549, 20_avg_episodic_return=1.0\n",
            "local_step=934003, 20_avg_episodic_return=1.0\n",
            "local_step=934627, 20_avg_episodic_return=1.0\n",
            "local_step=935070, 20_avg_episodic_return=1.0\n",
            "local_step=935524, 20_avg_episodic_return=1.0\n",
            "local_step=936001, 20_avg_episodic_return=1.0\n",
            "local_step=936531, 20_avg_episodic_return=1.0\n",
            "local_step=937079, 20_avg_episodic_return=1.0\n",
            "local_step=937608, 20_avg_episodic_return=1.0\n",
            "local_step=938227, 20_avg_episodic_return=1.0\n",
            "local_step=938600, 20_avg_episodic_return=1.0\n",
            "local_step=939110, 20_avg_episodic_return=1.0\n",
            "local_step=939609, 20_avg_episodic_return=1.0\n",
            "local_step=940347, 20_avg_episodic_return=1.0\n",
            "local_step=940718, 20_avg_episodic_return=1.0\n",
            "local_step=941225, 20_avg_episodic_return=1.0\n",
            "local_step=941794, 20_avg_episodic_return=1.0\n",
            "local_step=942240, 20_avg_episodic_return=1.0\n",
            "local_step=942826, 20_avg_episodic_return=1.0\n",
            "local_step=943398, 20_avg_episodic_return=1.0\n",
            "local_step=944049, 20_avg_episodic_return=1.0\n",
            "local_step=944484, 20_avg_episodic_return=1.0\n",
            "local_step=944942, 20_avg_episodic_return=1.0\n",
            "local_step=945345, 20_avg_episodic_return=0.949999988079071\n",
            "local_step=945893, 20_avg_episodic_return=1.0\n",
            "local_step=946501, 20_avg_episodic_return=1.0\n",
            "local_step=946998, 20_avg_episodic_return=1.0\n",
            "local_step=947461, 20_avg_episodic_return=1.0\n",
            "local_step=947961, 20_avg_episodic_return=1.0\n",
            "local_step=948456, 20_avg_episodic_return=1.0\n",
            "local_step=949025, 20_avg_episodic_return=1.0\n",
            "local_step=949578, 20_avg_episodic_return=1.0\n",
            "local_step=949968, 20_avg_episodic_return=1.0\n",
            "local_step=950484, 20_avg_episodic_return=1.0\n",
            "local_step=951032, 20_avg_episodic_return=1.0\n",
            "local_step=951578, 20_avg_episodic_return=1.0\n",
            "local_step=951976, 20_avg_episodic_return=1.0\n",
            "local_step=952672, 20_avg_episodic_return=1.0\n",
            "local_step=953191, 20_avg_episodic_return=1.0\n",
            "local_step=953590, 20_avg_episodic_return=1.0\n",
            "local_step=954092, 20_avg_episodic_return=1.0\n",
            "local_step=954666, 20_avg_episodic_return=1.0\n",
            "local_step=955215, 20_avg_episodic_return=1.0\n",
            "local_step=955720, 20_avg_episodic_return=1.0\n",
            "local_step=956406, 20_avg_episodic_return=1.0\n",
            "local_step=957025, 20_avg_episodic_return=1.0\n",
            "local_step=957429, 20_avg_episodic_return=1.0\n",
            "local_step=957758, 20_avg_episodic_return=1.0\n",
            "local_step=958199, 20_avg_episodic_return=1.0\n",
            "local_step=958788, 20_avg_episodic_return=1.0\n",
            "local_step=959389, 20_avg_episodic_return=1.0\n",
            "local_step=959840, 20_avg_episodic_return=1.0\n",
            "local_step=960156, 20_avg_episodic_return=1.0\n",
            "local_step=960923, 20_avg_episodic_return=1.0\n",
            "local_step=961306, 20_avg_episodic_return=1.0\n",
            "local_step=961747, 20_avg_episodic_return=1.0\n",
            "local_step=962160, 20_avg_episodic_return=1.0\n",
            "local_step=962715, 20_avg_episodic_return=1.0\n",
            "local_step=963238, 20_avg_episodic_return=1.0\n",
            "local_step=963801, 20_avg_episodic_return=1.0\n",
            "local_step=964240, 20_avg_episodic_return=1.0\n",
            "local_step=964857, 20_avg_episodic_return=1.0\n",
            "local_step=965288, 20_avg_episodic_return=1.0\n",
            "local_step=965779, 20_avg_episodic_return=1.0\n",
            "local_step=966276, 20_avg_episodic_return=1.0\n",
            "local_step=966643, 20_avg_episodic_return=1.0\n",
            "local_step=967194, 20_avg_episodic_return=1.0\n",
            "local_step=967696, 20_avg_episodic_return=1.0\n",
            "local_step=968201, 20_avg_episodic_return=1.0\n",
            "local_step=968680, 20_avg_episodic_return=1.0\n",
            "local_step=969260, 20_avg_episodic_return=1.0\n",
            "local_step=969650, 20_avg_episodic_return=1.0\n",
            "local_step=970110, 20_avg_episodic_return=1.0\n",
            "local_step=970664, 20_avg_episodic_return=1.0\n",
            "local_step=971065, 20_avg_episodic_return=1.0\n",
            "local_step=971637, 20_avg_episodic_return=1.0\n",
            "local_step=972169, 20_avg_episodic_return=1.0\n",
            "local_step=972531, 20_avg_episodic_return=1.0\n",
            "local_step=973127, 20_avg_episodic_return=1.0\n",
            "local_step=973486, 20_avg_episodic_return=1.0\n",
            "local_step=974013, 20_avg_episodic_return=1.0\n",
            "local_step=974695, 20_avg_episodic_return=1.0\n",
            "local_step=975263, 20_avg_episodic_return=1.0\n",
            "local_step=975718, 20_avg_episodic_return=1.0\n",
            "local_step=976256, 20_avg_episodic_return=1.0\n",
            "local_step=976674, 20_avg_episodic_return=1.0\n",
            "local_step=977007, 20_avg_episodic_return=0.949999988079071\n",
            "local_step=977798, 20_avg_episodic_return=1.0\n",
            "local_step=978318, 20_avg_episodic_return=1.0\n",
            "local_step=978666, 20_avg_episodic_return=1.0\n",
            "local_step=979212, 20_avg_episodic_return=1.0\n",
            "local_step=979613, 20_avg_episodic_return=1.0\n",
            "local_step=980200, 20_avg_episodic_return=1.0\n",
            "local_step=980504, 20_avg_episodic_return=1.0\n",
            "local_step=980980, 20_avg_episodic_return=1.0\n",
            "local_step=981612, 20_avg_episodic_return=1.0\n",
            "local_step=982037, 20_avg_episodic_return=1.0\n",
            "local_step=982414, 20_avg_episodic_return=1.0\n",
            "local_step=982924, 20_avg_episodic_return=1.0\n",
            "local_step=983506, 20_avg_episodic_return=1.0\n",
            "local_step=983898, 20_avg_episodic_return=1.0\n",
            "local_step=984418, 20_avg_episodic_return=1.0\n",
            "local_step=985017, 20_avg_episodic_return=1.0\n",
            "local_step=985466, 20_avg_episodic_return=1.0\n",
            "local_step=985957, 20_avg_episodic_return=1.0\n",
            "local_step=986482, 20_avg_episodic_return=1.0\n",
            "local_step=987116, 20_avg_episodic_return=1.0\n",
            "local_step=987612, 20_avg_episodic_return=1.0\n",
            "local_step=988005, 20_avg_episodic_return=1.0\n",
            "local_step=988468, 20_avg_episodic_return=1.0\n",
            "local_step=988933, 20_avg_episodic_return=1.0\n",
            "local_step=989472, 20_avg_episodic_return=1.0\n",
            "local_step=990104, 20_avg_episodic_return=1.0\n",
            "local_step=990601, 20_avg_episodic_return=1.0\n",
            "local_step=990953, 20_avg_episodic_return=1.0\n",
            "local_step=991532, 20_avg_episodic_return=1.0\n",
            "local_step=991981, 20_avg_episodic_return=1.0\n",
            "local_step=992487, 20_avg_episodic_return=1.0\n",
            "local_step=993043, 20_avg_episodic_return=1.0\n",
            "local_step=993500, 20_avg_episodic_return=1.0\n",
            "local_step=994003, 20_avg_episodic_return=1.0\n",
            "local_step=994546, 20_avg_episodic_return=1.0\n",
            "local_step=995042, 20_avg_episodic_return=1.0\n",
            "local_step=995551, 20_avg_episodic_return=1.0\n",
            "local_step=995956, 20_avg_episodic_return=1.0\n",
            "local_step=996538, 20_avg_episodic_return=1.0\n",
            "local_step=996863, 20_avg_episodic_return=1.0\n",
            "local_step=997495, 20_avg_episodic_return=1.0\n",
            "local_step=998044, 20_avg_episodic_return=1.0\n",
            "local_step=998472, 20_avg_episodic_return=1.0\n",
            "local_step=998983, 20_avg_episodic_return=1.0\n"
          ]
        },
        {
          "output_type": "stream",
          "name": "stderr",
          "text": [
            "/usr/local/lib/python3.11/dist-packages/gymnasium/core.py:311: UserWarning:\n",
            "\n",
            "\u001b[33mWARN: env.gym_env to get variables from other wrappers is deprecated and will be removed in v1.0, to get this variable you can do `env.unwrapped.gym_env` for environment variables or `env.get_wrapper_attr('gym_env')` that will search the reminding wrappers.\u001b[0m\n",
            "\n",
            "WARNING:imageio_ffmpeg:IMAGEIO FFMPEG_WRITER WARNING: input image is not divisible by macro_block_size=16, resizing from (600, 430) to (608, 432) to ensure video compatibility with most codecs and players. To prevent resizing, make your input image divisible by the macro_block_size or set the macro_block_size to 1 (risking incompatibility).\n"
          ]
        },
        {
          "output_type": "stream",
          "name": "stdout",
          "text": [
            "reward: 1.0, steps: 16\n"
          ]
        },
        {
          "output_type": "execute_result",
          "data": {
            "text/plain": [
              "<IPython.core.display.Video object>"
            ],
            "text/html": [
              "<video controls  >\n",
              " <source src=\"data:video/mp4;base64,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\" type=\"video/mp4\">\n",
              " Your browser does not support the video tag.\n",
              " </video>"
            ]
          },
          "metadata": {},
          "execution_count": 12
        }
      ],
      "source": [
        "args.batch_size = int(args.num_envs * args.num_steps)\n",
        "args.minibatch_size = int(args.batch_size // args.num_minibatches)\n",
        "args.num_iterations = args.total_timesteps // args.batch_size\n",
        "run_name = f\"{args.env_id}__ppo__{args.seed}__{int(time.time())}\"\n",
        "\n",
        "writer = SummaryWriter(f\"runs/{run_name}\")\n",
        "writer.add_text(\n",
        "    \"hyperparameters\",\n",
        "    \"|param|value|\\n|-|-|\\n%s\" % (\"\\n\".join([f\"|{key}|{value}|\" for key, value in vars(args).items()])),\n",
        ")\n",
        "\n",
        "# seeding\n",
        "random.seed(args.seed)\n",
        "np.random.seed(args.seed)\n",
        "torch.manual_seed(args.seed)\n",
        "torch.backends.cudnn.deterministic = args.torch_deterministic\n",
        "\n",
        "device = torch.device(\"cuda\" if torch.cuda.is_available() and args.cuda else \"cpu\")\n",
        "env = create_env(args)\n",
        "\n",
        "agent = Agent(env).to(device)\n",
        "\n",
        "trainer = PPOTrainer(args, writer, env, agent, tlol)\n",
        "trainer.train()\n",
        "\n",
        "env.close()\n",
        "writer.close()\n",
        "\n",
        "play(agent, args)\n",
        "Video(\"trajectory.mp4\", embed=True)"
      ]
    },
    {
      "cell_type": "markdown",
      "metadata": {
        "id": "toAh61S-zG0p"
      },
      "source": [
        "### PPO should be able to solve this environment in 1M env steps"
      ]
    },
    {
      "cell_type": "markdown",
      "metadata": {
        "id": "a96Hvv3Hkm9X"
      },
      "source": [
        "# Task 2: Random Network Distillation\n"
      ]
    },
    {
      "cell_type": "markdown",
      "metadata": {
        "id": "TDJRxSCA98ne"
      },
      "source": [
        "\n",
        "## Motivation behind Random Network Distillation\n",
        "\n",
        "Exploitation versus exploration is a critical topic in Reinforcement Learning. We'd like the RL agent to find the best solution as fast as possible. However, in the meantime, committing to solutions too quickly without enough exploration sounds pretty bad, as it could lead to local minima or total failure. Modern RL algorithms that optimize for the best returns can achieve good exploitation quite efficiently, while exploration remains more like an open topic.\n",
        "\n",
        "### Classic exploration strategies\n",
        "\n",
        "As a quick recap, let's first go through several classic exploration algorithms.\n",
        "- Epsilon-greedy: The agent does random exploration occasionally with probability and takes the optimal action most of the time with probability ($1 - \\epsilon$).\n",
        "- Entropy loss term: Add an entropy term $H(\\pi(a|s))$ into the loss function, encouraging the policy to take diverse actions.\n",
        "\n",
        "### The Hard Exploration problem\n",
        "\n",
        "The “hard-exploration” problem refers to exploration in an environment with very sparse or even deceptive rewards. It is difficult because random exploration in such scenarios can rarely discover successful states or obtain meaningful feedback.\n",
        "\n",
        "[Montezuma's Revenge](https://en.wikipedia.org/wiki/Montezuma%27s_Revenge_(video_game)) is a concrete example of the hard-exploration problem. It is one of a few challenging games in Atari for DRL to solve. Many papers use Montezuma's Revenge to benchmark their results.\n",
        "\n",
        "### Intrinsic Rewards as Exploration Bonuses\n",
        "One common approach to better exploration, especially for solving the hard-exploration problem, is to augment the environment reward with an additional bonus signal to encourage extra exploration. The policy is thus trained with a reward composed of two terms $r_t = r_t^e + \\beta r_t^i$, where $\\beta$ is a hyperparameter adjusting the balance between exploitation and exploration.\n",
        "\n",
        "- $r_t^e$ is an extrinsic reward from the environment at time $t$, defined according to the task in hand.\n",
        "- $r_t^i$ is an intrinsic exploration bonus at time $t$.\n",
        "\n",
        "This intrinsic reward is somewhat inspired by intrinsic motivation in psychology (Oudeyer & Kaplan, 2008). Exploration driven by curiosity might be an important way for children to grow and learn. In other words, exploratory activities should be rewarding intrinsically in the human mind to encourage such behavior. The intrinsic rewards could be correlated with curiosity, surprise, familiarity with the state, and many other factors.\n",
        "\n",
        "### Prediction based exploration\n",
        "In this homework, we will focus on intrinsic exploration bonuses rewarded for the improvement of the agent's knowledge about the environment. The agent's familiarity with the environment dynamics can be estimated through a prediction model. This idea of using a prediction model to measure curiosity was actually proposed quite a long time ago (Schmidhuber, 1991).\n",
        "\n",
        "Specifically, we will implement Random Network Distillation (RND; Burda, et al. 2018) which introduces a prediction task <i>independent</i> of the main task. The RND exploration bonus is defined as the error of a neural network $\\hat{f}(s_t)$ predicting features of the observations given by a <i>fixed randomly initialized</i> neural network $f(s_t)$. The motivation is that given a new state, if similar states have been visited many times in the past, the prediction should be easier and thus have lower error. The exploration bonus is\n",
        "$r_i = |\\hat{f}(s_t; \\theta) - f(s_t)|_2^2$\n",
        "\n",
        "![img](https://drive.google.com/uc?export=view&id=1WB_T4kHtaE-oJWR-NedX0Mw-I1It4F31)\n",
        "\n",
        "Two factors are important in RND experiments:\n",
        "\n",
        "1. Non-episodic setting results in better exploration, especially when not using any extrinsic rewards. It means that the return is not truncated at “Game over” and intrinsic return can spread across multiple episodes.\n",
        "2. Normalization is important since the scale of the reward is tricky to adjust given a random neural network as a prediction target. The intrinsic reward is normalized by division by a running estimate of the standard deviations of the intrinsic return.\n",
        "\n",
        "The RND setup works well for resolving the hard-exploration problem. For example, maximizing the RND exploration bonus consistently finds more than half of the rooms in Montezuma's Revenge.\n",
        "\n"
      ]
    },
    {
      "cell_type": "markdown",
      "metadata": {
        "id": "0FNpygVf926p"
      },
      "source": [
        "## Implement RND model class\n",
        "\n",
        "For this task, you need to implement a Random Network Distillation (RND) model, the backbone of curiosity-driven exploration. The model consists of two main components - `target` and `predictor` that <b>should not have shared components</b>! You can use a similar approach for encoding observation as in the Agent. The predictor network is trainable and tries to predict the outputs of the target network, which remains fixed (non-trainable)."
      ]
    },
    {
      "cell_type": "code",
      "execution_count": 17,
      "metadata": {
        "id": "bpiwXBET963j"
      },
      "outputs": [],
      "source": [
        "class RNDModel(nn.Module):\n",
        "    def __init__(self, env):\n",
        "        super().__init__()\n",
        "\n",
        "        self.dtype = pufferlib.pytorch.nativize_dtype(env.emulated)\n",
        "\n",
        "        # Predictor Network\n",
        "        self.predictor_blstats_net = nn.Sequential(\n",
        "            nn.Embedding(256, 32),\n",
        "            nn.Flatten(),\n",
        "        )\n",
        "\n",
        "        self.predictor_char_embed = nn.Embedding(256, 32)\n",
        "        self.predictor_chars_net = nn.Sequential(\n",
        "            layer_init(nn.Conv2d(32, 32, 5, stride=(2, 3))),\n",
        "            nn.ReLU(),\n",
        "            layer_init(nn.Conv2d(32, 64, 5, stride=(1, 3))),\n",
        "            nn.ReLU(),\n",
        "            layer_init(nn.Conv2d(64, 64, 3, stride=1)),\n",
        "            nn.ReLU(),\n",
        "            nn.Flatten(),\n",
        "        )\n",
        "\n",
        "        self.predictor_proj = nn.Linear(864+960, 256)\n",
        "        self.predictor = nn.Sequential(\n",
        "            layer_init(nn.Linear(256, 512)),\n",
        "            nn.ReLU(),\n",
        "            layer_init(nn.Linear(512, 512)),\n",
        "            nn.ReLU(),\n",
        "            layer_init(nn.Linear(512, 512)),\n",
        "        )\n",
        "\n",
        "        # Target Network\n",
        "        self.target_blstats_net = nn.Sequential(\n",
        "            nn.Embedding(256, 32),\n",
        "            nn.Flatten(),\n",
        "        )\n",
        "\n",
        "        self.target_char_embed = nn.Embedding(256, 32)\n",
        "        self.target_chars_net = nn.Sequential(\n",
        "            layer_init(nn.Conv2d(32, 32, 5, stride=(2, 3))),\n",
        "            nn.ReLU(),\n",
        "            layer_init(nn.Conv2d(32, 64, 5, stride=(1, 3))),\n",
        "            nn.ReLU(),\n",
        "            layer_init(nn.Conv2d(64, 64, 3, stride=1)),\n",
        "            nn.ReLU(),\n",
        "            nn.Flatten(),\n",
        "        )\n",
        "\n",
        "        self.target_proj = nn.Linear(864+960, 256)\n",
        "        self.target = nn.Sequential(\n",
        "            layer_init(nn.Linear(256, 512)),\n",
        "        )\n",
        "\n",
        "        # target network is not trainable\n",
        "        for name, param in self.named_parameters():\n",
        "            if name.startswith('target'):\n",
        "                param.requires_grad = False\n",
        "\n",
        "    def encode_predictor(self, x):\n",
        "        x = x.type(torch.uint8)  # Undo bad cleanrl cast\n",
        "        x = pufferlib.pytorch.nativize_tensor(x, self.dtype)\n",
        "\n",
        "        blstats = torch.clip(x['blstats'] + 1, 0, 255).int()\n",
        "        blstats = self.predictor_blstats_net(blstats)\n",
        "\n",
        "        chars = self.predictor_char_embed(x['chars'].int())\n",
        "        chars = torch.permute(chars, (0, 3, 1, 2))\n",
        "        chars = self.predictor_chars_net(chars)\n",
        "\n",
        "        concat = torch.cat([blstats, chars], dim=1)\n",
        "        return self.predictor_proj(concat)\n",
        "\n",
        "    def encode_target(self, x):\n",
        "        x = x.type(torch.uint8)  # Undo bad cleanrl cast\n",
        "        x = pufferlib.pytorch.nativize_tensor(x, self.dtype)\n",
        "\n",
        "        blstats = torch.clip(x['blstats'] + 1, 0, 255).int()\n",
        "        blstats = self.target_blstats_net(blstats)\n",
        "\n",
        "        chars = self.target_char_embed(x['chars'].int())\n",
        "        chars = torch.permute(chars, (0, 3, 1, 2))\n",
        "        chars = self.target_chars_net(chars)\n",
        "\n",
        "        concat = torch.cat([blstats, chars], dim=1)\n",
        "        return self.target_proj(concat)\n",
        "\n",
        "    def forward(self, next_obs):\n",
        "        \"\"\"\n",
        "        Encode observations with `encode_predictor` and `encode_target`.\n",
        "        Infer `predictor` and `target` networks to return their predictions.\n",
        "        \"\"\"\n",
        "        ### BEGIN SOLUTION - RND forward\n",
        "        encoded_predictor = self.encode_predictor(next_obs)\n",
        "        encoded_target = self.encode_target(next_obs)\n",
        "\n",
        "        predict_feature = self.predictor(encoded_predictor)\n",
        "        target_feature = self.target(encoded_target)\n",
        "\n",
        "        ### END SOLUTION\n",
        "        return predict_feature, target_feature\n"
      ]
    },
    {
      "cell_type": "markdown",
      "metadata": {
        "id": "o_kTM_5GlbSw"
      },
      "source": [
        "## RND Trainer"
      ]
    },
    {
      "cell_type": "code",
      "execution_count": 18,
      "metadata": {
        "id": "5WsaVTGOlUzR"
      },
      "outputs": [],
      "source": [
        "class RNDTrainer(PPOTrainer):\n",
        "    def __init__(self, args, writer, env, agent, rnd_model, tlol):\n",
        "        super().__init__(args, writer, env, agent, tlol)\n",
        "        self.rnd_model = rnd_model\n",
        "        self.curiosity_rewards = torch.zeros((self.args.num_steps, self.args.num_envs)).to(self.device)\n",
        "        self.int_values = torch.zeros((self.args.num_steps, self.args.num_envs)).to(self.device)\n",
        "\n",
        "        self.combined_parameters = list(self.agent.parameters()) + list(self.rnd_model.predictor.parameters())\n",
        "        self.optimizer = optim.Adam(\n",
        "            self.combined_parameters,\n",
        "            lr=self.args.learning_rate,\n",
        "            eps=1e-5,\n",
        "        )\n",
        "\n",
        "    def calculate_curiosity_rewards(self, step, next_obs):\n",
        "        \"\"\"\n",
        "        Your task is to implement the computation of curiosity-driven rewards.\n",
        "        Curiosity rewards are used to encourage the agent to explore novel states by quantifying the prediction error\n",
        "        of a Random Network Distillation (RND) model. The larger the prediction error, the more novel the state is\n",
        "        considered, and the higher the reward.\n",
        "\n",
        "        Available Variables:\n",
        "        - `self.obs_rms.mean` (np.Array): The running mean of observations.\n",
        "        - `self.obs_rms.var` (np.Array): The running variance of observations.\n",
        "        - `self.rnd_model(obs)`: A method that takes an observation as input and returns two outputs:\n",
        "            1. `predict_next_feature`: The output of the predictor network.\n",
        "            2. `target_next_feature`: The output of the fixed target network.\n",
        "        - `self.curiosity_rewards`: A tensor where curiosity rewards for each timestep are stored.\n",
        "\n",
        "        Implementation Details:\n",
        "        - Normalize `next_obs` using running mean (`self.obs_rms.mean`) and variance (`self.obs_rms.var`).\n",
        "        Clip normalized values to a range of [-5, 5] for numerical stability.\n",
        "        - Pass the normalized observation (`rnd_next_obs`) through the RND model to obtain `predict_next_feature`\n",
        "        and `target_next_feature`.\n",
        "        - Compute curiosity reward as half of the squared L2 norm of the difference between\n",
        "        `target_next_feature` and `predict_next_feature`.\n",
        "        - Store the computed reward in `self.curiosity_rewards[step]` as a tensor on the `self.device`.\n",
        "        - Other components of the `steps_curiosity_rewards` have to be casted to tensors and put on the `self.device`\n",
        "        \"\"\"\n",
        "        ### BEGIN SOLUTION - RNDT calculate_curiosity_rewards\n",
        "        mean = torch.from_numpy(self.obs_rms.mean).to(self.device)\n",
        "        var = torch.from_numpy(self.obs_rms.var).to(self.device)\n",
        "        normalized_next_obs = (next_obs - mean) / (torch.sqrt(var) + 1e-8)\n",
        "        normalized_next_obs =  torch.clamp(normalized_next_obs, -5, 5)\n",
        "\n",
        "        predict_next_feature, target_next_feature = self.rnd_model(normalized_next_obs)\n",
        "\n",
        "        steps_curiosity_rewards = 0.5 * torch.nn.functional.mse_loss(predict_next_feature, target_next_feature, reduction='none').sum(dim=-1).to(self.device)\n",
        "        steps_curiosity_rewards = steps_curiosity_rewards.detach()\n",
        "        ### END SOLUTION\n",
        "        self.curiosity_rewards[step] = steps_curiosity_rewards\n",
        "\n",
        "\n",
        "    def compute_int_advantages(self, next_obs):\n",
        "        \"\"\"\n",
        "        Your task is to implement the computation of advantages specifically for intrinsic rewards using Generalized Advantage Estimation (GAE).\n",
        "        This method is similar to `compute_advantages`, which you have already seen, but it focuses on intrinsic rewards instead of extrinsic rewards.\n",
        "\n",
        "        Available Variables:\n",
        "        - `self.curiosity_rewards`: A tensor containing intrinsic rewards for each timestep in the trajectory.\n",
        "        - `self.int_values`: A tensor containing value estimates for intrinsic rewards at each timestep.\n",
        "        - `self.agent.get_value(obs)`: A method that returns value estimates; the second output corresponds to intrinsic values.\n",
        "        - `self.args.int_gamma`: The discount factor for intrinsic rewards.\n",
        "        - `self.args.gae_lambda`: The GAE lambda parameter.\n",
        "\n",
        "        Notes:\n",
        "        - Intrinsic rewards do not depend on terminal states\n",
        "        - Solution will be very similar to `PPOTrainer.compute_advantages` with variables from the `self.RNDTrainer`\n",
        "        \"\"\"\n",
        "\n",
        "\n",
        "        with torch.no_grad():\n",
        "            ### BEGIN SOLUTION - RNDT compute_int_advantages\n",
        "            _, next_value_int = self.agent.get_value(next_obs)\n",
        "            next_value_int = next_value_int.reshape(1, -1)\n",
        "\n",
        "            int_advantages = torch.zeros_like(self.curiosity_rewards, device=self.device)\n",
        "            int_lastgaelam = 0\n",
        "\n",
        "            for t in reversed(range(self.args.num_steps)):\n",
        "                if t == self.args.num_steps - 1:\n",
        "                    int_nextvalues = next_value_int\n",
        "                else:\n",
        "                    int_nextvalues = self.int_values[t + 1]\n",
        "\n",
        "                int_delta = (self.curiosity_rewards[t] + self.args.int_gamma * int_nextvalues - self.int_values[t])\n",
        "                int_advantages[t] = int_lastgaelam = (int_delta + self.args.int_gamma * self.args.gae_lambda * int_lastgaelam)\n",
        "\n",
        "            ### END SOLUTION\n",
        "        return int_advantages\n",
        "\n",
        "    def compute_rnd_loss(self, rnd_next_obs):\n",
        "        \"\"\"\n",
        "        Your task is to implement the computation of the RND loss.\n",
        "\n",
        "        Available Variables and Methods:\n",
        "        - `self.rnd_model(obs)`: A method that takes an observation as input and returns two outputs:\n",
        "            1. `predict_next_state_feature`: The output of the predictor network.\n",
        "            2. `target_next_state_feature`: The output of the fixed target network.\n",
        "        - `F.mse_loss`: A PyTorch function to compute mean squared error.\n",
        "        - `self.args.update_proportion`: A float value indicating the proportion of samples to use for updating.\n",
        "        - `self.device`: The device (CPU or GPU) on which computations are performed.\n",
        "\n",
        "        Implementation Details:\n",
        "        - Compute the forward loss as the mean squared error between `predict_next_state_feature` and `target_next_state_feature`.\n",
        "        Ensure that gradients are not computed for the target network by detaching it.\n",
        "        - Create a random mask to select a subset of samples based on `self.args.update_proportion`.\n",
        "        Use this mask to filter which samples contribute to the loss.\n",
        "        - Normalize the loss by dividing by the sum of masked elements, ensuring numerical stability by handling cases where\n",
        "        no elements are selected.\n",
        "        \"\"\"\n",
        "\n",
        "        ### BEGIN SOLUTION - RNDT compute_rnd_loss\n",
        "        predict_next_state_feature, target_next_state_feature = self.rnd_model(rnd_next_obs)\n",
        "\n",
        "        target_next_state_feature = target_next_state_feature.detach()\n",
        "\n",
        "        forward_loss = torch.nn.functional.mse_loss(predict_next_state_feature, target_next_state_feature, reduction='none')\n",
        "        forward_loss = forward_loss.mean(dim=1)\n",
        "\n",
        "        mask = torch.rand(forward_loss.size(0), device=self.device) < self.args.update_proportion\n",
        "\n",
        "        if mask.sum() > 0:\n",
        "            forward_loss = (forward_loss * mask.float()).sum() / mask.sum().float()\n",
        "        else:\n",
        "            forward_loss = torch.tensor(0.0, device=self.device)\n",
        "        ### END SOLUTION\n",
        "        return forward_loss\n",
        "\n",
        "    def train(self):\n",
        "        # ALGO Logic: Storage setup\n",
        "        avg_returns = deque(maxlen=self.av_er_interval)\n",
        "        avg_curiosity_reward = deque(maxlen=self.av_er_interval)\n",
        "\n",
        "        # start the game\n",
        "        global_step = 0\n",
        "        start_time = time.time()\n",
        "        next_obs = torch.Tensor(self.env.reset()[0]).to(self.device)\n",
        "        next_done = torch.zeros(self.args.num_envs).to(self.device)\n",
        "        next_time_out = torch.zeros(self.args.num_envs).to(self.device)\n",
        "        num_updates = self.args.total_timesteps // self.args.batch_size\n",
        "\n",
        "        reward_rms = RunningMeanStd()\n",
        "        self.obs_rms = RunningMeanStd(shape=(1,) + self.env.single_observation_space.shape)\n",
        "        discounted_reward = RewardForwardFilter(self.args.int_gamma)\n",
        "\n",
        "        print(\"Start to initialize observation normalization parameter.....\")\n",
        "        next_ob = []\n",
        "        for step in range(self.args.num_steps * self.args.num_iterations_obs_norm_init):\n",
        "            acs = np.random.randint(0, self.env.single_action_space.n, size=(self.args.num_envs,))\n",
        "            o, r, te, tr, _ = self.env.step(acs)\n",
        "            next_ob += o.tolist()\n",
        "\n",
        "            if len(next_ob) % (self.args.num_steps * self.args.num_envs) == 0:\n",
        "                next_ob = np.stack(next_ob)\n",
        "                self.obs_rms.update(next_ob)\n",
        "                next_ob = []\n",
        "        print(\"End to initialize...\")\n",
        "\n",
        "        for update in range(1, num_updates + 1):\n",
        "            # Annealing the rate if instructed to do so.\n",
        "            if self.args.anneal_lr:\n",
        "                frac = 1.0 - (update - 1.0) / num_updates\n",
        "                lrnow = frac * self.args.learning_rate\n",
        "                self.optimizer.param_groups[0][\"lr\"] = lrnow\n",
        "\n",
        "            for step in range(0, self.args.num_steps):\n",
        "                global_step += 1 * self.args.num_envs\n",
        "                self.obs[step] = next_obs\n",
        "                self.dones[step] = next_done\n",
        "                self.time_outs[step] = next_time_out\n",
        "\n",
        "                # ALGO LOGIC: action logic\n",
        "                with torch.no_grad():\n",
        "                    value_ext, value_int = self.agent.get_value(self.obs[step])\n",
        "                    self.ext_values[step], self.int_values[step] = (\n",
        "                        value_ext.flatten(),\n",
        "                        value_int.flatten(),\n",
        "                    )\n",
        "                    action, logprob, _, _, _ = self.agent.get_action_and_value(self.obs[step])\n",
        "\n",
        "                self.actions[step] = action\n",
        "                self.logprobs[step] = logprob\n",
        "\n",
        "                # execute the game and log data.\n",
        "                next_obs, reward, terminated, truncated, info = self.env.step(action.cpu().numpy())\n",
        "                self.rewards[step] = torch.tensor(reward).to(self.device).view(-1)\n",
        "                next_obs = torch.Tensor(next_obs).to(self.device)\n",
        "                next_done = torch.Tensor(terminated).to(self.device)\n",
        "                next_time_out = torch.Tensor(truncated).to(self.device)\n",
        "\n",
        "                self.calculate_curiosity_rewards(step, next_obs)\n",
        "                local_step = global_step - 1 * self.args.num_envs\n",
        "                for idx, d in enumerate(terminated | truncated):\n",
        "                    local_step+=1\n",
        "                    if d:\n",
        "                        avg_returns.append(info[\"r\"][idx])\n",
        "                        avg_curiosity_reward.append(np.mean(self.curiosity_rewards[step].cpu().numpy()))\n",
        "                        epi_ret = np.average(avg_returns)\n",
        "                        epi_cr = np.average(avg_curiosity_reward)\n",
        "                        epi_suc = np.average([1 if r > 0 else 0 for r in avg_returns])\n",
        "                        if self.er_counter >= self.av_er_interval:\n",
        "                            self.er_counter = 0\n",
        "                            print(\n",
        "                                f\"step={local_step}, {self.av_er_interval}_avg_episodic_return={epi_ret}, curiosity_reward={epi_cr}\"\n",
        "                            )\n",
        "                            tlol.plot_rnd_er(epi_ret, epi_cr, local_step)\n",
        "                        else:\n",
        "                            self.er_counter += 1\n",
        "\n",
        "                        self.writer.add_scalar(\"charts/avg_success_rate\", epi_suc, local_step)\n",
        "                        self.writer.add_scalar(\"charts/avg_episodic_return\", epi_ret, local_step)\n",
        "                        self.writer.add_scalar(\"charts/episodic_return\", info[\"r\"][idx], local_step)\n",
        "                        self.writer.add_scalar(\n",
        "                            \"charts/episode_curiosity_reward\",\n",
        "                            self.curiosity_rewards[step][idx],\n",
        "                            local_step,\n",
        "                        )\n",
        "                        self.writer.add_scalar(\"charts/episodic_length\", info[\"l\"][idx], local_step)\n",
        "\n",
        "            curiosity_reward_per_env = np.array(\n",
        "                [discounted_reward.update(reward_per_step) for reward_per_step in self.curiosity_rewards.cpu().data.numpy().T]\n",
        "            )\n",
        "            mean, std, count = (\n",
        "                np.mean(curiosity_reward_per_env),\n",
        "                np.std(curiosity_reward_per_env),\n",
        "                len(curiosity_reward_per_env),\n",
        "            )\n",
        "            reward_rms.update_from_moments(mean, std**2, count)\n",
        "\n",
        "            self.curiosity_rewards /= np.sqrt(reward_rms.var)\n",
        "\n",
        "            if self.args.value_bootstrap:\n",
        "                # Value bootstrapping is a technique that reduces the surprise for the critic in case\n",
        "                # we're ending the episode by timeout. Intuitively, in this case the cumulative return for the last step\n",
        "                # should not be zero, but rather what the critic expects. This improves learning in many envs\n",
        "                # because otherwise the critic cannot predict the abrupt change in rewards in a timed-out episode.\n",
        "                # What we really want here is v(t+1) which we don't have because we don't have obs(t+1) (since\n",
        "                # the episode ended). Using v(t) is an approximation that requires that rew(t) can be generally ignored.\n",
        "                self.rewards.add_(self.args.gamma * self.ext_values * self.time_outs)\n",
        "                self.curiosity_rewards.add_(self.args.int_gamma * self.int_values * self.time_outs)\n",
        "\n",
        "            # bootstrap value if not done\n",
        "            with torch.no_grad():\n",
        "                ext_advantages = self.compute_advantages(next_obs, next_done)\n",
        "                int_advantages = self.compute_int_advantages(next_obs)\n",
        "                ext_returns = ext_advantages + self.ext_values\n",
        "                int_returns = int_advantages + self.int_values\n",
        "\n",
        "            # flatten the batch\n",
        "            b_obs = self.obs.reshape((-1,) + self.env.single_observation_space.shape)\n",
        "            b_logprobs = self.logprobs.reshape(-1)\n",
        "            b_actions = self.actions.reshape(-1)\n",
        "            b_ext_advantages = ext_advantages.reshape(-1)\n",
        "            b_int_advantages = int_advantages.reshape(-1)\n",
        "            b_ext_returns = ext_returns.reshape(-1)\n",
        "            b_int_returns = int_returns.reshape(-1)\n",
        "            b_ext_values = self.ext_values.reshape(-1)\n",
        "\n",
        "            b_advantages = b_int_advantages * self.args.int_coef + b_ext_advantages * self.args.ext_coef\n",
        "\n",
        "            self.obs_rms.update(b_obs.cpu().numpy())\n",
        "\n",
        "            # Optimizing the policy and value network\n",
        "            b_inds = np.arange(self.args.batch_size)\n",
        "\n",
        "            rnd_next_obs = (\n",
        "                (\n",
        "                    (b_obs - torch.from_numpy(self.obs_rms.mean).to(self.device))\n",
        "                    / torch.sqrt(torch.from_numpy(self.obs_rms.var).to(self.device))\n",
        "                ).clip(-5, 5)\n",
        "            ).float()\n",
        "\n",
        "            clipfracs = []\n",
        "            for epoch in range(self.args.update_epochs):\n",
        "                np.random.shuffle(b_inds)\n",
        "                for start in range(0, self.args.batch_size, self.args.minibatch_size):\n",
        "                    end = start + self.args.minibatch_size\n",
        "                    mb_inds = b_inds[start:end]\n",
        "\n",
        "                    # Forward loss\n",
        "                    forward_loss = self.compute_rnd_loss(rnd_next_obs[mb_inds])\n",
        "\n",
        "                    _, newlogprob, entropy, new_ext_values, new_int_values = self.agent.get_action_and_value(\n",
        "                        b_obs[mb_inds], b_actions.long()[mb_inds]\n",
        "                    )\n",
        "                    logratio = newlogprob - b_logprobs[mb_inds]\n",
        "                    ratio = logratio.exp()\n",
        "\n",
        "                    with torch.no_grad():\n",
        "                        # calculate approx_kl http://joschu.net/blog/kl-approx.html\n",
        "                        old_approx_kl = (-logratio).mean()\n",
        "                        approx_kl = ((ratio - 1) - logratio).mean()\n",
        "                        clipfracs += [((ratio - 1.0).abs() > self.args.clip_coef).float().mean().item()]\n",
        "\n",
        "                    mb_advantages = b_advantages[mb_inds]\n",
        "                    if self.args.norm_adv:\n",
        "                        mb_advantages = (mb_advantages - mb_advantages.mean()) / (mb_advantages.std() + 1e-8)\n",
        "\n",
        "                    # Policy loss\n",
        "                    pg_loss = self.compute_policy_loss(mb_advantages, ratio)\n",
        "\n",
        "                    # Value loss\n",
        "                    ext_v_loss = self.compute_value_loss(new_ext_values, b_ext_returns[mb_inds])\n",
        "                    int_v_loss = self.compute_value_loss(new_int_values, b_int_returns[mb_inds])\n",
        "                    v_loss = ext_v_loss + int_v_loss\n",
        "\n",
        "                    # Entropy loss\n",
        "                    entropy_loss = entropy.mean()\n",
        "                    loss = pg_loss - self.args.ent_coef * entropy_loss + v_loss * self.args.vf_coef + self.args.forward_coef * forward_loss\n",
        "\n",
        "                    self.optimizer.zero_grad()\n",
        "                    loss.backward()\n",
        "                    if self.args.max_grad_norm:\n",
        "                        nn.utils.clip_grad_norm_(\n",
        "                            self.combined_parameters,\n",
        "                            self.args.max_grad_norm,\n",
        "                        )\n",
        "                    self.optimizer.step()\n",
        "\n",
        "                if self.args.target_kl is not None:\n",
        "                    if approx_kl > self.args.target_kl:\n",
        "                        break\n",
        "\n",
        "            # record rewards for plotting purposes\n",
        "            self.writer.add_scalar(\"charts/learning_rate\", self.optimizer.param_groups[0][\"lr\"], global_step)\n",
        "            self.writer.add_scalar(\"losses/value_loss\", v_loss.item(), global_step)\n",
        "            self.writer.add_scalar(\"losses/policy_loss\", pg_loss.item(), global_step)\n",
        "            self.writer.add_scalar(\"losses/entropy\", entropy_loss.item(), global_step)\n",
        "            self.tlol.plot_rnd_loss(entropy_loss.item(), global_step)\n",
        "            self.writer.add_scalar(\"losses/old_approx_kl\", old_approx_kl.item(), global_step)\n",
        "            self.writer.add_scalar(\"losses/fwd_loss\", forward_loss.item(), global_step)\n",
        "            self.writer.add_scalar(\"losses/approx_kl\", approx_kl.item(), global_step)\n",
        "            # print(\"SPS:\", int(global_step / (time.time() - start_time))) # Uncomment if you want to estimate your training speed - should be around 500 steps per second on Colab\n",
        "            self.tlol.plot_rnd_sps(int(global_step / (time.time() - start_time)), global_step)\n",
        "            self.writer.add_scalar(\"charts/SPS\", int(global_step / (time.time() - start_time)), global_step)\n"
      ]
    },
    {
      "cell_type": "code",
      "execution_count": 19,
      "metadata": {
        "id": "EYPdWbWkxV7C"
      },
      "outputs": [],
      "source": [
        "args = Args(\n",
        "    num_steps=32,\n",
        "    num_workers=8,\n",
        "    num_envs=128,\n",
        "    env_id=\"MiniHack-KeyRoom-S5-v0\",\n",
        "    total_timesteps=1_000_000,\n",
        "    forward_coef=0.1,\n",
        "    int_coef=0.1,\n",
        "    num_iterations_obs_norm_init=50,\n",
        ")"
      ]
    },
    {
      "cell_type": "code",
      "execution_count": 20,
      "metadata": {
        "colab": {
          "base_uri": "https://localhost:8080/",
          "height": 1000
        },
        "id": "xkxj0g3vxcEX",
        "outputId": "64cacb32-a261-41e2-b6ce-919a14a4c3d6"
      },
      "outputs": [
        {
          "output_type": "stream",
          "name": "stdout",
          "text": [
            "Start to initialize observation normalization parameter.....\n",
            "End to initialize...\n",
            "step=803, 20_avg_episodic_return=0.0, curiosity_reward=177.4665985107422\n",
            "step=853, 20_avg_episodic_return=0.0, curiosity_reward=181.0225372314453\n",
            "step=895, 20_avg_episodic_return=0.0, curiosity_reward=181.0225372314453\n",
            "step=11057, 20_avg_episodic_return=0.25, curiosity_reward=43.91810989379883\n",
            "step=18786, 20_avg_episodic_return=0.20000000298023224, curiosity_reward=4.477084636688232\n",
            "step=23059, 20_avg_episodic_return=0.20000000298023224, curiosity_reward=4.396477699279785\n",
            "step=26501, 20_avg_episodic_return=0.15000000596046448, curiosity_reward=6.794217586517334\n",
            "step=26555, 20_avg_episodic_return=0.0, curiosity_reward=20.217092514038086\n",
            "step=26605, 20_avg_episodic_return=0.0, curiosity_reward=20.217092514038086\n",
            "step=34650, 20_avg_episodic_return=0.20000000298023224, curiosity_reward=7.739102840423584\n",
            "step=41580, 20_avg_episodic_return=0.4000000059604645, curiosity_reward=2.960676908493042\n",
            "step=46646, 20_avg_episodic_return=0.30000001192092896, curiosity_reward=2.7991652488708496\n",
            "step=49614, 20_avg_episodic_return=0.3499999940395355, curiosity_reward=2.8211262226104736\n",
            "step=52238, 20_avg_episodic_return=0.30000001192092896, curiosity_reward=3.4305756092071533\n",
            "step=52311, 20_avg_episodic_return=0.0, curiosity_reward=4.916842460632324\n",
            "step=55353, 20_avg_episodic_return=0.10000000149011612, curiosity_reward=4.0142011642456055\n",
            "step=62268, 20_avg_episodic_return=0.3499999940395355, curiosity_reward=1.9861154556274414\n",
            "step=68565, 20_avg_episodic_return=0.44999998807907104, curiosity_reward=1.7100276947021484\n",
            "step=73260, 20_avg_episodic_return=0.20000000298023224, curiosity_reward=1.6110318899154663\n",
            "step=75737, 20_avg_episodic_return=0.20000000298023224, curiosity_reward=1.6003490686416626\n",
            "step=77987, 20_avg_episodic_return=0.15000000596046448, curiosity_reward=1.6216678619384766\n",
            "step=78076, 20_avg_episodic_return=0.0, curiosity_reward=1.522510051727295\n",
            "step=84481, 20_avg_episodic_return=0.3499999940395355, curiosity_reward=1.5907270908355713\n",
            "step=90223, 20_avg_episodic_return=0.30000001192092896, curiosity_reward=1.3692528009414673\n",
            "step=94326, 20_avg_episodic_return=0.4000000059604645, curiosity_reward=1.3042089939117432\n",
            "step=99044, 20_avg_episodic_return=0.15000000596046448, curiosity_reward=1.2597242593765259\n",
            "step=101465, 20_avg_episodic_return=0.20000000298023224, curiosity_reward=1.281994342803955\n",
            "step=103717, 20_avg_episodic_return=0.10000000149011612, curiosity_reward=1.1587146520614624\n",
            "step=105171, 20_avg_episodic_return=0.15000000596046448, curiosity_reward=1.101818323135376\n",
            "step=110268, 20_avg_episodic_return=0.5, curiosity_reward=1.1198937892913818\n",
            "step=115392, 20_avg_episodic_return=0.5, curiosity_reward=1.0577127933502197\n",
            "step=118088, 20_avg_episodic_return=0.5, curiosity_reward=1.0116784572601318\n",
            "step=122877, 20_avg_episodic_return=0.3499999940395355, curiosity_reward=1.0046250820159912\n",
            "step=125536, 20_avg_episodic_return=0.15000000596046448, curiosity_reward=0.9426158666610718\n",
            "step=129039, 20_avg_episodic_return=0.3499999940395355, curiosity_reward=0.9019209742546082\n",
            "step=131253, 20_avg_episodic_return=0.20000000298023224, curiosity_reward=0.8612282872200012\n",
            "step=135996, 20_avg_episodic_return=0.4000000059604645, curiosity_reward=0.8344056010246277\n",
            "step=140168, 20_avg_episodic_return=0.4000000059604645, curiosity_reward=0.7996383309364319\n",
            "step=143024, 20_avg_episodic_return=0.5, curiosity_reward=0.8053197860717773\n",
            "step=146240, 20_avg_episodic_return=0.4000000059604645, curiosity_reward=0.7630009055137634\n",
            "step=149996, 20_avg_episodic_return=0.5, curiosity_reward=0.9379903674125671\n",
            "step=152068, 20_avg_episodic_return=0.30000001192092896, curiosity_reward=1.1454755067825317\n",
            "step=155173, 20_avg_episodic_return=0.30000001192092896, curiosity_reward=0.9890798330307007\n",
            "step=158746, 20_avg_episodic_return=0.550000011920929, curiosity_reward=0.9724025726318359\n",
            "step=161007, 20_avg_episodic_return=0.550000011920929, curiosity_reward=0.9457435607910156\n",
            "step=165178, 20_avg_episodic_return=0.6499999761581421, curiosity_reward=0.8805338740348816\n",
            "step=168716, 20_avg_episodic_return=0.3499999940395355, curiosity_reward=0.8480226397514343\n",
            "step=171655, 20_avg_episodic_return=0.4000000059604645, curiosity_reward=0.8265761137008667\n",
            "step=174984, 20_avg_episodic_return=0.550000011920929, curiosity_reward=0.8295313119888306\n",
            "step=177681, 20_avg_episodic_return=0.3499999940395355, curiosity_reward=0.8175164461135864\n",
            "step=180690, 20_avg_episodic_return=0.3499999940395355, curiosity_reward=0.8002002835273743\n",
            "step=184412, 20_avg_episodic_return=0.5, curiosity_reward=0.7921673059463501\n",
            "step=186436, 20_avg_episodic_return=0.5, curiosity_reward=0.8221781849861145\n",
            "step=191386, 20_avg_episodic_return=0.5, curiosity_reward=0.8220181465148926\n",
            "step=194001, 20_avg_episodic_return=0.44999998807907104, curiosity_reward=0.7724916934967041\n",
            "step=196780, 20_avg_episodic_return=0.44999998807907104, curiosity_reward=0.7225536108016968\n",
            "step=200489, 20_avg_episodic_return=0.6499999761581421, curiosity_reward=0.7109085321426392\n",
            "step=203002, 20_avg_episodic_return=0.6000000238418579, curiosity_reward=0.7165197134017944\n",
            "step=205780, 20_avg_episodic_return=0.4000000059604645, curiosity_reward=0.6893938183784485\n",
            "step=208190, 20_avg_episodic_return=0.6000000238418579, curiosity_reward=0.668676495552063\n",
            "step=210671, 20_avg_episodic_return=0.5, curiosity_reward=0.646156907081604\n",
            "step=213277, 20_avg_episodic_return=0.44999998807907104, curiosity_reward=0.6206773519515991\n",
            "step=215491, 20_avg_episodic_return=0.75, curiosity_reward=0.6031880378723145\n",
            "step=219380, 20_avg_episodic_return=0.550000011920929, curiosity_reward=0.5801510810852051\n",
            "step=221347, 20_avg_episodic_return=0.6000000238418579, curiosity_reward=0.5721601247787476\n",
            "step=224664, 20_avg_episodic_return=0.75, curiosity_reward=0.5962962508201599\n",
            "step=227316, 20_avg_episodic_return=0.75, curiosity_reward=0.6243741512298584\n",
            "step=229398, 20_avg_episodic_return=0.699999988079071, curiosity_reward=0.6170493960380554\n",
            "step=232212, 20_avg_episodic_return=0.550000011920929, curiosity_reward=0.6046004295349121\n",
            "step=234688, 20_avg_episodic_return=0.550000011920929, curiosity_reward=0.5649130344390869\n",
            "step=237102, 20_avg_episodic_return=0.699999988079071, curiosity_reward=0.556216299533844\n",
            "step=239211, 20_avg_episodic_return=0.800000011920929, curiosity_reward=0.5735379457473755\n",
            "step=241435, 20_avg_episodic_return=0.550000011920929, curiosity_reward=0.5807018280029297\n",
            "step=243805, 20_avg_episodic_return=0.6499999761581421, curiosity_reward=0.5587485432624817\n",
            "step=245457, 20_avg_episodic_return=0.8500000238418579, curiosity_reward=0.6054497957229614\n",
            "step=248188, 20_avg_episodic_return=0.6499999761581421, curiosity_reward=0.5582934617996216\n",
            "step=251102, 20_avg_episodic_return=0.6000000238418579, curiosity_reward=0.5428427457809448\n",
            "step=253655, 20_avg_episodic_return=0.800000011920929, curiosity_reward=0.5512650609016418\n",
            "step=255252, 20_avg_episodic_return=0.550000011920929, curiosity_reward=0.5446286201477051\n",
            "step=258580, 20_avg_episodic_return=0.699999988079071, curiosity_reward=0.5146925449371338\n",
            "step=261382, 20_avg_episodic_return=0.75, curiosity_reward=0.5117682218551636\n",
            "step=262983, 20_avg_episodic_return=0.699999988079071, curiosity_reward=0.5487724542617798\n",
            "step=264831, 20_avg_episodic_return=0.6499999761581421, curiosity_reward=0.5978851318359375\n",
            "step=267116, 20_avg_episodic_return=0.6000000238418579, curiosity_reward=0.5837945938110352\n",
            "step=269147, 20_avg_episodic_return=0.75, curiosity_reward=0.618287980556488\n",
            "step=270531, 20_avg_episodic_return=0.8500000238418579, curiosity_reward=0.6137804985046387\n",
            "step=272274, 20_avg_episodic_return=0.800000011920929, curiosity_reward=0.5618823766708374\n",
            "step=274654, 20_avg_episodic_return=0.75, curiosity_reward=0.5634191632270813\n",
            "step=276295, 20_avg_episodic_return=0.8500000238418579, curiosity_reward=0.5675753951072693\n",
            "step=278391, 20_avg_episodic_return=0.800000011920929, curiosity_reward=0.5498594045639038\n",
            "step=279820, 20_avg_episodic_return=0.8500000238418579, curiosity_reward=0.5164824724197388\n",
            "step=281300, 20_avg_episodic_return=0.699999988079071, curiosity_reward=0.533746063709259\n",
            "step=283772, 20_avg_episodic_return=1.0, curiosity_reward=0.5220580697059631\n",
            "step=285534, 20_avg_episodic_return=0.8500000238418579, curiosity_reward=0.533997118473053\n",
            "step=287319, 20_avg_episodic_return=0.8500000238418579, curiosity_reward=0.5642067193984985\n",
            "step=288785, 20_avg_episodic_return=0.800000011920929, curiosity_reward=0.5286034345626831\n",
            "step=290754, 20_avg_episodic_return=0.75, curiosity_reward=0.522426962852478\n",
            "step=293394, 20_avg_episodic_return=0.8999999761581421, curiosity_reward=0.5088192820549011\n",
            "step=294875, 20_avg_episodic_return=0.8500000238418579, curiosity_reward=0.5203646421432495\n",
            "step=296868, 20_avg_episodic_return=0.6499999761581421, curiosity_reward=0.49782735109329224\n",
            "step=298652, 20_avg_episodic_return=0.949999988079071, curiosity_reward=0.5116738677024841\n",
            "step=300571, 20_avg_episodic_return=0.8500000238418579, curiosity_reward=0.5220867991447449\n",
            "step=302459, 20_avg_episodic_return=0.75, curiosity_reward=0.525596022605896\n",
            "step=303932, 20_avg_episodic_return=0.949999988079071, curiosity_reward=0.529962420463562\n",
            "step=305360, 20_avg_episodic_return=0.800000011920929, curiosity_reward=0.5424948930740356\n",
            "step=306816, 20_avg_episodic_return=0.75, curiosity_reward=0.5103456377983093\n",
            "step=308479, 20_avg_episodic_return=0.8500000238418579, curiosity_reward=0.5200703144073486\n",
            "step=309961, 20_avg_episodic_return=0.949999988079071, curiosity_reward=0.4921809732913971\n",
            "step=312217, 20_avg_episodic_return=0.8999999761581421, curiosity_reward=0.4572005867958069\n",
            "step=313308, 20_avg_episodic_return=0.699999988079071, curiosity_reward=0.4666156768798828\n",
            "step=315005, 20_avg_episodic_return=0.8999999761581421, curiosity_reward=0.47748756408691406\n",
            "step=316328, 20_avg_episodic_return=0.8999999761581421, curiosity_reward=0.47238343954086304\n",
            "step=318432, 20_avg_episodic_return=0.8500000238418579, curiosity_reward=0.45898494124412537\n",
            "step=319819, 20_avg_episodic_return=1.0, curiosity_reward=0.501130223274231\n",
            "step=322017, 20_avg_episodic_return=0.949999988079071, curiosity_reward=0.471276193857193\n",
            "step=323478, 20_avg_episodic_return=1.0, curiosity_reward=0.5001164674758911\n",
            "step=325349, 20_avg_episodic_return=0.8500000238418579, curiosity_reward=0.47912177443504333\n",
            "step=326890, 20_avg_episodic_return=0.949999988079071, curiosity_reward=0.47913044691085815\n",
            "step=328154, 20_avg_episodic_return=0.8999999761581421, curiosity_reward=0.5079319477081299\n",
            "step=329426, 20_avg_episodic_return=1.0, curiosity_reward=0.48914551734924316\n",
            "step=331135, 20_avg_episodic_return=0.949999988079071, curiosity_reward=0.48145389556884766\n",
            "step=332782, 20_avg_episodic_return=0.8999999761581421, curiosity_reward=0.5165718793869019\n",
            "step=333705, 20_avg_episodic_return=0.949999988079071, curiosity_reward=0.525534451007843\n",
            "step=334787, 20_avg_episodic_return=0.8999999761581421, curiosity_reward=0.5225555300712585\n",
            "step=336576, 20_avg_episodic_return=0.8500000238418579, curiosity_reward=0.5161950588226318\n",
            "step=337950, 20_avg_episodic_return=1.0, curiosity_reward=0.5224646329879761\n",
            "step=339181, 20_avg_episodic_return=0.8500000238418579, curiosity_reward=0.512095034122467\n",
            "step=340557, 20_avg_episodic_return=0.949999988079071, curiosity_reward=0.49293461441993713\n",
            "step=341867, 20_avg_episodic_return=0.949999988079071, curiosity_reward=0.49759650230407715\n",
            "step=343215, 20_avg_episodic_return=0.949999988079071, curiosity_reward=0.4939241409301758\n",
            "step=344674, 20_avg_episodic_return=0.949999988079071, curiosity_reward=0.47916021943092346\n",
            "step=346011, 20_avg_episodic_return=1.0, curiosity_reward=0.4978347420692444\n",
            "step=347254, 20_avg_episodic_return=0.949999988079071, curiosity_reward=0.4959077835083008\n",
            "step=348465, 20_avg_episodic_return=1.0, curiosity_reward=0.49478015303611755\n",
            "step=349964, 20_avg_episodic_return=1.0, curiosity_reward=0.4785629212856293\n",
            "step=351161, 20_avg_episodic_return=1.0, curiosity_reward=0.47140583395957947\n",
            "step=352618, 20_avg_episodic_return=0.8500000238418579, curiosity_reward=0.45754367113113403\n",
            "step=354270, 20_avg_episodic_return=0.949999988079071, curiosity_reward=0.44117242097854614\n",
            "step=355125, 20_avg_episodic_return=0.949999988079071, curiosity_reward=0.4765687882900238\n",
            "step=356301, 20_avg_episodic_return=0.949999988079071, curiosity_reward=0.4775985777378082\n",
            "step=357733, 20_avg_episodic_return=1.0, curiosity_reward=0.4629193842411041\n",
            "step=358661, 20_avg_episodic_return=0.8999999761581421, curiosity_reward=0.48413991928100586\n",
            "step=359635, 20_avg_episodic_return=0.8999999761581421, curiosity_reward=0.5075543522834778\n",
            "step=360713, 20_avg_episodic_return=1.0, curiosity_reward=0.4962819218635559\n",
            "step=361835, 20_avg_episodic_return=0.8500000238418579, curiosity_reward=0.45843029022216797\n",
            "step=363208, 20_avg_episodic_return=1.0, curiosity_reward=0.4396572709083557\n",
            "step=364686, 20_avg_episodic_return=0.949999988079071, curiosity_reward=0.4418669641017914\n",
            "step=365891, 20_avg_episodic_return=0.8500000238418579, curiosity_reward=0.4308488965034485\n",
            "step=367383, 20_avg_episodic_return=1.0, curiosity_reward=0.4353253245353699\n",
            "step=368718, 20_avg_episodic_return=0.949999988079071, curiosity_reward=0.42586126923561096\n",
            "step=369769, 20_avg_episodic_return=1.0, curiosity_reward=0.4003375172615051\n",
            "step=371286, 20_avg_episodic_return=0.949999988079071, curiosity_reward=0.4099887013435364\n",
            "step=372382, 20_avg_episodic_return=1.0, curiosity_reward=0.3950243592262268\n",
            "step=373348, 20_avg_episodic_return=1.0, curiosity_reward=0.4060139060020447\n",
            "step=374644, 20_avg_episodic_return=1.0, curiosity_reward=0.40059876441955566\n",
            "step=376011, 20_avg_episodic_return=1.0, curiosity_reward=0.41803231835365295\n",
            "step=377918, 20_avg_episodic_return=0.949999988079071, curiosity_reward=0.4223913550376892\n",
            "step=379244, 20_avg_episodic_return=1.0, curiosity_reward=0.44624847173690796\n",
            "step=380328, 20_avg_episodic_return=1.0, curiosity_reward=0.47403979301452637\n",
            "step=381272, 20_avg_episodic_return=1.0, curiosity_reward=0.4543401598930359\n",
            "step=382833, 20_avg_episodic_return=0.949999988079071, curiosity_reward=0.42071443796157837\n",
            "step=384060, 20_avg_episodic_return=0.949999988079071, curiosity_reward=0.40355435013771057\n",
            "step=384888, 20_avg_episodic_return=0.8999999761581421, curiosity_reward=0.4020678997039795\n",
            "step=386741, 20_avg_episodic_return=1.0, curiosity_reward=0.3941047787666321\n",
            "step=388100, 20_avg_episodic_return=0.949999988079071, curiosity_reward=0.4153969883918762\n",
            "step=389552, 20_avg_episodic_return=1.0, curiosity_reward=0.3939521908760071\n",
            "step=390784, 20_avg_episodic_return=0.949999988079071, curiosity_reward=0.39630088210105896\n",
            "step=391834, 20_avg_episodic_return=1.0, curiosity_reward=0.42438411712646484\n",
            "step=393130, 20_avg_episodic_return=1.0, curiosity_reward=0.43826937675476074\n",
            "step=394068, 20_avg_episodic_return=0.949999988079071, curiosity_reward=0.45220789313316345\n",
            "step=395276, 20_avg_episodic_return=0.8999999761581421, curiosity_reward=0.473693311214447\n",
            "step=396206, 20_avg_episodic_return=0.8999999761581421, curiosity_reward=0.4842987060546875\n",
            "step=397079, 20_avg_episodic_return=1.0, curiosity_reward=0.47105902433395386\n",
            "step=398097, 20_avg_episodic_return=0.949999988079071, curiosity_reward=0.4701191782951355\n",
            "step=399210, 20_avg_episodic_return=1.0, curiosity_reward=0.47795620560646057\n",
            "step=400986, 20_avg_episodic_return=1.0, curiosity_reward=0.4517606794834137\n",
            "step=401911, 20_avg_episodic_return=1.0, curiosity_reward=0.47052955627441406\n",
            "step=402885, 20_avg_episodic_return=0.949999988079071, curiosity_reward=0.44320136308670044\n",
            "step=404197, 20_avg_episodic_return=1.0, curiosity_reward=0.43184465169906616\n",
            "step=405066, 20_avg_episodic_return=0.949999988079071, curiosity_reward=0.43836793303489685\n",
            "step=406026, 20_avg_episodic_return=0.8999999761581421, curiosity_reward=0.44391292333602905\n",
            "step=406640, 20_avg_episodic_return=1.0, curiosity_reward=0.4218211770057678\n",
            "step=408157, 20_avg_episodic_return=1.0, curiosity_reward=0.43703126907348633\n",
            "step=409178, 20_avg_episodic_return=1.0, curiosity_reward=0.43884921073913574\n",
            "step=409880, 20_avg_episodic_return=0.8999999761581421, curiosity_reward=0.43532222509384155\n",
            "step=410689, 20_avg_episodic_return=1.0, curiosity_reward=0.43049296736717224\n",
            "step=411971, 20_avg_episodic_return=0.949999988079071, curiosity_reward=0.4291478097438812\n",
            "step=412895, 20_avg_episodic_return=0.949999988079071, curiosity_reward=0.4150526523590088\n",
            "step=413706, 20_avg_episodic_return=1.0, curiosity_reward=0.3920281231403351\n",
            "step=414960, 20_avg_episodic_return=0.8999999761581421, curiosity_reward=0.3771911859512329\n",
            "step=416118, 20_avg_episodic_return=1.0, curiosity_reward=0.38232192397117615\n",
            "step=416879, 20_avg_episodic_return=1.0, curiosity_reward=0.4236362874507904\n",
            "step=418126, 20_avg_episodic_return=1.0, curiosity_reward=0.417563259601593\n",
            "step=419225, 20_avg_episodic_return=1.0, curiosity_reward=0.41791874170303345\n",
            "step=420090, 20_avg_episodic_return=1.0, curiosity_reward=0.44461411237716675\n",
            "step=420936, 20_avg_episodic_return=1.0, curiosity_reward=0.45725417137145996\n",
            "step=421969, 20_avg_episodic_return=0.949999988079071, curiosity_reward=0.4634968638420105\n",
            "step=422636, 20_avg_episodic_return=1.0, curiosity_reward=0.4558372497558594\n",
            "step=423632, 20_avg_episodic_return=1.0, curiosity_reward=0.4704813063144684\n",
            "step=424686, 20_avg_episodic_return=1.0, curiosity_reward=0.4728967249393463\n",
            "step=425503, 20_avg_episodic_return=1.0, curiosity_reward=0.46482938528060913\n",
            "step=426609, 20_avg_episodic_return=1.0, curiosity_reward=0.46008747816085815\n",
            "step=427235, 20_avg_episodic_return=1.0, curiosity_reward=0.43910112977027893\n",
            "step=428044, 20_avg_episodic_return=1.0, curiosity_reward=0.46659350395202637\n",
            "step=429039, 20_avg_episodic_return=1.0, curiosity_reward=0.4472237229347229\n",
            "step=429907, 20_avg_episodic_return=1.0, curiosity_reward=0.42960724234580994\n",
            "step=430888, 20_avg_episodic_return=0.8999999761581421, curiosity_reward=0.43188220262527466\n",
            "step=431608, 20_avg_episodic_return=1.0, curiosity_reward=0.4544115662574768\n",
            "step=432410, 20_avg_episodic_return=1.0, curiosity_reward=0.4615505337715149\n",
            "step=433346, 20_avg_episodic_return=1.0, curiosity_reward=0.42101627588272095\n",
            "step=434131, 20_avg_episodic_return=1.0, curiosity_reward=0.42994198203086853\n",
            "step=434801, 20_avg_episodic_return=1.0, curiosity_reward=0.4178123474121094\n",
            "step=436052, 20_avg_episodic_return=1.0, curiosity_reward=0.3959415853023529\n",
            "step=436779, 20_avg_episodic_return=1.0, curiosity_reward=0.37789636850357056\n",
            "step=437635, 20_avg_episodic_return=1.0, curiosity_reward=0.40127962827682495\n",
            "step=438328, 20_avg_episodic_return=1.0, curiosity_reward=0.41882404685020447\n",
            "step=439147, 20_avg_episodic_return=1.0, curiosity_reward=0.3982345461845398\n",
            "step=439842, 20_avg_episodic_return=1.0, curiosity_reward=0.41142186522483826\n",
            "step=440933, 20_avg_episodic_return=1.0, curiosity_reward=0.3889448642730713\n",
            "step=442122, 20_avg_episodic_return=1.0, curiosity_reward=0.4025176465511322\n",
            "step=442778, 20_avg_episodic_return=1.0, curiosity_reward=0.419861376285553\n",
            "step=443624, 20_avg_episodic_return=1.0, curiosity_reward=0.40079933404922485\n",
            "step=444708, 20_avg_episodic_return=1.0, curiosity_reward=0.4094310700893402\n",
            "step=445304, 20_avg_episodic_return=1.0, curiosity_reward=0.43355709314346313\n",
            "step=446110, 20_avg_episodic_return=1.0, curiosity_reward=0.43376702070236206\n",
            "step=446973, 20_avg_episodic_return=1.0, curiosity_reward=0.39921385049819946\n",
            "step=447984, 20_avg_episodic_return=1.0, curiosity_reward=0.41393643617630005\n",
            "step=448477, 20_avg_episodic_return=0.949999988079071, curiosity_reward=0.40635767579078674\n",
            "step=449339, 20_avg_episodic_return=1.0, curiosity_reward=0.4335741400718689\n",
            "step=450118, 20_avg_episodic_return=1.0, curiosity_reward=0.41973844170570374\n",
            "step=451070, 20_avg_episodic_return=1.0, curiosity_reward=0.4227210581302643\n",
            "step=451888, 20_avg_episodic_return=1.0, curiosity_reward=0.42539507150650024\n",
            "step=452563, 20_avg_episodic_return=0.949999988079071, curiosity_reward=0.3930692970752716\n",
            "step=453725, 20_avg_episodic_return=1.0, curiosity_reward=0.4285665452480316\n",
            "step=454369, 20_avg_episodic_return=1.0, curiosity_reward=0.4330788552761078\n",
            "step=455047, 20_avg_episodic_return=1.0, curiosity_reward=0.42536258697509766\n",
            "step=455795, 20_avg_episodic_return=1.0, curiosity_reward=0.42583122849464417\n",
            "step=456612, 20_avg_episodic_return=1.0, curiosity_reward=0.40543636679649353\n",
            "step=457318, 20_avg_episodic_return=1.0, curiosity_reward=0.4264748990535736\n",
            "step=457940, 20_avg_episodic_return=0.949999988079071, curiosity_reward=0.44510751962661743\n",
            "step=458846, 20_avg_episodic_return=1.0, curiosity_reward=0.44685977697372437\n",
            "step=459882, 20_avg_episodic_return=1.0, curiosity_reward=0.47084417939186096\n",
            "step=460417, 20_avg_episodic_return=1.0, curiosity_reward=0.4694340229034424\n",
            "step=461136, 20_avg_episodic_return=1.0, curiosity_reward=0.4638359546661377\n",
            "step=462044, 20_avg_episodic_return=0.949999988079071, curiosity_reward=0.46149903535842896\n",
            "step=462546, 20_avg_episodic_return=1.0, curiosity_reward=0.43160825967788696\n",
            "step=463552, 20_avg_episodic_return=1.0, curiosity_reward=0.4598477780818939\n",
            "step=464069, 20_avg_episodic_return=1.0, curiosity_reward=0.4433024823665619\n",
            "step=464972, 20_avg_episodic_return=1.0, curiosity_reward=0.4321114122867584\n",
            "step=465786, 20_avg_episodic_return=1.0, curiosity_reward=0.42560118436813354\n",
            "step=466469, 20_avg_episodic_return=1.0, curiosity_reward=0.414865642786026\n",
            "step=467155, 20_avg_episodic_return=1.0, curiosity_reward=0.42474016547203064\n",
            "step=467769, 20_avg_episodic_return=1.0, curiosity_reward=0.42280077934265137\n",
            "step=468598, 20_avg_episodic_return=0.949999988079071, curiosity_reward=0.4043363630771637\n",
            "step=469523, 20_avg_episodic_return=1.0, curiosity_reward=0.43135136365890503\n",
            "step=470322, 20_avg_episodic_return=1.0, curiosity_reward=0.42467689514160156\n",
            "step=471000, 20_avg_episodic_return=1.0, curiosity_reward=0.420820415019989\n",
            "step=471949, 20_avg_episodic_return=1.0, curiosity_reward=0.4002648890018463\n",
            "step=472574, 20_avg_episodic_return=1.0, curiosity_reward=0.42764776945114136\n",
            "step=473072, 20_avg_episodic_return=1.0, curiosity_reward=0.4443991184234619\n",
            "step=473938, 20_avg_episodic_return=1.0, curiosity_reward=0.4397071897983551\n",
            "step=474484, 20_avg_episodic_return=1.0, curiosity_reward=0.420736700296402\n",
            "step=475371, 20_avg_episodic_return=1.0, curiosity_reward=0.3948553204536438\n",
            "step=476122, 20_avg_episodic_return=1.0, curiosity_reward=0.36228281259536743\n",
            "step=476902, 20_avg_episodic_return=1.0, curiosity_reward=0.3699025511741638\n",
            "step=477604, 20_avg_episodic_return=1.0, curiosity_reward=0.3919704258441925\n",
            "step=478152, 20_avg_episodic_return=1.0, curiosity_reward=0.4380914568901062\n",
            "step=479088, 20_avg_episodic_return=1.0, curiosity_reward=0.44144973158836365\n",
            "step=479760, 20_avg_episodic_return=1.0, curiosity_reward=0.44096264243125916\n",
            "step=480626, 20_avg_episodic_return=1.0, curiosity_reward=0.41930460929870605\n",
            "step=481076, 20_avg_episodic_return=1.0, curiosity_reward=0.3998591899871826\n",
            "step=481660, 20_avg_episodic_return=1.0, curiosity_reward=0.4347532391548157\n",
            "step=482203, 20_avg_episodic_return=1.0, curiosity_reward=0.43272751569747925\n",
            "step=482791, 20_avg_episodic_return=1.0, curiosity_reward=0.40055379271507263\n",
            "step=483633, 20_avg_episodic_return=0.949999988079071, curiosity_reward=0.4134519696235657\n",
            "step=484225, 20_avg_episodic_return=1.0, curiosity_reward=0.3966018557548523\n",
            "step=485153, 20_avg_episodic_return=1.0, curiosity_reward=0.3991411626338959\n",
            "step=485999, 20_avg_episodic_return=1.0, curiosity_reward=0.4056205749511719\n",
            "step=486683, 20_avg_episodic_return=1.0, curiosity_reward=0.4301891326904297\n",
            "step=487359, 20_avg_episodic_return=1.0, curiosity_reward=0.4310790002346039\n",
            "step=488221, 20_avg_episodic_return=1.0, curiosity_reward=0.43417996168136597\n",
            "step=488819, 20_avg_episodic_return=1.0, curiosity_reward=0.4349253177642822\n",
            "step=489381, 20_avg_episodic_return=1.0, curiosity_reward=0.4399373531341553\n",
            "step=490173, 20_avg_episodic_return=1.0, curiosity_reward=0.419506311416626\n",
            "step=490879, 20_avg_episodic_return=1.0, curiosity_reward=0.42746323347091675\n",
            "step=491586, 20_avg_episodic_return=1.0, curiosity_reward=0.41232484579086304\n",
            "step=492113, 20_avg_episodic_return=1.0, curiosity_reward=0.4191162586212158\n",
            "step=492516, 20_avg_episodic_return=1.0, curiosity_reward=0.41794443130493164\n",
            "step=493453, 20_avg_episodic_return=1.0, curiosity_reward=0.4094030261039734\n",
            "step=494163, 20_avg_episodic_return=1.0, curiosity_reward=0.4080587923526764\n",
            "step=494882, 20_avg_episodic_return=1.0, curiosity_reward=0.44711071252822876\n",
            "step=495505, 20_avg_episodic_return=1.0, curiosity_reward=0.41261082887649536\n",
            "step=496425, 20_avg_episodic_return=1.0, curiosity_reward=0.3748968541622162\n",
            "step=497038, 20_avg_episodic_return=1.0, curiosity_reward=0.36167898774147034\n",
            "step=497807, 20_avg_episodic_return=1.0, curiosity_reward=0.3989855945110321\n",
            "step=498421, 20_avg_episodic_return=1.0, curiosity_reward=0.3765551447868347\n",
            "step=499231, 20_avg_episodic_return=1.0, curiosity_reward=0.382152259349823\n",
            "step=499786, 20_avg_episodic_return=1.0, curiosity_reward=0.3945865035057068\n",
            "step=500530, 20_avg_episodic_return=1.0, curiosity_reward=0.39965125918388367\n",
            "step=501061, 20_avg_episodic_return=0.949999988079071, curiosity_reward=0.4093831181526184\n",
            "step=501807, 20_avg_episodic_return=1.0, curiosity_reward=0.4187676012516022\n",
            "step=502783, 20_avg_episodic_return=1.0, curiosity_reward=0.41643086075782776\n",
            "step=503426, 20_avg_episodic_return=1.0, curiosity_reward=0.38592594861984253\n",
            "step=504159, 20_avg_episodic_return=1.0, curiosity_reward=0.37731561064720154\n",
            "step=504774, 20_avg_episodic_return=1.0, curiosity_reward=0.3700100779533386\n",
            "step=505323, 20_avg_episodic_return=1.0, curiosity_reward=0.36052021384239197\n",
            "step=505930, 20_avg_episodic_return=1.0, curiosity_reward=0.3949165940284729\n",
            "step=506403, 20_avg_episodic_return=1.0, curiosity_reward=0.3651166558265686\n",
            "step=507419, 20_avg_episodic_return=1.0, curiosity_reward=0.36904749274253845\n",
            "step=508027, 20_avg_episodic_return=1.0, curiosity_reward=0.35678842663764954\n",
            "step=508519, 20_avg_episodic_return=1.0, curiosity_reward=0.3655518591403961\n",
            "step=509147, 20_avg_episodic_return=1.0, curiosity_reward=0.36005571484565735\n",
            "step=509740, 20_avg_episodic_return=0.949999988079071, curiosity_reward=0.39384788274765015\n",
            "step=510372, 20_avg_episodic_return=1.0, curiosity_reward=0.3995448648929596\n",
            "step=511253, 20_avg_episodic_return=1.0, curiosity_reward=0.38246601819992065\n",
            "step=511954, 20_avg_episodic_return=1.0, curiosity_reward=0.37626802921295166\n",
            "step=512575, 20_avg_episodic_return=1.0, curiosity_reward=0.38633957505226135\n",
            "step=513023, 20_avg_episodic_return=1.0, curiosity_reward=0.38305607438087463\n",
            "step=513759, 20_avg_episodic_return=1.0, curiosity_reward=0.3708323836326599\n",
            "step=514177, 20_avg_episodic_return=1.0, curiosity_reward=0.386821448802948\n",
            "step=514839, 20_avg_episodic_return=1.0, curiosity_reward=0.39036789536476135\n",
            "step=515339, 20_avg_episodic_return=1.0, curiosity_reward=0.3776516616344452\n",
            "step=516271, 20_avg_episodic_return=1.0, curiosity_reward=0.38027986884117126\n",
            "step=516750, 20_avg_episodic_return=1.0, curiosity_reward=0.38239985704421997\n",
            "step=517416, 20_avg_episodic_return=1.0, curiosity_reward=0.37586164474487305\n",
            "step=517842, 20_avg_episodic_return=1.0, curiosity_reward=0.3668394684791565\n",
            "step=518581, 20_avg_episodic_return=1.0, curiosity_reward=0.35041746497154236\n",
            "step=519017, 20_avg_episodic_return=1.0, curiosity_reward=0.35340040922164917\n",
            "step=519752, 20_avg_episodic_return=1.0, curiosity_reward=0.3420983850955963\n",
            "step=520510, 20_avg_episodic_return=1.0, curiosity_reward=0.377377450466156\n",
            "step=521051, 20_avg_episodic_return=1.0, curiosity_reward=0.394784152507782\n",
            "step=521606, 20_avg_episodic_return=1.0, curiosity_reward=0.3740442991256714\n",
            "step=522503, 20_avg_episodic_return=1.0, curiosity_reward=0.3795158565044403\n",
            "step=523066, 20_avg_episodic_return=1.0, curiosity_reward=0.3763251304626465\n",
            "step=523593, 20_avg_episodic_return=1.0, curiosity_reward=0.408362478017807\n",
            "step=524338, 20_avg_episodic_return=1.0, curiosity_reward=0.37526649236679077\n",
            "step=525049, 20_avg_episodic_return=1.0, curiosity_reward=0.3867773115634918\n",
            "step=525600, 20_avg_episodic_return=1.0, curiosity_reward=0.36244699358940125\n",
            "step=526143, 20_avg_episodic_return=1.0, curiosity_reward=0.3923448622226715\n",
            "step=526874, 20_avg_episodic_return=1.0, curiosity_reward=0.3781614601612091\n",
            "step=527528, 20_avg_episodic_return=1.0, curiosity_reward=0.36658817529678345\n",
            "step=528166, 20_avg_episodic_return=1.0, curiosity_reward=0.3744884133338928\n",
            "step=528815, 20_avg_episodic_return=1.0, curiosity_reward=0.4222940504550934\n",
            "step=529280, 20_avg_episodic_return=1.0, curiosity_reward=0.44663724303245544\n",
            "step=529880, 20_avg_episodic_return=1.0, curiosity_reward=0.435427188873291\n",
            "step=530597, 20_avg_episodic_return=1.0, curiosity_reward=0.42180904746055603\n",
            "step=531245, 20_avg_episodic_return=1.0, curiosity_reward=0.41450658440589905\n",
            "step=531820, 20_avg_episodic_return=1.0, curiosity_reward=0.37943384051322937\n",
            "step=532591, 20_avg_episodic_return=1.0, curiosity_reward=0.37284213304519653\n",
            "step=532938, 20_avg_episodic_return=1.0, curiosity_reward=0.3554736077785492\n",
            "step=533407, 20_avg_episodic_return=1.0, curiosity_reward=0.3860054910182953\n",
            "step=533845, 20_avg_episodic_return=1.0, curiosity_reward=0.36471644043922424\n",
            "step=534675, 20_avg_episodic_return=1.0, curiosity_reward=0.38039547204971313\n",
            "step=535226, 20_avg_episodic_return=1.0, curiosity_reward=0.36783134937286377\n",
            "step=535963, 20_avg_episodic_return=1.0, curiosity_reward=0.38361966609954834\n",
            "step=536469, 20_avg_episodic_return=1.0, curiosity_reward=0.3807393014431\n",
            "step=537234, 20_avg_episodic_return=1.0, curiosity_reward=0.35508033633232117\n",
            "step=537806, 20_avg_episodic_return=1.0, curiosity_reward=0.3525465130805969\n",
            "step=538437, 20_avg_episodic_return=1.0, curiosity_reward=0.3637036681175232\n",
            "step=539035, 20_avg_episodic_return=1.0, curiosity_reward=0.3451879620552063\n",
            "step=539746, 20_avg_episodic_return=1.0, curiosity_reward=0.3311247229576111\n",
            "step=540489, 20_avg_episodic_return=1.0, curiosity_reward=0.34238314628601074\n",
            "step=541008, 20_avg_episodic_return=1.0, curiosity_reward=0.33839359879493713\n",
            "step=541532, 20_avg_episodic_return=1.0, curiosity_reward=0.31428223848342896\n",
            "step=542166, 20_avg_episodic_return=1.0, curiosity_reward=0.321902334690094\n",
            "step=542977, 20_avg_episodic_return=1.0, curiosity_reward=0.33039262890815735\n",
            "step=543478, 20_avg_episodic_return=1.0, curiosity_reward=0.33653002977371216\n",
            "step=544013, 20_avg_episodic_return=1.0, curiosity_reward=0.331230491399765\n",
            "step=544602, 20_avg_episodic_return=1.0, curiosity_reward=0.36847448348999023\n",
            "step=545190, 20_avg_episodic_return=1.0, curiosity_reward=0.35757628083229065\n",
            "step=545854, 20_avg_episodic_return=1.0, curiosity_reward=0.36584559082984924\n",
            "step=546442, 20_avg_episodic_return=1.0, curiosity_reward=0.3559507429599762\n",
            "step=546903, 20_avg_episodic_return=1.0, curiosity_reward=0.36189380288124084\n",
            "step=547649, 20_avg_episodic_return=1.0, curiosity_reward=0.3712870478630066\n",
            "step=548252, 20_avg_episodic_return=1.0, curiosity_reward=0.3706496059894562\n",
            "step=548829, 20_avg_episodic_return=1.0, curiosity_reward=0.3511013984680176\n",
            "step=549214, 20_avg_episodic_return=1.0, curiosity_reward=0.3356184959411621\n",
            "step=549926, 20_avg_episodic_return=1.0, curiosity_reward=0.35594430565834045\n",
            "step=550514, 20_avg_episodic_return=1.0, curiosity_reward=0.34627097845077515\n",
            "step=551176, 20_avg_episodic_return=1.0, curiosity_reward=0.34516626596450806\n",
            "step=551818, 20_avg_episodic_return=1.0, curiosity_reward=0.3505318760871887\n",
            "step=552207, 20_avg_episodic_return=1.0, curiosity_reward=0.3708239197731018\n",
            "step=552791, 20_avg_episodic_return=1.0, curiosity_reward=0.3898697793483734\n",
            "step=553578, 20_avg_episodic_return=1.0, curiosity_reward=0.3525792956352234\n",
            "step=554119, 20_avg_episodic_return=1.0, curiosity_reward=0.3471072316169739\n",
            "step=554701, 20_avg_episodic_return=1.0, curiosity_reward=0.36219334602355957\n",
            "step=555358, 20_avg_episodic_return=1.0, curiosity_reward=0.3475401997566223\n",
            "step=555823, 20_avg_episodic_return=1.0, curiosity_reward=0.36695700883865356\n",
            "step=556281, 20_avg_episodic_return=1.0, curiosity_reward=0.35559359192848206\n",
            "step=556808, 20_avg_episodic_return=1.0, curiosity_reward=0.3670121729373932\n",
            "step=557381, 20_avg_episodic_return=1.0, curiosity_reward=0.34676945209503174\n",
            "step=557924, 20_avg_episodic_return=1.0, curiosity_reward=0.34046947956085205\n",
            "step=558639, 20_avg_episodic_return=1.0, curiosity_reward=0.32741063833236694\n",
            "step=559160, 20_avg_episodic_return=1.0, curiosity_reward=0.325359046459198\n",
            "step=559716, 20_avg_episodic_return=1.0, curiosity_reward=0.33174657821655273\n",
            "step=560260, 20_avg_episodic_return=1.0, curiosity_reward=0.3490634858608246\n",
            "step=560744, 20_avg_episodic_return=1.0, curiosity_reward=0.33409085869789124\n",
            "step=561586, 20_avg_episodic_return=1.0, curiosity_reward=0.3217839300632477\n",
            "step=562216, 20_avg_episodic_return=1.0, curiosity_reward=0.3321954309940338\n",
            "step=562524, 20_avg_episodic_return=1.0, curiosity_reward=0.3155413269996643\n",
            "step=563236, 20_avg_episodic_return=1.0, curiosity_reward=0.3319726884365082\n",
            "step=563880, 20_avg_episodic_return=1.0, curiosity_reward=0.31273970007896423\n",
            "step=564270, 20_avg_episodic_return=1.0, curiosity_reward=0.321635901927948\n",
            "step=564761, 20_avg_episodic_return=1.0, curiosity_reward=0.3466395139694214\n",
            "step=565260, 20_avg_episodic_return=1.0, curiosity_reward=0.35848256945610046\n",
            "step=565707, 20_avg_episodic_return=1.0, curiosity_reward=0.3328741192817688\n",
            "step=566350, 20_avg_episodic_return=1.0, curiosity_reward=0.3616507351398468\n",
            "step=566952, 20_avg_episodic_return=1.0, curiosity_reward=0.3439766764640808\n",
            "step=567372, 20_avg_episodic_return=1.0, curiosity_reward=0.34516364336013794\n",
            "step=567905, 20_avg_episodic_return=1.0, curiosity_reward=0.34391194581985474\n",
            "step=568362, 20_avg_episodic_return=1.0, curiosity_reward=0.33367976546287537\n",
            "step=568953, 20_avg_episodic_return=1.0, curiosity_reward=0.34356728196144104\n",
            "step=569547, 20_avg_episodic_return=1.0, curiosity_reward=0.3343757390975952\n",
            "step=570054, 20_avg_episodic_return=1.0, curiosity_reward=0.3543568551540375\n",
            "step=570470, 20_avg_episodic_return=1.0, curiosity_reward=0.345404714345932\n",
            "step=570985, 20_avg_episodic_return=1.0, curiosity_reward=0.3222915530204773\n",
            "step=571600, 20_avg_episodic_return=1.0, curiosity_reward=0.3104246258735657\n",
            "step=572280, 20_avg_episodic_return=1.0, curiosity_reward=0.3193378150463104\n",
            "step=572848, 20_avg_episodic_return=1.0, curiosity_reward=0.332354873418808\n",
            "step=573415, 20_avg_episodic_return=1.0, curiosity_reward=0.3228859305381775\n",
            "step=573904, 20_avg_episodic_return=1.0, curiosity_reward=0.3201134204864502\n",
            "step=574552, 20_avg_episodic_return=1.0, curiosity_reward=0.30431121587753296\n",
            "step=575055, 20_avg_episodic_return=1.0, curiosity_reward=0.29871124029159546\n",
            "step=575598, 20_avg_episodic_return=1.0, curiosity_reward=0.3082426190376282\n",
            "step=576245, 20_avg_episodic_return=1.0, curiosity_reward=0.3171924948692322\n",
            "step=576747, 20_avg_episodic_return=1.0, curiosity_reward=0.3336818814277649\n",
            "step=577312, 20_avg_episodic_return=1.0, curiosity_reward=0.327796995639801\n",
            "step=577738, 20_avg_episodic_return=1.0, curiosity_reward=0.32943955063819885\n",
            "step=578294, 20_avg_episodic_return=1.0, curiosity_reward=0.3317955434322357\n",
            "step=578800, 20_avg_episodic_return=1.0, curiosity_reward=0.32021886110305786\n",
            "step=579445, 20_avg_episodic_return=1.0, curiosity_reward=0.3201060891151428\n",
            "step=580111, 20_avg_episodic_return=1.0, curiosity_reward=0.30998924374580383\n",
            "step=580659, 20_avg_episodic_return=1.0, curiosity_reward=0.31905990839004517\n",
            "step=581059, 20_avg_episodic_return=1.0, curiosity_reward=0.3365408182144165\n",
            "step=581479, 20_avg_episodic_return=1.0, curiosity_reward=0.34876614809036255\n",
            "step=582126, 20_avg_episodic_return=1.0, curiosity_reward=0.3338097035884857\n",
            "step=582763, 20_avg_episodic_return=1.0, curiosity_reward=0.3612114489078522\n",
            "step=583337, 20_avg_episodic_return=1.0, curiosity_reward=0.3717317581176758\n",
            "step=583916, 20_avg_episodic_return=1.0, curiosity_reward=0.35637497901916504\n",
            "step=584272, 20_avg_episodic_return=1.0, curiosity_reward=0.34922775626182556\n",
            "step=584974, 20_avg_episodic_return=1.0, curiosity_reward=0.33974742889404297\n",
            "step=585481, 20_avg_episodic_return=1.0, curiosity_reward=0.3345146179199219\n",
            "step=585944, 20_avg_episodic_return=1.0, curiosity_reward=0.344540536403656\n",
            "step=586581, 20_avg_episodic_return=1.0, curiosity_reward=0.348882794380188\n",
            "step=587158, 20_avg_episodic_return=1.0, curiosity_reward=0.3441266715526581\n",
            "step=587660, 20_avg_episodic_return=0.949999988079071, curiosity_reward=0.3706868588924408\n",
            "step=588231, 20_avg_episodic_return=1.0, curiosity_reward=0.3570789694786072\n",
            "step=588669, 20_avg_episodic_return=1.0, curiosity_reward=0.33053460717201233\n",
            "step=589219, 20_avg_episodic_return=1.0, curiosity_reward=0.3446888029575348\n",
            "step=589845, 20_avg_episodic_return=1.0, curiosity_reward=0.34692686796188354\n",
            "step=590354, 20_avg_episodic_return=1.0, curiosity_reward=0.32755258679389954\n",
            "step=590912, 20_avg_episodic_return=1.0, curiosity_reward=0.3652952313423157\n",
            "step=591416, 20_avg_episodic_return=1.0, curiosity_reward=0.380989134311676\n",
            "step=592002, 20_avg_episodic_return=1.0, curiosity_reward=0.367861807346344\n",
            "step=592430, 20_avg_episodic_return=1.0, curiosity_reward=0.34002262353897095\n",
            "step=593139, 20_avg_episodic_return=1.0, curiosity_reward=0.3651084303855896\n",
            "step=593835, 20_avg_episodic_return=1.0, curiosity_reward=0.36781781911849976\n",
            "step=594313, 20_avg_episodic_return=1.0, curiosity_reward=0.40990084409713745\n",
            "step=594949, 20_avg_episodic_return=1.0, curiosity_reward=0.4080638885498047\n",
            "step=595396, 20_avg_episodic_return=1.0, curiosity_reward=0.42812561988830566\n",
            "step=595798, 20_avg_episodic_return=0.8999999761581421, curiosity_reward=0.43565064668655396\n",
            "step=596389, 20_avg_episodic_return=0.949999988079071, curiosity_reward=0.3870881199836731\n",
            "step=596894, 20_avg_episodic_return=1.0, curiosity_reward=0.39299407601356506\n",
            "step=597447, 20_avg_episodic_return=1.0, curiosity_reward=0.4148440957069397\n",
            "step=597937, 20_avg_episodic_return=1.0, curiosity_reward=0.409841388463974\n",
            "step=598447, 20_avg_episodic_return=0.949999988079071, curiosity_reward=0.3839259445667267\n",
            "step=598991, 20_avg_episodic_return=1.0, curiosity_reward=0.4045845866203308\n",
            "step=599477, 20_avg_episodic_return=1.0, curiosity_reward=0.42940324544906616\n",
            "step=599847, 20_avg_episodic_return=1.0, curiosity_reward=0.44954913854599\n",
            "step=600536, 20_avg_episodic_return=0.949999988079071, curiosity_reward=0.40986377000808716\n",
            "step=601210, 20_avg_episodic_return=1.0, curiosity_reward=0.3867218494415283\n",
            "step=601621, 20_avg_episodic_return=1.0, curiosity_reward=0.3823578953742981\n",
            "step=602228, 20_avg_episodic_return=1.0, curiosity_reward=0.38725632429122925\n",
            "step=602673, 20_avg_episodic_return=1.0, curiosity_reward=0.3298562467098236\n",
            "step=603397, 20_avg_episodic_return=1.0, curiosity_reward=0.3364413380622864\n",
            "step=603890, 20_avg_episodic_return=1.0, curiosity_reward=0.3572441637516022\n",
            "step=604385, 20_avg_episodic_return=1.0, curiosity_reward=0.3572084307670593\n",
            "step=604915, 20_avg_episodic_return=1.0, curiosity_reward=0.3584520220756531\n",
            "step=605526, 20_avg_episodic_return=1.0, curiosity_reward=0.3642036020755768\n",
            "step=606219, 20_avg_episodic_return=1.0, curiosity_reward=0.3634588420391083\n",
            "step=606718, 20_avg_episodic_return=1.0, curiosity_reward=0.41514521837234497\n",
            "step=607215, 20_avg_episodic_return=1.0, curiosity_reward=0.4266059398651123\n",
            "step=607679, 20_avg_episodic_return=1.0, curiosity_reward=0.456061989068985\n",
            "step=608199, 20_avg_episodic_return=1.0, curiosity_reward=0.4635159373283386\n",
            "step=608815, 20_avg_episodic_return=1.0, curiosity_reward=0.4448525905609131\n",
            "step=609397, 20_avg_episodic_return=1.0, curiosity_reward=0.46287187933921814\n",
            "step=609890, 20_avg_episodic_return=0.949999988079071, curiosity_reward=0.4495939314365387\n",
            "step=610489, 20_avg_episodic_return=1.0, curiosity_reward=0.42796167731285095\n",
            "step=611169, 20_avg_episodic_return=1.0, curiosity_reward=0.38589006662368774\n",
            "step=611743, 20_avg_episodic_return=0.8999999761581421, curiosity_reward=0.3407471179962158\n",
            "step=612243, 20_avg_episodic_return=1.0, curiosity_reward=0.3459828495979309\n",
            "step=612653, 20_avg_episodic_return=1.0, curiosity_reward=0.3586319088935852\n",
            "step=613307, 20_avg_episodic_return=1.0, curiosity_reward=0.3441309630870819\n",
            "step=614022, 20_avg_episodic_return=1.0, curiosity_reward=0.3528746962547302\n",
            "step=614403, 20_avg_episodic_return=1.0, curiosity_reward=0.35309645533561707\n",
            "step=614944, 20_avg_episodic_return=1.0, curiosity_reward=0.34845319390296936\n",
            "step=615289, 20_avg_episodic_return=1.0, curiosity_reward=0.3504171073436737\n",
            "step=615783, 20_avg_episodic_return=1.0, curiosity_reward=0.34026986360549927\n",
            "step=616429, 20_avg_episodic_return=1.0, curiosity_reward=0.34664496779441833\n",
            "step=616863, 20_avg_episodic_return=1.0, curiosity_reward=0.3532935082912445\n",
            "step=617393, 20_avg_episodic_return=1.0, curiosity_reward=0.3746751844882965\n",
            "step=617956, 20_avg_episodic_return=1.0, curiosity_reward=0.3754199743270874\n",
            "step=618308, 20_avg_episodic_return=1.0, curiosity_reward=0.35503455996513367\n",
            "step=618869, 20_avg_episodic_return=1.0, curiosity_reward=0.338981568813324\n",
            "step=619483, 20_avg_episodic_return=1.0, curiosity_reward=0.3684515953063965\n",
            "step=619958, 20_avg_episodic_return=1.0, curiosity_reward=0.40109825134277344\n",
            "step=620405, 20_avg_episodic_return=1.0, curiosity_reward=0.37786412239074707\n",
            "step=620703, 20_avg_episodic_return=1.0, curiosity_reward=0.37240710854530334\n",
            "step=621265, 20_avg_episodic_return=1.0, curiosity_reward=0.35007408261299133\n",
            "step=621733, 20_avg_episodic_return=1.0, curiosity_reward=0.36494576930999756\n",
            "step=622076, 20_avg_episodic_return=1.0, curiosity_reward=0.3347299098968506\n",
            "step=622676, 20_avg_episodic_return=1.0, curiosity_reward=0.3308170437812805\n",
            "step=623243, 20_avg_episodic_return=1.0, curiosity_reward=0.3405980169773102\n",
            "step=623727, 20_avg_episodic_return=1.0, curiosity_reward=0.3184638023376465\n",
            "step=624140, 20_avg_episodic_return=1.0, curiosity_reward=0.3013743460178375\n",
            "step=624669, 20_avg_episodic_return=1.0, curiosity_reward=0.31650492548942566\n",
            "step=625143, 20_avg_episodic_return=1.0, curiosity_reward=0.3029831051826477\n",
            "step=625762, 20_avg_episodic_return=1.0, curiosity_reward=0.3213852047920227\n",
            "step=626160, 20_avg_episodic_return=1.0, curiosity_reward=0.34112071990966797\n",
            "step=626606, 20_avg_episodic_return=1.0, curiosity_reward=0.3426409661769867\n",
            "step=627155, 20_avg_episodic_return=1.0, curiosity_reward=0.3381401300430298\n",
            "step=627503, 20_avg_episodic_return=1.0, curiosity_reward=0.30568018555641174\n",
            "step=628060, 20_avg_episodic_return=1.0, curiosity_reward=0.31305456161499023\n",
            "step=628559, 20_avg_episodic_return=1.0, curiosity_reward=0.31509143114089966\n",
            "step=629022, 20_avg_episodic_return=1.0, curiosity_reward=0.3096485137939453\n",
            "step=629538, 20_avg_episodic_return=1.0, curiosity_reward=0.31827640533447266\n",
            "step=630062, 20_avg_episodic_return=1.0, curiosity_reward=0.3106338381767273\n",
            "step=630620, 20_avg_episodic_return=1.0, curiosity_reward=0.33377084136009216\n",
            "step=631044, 20_avg_episodic_return=1.0, curiosity_reward=0.35364529490470886\n",
            "step=631630, 20_avg_episodic_return=1.0, curiosity_reward=0.3648209869861603\n",
            "step=632060, 20_avg_episodic_return=1.0, curiosity_reward=0.393359512090683\n",
            "step=632517, 20_avg_episodic_return=1.0, curiosity_reward=0.4155193865299225\n",
            "step=632998, 20_avg_episodic_return=1.0, curiosity_reward=0.415017694234848\n",
            "step=633521, 20_avg_episodic_return=1.0, curiosity_reward=0.3875369727611542\n",
            "step=634088, 20_avg_episodic_return=1.0, curiosity_reward=0.3536567687988281\n",
            "step=634540, 20_avg_episodic_return=1.0, curiosity_reward=0.33690395951271057\n",
            "step=635184, 20_avg_episodic_return=1.0, curiosity_reward=0.32921046018600464\n",
            "step=635755, 20_avg_episodic_return=1.0, curiosity_reward=0.32136115431785583\n",
            "step=636104, 20_avg_episodic_return=1.0, curiosity_reward=0.33032551407814026\n",
            "step=636540, 20_avg_episodic_return=1.0, curiosity_reward=0.34109562635421753\n",
            "step=637055, 20_avg_episodic_return=1.0, curiosity_reward=0.3407069444656372\n",
            "step=637540, 20_avg_episodic_return=1.0, curiosity_reward=0.33210161328315735\n",
            "step=638203, 20_avg_episodic_return=1.0, curiosity_reward=0.33723559975624084\n",
            "step=638619, 20_avg_episodic_return=1.0, curiosity_reward=0.34442776441574097\n",
            "step=639047, 20_avg_episodic_return=1.0, curiosity_reward=0.35231906175613403\n",
            "step=639506, 20_avg_episodic_return=1.0, curiosity_reward=0.3483491539955139\n",
            "step=640048, 20_avg_episodic_return=1.0, curiosity_reward=0.35176876187324524\n",
            "step=640537, 20_avg_episodic_return=1.0, curiosity_reward=0.3608378767967224\n",
            "step=640930, 20_avg_episodic_return=0.949999988079071, curiosity_reward=0.3620227873325348\n",
            "step=641298, 20_avg_episodic_return=1.0, curiosity_reward=0.3729454278945923\n",
            "step=641675, 20_avg_episodic_return=1.0, curiosity_reward=0.37209972739219666\n",
            "step=642412, 20_avg_episodic_return=1.0, curiosity_reward=0.3347981572151184\n",
            "step=642999, 20_avg_episodic_return=1.0, curiosity_reward=0.3540413975715637\n",
            "step=643469, 20_avg_episodic_return=1.0, curiosity_reward=0.3564731478691101\n",
            "step=643858, 20_avg_episodic_return=1.0, curiosity_reward=0.3509978652000427\n",
            "step=644333, 20_avg_episodic_return=1.0, curiosity_reward=0.35092467069625854\n",
            "step=645006, 20_avg_episodic_return=1.0, curiosity_reward=0.38315528631210327\n",
            "step=645334, 20_avg_episodic_return=1.0, curiosity_reward=0.3869367241859436\n",
            "step=645914, 20_avg_episodic_return=1.0, curiosity_reward=0.37708449363708496\n",
            "step=646269, 20_avg_episodic_return=1.0, curiosity_reward=0.3888684809207916\n",
            "step=646729, 20_avg_episodic_return=1.0, curiosity_reward=0.3967684805393219\n",
            "step=647196, 20_avg_episodic_return=1.0, curiosity_reward=0.36970990896224976\n",
            "step=647819, 20_avg_episodic_return=1.0, curiosity_reward=0.355094313621521\n",
            "step=648171, 20_avg_episodic_return=1.0, curiosity_reward=0.3435867726802826\n",
            "step=648553, 20_avg_episodic_return=1.0, curiosity_reward=0.37157192826271057\n",
            "step=648928, 20_avg_episodic_return=1.0, curiosity_reward=0.3491685390472412\n",
            "step=649467, 20_avg_episodic_return=1.0, curiosity_reward=0.35193052887916565\n",
            "step=649975, 20_avg_episodic_return=0.949999988079071, curiosity_reward=0.3327207863330841\n",
            "step=650601, 20_avg_episodic_return=1.0, curiosity_reward=0.3375891447067261\n",
            "step=651109, 20_avg_episodic_return=1.0, curiosity_reward=0.3564475178718567\n",
            "step=651415, 20_avg_episodic_return=1.0, curiosity_reward=0.360448956489563\n",
            "step=651964, 20_avg_episodic_return=1.0, curiosity_reward=0.3541523516178131\n",
            "step=652460, 20_avg_episodic_return=1.0, curiosity_reward=0.36921602487564087\n",
            "step=652982, 20_avg_episodic_return=1.0, curiosity_reward=0.3782117962837219\n",
            "step=653525, 20_avg_episodic_return=1.0, curiosity_reward=0.37954220175743103\n",
            "step=654013, 20_avg_episodic_return=1.0, curiosity_reward=0.37854018807411194\n",
            "step=654605, 20_avg_episodic_return=1.0, curiosity_reward=0.38900628685951233\n",
            "step=655121, 20_avg_episodic_return=1.0, curiosity_reward=0.40442174673080444\n",
            "step=655514, 20_avg_episodic_return=1.0, curiosity_reward=0.3796958327293396\n",
            "step=656045, 20_avg_episodic_return=1.0, curiosity_reward=0.3731667995452881\n",
            "step=656663, 20_avg_episodic_return=1.0, curiosity_reward=0.3713024854660034\n",
            "step=657182, 20_avg_episodic_return=1.0, curiosity_reward=0.3814554512500763\n",
            "step=657606, 20_avg_episodic_return=1.0, curiosity_reward=0.377815306186676\n",
            "step=658185, 20_avg_episodic_return=1.0, curiosity_reward=0.37508076429367065\n",
            "step=658824, 20_avg_episodic_return=1.0, curiosity_reward=0.3712179958820343\n",
            "step=659378, 20_avg_episodic_return=0.949999988079071, curiosity_reward=0.35425490140914917\n",
            "step=659757, 20_avg_episodic_return=1.0, curiosity_reward=0.38139814138412476\n",
            "step=660440, 20_avg_episodic_return=1.0, curiosity_reward=0.36142048239707947\n",
            "step=661041, 20_avg_episodic_return=1.0, curiosity_reward=0.3931035101413727\n",
            "step=661550, 20_avg_episodic_return=1.0, curiosity_reward=0.433209091424942\n",
            "step=662075, 20_avg_episodic_return=1.0, curiosity_reward=0.4120146632194519\n",
            "step=662510, 20_avg_episodic_return=1.0, curiosity_reward=0.4051339030265808\n",
            "step=663043, 20_avg_episodic_return=1.0, curiosity_reward=0.39875370264053345\n",
            "step=663531, 20_avg_episodic_return=0.949999988079071, curiosity_reward=0.39306020736694336\n",
            "step=663965, 20_avg_episodic_return=1.0, curiosity_reward=0.40293464064598083\n",
            "step=664401, 20_avg_episodic_return=1.0, curiosity_reward=0.41078028082847595\n",
            "step=664763, 20_avg_episodic_return=1.0, curiosity_reward=0.41129422187805176\n",
            "step=665329, 20_avg_episodic_return=1.0, curiosity_reward=0.3882085382938385\n",
            "step=665817, 20_avg_episodic_return=1.0, curiosity_reward=0.36672043800354004\n",
            "step=666504, 20_avg_episodic_return=1.0, curiosity_reward=0.40017372369766235\n",
            "step=667035, 20_avg_episodic_return=1.0, curiosity_reward=0.4163084626197815\n",
            "step=667440, 20_avg_episodic_return=0.949999988079071, curiosity_reward=0.38813135027885437\n",
            "step=668001, 20_avg_episodic_return=1.0, curiosity_reward=0.376314252614975\n",
            "step=668496, 20_avg_episodic_return=1.0, curiosity_reward=0.4141412675380707\n",
            "step=668918, 20_avg_episodic_return=1.0, curiosity_reward=0.42907577753067017\n",
            "step=669375, 20_avg_episodic_return=1.0, curiosity_reward=0.40286651253700256\n",
            "step=669767, 20_avg_episodic_return=1.0, curiosity_reward=0.3818970322608948\n",
            "step=670415, 20_avg_episodic_return=1.0, curiosity_reward=0.3604857325553894\n",
            "step=670872, 20_avg_episodic_return=1.0, curiosity_reward=0.38972780108451843\n",
            "step=671243, 20_avg_episodic_return=1.0, curiosity_reward=0.38746178150177\n",
            "step=671775, 20_avg_episodic_return=1.0, curiosity_reward=0.3610539436340332\n",
            "step=672266, 20_avg_episodic_return=1.0, curiosity_reward=0.32676416635513306\n",
            "step=672785, 20_avg_episodic_return=1.0, curiosity_reward=0.3506355881690979\n",
            "step=673371, 20_avg_episodic_return=1.0, curiosity_reward=0.36076200008392334\n",
            "step=673867, 20_avg_episodic_return=1.0, curiosity_reward=0.3851412534713745\n",
            "step=674285, 20_avg_episodic_return=1.0, curiosity_reward=0.3891961872577667\n",
            "step=674681, 20_avg_episodic_return=1.0, curiosity_reward=0.3831244111061096\n",
            "step=675025, 20_avg_episodic_return=1.0, curiosity_reward=0.39538368582725525\n",
            "step=675543, 20_avg_episodic_return=1.0, curiosity_reward=0.38109877705574036\n",
            "step=676091, 20_avg_episodic_return=1.0, curiosity_reward=0.4290224611759186\n",
            "step=676613, 20_avg_episodic_return=1.0, curiosity_reward=0.47885408997535706\n",
            "step=677070, 20_avg_episodic_return=1.0, curiosity_reward=0.5085507035255432\n",
            "step=677463, 20_avg_episodic_return=1.0, curiosity_reward=0.4887220859527588\n",
            "step=677924, 20_avg_episodic_return=1.0, curiosity_reward=0.4468912184238434\n",
            "step=678373, 20_avg_episodic_return=1.0, curiosity_reward=0.44619178771972656\n",
            "step=678888, 20_avg_episodic_return=1.0, curiosity_reward=0.42146390676498413\n",
            "step=679344, 20_avg_episodic_return=1.0, curiosity_reward=0.42862099409103394\n",
            "step=679866, 20_avg_episodic_return=1.0, curiosity_reward=0.40884003043174744\n",
            "step=680329, 20_avg_episodic_return=1.0, curiosity_reward=0.3873111307621002\n",
            "step=680709, 20_avg_episodic_return=1.0, curiosity_reward=0.4111666679382324\n",
            "step=681152, 20_avg_episodic_return=1.0, curiosity_reward=0.428938627243042\n",
            "step=681708, 20_avg_episodic_return=1.0, curiosity_reward=0.41992002725601196\n",
            "step=682196, 20_avg_episodic_return=1.0, curiosity_reward=0.4508005678653717\n",
            "step=682665, 20_avg_episodic_return=1.0, curiosity_reward=0.4283047616481781\n",
            "step=682936, 20_avg_episodic_return=1.0, curiosity_reward=0.4081358313560486\n",
            "step=683370, 20_avg_episodic_return=1.0, curiosity_reward=0.42803049087524414\n",
            "step=683813, 20_avg_episodic_return=1.0, curiosity_reward=0.41394108533859253\n",
            "step=684420, 20_avg_episodic_return=1.0, curiosity_reward=0.4181029200553894\n",
            "step=684925, 20_avg_episodic_return=1.0, curiosity_reward=0.4034403860569\n",
            "step=685378, 20_avg_episodic_return=1.0, curiosity_reward=0.3930686116218567\n",
            "step=685770, 20_avg_episodic_return=1.0, curiosity_reward=0.4042491316795349\n",
            "step=686303, 20_avg_episodic_return=1.0, curiosity_reward=0.41891878843307495\n",
            "step=686873, 20_avg_episodic_return=1.0, curiosity_reward=0.42371028661727905\n",
            "step=687387, 20_avg_episodic_return=1.0, curiosity_reward=0.42482709884643555\n",
            "step=687812, 20_avg_episodic_return=1.0, curiosity_reward=0.4293898642063141\n",
            "step=688138, 20_avg_episodic_return=1.0, curiosity_reward=0.4142238199710846\n",
            "step=688619, 20_avg_episodic_return=1.0, curiosity_reward=0.41991981863975525\n",
            "step=689103, 20_avg_episodic_return=1.0, curiosity_reward=0.3854216933250427\n",
            "step=689620, 20_avg_episodic_return=1.0, curiosity_reward=0.4053429961204529\n",
            "step=690152, 20_avg_episodic_return=1.0, curiosity_reward=0.40464502573013306\n",
            "step=690665, 20_avg_episodic_return=1.0, curiosity_reward=0.41510310769081116\n",
            "step=691092, 20_avg_episodic_return=1.0, curiosity_reward=0.44476813077926636\n",
            "step=691523, 20_avg_episodic_return=1.0, curiosity_reward=0.42666053771972656\n",
            "step=692080, 20_avg_episodic_return=1.0, curiosity_reward=0.44290056824684143\n",
            "step=692530, 20_avg_episodic_return=1.0, curiosity_reward=0.36094141006469727\n",
            "step=693095, 20_avg_episodic_return=1.0, curiosity_reward=0.3321318030357361\n",
            "step=693626, 20_avg_episodic_return=1.0, curiosity_reward=0.3211158215999603\n",
            "step=694132, 20_avg_episodic_return=1.0, curiosity_reward=0.33817583322525024\n",
            "step=694533, 20_avg_episodic_return=1.0, curiosity_reward=0.3586319386959076\n",
            "step=694851, 20_avg_episodic_return=1.0, curiosity_reward=0.33758533000946045\n",
            "step=695523, 20_avg_episodic_return=1.0, curiosity_reward=0.3315278887748718\n",
            "step=695983, 20_avg_episodic_return=1.0, curiosity_reward=0.3622328042984009\n",
            "step=696447, 20_avg_episodic_return=1.0, curiosity_reward=0.3657923638820648\n",
            "step=696740, 20_avg_episodic_return=1.0, curiosity_reward=0.31977394223213196\n",
            "step=697348, 20_avg_episodic_return=1.0, curiosity_reward=0.3281516432762146\n",
            "step=697863, 20_avg_episodic_return=1.0, curiosity_reward=0.3336411714553833\n",
            "step=698249, 20_avg_episodic_return=1.0, curiosity_reward=0.3449062705039978\n",
            "step=698705, 20_avg_episodic_return=1.0, curiosity_reward=0.3615778386592865\n",
            "step=698997, 20_avg_episodic_return=1.0, curiosity_reward=0.3473626673221588\n",
            "step=699569, 20_avg_episodic_return=1.0, curiosity_reward=0.3467790186405182\n",
            "step=700055, 20_avg_episodic_return=1.0, curiosity_reward=0.3410109579563141\n",
            "step=700556, 20_avg_episodic_return=1.0, curiosity_reward=0.3498497009277344\n",
            "step=701039, 20_avg_episodic_return=1.0, curiosity_reward=0.3386876881122589\n",
            "step=701389, 20_avg_episodic_return=1.0, curiosity_reward=0.32724371552467346\n",
            "step=701868, 20_avg_episodic_return=1.0, curiosity_reward=0.33622997999191284\n",
            "step=702251, 20_avg_episodic_return=1.0, curiosity_reward=0.3620367646217346\n",
            "step=702543, 20_avg_episodic_return=1.0, curiosity_reward=0.336568683385849\n",
            "step=703057, 20_avg_episodic_return=1.0, curiosity_reward=0.3268762230873108\n",
            "step=703552, 20_avg_episodic_return=1.0, curiosity_reward=0.3326982855796814\n",
            "step=704008, 20_avg_episodic_return=1.0, curiosity_reward=0.35031071305274963\n",
            "step=704397, 20_avg_episodic_return=1.0, curiosity_reward=0.3560115694999695\n",
            "step=704991, 20_avg_episodic_return=1.0, curiosity_reward=0.3266003727912903\n",
            "step=705355, 20_avg_episodic_return=1.0, curiosity_reward=0.3441542088985443\n",
            "step=705918, 20_avg_episodic_return=1.0, curiosity_reward=0.3351023197174072\n",
            "step=706291, 20_avg_episodic_return=1.0, curiosity_reward=0.3224940896034241\n",
            "step=706729, 20_avg_episodic_return=1.0, curiosity_reward=0.36457863450050354\n",
            "step=707158, 20_avg_episodic_return=1.0, curiosity_reward=0.3690808415412903\n",
            "step=707560, 20_avg_episodic_return=1.0, curiosity_reward=0.3206166625022888\n",
            "step=708250, 20_avg_episodic_return=1.0, curiosity_reward=0.317716121673584\n",
            "step=708731, 20_avg_episodic_return=1.0, curiosity_reward=0.3161415159702301\n",
            "step=709095, 20_avg_episodic_return=1.0, curiosity_reward=0.30716627836227417\n",
            "step=709653, 20_avg_episodic_return=1.0, curiosity_reward=0.3047538995742798\n",
            "step=710172, 20_avg_episodic_return=1.0, curiosity_reward=0.3070647120475769\n",
            "step=710623, 20_avg_episodic_return=1.0, curiosity_reward=0.3347918391227722\n",
            "step=710950, 20_avg_episodic_return=1.0, curiosity_reward=0.3215264678001404\n",
            "step=711429, 20_avg_episodic_return=1.0, curiosity_reward=0.34888169169425964\n",
            "step=711853, 20_avg_episodic_return=1.0, curiosity_reward=0.35089415311813354\n",
            "step=712250, 20_avg_episodic_return=1.0, curiosity_reward=0.34856414794921875\n",
            "step=712670, 20_avg_episodic_return=1.0, curiosity_reward=0.3449955880641937\n",
            "step=713116, 20_avg_episodic_return=1.0, curiosity_reward=0.3496757745742798\n",
            "step=713595, 20_avg_episodic_return=1.0, curiosity_reward=0.3406873643398285\n",
            "step=714043, 20_avg_episodic_return=1.0, curiosity_reward=0.34175804257392883\n",
            "step=714480, 20_avg_episodic_return=1.0, curiosity_reward=0.34893399477005005\n",
            "step=714869, 20_avg_episodic_return=1.0, curiosity_reward=0.3450549244880676\n",
            "step=715352, 20_avg_episodic_return=1.0, curiosity_reward=0.35697391629219055\n",
            "step=715904, 20_avg_episodic_return=1.0, curiosity_reward=0.33593568205833435\n",
            "step=716325, 20_avg_episodic_return=1.0, curiosity_reward=0.3501344621181488\n",
            "step=716724, 20_avg_episodic_return=1.0, curiosity_reward=0.34636613726615906\n",
            "step=717105, 20_avg_episodic_return=1.0, curiosity_reward=0.3413107991218567\n",
            "step=717505, 20_avg_episodic_return=1.0, curiosity_reward=0.36138105392456055\n",
            "step=718008, 20_avg_episodic_return=1.0, curiosity_reward=0.34507545828819275\n",
            "step=718473, 20_avg_episodic_return=1.0, curiosity_reward=0.35970833897590637\n",
            "step=719053, 20_avg_episodic_return=1.0, curiosity_reward=0.35866087675094604\n",
            "step=719454, 20_avg_episodic_return=1.0, curiosity_reward=0.327537477016449\n",
            "step=719870, 20_avg_episodic_return=1.0, curiosity_reward=0.33871740102767944\n",
            "step=720448, 20_avg_episodic_return=1.0, curiosity_reward=0.33682459592819214\n",
            "step=720956, 20_avg_episodic_return=1.0, curiosity_reward=0.32356780767440796\n",
            "step=721369, 20_avg_episodic_return=1.0, curiosity_reward=0.32779017090797424\n",
            "step=721804, 20_avg_episodic_return=1.0, curiosity_reward=0.3572540879249573\n",
            "step=722142, 20_avg_episodic_return=1.0, curiosity_reward=0.350961297750473\n",
            "step=722713, 20_avg_episodic_return=1.0, curiosity_reward=0.3556119501590729\n",
            "step=723189, 20_avg_episodic_return=1.0, curiosity_reward=0.33478495478630066\n",
            "step=723729, 20_avg_episodic_return=1.0, curiosity_reward=0.3219660222530365\n",
            "step=724177, 20_avg_episodic_return=1.0, curiosity_reward=0.32567787170410156\n",
            "step=724533, 20_avg_episodic_return=1.0, curiosity_reward=0.32843825221061707\n",
            "step=725074, 20_avg_episodic_return=1.0, curiosity_reward=0.33896854519844055\n",
            "step=725467, 20_avg_episodic_return=1.0, curiosity_reward=0.3615451753139496\n",
            "step=725805, 20_avg_episodic_return=1.0, curiosity_reward=0.33599022030830383\n",
            "step=726360, 20_avg_episodic_return=1.0, curiosity_reward=0.3388392925262451\n",
            "step=726685, 20_avg_episodic_return=1.0, curiosity_reward=0.36214178800582886\n",
            "step=727063, 20_avg_episodic_return=1.0, curiosity_reward=0.3487601578235626\n",
            "step=727622, 20_avg_episodic_return=1.0, curiosity_reward=0.33334943652153015\n",
            "step=727944, 20_avg_episodic_return=1.0, curiosity_reward=0.31963977217674255\n",
            "step=728357, 20_avg_episodic_return=1.0, curiosity_reward=0.320808082818985\n",
            "step=728971, 20_avg_episodic_return=1.0, curiosity_reward=0.31284627318382263\n",
            "step=729548, 20_avg_episodic_return=1.0, curiosity_reward=0.32869401574134827\n",
            "step=729851, 20_avg_episodic_return=1.0, curiosity_reward=0.321381151676178\n",
            "step=730273, 20_avg_episodic_return=1.0, curiosity_reward=0.3253272473812103\n",
            "step=730770, 20_avg_episodic_return=1.0, curiosity_reward=0.31349313259124756\n",
            "step=731161, 20_avg_episodic_return=1.0, curiosity_reward=0.33521467447280884\n",
            "step=731716, 20_avg_episodic_return=1.0, curiosity_reward=0.3214980661869049\n",
            "step=732192, 20_avg_episodic_return=1.0, curiosity_reward=0.32762065529823303\n",
            "step=732701, 20_avg_episodic_return=1.0, curiosity_reward=0.3524390459060669\n",
            "step=733078, 20_avg_episodic_return=1.0, curiosity_reward=0.3914673924446106\n",
            "step=733484, 20_avg_episodic_return=1.0, curiosity_reward=0.3631829619407654\n",
            "step=733999, 20_avg_episodic_return=1.0, curiosity_reward=0.3590238094329834\n",
            "step=734424, 20_avg_episodic_return=1.0, curiosity_reward=0.33792418241500854\n",
            "step=734867, 20_avg_episodic_return=1.0, curiosity_reward=0.35607820749282837\n",
            "step=735214, 20_avg_episodic_return=1.0, curiosity_reward=0.3622722625732422\n",
            "step=735715, 20_avg_episodic_return=1.0, curiosity_reward=0.3581469655036926\n",
            "step=736197, 20_avg_episodic_return=1.0, curiosity_reward=0.3589990735054016\n",
            "step=736528, 20_avg_episodic_return=1.0, curiosity_reward=0.36107152700424194\n",
            "step=737017, 20_avg_episodic_return=1.0, curiosity_reward=0.35367336869239807\n",
            "step=737546, 20_avg_episodic_return=1.0, curiosity_reward=0.3426727056503296\n",
            "step=738138, 20_avg_episodic_return=1.0, curiosity_reward=0.37170177698135376\n",
            "step=738492, 20_avg_episodic_return=1.0, curiosity_reward=0.36318182945251465\n",
            "step=738804, 20_avg_episodic_return=1.0, curiosity_reward=0.36243343353271484\n",
            "step=739272, 20_avg_episodic_return=1.0, curiosity_reward=0.3660568296909332\n",
            "step=739662, 20_avg_episodic_return=1.0, curiosity_reward=0.3362790644168854\n",
            "step=740194, 20_avg_episodic_return=1.0, curiosity_reward=0.33239397406578064\n",
            "step=740627, 20_avg_episodic_return=1.0, curiosity_reward=0.33285921812057495\n",
            "step=741161, 20_avg_episodic_return=1.0, curiosity_reward=0.30769282579421997\n",
            "step=741725, 20_avg_episodic_return=1.0, curiosity_reward=0.3152768313884735\n",
            "step=742181, 20_avg_episodic_return=1.0, curiosity_reward=0.36149150133132935\n",
            "step=742397, 20_avg_episodic_return=1.0, curiosity_reward=0.35139989852905273\n",
            "step=742806, 20_avg_episodic_return=1.0, curiosity_reward=0.3704190254211426\n",
            "step=743414, 20_avg_episodic_return=1.0, curiosity_reward=0.3420153558254242\n",
            "step=743881, 20_avg_episodic_return=1.0, curiosity_reward=0.3387311100959778\n",
            "step=744266, 20_avg_episodic_return=1.0, curiosity_reward=0.3146287798881531\n",
            "step=744670, 20_avg_episodic_return=1.0, curiosity_reward=0.34190240502357483\n",
            "step=745289, 20_avg_episodic_return=1.0, curiosity_reward=0.3069700598716736\n",
            "step=745759, 20_avg_episodic_return=1.0, curiosity_reward=0.346395879983902\n",
            "step=746248, 20_avg_episodic_return=1.0, curiosity_reward=0.36266887187957764\n",
            "step=746590, 20_avg_episodic_return=1.0, curiosity_reward=0.3594505786895752\n",
            "step=746972, 20_avg_episodic_return=1.0, curiosity_reward=0.3623521327972412\n",
            "step=747458, 20_avg_episodic_return=1.0, curiosity_reward=0.33824729919433594\n",
            "step=748132, 20_avg_episodic_return=1.0, curiosity_reward=0.31513872742652893\n",
            "step=748575, 20_avg_episodic_return=1.0, curiosity_reward=0.3521457314491272\n",
            "step=749008, 20_avg_episodic_return=1.0, curiosity_reward=0.35232558846473694\n",
            "step=749410, 20_avg_episodic_return=1.0, curiosity_reward=0.33825594186782837\n",
            "step=749915, 20_avg_episodic_return=1.0, curiosity_reward=0.3660198450088501\n",
            "step=750382, 20_avg_episodic_return=1.0, curiosity_reward=0.3473702073097229\n",
            "step=750758, 20_avg_episodic_return=1.0, curiosity_reward=0.3487398028373718\n",
            "step=751174, 20_avg_episodic_return=1.0, curiosity_reward=0.31960010528564453\n",
            "step=751618, 20_avg_episodic_return=1.0, curiosity_reward=0.34035712480545044\n",
            "step=752046, 20_avg_episodic_return=1.0, curiosity_reward=0.34332045912742615\n",
            "step=752383, 20_avg_episodic_return=1.0, curiosity_reward=0.32908695936203003\n",
            "step=752908, 20_avg_episodic_return=1.0, curiosity_reward=0.3310947120189667\n",
            "step=753321, 20_avg_episodic_return=1.0, curiosity_reward=0.3303467333316803\n",
            "step=753618, 20_avg_episodic_return=1.0, curiosity_reward=0.3304024338722229\n",
            "step=754136, 20_avg_episodic_return=1.0, curiosity_reward=0.3458712697029114\n",
            "step=754573, 20_avg_episodic_return=1.0, curiosity_reward=0.3486720025539398\n",
            "step=755020, 20_avg_episodic_return=1.0, curiosity_reward=0.31317758560180664\n",
            "step=755542, 20_avg_episodic_return=1.0, curiosity_reward=0.31859737634658813\n",
            "step=755958, 20_avg_episodic_return=1.0, curiosity_reward=0.3549644351005554\n",
            "step=756355, 20_avg_episodic_return=1.0, curiosity_reward=0.3397727608680725\n",
            "step=756834, 20_avg_episodic_return=1.0, curiosity_reward=0.35370713472366333\n",
            "step=757179, 20_avg_episodic_return=1.0, curiosity_reward=0.3835655450820923\n",
            "step=757716, 20_avg_episodic_return=1.0, curiosity_reward=0.3715655207633972\n",
            "step=758160, 20_avg_episodic_return=1.0, curiosity_reward=0.35120147466659546\n",
            "step=758522, 20_avg_episodic_return=1.0, curiosity_reward=0.33291834592819214\n",
            "step=758855, 20_avg_episodic_return=1.0, curiosity_reward=0.3424402177333832\n",
            "step=759369, 20_avg_episodic_return=1.0, curiosity_reward=0.3326130211353302\n",
            "step=759924, 20_avg_episodic_return=1.0, curiosity_reward=0.3201562762260437\n",
            "step=760278, 20_avg_episodic_return=1.0, curiosity_reward=0.3480250835418701\n",
            "step=760627, 20_avg_episodic_return=1.0, curiosity_reward=0.34718620777130127\n",
            "step=761035, 20_avg_episodic_return=1.0, curiosity_reward=0.33351048827171326\n",
            "step=761501, 20_avg_episodic_return=1.0, curiosity_reward=0.35029932856559753\n",
            "step=761942, 20_avg_episodic_return=1.0, curiosity_reward=0.33664608001708984\n",
            "step=762408, 20_avg_episodic_return=1.0, curiosity_reward=0.33109068870544434\n",
            "step=762818, 20_avg_episodic_return=1.0, curiosity_reward=0.30169597268104553\n",
            "step=763356, 20_avg_episodic_return=1.0, curiosity_reward=0.32759079337120056\n",
            "step=763785, 20_avg_episodic_return=1.0, curiosity_reward=0.31232210993766785\n",
            "step=764276, 20_avg_episodic_return=1.0, curiosity_reward=0.34371253848075867\n",
            "step=764572, 20_avg_episodic_return=1.0, curiosity_reward=0.37121638655662537\n",
            "step=764987, 20_avg_episodic_return=1.0, curiosity_reward=0.37383797764778137\n",
            "step=765479, 20_avg_episodic_return=1.0, curiosity_reward=0.3394007086753845\n",
            "step=765861, 20_avg_episodic_return=1.0, curiosity_reward=0.35677632689476013\n",
            "step=766207, 20_avg_episodic_return=1.0, curiosity_reward=0.3459549844264984\n",
            "step=766565, 20_avg_episodic_return=1.0, curiosity_reward=0.3216632306575775\n",
            "step=767051, 20_avg_episodic_return=1.0, curiosity_reward=0.3197050094604492\n",
            "step=767514, 20_avg_episodic_return=1.0, curiosity_reward=0.33116769790649414\n",
            "step=767932, 20_avg_episodic_return=1.0, curiosity_reward=0.3161938786506653\n",
            "step=768377, 20_avg_episodic_return=1.0, curiosity_reward=0.3245585262775421\n",
            "step=768781, 20_avg_episodic_return=1.0, curiosity_reward=0.3320654332637787\n",
            "step=769269, 20_avg_episodic_return=1.0, curiosity_reward=0.34398356080055237\n",
            "step=769614, 20_avg_episodic_return=1.0, curiosity_reward=0.3413940966129303\n",
            "step=770110, 20_avg_episodic_return=1.0, curiosity_reward=0.3361065983772278\n",
            "step=770498, 20_avg_episodic_return=1.0, curiosity_reward=0.33136874437332153\n",
            "step=771001, 20_avg_episodic_return=1.0, curiosity_reward=0.3097572922706604\n",
            "step=771561, 20_avg_episodic_return=1.0, curiosity_reward=0.3186655044555664\n",
            "step=771889, 20_avg_episodic_return=1.0, curiosity_reward=0.32324689626693726\n",
            "step=772286, 20_avg_episodic_return=1.0, curiosity_reward=0.3518858850002289\n",
            "step=772656, 20_avg_episodic_return=1.0, curiosity_reward=0.352232962846756\n",
            "step=773127, 20_avg_episodic_return=1.0, curiosity_reward=0.31783923506736755\n",
            "step=773457, 20_avg_episodic_return=1.0, curiosity_reward=0.3197236657142639\n",
            "step=774033, 20_avg_episodic_return=1.0, curiosity_reward=0.3085404336452484\n",
            "step=774351, 20_avg_episodic_return=1.0, curiosity_reward=0.29632657766342163\n",
            "step=774888, 20_avg_episodic_return=1.0, curiosity_reward=0.32681214809417725\n",
            "step=775299, 20_avg_episodic_return=1.0, curiosity_reward=0.3452657461166382\n",
            "step=775629, 20_avg_episodic_return=1.0, curiosity_reward=0.32174068689346313\n",
            "step=775941, 20_avg_episodic_return=1.0, curiosity_reward=0.3317030966281891\n",
            "step=776306, 20_avg_episodic_return=1.0, curiosity_reward=0.32473164796829224\n",
            "step=776995, 20_avg_episodic_return=1.0, curiosity_reward=0.33037370443344116\n",
            "step=777377, 20_avg_episodic_return=1.0, curiosity_reward=0.32269537448883057\n",
            "step=777754, 20_avg_episodic_return=1.0, curiosity_reward=0.34756892919540405\n",
            "step=778171, 20_avg_episodic_return=1.0, curiosity_reward=0.3691712021827698\n",
            "step=778705, 20_avg_episodic_return=1.0, curiosity_reward=0.332791268825531\n",
            "step=779256, 20_avg_episodic_return=1.0, curiosity_reward=0.31125834584236145\n",
            "step=779593, 20_avg_episodic_return=1.0, curiosity_reward=0.3406570255756378\n",
            "step=780065, 20_avg_episodic_return=1.0, curiosity_reward=0.3370587229728699\n",
            "step=780369, 20_avg_episodic_return=1.0, curiosity_reward=0.31705442070961\n",
            "step=780930, 20_avg_episodic_return=1.0, curiosity_reward=0.3436048626899719\n",
            "step=781396, 20_avg_episodic_return=1.0, curiosity_reward=0.32439374923706055\n",
            "step=781900, 20_avg_episodic_return=1.0, curiosity_reward=0.3129488527774811\n",
            "step=782375, 20_avg_episodic_return=1.0, curiosity_reward=0.303484171628952\n",
            "step=782777, 20_avg_episodic_return=1.0, curiosity_reward=0.3210795819759369\n",
            "step=783306, 20_avg_episodic_return=1.0, curiosity_reward=0.31621405482292175\n",
            "step=783775, 20_avg_episodic_return=1.0, curiosity_reward=0.31401848793029785\n",
            "step=783990, 20_avg_episodic_return=1.0, curiosity_reward=0.32899752259254456\n",
            "step=784397, 20_avg_episodic_return=1.0, curiosity_reward=0.35390371084213257\n",
            "step=785073, 20_avg_episodic_return=1.0, curiosity_reward=0.3206096291542053\n",
            "step=785427, 20_avg_episodic_return=1.0, curiosity_reward=0.33596011996269226\n",
            "step=785904, 20_avg_episodic_return=1.0, curiosity_reward=0.33475083112716675\n",
            "step=786310, 20_avg_episodic_return=1.0, curiosity_reward=0.3165045380592346\n",
            "step=786899, 20_avg_episodic_return=1.0, curiosity_reward=0.30062171816825867\n",
            "step=787297, 20_avg_episodic_return=1.0, curiosity_reward=0.3299714922904968\n",
            "step=787856, 20_avg_episodic_return=1.0, curiosity_reward=0.3313259482383728\n",
            "step=788259, 20_avg_episodic_return=1.0, curiosity_reward=0.3207971453666687\n",
            "step=788586, 20_avg_episodic_return=1.0, curiosity_reward=0.3650795519351959\n",
            "step=789002, 20_avg_episodic_return=1.0, curiosity_reward=0.3402138650417328\n",
            "step=789395, 20_avg_episodic_return=1.0, curiosity_reward=0.31790947914123535\n",
            "step=789956, 20_avg_episodic_return=1.0, curiosity_reward=0.3069689869880676\n",
            "step=790377, 20_avg_episodic_return=1.0, curiosity_reward=0.30151209235191345\n",
            "step=790775, 20_avg_episodic_return=1.0, curiosity_reward=0.3300769031047821\n",
            "step=791186, 20_avg_episodic_return=1.0, curiosity_reward=0.3478071689605713\n",
            "step=791686, 20_avg_episodic_return=1.0, curiosity_reward=0.3189923167228699\n",
            "step=792078, 20_avg_episodic_return=1.0, curiosity_reward=0.32939764857292175\n",
            "step=792500, 20_avg_episodic_return=1.0, curiosity_reward=0.34427908062934875\n",
            "step=792835, 20_avg_episodic_return=1.0, curiosity_reward=0.33130770921707153\n",
            "step=793151, 20_avg_episodic_return=1.0, curiosity_reward=0.31940746307373047\n",
            "step=793555, 20_avg_episodic_return=1.0, curiosity_reward=0.3042876124382019\n",
            "step=794076, 20_avg_episodic_return=1.0, curiosity_reward=0.284478098154068\n",
            "step=794513, 20_avg_episodic_return=1.0, curiosity_reward=0.2816179096698761\n",
            "step=794896, 20_avg_episodic_return=1.0, curiosity_reward=0.29747357964515686\n",
            "step=795170, 20_avg_episodic_return=1.0, curiosity_reward=0.32470211386680603\n",
            "step=795632, 20_avg_episodic_return=1.0, curiosity_reward=0.29660606384277344\n",
            "step=796078, 20_avg_episodic_return=1.0, curiosity_reward=0.32143300771713257\n",
            "step=796488, 20_avg_episodic_return=1.0, curiosity_reward=0.31682705879211426\n",
            "step=796952, 20_avg_episodic_return=1.0, curiosity_reward=0.30349859595298767\n",
            "step=797459, 20_avg_episodic_return=1.0, curiosity_reward=0.3036212623119354\n",
            "step=797805, 20_avg_episodic_return=1.0, curiosity_reward=0.30098557472229004\n",
            "step=798224, 20_avg_episodic_return=1.0, curiosity_reward=0.31639742851257324\n",
            "step=798718, 20_avg_episodic_return=1.0, curiosity_reward=0.299176961183548\n",
            "step=799206, 20_avg_episodic_return=1.0, curiosity_reward=0.31740885972976685\n",
            "step=799563, 20_avg_episodic_return=1.0, curiosity_reward=0.3345622420310974\n",
            "step=800000, 20_avg_episodic_return=1.0, curiosity_reward=0.32589191198349\n",
            "step=800360, 20_avg_episodic_return=1.0, curiosity_reward=0.3151187300682068\n",
            "step=800940, 20_avg_episodic_return=1.0, curiosity_reward=0.3051045536994934\n",
            "step=801537, 20_avg_episodic_return=1.0, curiosity_reward=0.31037062406539917\n",
            "step=801785, 20_avg_episodic_return=1.0, curiosity_reward=0.33134302496910095\n",
            "step=802191, 20_avg_episodic_return=1.0, curiosity_reward=0.3399547040462494\n",
            "step=802522, 20_avg_episodic_return=1.0, curiosity_reward=0.3131552040576935\n",
            "step=802958, 20_avg_episodic_return=1.0, curiosity_reward=0.3106321692466736\n",
            "step=803411, 20_avg_episodic_return=1.0, curiosity_reward=0.30326738953590393\n",
            "step=803837, 20_avg_episodic_return=1.0, curiosity_reward=0.3323267102241516\n",
            "step=804158, 20_avg_episodic_return=1.0, curiosity_reward=0.35308048129081726\n",
            "step=804668, 20_avg_episodic_return=1.0, curiosity_reward=0.32622697949409485\n",
            "step=805082, 20_avg_episodic_return=1.0, curiosity_reward=0.33686691522598267\n",
            "step=805450, 20_avg_episodic_return=1.0, curiosity_reward=0.32206758856773376\n",
            "step=805745, 20_avg_episodic_return=1.0, curiosity_reward=0.3149815499782562\n",
            "step=806252, 20_avg_episodic_return=1.0, curiosity_reward=0.3143390715122223\n",
            "step=806725, 20_avg_episodic_return=1.0, curiosity_reward=0.3367444574832916\n",
            "step=807017, 20_avg_episodic_return=1.0, curiosity_reward=0.326470285654068\n",
            "step=807393, 20_avg_episodic_return=1.0, curiosity_reward=0.3140355050563812\n",
            "step=807914, 20_avg_episodic_return=1.0, curiosity_reward=0.31430503726005554\n",
            "step=808340, 20_avg_episodic_return=1.0, curiosity_reward=0.30965638160705566\n",
            "step=808732, 20_avg_episodic_return=1.0, curiosity_reward=0.3221803307533264\n",
            "step=809106, 20_avg_episodic_return=1.0, curiosity_reward=0.3118789792060852\n",
            "step=809513, 20_avg_episodic_return=1.0, curiosity_reward=0.2958552837371826\n",
            "step=810041, 20_avg_episodic_return=1.0, curiosity_reward=0.32174021005630493\n",
            "step=810374, 20_avg_episodic_return=1.0, curiosity_reward=0.3273774981498718\n",
            "step=810889, 20_avg_episodic_return=1.0, curiosity_reward=0.3105527460575104\n",
            "step=811287, 20_avg_episodic_return=1.0, curiosity_reward=0.3265828490257263\n",
            "step=811658, 20_avg_episodic_return=1.0, curiosity_reward=0.342986524105072\n",
            "step=812038, 20_avg_episodic_return=1.0, curiosity_reward=0.3206598162651062\n",
            "step=812563, 20_avg_episodic_return=1.0, curiosity_reward=0.3325788080692291\n",
            "step=813109, 20_avg_episodic_return=1.0, curiosity_reward=0.32903677225112915\n",
            "step=813441, 20_avg_episodic_return=1.0, curiosity_reward=0.3332881033420563\n",
            "step=813798, 20_avg_episodic_return=1.0, curiosity_reward=0.34836095571517944\n",
            "step=814158, 20_avg_episodic_return=1.0, curiosity_reward=0.3211140036582947\n",
            "step=814510, 20_avg_episodic_return=1.0, curiosity_reward=0.29395997524261475\n",
            "step=815025, 20_avg_episodic_return=1.0, curiosity_reward=0.33075883984565735\n",
            "step=815435, 20_avg_episodic_return=1.0, curiosity_reward=0.35570621490478516\n",
            "step=815771, 20_avg_episodic_return=1.0, curiosity_reward=0.36086827516555786\n",
            "step=816194, 20_avg_episodic_return=1.0, curiosity_reward=0.35824480652809143\n",
            "step=816526, 20_avg_episodic_return=1.0, curiosity_reward=0.3612332046031952\n",
            "step=817026, 20_avg_episodic_return=1.0, curiosity_reward=0.35155242681503296\n",
            "step=817536, 20_avg_episodic_return=1.0, curiosity_reward=0.3358615040779114\n",
            "step=817908, 20_avg_episodic_return=1.0, curiosity_reward=0.3283683955669403\n",
            "step=818410, 20_avg_episodic_return=1.0, curiosity_reward=0.32699325680732727\n",
            "step=818795, 20_avg_episodic_return=1.0, curiosity_reward=0.3397879898548126\n",
            "step=819240, 20_avg_episodic_return=1.0, curiosity_reward=0.33253607153892517\n",
            "step=819577, 20_avg_episodic_return=1.0, curiosity_reward=0.30348068475723267\n",
            "step=820005, 20_avg_episodic_return=1.0, curiosity_reward=0.3128507137298584\n",
            "step=820471, 20_avg_episodic_return=1.0, curiosity_reward=0.3202976584434509\n",
            "step=820824, 20_avg_episodic_return=1.0, curiosity_reward=0.3404156565666199\n",
            "step=821124, 20_avg_episodic_return=1.0, curiosity_reward=0.3383429944515228\n",
            "step=821369, 20_avg_episodic_return=1.0, curiosity_reward=0.3513105511665344\n",
            "step=821944, 20_avg_episodic_return=1.0, curiosity_reward=0.3137471377849579\n",
            "step=822246, 20_avg_episodic_return=1.0, curiosity_reward=0.3133814334869385\n",
            "step=822648, 20_avg_episodic_return=1.0, curiosity_reward=0.32548943161964417\n",
            "step=823067, 20_avg_episodic_return=1.0, curiosity_reward=0.33595484495162964\n",
            "step=823418, 20_avg_episodic_return=1.0, curiosity_reward=0.29189857840538025\n",
            "step=823845, 20_avg_episodic_return=1.0, curiosity_reward=0.3222030997276306\n",
            "step=824322, 20_avg_episodic_return=1.0, curiosity_reward=0.30716368556022644\n",
            "step=824888, 20_avg_episodic_return=1.0, curiosity_reward=0.33502981066703796\n",
            "step=825197, 20_avg_episodic_return=1.0, curiosity_reward=0.34356698393821716\n",
            "step=825519, 20_avg_episodic_return=1.0, curiosity_reward=0.35635024309158325\n",
            "step=825863, 20_avg_episodic_return=1.0, curiosity_reward=0.3103383183479309\n",
            "step=826419, 20_avg_episodic_return=1.0, curiosity_reward=0.3102991580963135\n",
            "step=826794, 20_avg_episodic_return=1.0, curiosity_reward=0.3177429139614105\n",
            "step=827180, 20_avg_episodic_return=1.0, curiosity_reward=0.323924720287323\n",
            "step=827642, 20_avg_episodic_return=1.0, curiosity_reward=0.3129770755767822\n",
            "step=828035, 20_avg_episodic_return=1.0, curiosity_reward=0.3080715239048004\n",
            "step=828489, 20_avg_episodic_return=1.0, curiosity_reward=0.3226633667945862\n",
            "step=828876, 20_avg_episodic_return=1.0, curiosity_reward=0.3472878336906433\n",
            "step=829350, 20_avg_episodic_return=1.0, curiosity_reward=0.3020678758621216\n",
            "step=829615, 20_avg_episodic_return=1.0, curiosity_reward=0.33683472871780396\n",
            "step=830075, 20_avg_episodic_return=1.0, curiosity_reward=0.3139689862728119\n",
            "step=830410, 20_avg_episodic_return=1.0, curiosity_reward=0.3200083374977112\n",
            "step=831001, 20_avg_episodic_return=1.0, curiosity_reward=0.34266385436058044\n",
            "step=831346, 20_avg_episodic_return=1.0, curiosity_reward=0.3365607261657715\n",
            "step=831799, 20_avg_episodic_return=1.0, curiosity_reward=0.35337400436401367\n",
            "step=832146, 20_avg_episodic_return=1.0, curiosity_reward=0.3026740550994873\n",
            "step=832545, 20_avg_episodic_return=1.0, curiosity_reward=0.2988138794898987\n",
            "step=832993, 20_avg_episodic_return=1.0, curiosity_reward=0.32469478249549866\n",
            "step=833345, 20_avg_episodic_return=1.0, curiosity_reward=0.31016770005226135\n",
            "step=833688, 20_avg_episodic_return=1.0, curiosity_reward=0.33130425214767456\n",
            "step=834129, 20_avg_episodic_return=1.0, curiosity_reward=0.32778602838516235\n",
            "step=834564, 20_avg_episodic_return=1.0, curiosity_reward=0.32647937536239624\n",
            "step=834943, 20_avg_episodic_return=1.0, curiosity_reward=0.34953969717025757\n",
            "step=835231, 20_avg_episodic_return=1.0, curiosity_reward=0.3415723741054535\n",
            "step=835614, 20_avg_episodic_return=1.0, curiosity_reward=0.31010332703590393\n",
            "step=836277, 20_avg_episodic_return=1.0, curiosity_reward=0.2982082664966583\n",
            "step=836741, 20_avg_episodic_return=1.0, curiosity_reward=0.3167249858379364\n",
            "step=837054, 20_avg_episodic_return=1.0, curiosity_reward=0.32154712080955505\n",
            "step=837440, 20_avg_episodic_return=1.0, curiosity_reward=0.3495580852031708\n",
            "step=837754, 20_avg_episodic_return=1.0, curiosity_reward=0.33323293924331665\n",
            "step=838089, 20_avg_episodic_return=1.0, curiosity_reward=0.33664098381996155\n",
            "step=838508, 20_avg_episodic_return=1.0, curiosity_reward=0.3154972493648529\n",
            "step=838974, 20_avg_episodic_return=1.0, curiosity_reward=0.3174799084663391\n",
            "step=839466, 20_avg_episodic_return=1.0, curiosity_reward=0.34181734919548035\n",
            "step=839879, 20_avg_episodic_return=1.0, curiosity_reward=0.31713008880615234\n",
            "step=840193, 20_avg_episodic_return=1.0, curiosity_reward=0.3243160843849182\n",
            "step=840707, 20_avg_episodic_return=1.0, curiosity_reward=0.3489898443222046\n",
            "step=841096, 20_avg_episodic_return=1.0, curiosity_reward=0.3230223059654236\n",
            "step=841543, 20_avg_episodic_return=1.0, curiosity_reward=0.3572404384613037\n",
            "step=841844, 20_avg_episodic_return=1.0, curiosity_reward=0.34925323724746704\n",
            "step=842193, 20_avg_episodic_return=1.0, curiosity_reward=0.3371492922306061\n",
            "step=842600, 20_avg_episodic_return=1.0, curiosity_reward=0.3274827003479004\n",
            "step=843031, 20_avg_episodic_return=1.0, curiosity_reward=0.3079721927642822\n",
            "step=843446, 20_avg_episodic_return=1.0, curiosity_reward=0.3047964572906494\n",
            "step=844041, 20_avg_episodic_return=1.0, curiosity_reward=0.32510906457901\n",
            "step=844338, 20_avg_episodic_return=1.0, curiosity_reward=0.3169523775577545\n",
            "step=844788, 20_avg_episodic_return=1.0, curiosity_reward=0.3490957021713257\n",
            "step=845256, 20_avg_episodic_return=1.0, curiosity_reward=0.3478463590145111\n",
            "step=845649, 20_avg_episodic_return=1.0, curiosity_reward=0.35682347416877747\n",
            "step=846140, 20_avg_episodic_return=1.0, curiosity_reward=0.31624969840049744\n",
            "step=846523, 20_avg_episodic_return=1.0, curiosity_reward=0.310924768447876\n",
            "step=846785, 20_avg_episodic_return=1.0, curiosity_reward=0.3097975552082062\n",
            "step=847182, 20_avg_episodic_return=1.0, curiosity_reward=0.29740384221076965\n",
            "step=847716, 20_avg_episodic_return=1.0, curiosity_reward=0.2955087721347809\n",
            "step=848041, 20_avg_episodic_return=1.0, curiosity_reward=0.3060327172279358\n",
            "step=848461, 20_avg_episodic_return=1.0, curiosity_reward=0.3218032717704773\n",
            "step=848866, 20_avg_episodic_return=1.0, curiosity_reward=0.32300442457199097\n",
            "step=849302, 20_avg_episodic_return=1.0, curiosity_reward=0.306466281414032\n",
            "step=849719, 20_avg_episodic_return=1.0, curiosity_reward=0.32012367248535156\n",
            "step=850022, 20_avg_episodic_return=1.0, curiosity_reward=0.30889827013015747\n",
            "step=850405, 20_avg_episodic_return=1.0, curiosity_reward=0.31019172072410583\n",
            "step=851135, 20_avg_episodic_return=1.0, curiosity_reward=0.28746169805526733\n",
            "step=851501, 20_avg_episodic_return=1.0, curiosity_reward=0.3014650344848633\n",
            "step=851840, 20_avg_episodic_return=1.0, curiosity_reward=0.2964971959590912\n",
            "step=852235, 20_avg_episodic_return=1.0, curiosity_reward=0.3217734694480896\n",
            "step=852669, 20_avg_episodic_return=1.0, curiosity_reward=0.3122856020927429\n",
            "step=853034, 20_avg_episodic_return=1.0, curiosity_reward=0.31614598631858826\n",
            "step=853389, 20_avg_episodic_return=1.0, curiosity_reward=0.32818856835365295\n",
            "step=853764, 20_avg_episodic_return=1.0, curiosity_reward=0.3187396228313446\n",
            "step=854257, 20_avg_episodic_return=1.0, curiosity_reward=0.32021015882492065\n",
            "step=854799, 20_avg_episodic_return=1.0, curiosity_reward=0.31106847524642944\n",
            "step=855370, 20_avg_episodic_return=1.0, curiosity_reward=0.327254056930542\n",
            "step=855662, 20_avg_episodic_return=1.0, curiosity_reward=0.3455163836479187\n",
            "step=856042, 20_avg_episodic_return=1.0, curiosity_reward=0.32650700211524963\n",
            "step=856428, 20_avg_episodic_return=1.0, curiosity_reward=0.3560780882835388\n",
            "step=856739, 20_avg_episodic_return=1.0, curiosity_reward=0.34145495295524597\n",
            "step=857427, 20_avg_episodic_return=1.0, curiosity_reward=0.3333904445171356\n",
            "step=857727, 20_avg_episodic_return=1.0, curiosity_reward=0.3225831985473633\n",
            "step=858090, 20_avg_episodic_return=1.0, curiosity_reward=0.3175394535064697\n",
            "step=858703, 20_avg_episodic_return=1.0, curiosity_reward=0.33716052770614624\n",
            "step=858995, 20_avg_episodic_return=1.0, curiosity_reward=0.3295624256134033\n",
            "step=859390, 20_avg_episodic_return=1.0, curiosity_reward=0.3300843834877014\n",
            "step=859750, 20_avg_episodic_return=1.0, curiosity_reward=0.3096919655799866\n",
            "step=860252, 20_avg_episodic_return=1.0, curiosity_reward=0.30975252389907837\n",
            "step=860549, 20_avg_episodic_return=1.0, curiosity_reward=0.30899351835250854\n",
            "step=861124, 20_avg_episodic_return=1.0, curiosity_reward=0.30318665504455566\n",
            "step=861512, 20_avg_episodic_return=1.0, curiosity_reward=0.32419413328170776\n",
            "step=861888, 20_avg_episodic_return=1.0, curiosity_reward=0.3278428912162781\n",
            "step=862295, 20_avg_episodic_return=1.0, curiosity_reward=0.3265502452850342\n",
            "step=862647, 20_avg_episodic_return=1.0, curiosity_reward=0.30847233533859253\n",
            "step=863062, 20_avg_episodic_return=1.0, curiosity_reward=0.31872087717056274\n",
            "step=863538, 20_avg_episodic_return=1.0, curiosity_reward=0.3322128653526306\n",
            "step=863850, 20_avg_episodic_return=1.0, curiosity_reward=0.3186401426792145\n",
            "step=864301, 20_avg_episodic_return=1.0, curiosity_reward=0.3098430633544922\n",
            "step=864735, 20_avg_episodic_return=1.0, curiosity_reward=0.3003196120262146\n",
            "step=865214, 20_avg_episodic_return=1.0, curiosity_reward=0.3178401589393616\n",
            "step=865637, 20_avg_episodic_return=1.0, curiosity_reward=0.31324100494384766\n",
            "step=865956, 20_avg_episodic_return=1.0, curiosity_reward=0.3201913833618164\n",
            "step=866369, 20_avg_episodic_return=1.0, curiosity_reward=0.32551130652427673\n",
            "step=866665, 20_avg_episodic_return=1.0, curiosity_reward=0.3399251699447632\n",
            "step=867173, 20_avg_episodic_return=1.0, curiosity_reward=0.3080381453037262\n",
            "step=867652, 20_avg_episodic_return=1.0, curiosity_reward=0.32556432485580444\n",
            "step=868047, 20_avg_episodic_return=1.0, curiosity_reward=0.32334569096565247\n",
            "step=868417, 20_avg_episodic_return=1.0, curiosity_reward=0.29691487550735474\n",
            "step=868873, 20_avg_episodic_return=1.0, curiosity_reward=0.3024307191371918\n",
            "step=869243, 20_avg_episodic_return=1.0, curiosity_reward=0.30380576848983765\n",
            "step=869532, 20_avg_episodic_return=1.0, curiosity_reward=0.28856387734413147\n",
            "step=870021, 20_avg_episodic_return=1.0, curiosity_reward=0.31279227137565613\n",
            "step=870342, 20_avg_episodic_return=1.0, curiosity_reward=0.3224821090698242\n",
            "step=870808, 20_avg_episodic_return=1.0, curiosity_reward=0.3298230469226837\n",
            "step=871041, 20_avg_episodic_return=1.0, curiosity_reward=0.3220214247703552\n",
            "step=871418, 20_avg_episodic_return=1.0, curiosity_reward=0.31386038661003113\n",
            "step=871941, 20_avg_episodic_return=1.0, curiosity_reward=0.31344074010849\n",
            "step=872297, 20_avg_episodic_return=1.0, curiosity_reward=0.30841177701950073\n",
            "step=872763, 20_avg_episodic_return=1.0, curiosity_reward=0.3312171399593353\n",
            "step=873142, 20_avg_episodic_return=1.0, curiosity_reward=0.34765419363975525\n",
            "step=873415, 20_avg_episodic_return=1.0, curiosity_reward=0.3395082354545593\n",
            "step=873748, 20_avg_episodic_return=1.0, curiosity_reward=0.3293713331222534\n",
            "step=874206, 20_avg_episodic_return=1.0, curiosity_reward=0.3144049048423767\n",
            "step=874676, 20_avg_episodic_return=1.0, curiosity_reward=0.3374694883823395\n",
            "step=875049, 20_avg_episodic_return=1.0, curiosity_reward=0.33460164070129395\n",
            "step=875381, 20_avg_episodic_return=1.0, curiosity_reward=0.3494930565357208\n",
            "step=875679, 20_avg_episodic_return=1.0, curiosity_reward=0.3404315114021301\n",
            "step=876064, 20_avg_episodic_return=1.0, curiosity_reward=0.32356470823287964\n",
            "step=876394, 20_avg_episodic_return=1.0, curiosity_reward=0.3096733093261719\n",
            "step=876924, 20_avg_episodic_return=1.0, curiosity_reward=0.29744964838027954\n",
            "step=877409, 20_avg_episodic_return=1.0, curiosity_reward=0.30843454599380493\n",
            "step=877777, 20_avg_episodic_return=1.0, curiosity_reward=0.3061564564704895\n",
            "step=878162, 20_avg_episodic_return=1.0, curiosity_reward=0.29049235582351685\n",
            "step=878684, 20_avg_episodic_return=1.0, curiosity_reward=0.29222553968429565\n",
            "step=879076, 20_avg_episodic_return=1.0, curiosity_reward=0.3017207682132721\n",
            "step=879380, 20_avg_episodic_return=1.0, curiosity_reward=0.2958141267299652\n",
            "step=879743, 20_avg_episodic_return=1.0, curiosity_reward=0.3127288818359375\n",
            "step=880288, 20_avg_episodic_return=1.0, curiosity_reward=0.2914797365665436\n",
            "step=880661, 20_avg_episodic_return=1.0, curiosity_reward=0.307964026927948\n",
            "step=881019, 20_avg_episodic_return=1.0, curiosity_reward=0.29030147194862366\n",
            "step=881326, 20_avg_episodic_return=1.0, curiosity_reward=0.3054657578468323\n",
            "step=881754, 20_avg_episodic_return=1.0, curiosity_reward=0.3195371627807617\n",
            "step=882267, 20_avg_episodic_return=1.0, curiosity_reward=0.30282196402549744\n",
            "step=882712, 20_avg_episodic_return=1.0, curiosity_reward=0.3295263648033142\n",
            "step=882986, 20_avg_episodic_return=1.0, curiosity_reward=0.33828306198120117\n",
            "step=883292, 20_avg_episodic_return=1.0, curiosity_reward=0.340030312538147\n",
            "step=883782, 20_avg_episodic_return=1.0, curiosity_reward=0.31522229313850403\n",
            "step=884263, 20_avg_episodic_return=1.0, curiosity_reward=0.2933867573738098\n",
            "step=884654, 20_avg_episodic_return=1.0, curiosity_reward=0.3029511868953705\n",
            "step=885123, 20_avg_episodic_return=1.0, curiosity_reward=0.3058529496192932\n",
            "step=885391, 20_avg_episodic_return=1.0, curiosity_reward=0.34344857931137085\n",
            "step=885681, 20_avg_episodic_return=1.0, curiosity_reward=0.34329289197921753\n",
            "step=886189, 20_avg_episodic_return=1.0, curiosity_reward=0.32000333070755005\n",
            "step=886501, 20_avg_episodic_return=1.0, curiosity_reward=0.3338969349861145\n",
            "step=886808, 20_avg_episodic_return=1.0, curiosity_reward=0.35640430450439453\n",
            "step=887105, 20_avg_episodic_return=1.0, curiosity_reward=0.3313194811344147\n",
            "step=887564, 20_avg_episodic_return=1.0, curiosity_reward=0.3171766698360443\n",
            "step=888141, 20_avg_episodic_return=1.0, curiosity_reward=0.3274732232093811\n",
            "step=888536, 20_avg_episodic_return=1.0, curiosity_reward=0.34988638758659363\n",
            "step=888799, 20_avg_episodic_return=1.0, curiosity_reward=0.35011038184165955\n",
            "step=889291, 20_avg_episodic_return=1.0, curiosity_reward=0.3186942934989929\n",
            "step=889808, 20_avg_episodic_return=1.0, curiosity_reward=0.31933221220970154\n",
            "step=890145, 20_avg_episodic_return=1.0, curiosity_reward=0.31784161925315857\n",
            "step=890584, 20_avg_episodic_return=1.0, curiosity_reward=0.3225093483924866\n",
            "step=890872, 20_avg_episodic_return=1.0, curiosity_reward=0.34135526418685913\n",
            "step=891243, 20_avg_episodic_return=1.0, curiosity_reward=0.32171279191970825\n",
            "step=891699, 20_avg_episodic_return=1.0, curiosity_reward=0.30626097321510315\n",
            "step=892104, 20_avg_episodic_return=1.0, curiosity_reward=0.32326072454452515\n",
            "step=892505, 20_avg_episodic_return=1.0, curiosity_reward=0.33138522505760193\n",
            "step=892975, 20_avg_episodic_return=1.0, curiosity_reward=0.3351602256298065\n",
            "step=893333, 20_avg_episodic_return=1.0, curiosity_reward=0.3322594463825226\n",
            "step=893727, 20_avg_episodic_return=1.0, curiosity_reward=0.33212020993232727\n",
            "step=894138, 20_avg_episodic_return=1.0, curiosity_reward=0.3290882706642151\n",
            "step=894550, 20_avg_episodic_return=1.0, curiosity_reward=0.3421790301799774\n",
            "step=894845, 20_avg_episodic_return=1.0, curiosity_reward=0.3207390308380127\n",
            "step=895174, 20_avg_episodic_return=1.0, curiosity_reward=0.31387075781822205\n",
            "step=895527, 20_avg_episodic_return=1.0, curiosity_reward=0.3294973373413086\n",
            "step=895998, 20_avg_episodic_return=1.0, curiosity_reward=0.30692824721336365\n",
            "step=896400, 20_avg_episodic_return=1.0, curiosity_reward=0.31357502937316895\n",
            "step=896640, 20_avg_episodic_return=1.0, curiosity_reward=0.3222481608390808\n",
            "step=897003, 20_avg_episodic_return=1.0, curiosity_reward=0.31157195568084717\n",
            "step=897489, 20_avg_episodic_return=1.0, curiosity_reward=0.2987537086009979\n",
            "step=898019, 20_avg_episodic_return=1.0, curiosity_reward=0.3048246204853058\n",
            "step=898327, 20_avg_episodic_return=1.0, curiosity_reward=0.27416688203811646\n",
            "step=898740, 20_avg_episodic_return=1.0, curiosity_reward=0.283453106880188\n",
            "step=899088, 20_avg_episodic_return=1.0, curiosity_reward=0.27632126212120056\n",
            "step=899404, 20_avg_episodic_return=1.0, curiosity_reward=0.30816930532455444\n",
            "step=899869, 20_avg_episodic_return=1.0, curiosity_reward=0.3119218349456787\n",
            "step=900345, 20_avg_episodic_return=1.0, curiosity_reward=0.3112066388130188\n",
            "step=900594, 20_avg_episodic_return=1.0, curiosity_reward=0.30060797929763794\n",
            "step=900955, 20_avg_episodic_return=1.0, curiosity_reward=0.3020005524158478\n",
            "step=901477, 20_avg_episodic_return=1.0, curiosity_reward=0.313365638256073\n",
            "step=901805, 20_avg_episodic_return=1.0, curiosity_reward=0.34609895944595337\n",
            "step=902098, 20_avg_episodic_return=1.0, curiosity_reward=0.3633202016353607\n",
            "step=902549, 20_avg_episodic_return=1.0, curiosity_reward=0.34003371000289917\n",
            "step=902955, 20_avg_episodic_return=1.0, curiosity_reward=0.34356921911239624\n",
            "step=903458, 20_avg_episodic_return=1.0, curiosity_reward=0.3368985950946808\n",
            "step=903735, 20_avg_episodic_return=1.0, curiosity_reward=0.3343564569950104\n",
            "step=904151, 20_avg_episodic_return=1.0, curiosity_reward=0.3390626311302185\n",
            "step=904501, 20_avg_episodic_return=1.0, curiosity_reward=0.31776198744773865\n",
            "step=904827, 20_avg_episodic_return=1.0, curiosity_reward=0.34758996963500977\n",
            "step=905330, 20_avg_episodic_return=1.0, curiosity_reward=0.3304923474788666\n",
            "step=905724, 20_avg_episodic_return=1.0, curiosity_reward=0.31993159651756287\n",
            "step=906022, 20_avg_episodic_return=1.0, curiosity_reward=0.3285846710205078\n",
            "step=906424, 20_avg_episodic_return=1.0, curiosity_reward=0.3144056499004364\n",
            "step=906773, 20_avg_episodic_return=1.0, curiosity_reward=0.30720019340515137\n",
            "step=907291, 20_avg_episodic_return=1.0, curiosity_reward=0.3081319332122803\n",
            "step=907694, 20_avg_episodic_return=1.0, curiosity_reward=0.32681789994239807\n",
            "step=908064, 20_avg_episodic_return=1.0, curiosity_reward=0.32939431071281433\n",
            "step=908352, 20_avg_episodic_return=1.0, curiosity_reward=0.3165960907936096\n",
            "step=908828, 20_avg_episodic_return=1.0, curiosity_reward=0.33362022042274475\n",
            "step=909140, 20_avg_episodic_return=1.0, curiosity_reward=0.33148378133773804\n",
            "step=909547, 20_avg_episodic_return=1.0, curiosity_reward=0.31349751353263855\n",
            "step=909993, 20_avg_episodic_return=1.0, curiosity_reward=0.34250524640083313\n",
            "step=910234, 20_avg_episodic_return=1.0, curiosity_reward=0.3313412070274353\n",
            "step=910821, 20_avg_episodic_return=1.0, curiosity_reward=0.3259035050868988\n",
            "step=911139, 20_avg_episodic_return=1.0, curiosity_reward=0.32000741362571716\n",
            "step=911524, 20_avg_episodic_return=1.0, curiosity_reward=0.3264046311378479\n",
            "step=912011, 20_avg_episodic_return=1.0, curiosity_reward=0.34403669834136963\n",
            "step=912272, 20_avg_episodic_return=1.0, curiosity_reward=0.34631043672561646\n",
            "step=912685, 20_avg_episodic_return=1.0, curiosity_reward=0.34274619817733765\n",
            "step=913201, 20_avg_episodic_return=1.0, curiosity_reward=0.31545528769493103\n",
            "step=913490, 20_avg_episodic_return=1.0, curiosity_reward=0.2921924591064453\n",
            "step=913957, 20_avg_episodic_return=1.0, curiosity_reward=0.35015472769737244\n",
            "step=914315, 20_avg_episodic_return=1.0, curiosity_reward=0.32540130615234375\n",
            "step=914644, 20_avg_episodic_return=1.0, curiosity_reward=0.3282841444015503\n",
            "step=914975, 20_avg_episodic_return=1.0, curiosity_reward=0.31726741790771484\n",
            "step=915318, 20_avg_episodic_return=1.0, curiosity_reward=0.31234708428382874\n",
            "step=915932, 20_avg_episodic_return=1.0, curiosity_reward=0.30840834975242615\n",
            "step=916311, 20_avg_episodic_return=1.0, curiosity_reward=0.3216343820095062\n",
            "step=916600, 20_avg_episodic_return=1.0, curiosity_reward=0.3053918778896332\n",
            "step=917053, 20_avg_episodic_return=1.0, curiosity_reward=0.3315044343471527\n",
            "step=917501, 20_avg_episodic_return=1.0, curiosity_reward=0.2923131585121155\n",
            "step=917908, 20_avg_episodic_return=1.0, curiosity_reward=0.33858031034469604\n",
            "step=918316, 20_avg_episodic_return=1.0, curiosity_reward=0.35407447814941406\n",
            "step=918687, 20_avg_episodic_return=1.0, curiosity_reward=0.3505038619041443\n",
            "step=919143, 20_avg_episodic_return=1.0, curiosity_reward=0.3464820981025696\n",
            "step=919467, 20_avg_episodic_return=1.0, curiosity_reward=0.3074832260608673\n",
            "step=919819, 20_avg_episodic_return=1.0, curiosity_reward=0.3428938090801239\n",
            "step=920193, 20_avg_episodic_return=1.0, curiosity_reward=0.3134480118751526\n",
            "step=920686, 20_avg_episodic_return=1.0, curiosity_reward=0.3234880566596985\n",
            "step=921190, 20_avg_episodic_return=1.0, curiosity_reward=0.3212115168571472\n",
            "step=921571, 20_avg_episodic_return=1.0, curiosity_reward=0.32402482628822327\n",
            "step=922052, 20_avg_episodic_return=1.0, curiosity_reward=0.3306678831577301\n",
            "step=922463, 20_avg_episodic_return=1.0, curiosity_reward=0.3310200572013855\n",
            "step=922700, 20_avg_episodic_return=1.0, curiosity_reward=0.3424333930015564\n",
            "step=923141, 20_avg_episodic_return=1.0, curiosity_reward=0.338273286819458\n",
            "step=923571, 20_avg_episodic_return=1.0, curiosity_reward=0.33833688497543335\n",
            "step=923895, 20_avg_episodic_return=1.0, curiosity_reward=0.3121986389160156\n",
            "step=924424, 20_avg_episodic_return=1.0, curiosity_reward=0.3059845566749573\n",
            "step=924736, 20_avg_episodic_return=1.0, curiosity_reward=0.30515700578689575\n",
            "step=925106, 20_avg_episodic_return=1.0, curiosity_reward=0.3059268593788147\n",
            "step=925567, 20_avg_episodic_return=1.0, curiosity_reward=0.31774839758872986\n",
            "step=925919, 20_avg_episodic_return=1.0, curiosity_reward=0.33019906282424927\n",
            "step=926325, 20_avg_episodic_return=1.0, curiosity_reward=0.327377587556839\n",
            "step=926675, 20_avg_episodic_return=1.0, curiosity_reward=0.3379978537559509\n",
            "step=927084, 20_avg_episodic_return=1.0, curiosity_reward=0.3361426293849945\n",
            "step=927466, 20_avg_episodic_return=1.0, curiosity_reward=0.34297746419906616\n",
            "step=927885, 20_avg_episodic_return=1.0, curiosity_reward=0.2967836260795593\n",
            "step=928304, 20_avg_episodic_return=1.0, curiosity_reward=0.310710608959198\n",
            "step=928722, 20_avg_episodic_return=1.0, curiosity_reward=0.310688853263855\n",
            "step=929012, 20_avg_episodic_return=1.0, curiosity_reward=0.30175188183784485\n",
            "step=929484, 20_avg_episodic_return=1.0, curiosity_reward=0.31205323338508606\n",
            "step=929725, 20_avg_episodic_return=1.0, curiosity_reward=0.32189565896987915\n",
            "step=930205, 20_avg_episodic_return=1.0, curiosity_reward=0.3615697920322418\n",
            "step=930634, 20_avg_episodic_return=1.0, curiosity_reward=0.3464351296424866\n",
            "step=931013, 20_avg_episodic_return=1.0, curiosity_reward=0.351296603679657\n",
            "step=931277, 20_avg_episodic_return=1.0, curiosity_reward=0.3742886185646057\n",
            "step=931822, 20_avg_episodic_return=1.0, curiosity_reward=0.34726354479789734\n",
            "step=932140, 20_avg_episodic_return=1.0, curiosity_reward=0.3345583379268646\n",
            "step=932566, 20_avg_episodic_return=1.0, curiosity_reward=0.326537549495697\n",
            "step=932875, 20_avg_episodic_return=1.0, curiosity_reward=0.30775144696235657\n",
            "step=933453, 20_avg_episodic_return=1.0, curiosity_reward=0.3291381895542145\n",
            "step=933855, 20_avg_episodic_return=1.0, curiosity_reward=0.3225850462913513\n",
            "step=934188, 20_avg_episodic_return=1.0, curiosity_reward=0.3173937499523163\n",
            "step=934539, 20_avg_episodic_return=1.0, curiosity_reward=0.3514350354671478\n",
            "step=934845, 20_avg_episodic_return=1.0, curiosity_reward=0.32527387142181396\n",
            "step=935375, 20_avg_episodic_return=1.0, curiosity_reward=0.30491846799850464\n",
            "step=935786, 20_avg_episodic_return=1.0, curiosity_reward=0.33291497826576233\n",
            "step=936172, 20_avg_episodic_return=1.0, curiosity_reward=0.3297674059867859\n",
            "step=936506, 20_avg_episodic_return=1.0, curiosity_reward=0.3252702057361603\n",
            "step=936888, 20_avg_episodic_return=1.0, curiosity_reward=0.3014580309391022\n",
            "step=937292, 20_avg_episodic_return=1.0, curiosity_reward=0.2854135036468506\n",
            "step=937833, 20_avg_episodic_return=1.0, curiosity_reward=0.3073677122592926\n",
            "step=938274, 20_avg_episodic_return=1.0, curiosity_reward=0.32356366515159607\n",
            "step=938711, 20_avg_episodic_return=1.0, curiosity_reward=0.32037463784217834\n",
            "step=939063, 20_avg_episodic_return=1.0, curiosity_reward=0.3400062024593353\n",
            "step=939371, 20_avg_episodic_return=1.0, curiosity_reward=0.33639779686927795\n",
            "step=939854, 20_avg_episodic_return=1.0, curiosity_reward=0.3039131760597229\n",
            "step=940227, 20_avg_episodic_return=1.0, curiosity_reward=0.3095114529132843\n",
            "step=940826, 20_avg_episodic_return=1.0, curiosity_reward=0.33526867628097534\n",
            "step=941067, 20_avg_episodic_return=1.0, curiosity_reward=0.3202695846557617\n",
            "step=941438, 20_avg_episodic_return=1.0, curiosity_reward=0.36026185750961304\n",
            "step=941781, 20_avg_episodic_return=1.0, curiosity_reward=0.3474973738193512\n",
            "step=942242, 20_avg_episodic_return=1.0, curiosity_reward=0.32474109530448914\n",
            "step=942595, 20_avg_episodic_return=1.0, curiosity_reward=0.3231887221336365\n",
            "step=942950, 20_avg_episodic_return=1.0, curiosity_reward=0.3162252902984619\n",
            "step=943476, 20_avg_episodic_return=1.0, curiosity_reward=0.3256421983242035\n",
            "step=943790, 20_avg_episodic_return=1.0, curiosity_reward=0.31449979543685913\n",
            "step=944259, 20_avg_episodic_return=1.0, curiosity_reward=0.3077870011329651\n",
            "step=944607, 20_avg_episodic_return=1.0, curiosity_reward=0.3104897439479828\n",
            "step=944962, 20_avg_episodic_return=1.0, curiosity_reward=0.33098721504211426\n",
            "step=945259, 20_avg_episodic_return=1.0, curiosity_reward=0.2982613146305084\n",
            "step=945716, 20_avg_episodic_return=1.0, curiosity_reward=0.3257412314414978\n",
            "step=946104, 20_avg_episodic_return=1.0, curiosity_reward=0.29987555742263794\n",
            "step=946436, 20_avg_episodic_return=1.0, curiosity_reward=0.32935163378715515\n",
            "step=946795, 20_avg_episodic_return=1.0, curiosity_reward=0.3182181715965271\n",
            "step=947133, 20_avg_episodic_return=1.0, curiosity_reward=0.3109026551246643\n",
            "step=947594, 20_avg_episodic_return=1.0, curiosity_reward=0.3164218068122864\n",
            "step=947971, 20_avg_episodic_return=1.0, curiosity_reward=0.31997308135032654\n",
            "step=948237, 20_avg_episodic_return=1.0, curiosity_reward=0.3318536877632141\n",
            "step=948656, 20_avg_episodic_return=1.0, curiosity_reward=0.36433106660842896\n",
            "step=949067, 20_avg_episodic_return=1.0, curiosity_reward=0.32506102323532104\n",
            "step=949503, 20_avg_episodic_return=1.0, curiosity_reward=0.3130589723587036\n",
            "step=949920, 20_avg_episodic_return=1.0, curiosity_reward=0.3232225179672241\n",
            "step=950256, 20_avg_episodic_return=1.0, curiosity_reward=0.3405291438102722\n",
            "step=950724, 20_avg_episodic_return=1.0, curiosity_reward=0.3697388768196106\n",
            "step=951035, 20_avg_episodic_return=1.0, curiosity_reward=0.38732343912124634\n",
            "step=951483, 20_avg_episodic_return=1.0, curiosity_reward=0.36811766028404236\n",
            "step=951848, 20_avg_episodic_return=1.0, curiosity_reward=0.3583940863609314\n",
            "step=952209, 20_avg_episodic_return=1.0, curiosity_reward=0.36846059560775757\n",
            "step=952568, 20_avg_episodic_return=1.0, curiosity_reward=0.3494458794593811\n",
            "step=952951, 20_avg_episodic_return=1.0, curiosity_reward=0.33834871649742126\n",
            "step=953395, 20_avg_episodic_return=1.0, curiosity_reward=0.34281226992607117\n",
            "step=953705, 20_avg_episodic_return=1.0, curiosity_reward=0.3509209156036377\n",
            "step=954175, 20_avg_episodic_return=1.0, curiosity_reward=0.32984790205955505\n",
            "step=954693, 20_avg_episodic_return=1.0, curiosity_reward=0.3359329104423523\n",
            "step=955060, 20_avg_episodic_return=1.0, curiosity_reward=0.3517224192619324\n",
            "step=955442, 20_avg_episodic_return=1.0, curiosity_reward=0.34596171975135803\n",
            "step=955815, 20_avg_episodic_return=1.0, curiosity_reward=0.3566422760486603\n",
            "step=956244, 20_avg_episodic_return=1.0, curiosity_reward=0.364976167678833\n",
            "step=956624, 20_avg_episodic_return=1.0, curiosity_reward=0.33905330300331116\n",
            "step=956978, 20_avg_episodic_return=1.0, curiosity_reward=0.3186267614364624\n",
            "step=957377, 20_avg_episodic_return=1.0, curiosity_reward=0.32847705483436584\n",
            "step=957709, 20_avg_episodic_return=1.0, curiosity_reward=0.35238415002822876\n",
            "step=958142, 20_avg_episodic_return=1.0, curiosity_reward=0.3504186272621155\n",
            "step=958472, 20_avg_episodic_return=1.0, curiosity_reward=0.3493852913379669\n",
            "step=958807, 20_avg_episodic_return=1.0, curiosity_reward=0.3395375907421112\n",
            "step=959207, 20_avg_episodic_return=1.0, curiosity_reward=0.3452760577201843\n",
            "step=959608, 20_avg_episodic_return=1.0, curiosity_reward=0.32393747568130493\n",
            "step=960084, 20_avg_episodic_return=1.0, curiosity_reward=0.32273203134536743\n",
            "step=960521, 20_avg_episodic_return=1.0, curiosity_reward=0.32383257150650024\n",
            "step=960928, 20_avg_episodic_return=1.0, curiosity_reward=0.334480345249176\n",
            "step=961181, 20_avg_episodic_return=1.0, curiosity_reward=0.33388203382492065\n",
            "step=961555, 20_avg_episodic_return=1.0, curiosity_reward=0.3682083785533905\n",
            "step=961895, 20_avg_episodic_return=1.0, curiosity_reward=0.34578078985214233\n",
            "step=962423, 20_avg_episodic_return=1.0, curiosity_reward=0.3386019170284271\n",
            "step=962737, 20_avg_episodic_return=1.0, curiosity_reward=0.32093364000320435\n",
            "step=963134, 20_avg_episodic_return=1.0, curiosity_reward=0.3091822564601898\n",
            "step=963526, 20_avg_episodic_return=1.0, curiosity_reward=0.3107847273349762\n",
            "step=964069, 20_avg_episodic_return=1.0, curiosity_reward=0.3387926518917084\n",
            "step=964402, 20_avg_episodic_return=1.0, curiosity_reward=0.33132272958755493\n",
            "step=964819, 20_avg_episodic_return=1.0, curiosity_reward=0.35869652032852173\n",
            "step=965151, 20_avg_episodic_return=1.0, curiosity_reward=0.3618668019771576\n",
            "step=965499, 20_avg_episodic_return=1.0, curiosity_reward=0.3496167063713074\n",
            "step=966010, 20_avg_episodic_return=1.0, curiosity_reward=0.3467289209365845\n",
            "step=966243, 20_avg_episodic_return=1.0, curiosity_reward=0.3655005693435669\n",
            "step=966840, 20_avg_episodic_return=1.0, curiosity_reward=0.3790101408958435\n",
            "step=967204, 20_avg_episodic_return=1.0, curiosity_reward=0.3487260639667511\n",
            "step=967562, 20_avg_episodic_return=1.0, curiosity_reward=0.3614468574523926\n",
            "step=967942, 20_avg_episodic_return=1.0, curiosity_reward=0.3402920365333557\n",
            "step=968410, 20_avg_episodic_return=1.0, curiosity_reward=0.3185354769229889\n",
            "step=968774, 20_avg_episodic_return=1.0, curiosity_reward=0.3241026997566223\n",
            "step=969130, 20_avg_episodic_return=1.0, curiosity_reward=0.33858054876327515\n",
            "step=969481, 20_avg_episodic_return=1.0, curiosity_reward=0.3425535559654236\n",
            "step=969940, 20_avg_episodic_return=1.0, curiosity_reward=0.3404877483844757\n",
            "step=970246, 20_avg_episodic_return=1.0, curiosity_reward=0.34570103883743286\n",
            "step=970563, 20_avg_episodic_return=1.0, curiosity_reward=0.360819011926651\n",
            "step=970866, 20_avg_episodic_return=1.0, curiosity_reward=0.3378538191318512\n",
            "step=971170, 20_avg_episodic_return=1.0, curiosity_reward=0.3405833840370178\n",
            "step=971706, 20_avg_episodic_return=1.0, curiosity_reward=0.3505660891532898\n",
            "step=972016, 20_avg_episodic_return=1.0, curiosity_reward=0.3398704528808594\n",
            "step=972447, 20_avg_episodic_return=1.0, curiosity_reward=0.368173211812973\n",
            "step=972719, 20_avg_episodic_return=1.0, curiosity_reward=0.3643421530723572\n",
            "step=973149, 20_avg_episodic_return=1.0, curiosity_reward=0.33639025688171387\n",
            "step=973551, 20_avg_episodic_return=1.0, curiosity_reward=0.32719677686691284\n",
            "step=973888, 20_avg_episodic_return=1.0, curiosity_reward=0.3398755192756653\n",
            "step=974461, 20_avg_episodic_return=1.0, curiosity_reward=0.34927064180374146\n",
            "step=974765, 20_avg_episodic_return=1.0, curiosity_reward=0.341431587934494\n",
            "step=975230, 20_avg_episodic_return=1.0, curiosity_reward=0.32624930143356323\n",
            "step=975514, 20_avg_episodic_return=1.0, curiosity_reward=0.34265270829200745\n",
            "step=976040, 20_avg_episodic_return=1.0, curiosity_reward=0.31919240951538086\n",
            "step=976278, 20_avg_episodic_return=1.0, curiosity_reward=0.32542404532432556\n",
            "step=976683, 20_avg_episodic_return=1.0, curiosity_reward=0.3351772725582123\n",
            "step=977040, 20_avg_episodic_return=1.0, curiosity_reward=0.33060044050216675\n",
            "step=977572, 20_avg_episodic_return=1.0, curiosity_reward=0.32659661769866943\n",
            "step=977914, 20_avg_episodic_return=1.0, curiosity_reward=0.3473935127258301\n",
            "step=978240, 20_avg_episodic_return=1.0, curiosity_reward=0.35846421122550964\n",
            "step=978603, 20_avg_episodic_return=1.0, curiosity_reward=0.35188907384872437\n",
            "step=978978, 20_avg_episodic_return=1.0, curiosity_reward=0.3419908881187439\n",
            "step=979344, 20_avg_episodic_return=1.0, curiosity_reward=0.34268540143966675\n",
            "step=979689, 20_avg_episodic_return=1.0, curiosity_reward=0.3326110243797302\n",
            "step=980160, 20_avg_episodic_return=1.0, curiosity_reward=0.31442126631736755\n",
            "step=980580, 20_avg_episodic_return=1.0, curiosity_reward=0.3072124123573303\n",
            "step=980913, 20_avg_episodic_return=1.0, curiosity_reward=0.31841468811035156\n",
            "step=981278, 20_avg_episodic_return=1.0, curiosity_reward=0.29498639702796936\n",
            "step=981774, 20_avg_episodic_return=1.0, curiosity_reward=0.3176534175872803\n",
            "step=982122, 20_avg_episodic_return=1.0, curiosity_reward=0.31690075993537903\n",
            "step=982569, 20_avg_episodic_return=1.0, curiosity_reward=0.31541740894317627\n",
            "step=982875, 20_avg_episodic_return=1.0, curiosity_reward=0.3117815852165222\n",
            "step=983234, 20_avg_episodic_return=1.0, curiosity_reward=0.3231359124183655\n",
            "step=983664, 20_avg_episodic_return=1.0, curiosity_reward=0.3261667490005493\n",
            "step=983942, 20_avg_episodic_return=1.0, curiosity_reward=0.3224983215332031\n",
            "step=984379, 20_avg_episodic_return=1.0, curiosity_reward=0.324174702167511\n",
            "step=984766, 20_avg_episodic_return=1.0, curiosity_reward=0.3075306713581085\n",
            "step=985178, 20_avg_episodic_return=1.0, curiosity_reward=0.3032996654510498\n",
            "step=985623, 20_avg_episodic_return=1.0, curiosity_reward=0.3092699646949768\n",
            "step=985980, 20_avg_episodic_return=1.0, curiosity_reward=0.3173275589942932\n",
            "step=986453, 20_avg_episodic_return=1.0, curiosity_reward=0.3454752564430237\n",
            "step=986691, 20_avg_episodic_return=1.0, curiosity_reward=0.29643169045448303\n",
            "step=987171, 20_avg_episodic_return=1.0, curiosity_reward=0.3279532790184021\n",
            "step=987619, 20_avg_episodic_return=1.0, curiosity_reward=0.3123227655887604\n",
            "step=987905, 20_avg_episodic_return=1.0, curiosity_reward=0.30788010358810425\n",
            "step=988357, 20_avg_episodic_return=1.0, curiosity_reward=0.32299715280532837\n",
            "step=988699, 20_avg_episodic_return=1.0, curiosity_reward=0.30876731872558594\n",
            "step=989020, 20_avg_episodic_return=1.0, curiosity_reward=0.29846641421318054\n",
            "step=989455, 20_avg_episodic_return=1.0, curiosity_reward=0.31492939591407776\n",
            "step=989862, 20_avg_episodic_return=1.0, curiosity_reward=0.3128810524940491\n",
            "step=990274, 20_avg_episodic_return=1.0, curiosity_reward=0.30175215005874634\n",
            "step=990664, 20_avg_episodic_return=1.0, curiosity_reward=0.31235188245773315\n",
            "step=991153, 20_avg_episodic_return=1.0, curiosity_reward=0.3165077269077301\n",
            "step=991481, 20_avg_episodic_return=1.0, curiosity_reward=0.29748231172561646\n",
            "step=991894, 20_avg_episodic_return=1.0, curiosity_reward=0.28483253717422485\n",
            "step=992275, 20_avg_episodic_return=1.0, curiosity_reward=0.2938683032989502\n",
            "step=992842, 20_avg_episodic_return=1.0, curiosity_reward=0.3204489052295685\n",
            "step=993017, 20_avg_episodic_return=1.0, curiosity_reward=0.3143838942050934\n",
            "step=993493, 20_avg_episodic_return=1.0, curiosity_reward=0.3149626851081848\n",
            "step=994003, 20_avg_episodic_return=1.0, curiosity_reward=0.315708726644516\n",
            "step=994448, 20_avg_episodic_return=1.0, curiosity_reward=0.327183336019516\n",
            "step=994795, 20_avg_episodic_return=1.0, curiosity_reward=0.33048519492149353\n",
            "step=995117, 20_avg_episodic_return=1.0, curiosity_reward=0.33788198232650757\n",
            "step=995529, 20_avg_episodic_return=1.0, curiosity_reward=0.562773585319519\n",
            "step=995923, 20_avg_episodic_return=1.0, curiosity_reward=0.7342504262924194\n",
            "step=996340, 20_avg_episodic_return=1.0, curiosity_reward=0.8470852971076965\n",
            "step=996683, 20_avg_episodic_return=1.0, curiosity_reward=0.8352175951004028\n",
            "step=996967, 20_avg_episodic_return=1.0, curiosity_reward=0.8991500735282898\n",
            "step=997250, 20_avg_episodic_return=1.0, curiosity_reward=0.9336140751838684\n",
            "step=997705, 20_avg_episodic_return=1.0, curiosity_reward=0.7306718826293945\n",
            "step=998302, 20_avg_episodic_return=1.0, curiosity_reward=0.6202436685562134\n",
            "step=998676, 20_avg_episodic_return=1.0, curiosity_reward=0.7223960757255554\n",
            "step=999051, 20_avg_episodic_return=1.0, curiosity_reward=0.8524788618087769\n",
            "step=999371, 20_avg_episodic_return=1.0, curiosity_reward=0.8240473866462708\n"
          ]
        }
      ],
      "source": [
        "args.batch_size = int(args.num_envs * args.num_steps)\n",
        "args.minibatch_size = int(args.batch_size // args.num_minibatches)\n",
        "args.num_iterations = args.total_timesteps // args.batch_size\n",
        "run_name = f\"{args.env_id}__rnd__{args.seed}__{int(time.time())}\"\n",
        "\n",
        "writer = SummaryWriter(f\"runs/{run_name}\")\n",
        "writer.add_text(\n",
        "    \"hyperparameters\",\n",
        "    \"|param|value|\\n|-|-|\\n%s\" % (\"\\n\".join([f\"|{key}|{value}|\" for key, value in vars(args).items()])),\n",
        ")\n",
        "\n",
        "# seeding\n",
        "random.seed(args.seed)\n",
        "np.random.seed(args.seed)\n",
        "torch.manual_seed(args.seed)\n",
        "torch.backends.cudnn.deterministic = args.torch_deterministic\n",
        "\n",
        "device = torch.device(\"cuda\" if torch.cuda.is_available() and args.cuda else \"cpu\")\n",
        "env = create_env(args)\n",
        "\n",
        "agent = Agent(env).to(device)\n",
        "rnd_model = RNDModel(env).to(device)\n",
        "\n",
        "trainer = RNDTrainer(args, writer, env, agent, rnd_model, tlol)\n",
        "trainer.train()\n",
        "\n",
        "env.close()\n",
        "writer.close()"
      ]
    },
    {
      "cell_type": "markdown",
      "metadata": {
        "id": "bxD-4MxYMBCl"
      },
      "source": [
        "## Visualizing Curiosity Reward in PPO with RND\n",
        "\n",
        "In this section, we focus on analyzing the curiosity-driven exploration of the agent while solving an episode. The **curiosity reward**, a key component in the Random Network Distillation (RND) algorithm, measures how \"novel\" or \"unpredictable\" a state is to the agent. This intrinsic reward helps guide exploration in environments where external rewards are sparse or absent.\n",
        "\n",
        "### Key Visualizations:\n",
        "1. **Curiosity Reward vs. Steps**:\n",
        "   - The chart displays the trend of curiosity rewards across steps during an episode. It provides insights into how the agent encounters and evaluates novel states, highlighting periods of high novelty in model activity.\n",
        "\n",
        "2. **High-Scoring States**:\n",
        "   - Below the plot, showcase images of the environmental states that resulted in the highest curiosity rewards. These snapshots offer a glimpse into the scenarios the agent found most novel or unpredictable, such as first appearance, revealing a new room, or having part of the view obstructed by a wall."
      ]
    },
    {
      "cell_type": "code",
      "execution_count": 21,
      "metadata": {
        "colab": {
          "base_uri": "https://localhost:8080/"
        },
        "id": "8I_m3Yp_LRoH",
        "outputId": "e86c3a7b-9070-4ae7-e897-7e967548699f"
      },
      "outputs": [
        {
          "output_type": "stream",
          "name": "stderr",
          "text": [
            "/usr/local/lib/python3.11/dist-packages/gymnasium/core.py:311: UserWarning:\n",
            "\n",
            "\u001b[33mWARN: env.gym_env to get variables from other wrappers is deprecated and will be removed in v1.0, to get this variable you can do `env.unwrapped.gym_env` for environment variables or `env.get_wrapper_attr('gym_env')` that will search the reminding wrappers.\u001b[0m\n",
            "\n",
            "WARNING:imageio_ffmpeg:IMAGEIO FFMPEG_WRITER WARNING: input image is not divisible by macro_block_size=16, resizing from (600, 430) to (608, 432) to ensure video compatibility with most codecs and players. To prevent resizing, make your input image divisible by the macro_block_size or set the macro_block_size to 1 (risking incompatibility).\n"
          ]
        },
        {
          "output_type": "stream",
          "name": "stdout",
          "text": [
            "reward: 1.0, steps: 14\n"
          ]
        }
      ],
      "source": [
        "@torch.no_grad\n",
        "def play(agent, args, rnd_model:RNDModel, obs_rms_mean, obs_rms_std):\n",
        "    env = env_creator(args)\n",
        "    env = VideoRecorder(env, \".\")\n",
        "    device = next(agent.parameters()).device\n",
        "    obs, info = env.reset()\n",
        "\n",
        "    frames_scores = []\n",
        "\n",
        "    steps = 0\n",
        "    reward = 0.0\n",
        "    total_reward = 0.0\n",
        "\n",
        "    while True:\n",
        "        obs_norm = (\n",
        "            (\n",
        "                (torch.Tensor(obs).to(device) - torch.from_numpy(obs_rms_mean).to(device))\n",
        "                / torch.sqrt(torch.from_numpy(obs_rms_std).to(device))\n",
        "            ).clip(-5, 5)\n",
        "        ).float()\n",
        "        predict_next_feature, target_next_feature = rnd_model(obs_norm)\n",
        "        steps_curiosity_rewards = ((target_next_feature - predict_next_feature).pow(2).sum(1) / 2).data\n",
        "        frames_scores.append(steps_curiosity_rewards.item())\n",
        "\n",
        "        action = agent.get_action_and_value(torch.Tensor(obs).unsqueeze(0).to(device))[0][0].item()\n",
        "        obs, reward, terminated, truncated, info = env.step(action)\n",
        "\n",
        "        steps += 1\n",
        "        total_reward += reward\n",
        "\n",
        "        if not (terminated or truncated):\n",
        "            continue\n",
        "\n",
        "        break\n",
        "    print(f\"reward: {reward}, steps: {steps}\")\n",
        "    env.close()\n",
        "    return info, env._frames, frames_scores\n",
        "\n",
        "_, frames, frames_scores = play(agent, args, rnd_model, trainer.obs_rms.mean, trainer.obs_rms.var)\n",
        "\n"
      ]
    },
    {
      "cell_type": "code",
      "execution_count": 22,
      "metadata": {
        "colab": {
          "base_uri": "https://localhost:8080/",
          "height": 1000
        },
        "id": "EWdvq23HLRoH",
        "outputId": "735cd799-4cbc-4e7d-e569-bcbb98dc43c7"
      },
      "outputs": [
        {
          "output_type": "display_data",
          "data": {
            "text/plain": [
              "<Figure size 2000x1000 with 6 Axes>"
            ],
            "image/png": "[encoded data removed]"
          },
          "metadata": {}
        },
        {
          "output_type": "display_data",
          "data": {
            "text/plain": [
              "<Figure size 1000x600 with 1 Axes>"
            ],
            "image/png": "[encoded data removed]"
          },
          "metadata": {}
        }
      ],
      "source": [
        "import heapq\n",
        "\n",
        "unique_scores = list(set(frames_scores))\n",
        "top_scores = heapq.nlargest(6, unique_scores)\n",
        "intresting_frames_ixs = set()\n",
        "for score in top_scores:\n",
        "    indices_with_score = [ix for ix, val in enumerate(frames_scores) if val == score]\n",
        "    intresting_frames_ixs.update(indices_with_score)\n",
        "intresting_frames_ixs = list(intresting_frames_ixs)\n",
        "intresting_frames_ixs.sort()\n",
        "\n",
        "selected_frames = []\n",
        "selected_scores = []\n",
        "for ix in intresting_frames_ixs:\n",
        "    selected_frames.append(frames[ix])\n",
        "    selected_scores.append(frames_scores[ix])\n",
        "\n",
        "images = selected_frames\n",
        "\n",
        "descriptions = [\n",
        "    f\"Step: {fix}, Curiosity reward: {round(sc, 4)}\" for (fix, sc) in zip(intresting_frames_ixs, selected_scores)\n",
        "]\n",
        "\n",
        "fig, axes = plt.subplots(2, 3, figsize=(20, 10))\n",
        "axes = axes.flatten()\n",
        "for ax, img, desc in zip(axes, images, descriptions):\n",
        "    ax.imshow(img)\n",
        "    ax.axis('off')\n",
        "    ax.set_title(desc, fontsize=10)\n",
        "\n",
        "plt.tight_layout()\n",
        "plt.show()\n",
        "\n",
        "# Plotting\n",
        "plt.figure(figsize=(10, 6))\n",
        "plt.plot(list(range(len(frames_scores))), frames_scores, marker='o', linestyle='-', color='b', label='Frame Scores')\n",
        "plt.title('Curiosity reward across episode completion')\n",
        "plt.xlabel('Step')\n",
        "plt.ylabel('Curiosity reward')\n",
        "plt.grid(True)\n",
        "plt.legend()\n",
        "plt.show()"
      ]
    },
    {
      "cell_type": "code",
      "execution_count": 23,
      "metadata": {
        "colab": {
          "base_uri": "https://localhost:8080/",
          "height": 452
        },
        "id": "zIZZOYJcLRoM",
        "outputId": "e7f3c7f6-a2c1-4b4b-ccf3-81a6fead5005"
      },
      "outputs": [
        {
          "output_type": "execute_result",
          "data": {
            "text/plain": [
              "<IPython.core.display.Video object>"
            ],
            "text/html": [
              "<video controls  >\n",
              " <source src=\"data:video/mp4;base64,AAAAIGZ0eXBpc29tAAACAGlzb21pc28yYXZjMW1wNDEAAAAIZnJlZQAALShtZGF0AAACrgYF//+q3EXpvebZSLeWLNgg2SPu73gyNjQgLSBjb3JlIDE2NCByMzE5MSA0NjEzYWMzIC0gSC4yNjQvTVBFRy00IEFWQyBjb2RlYyAtIENvcHlsZWZ0IDIwMDMtMjAyNCAtIGh0dHA6Ly93d3cudmlkZW9sYW4ub3JnL3gyNjQuaHRtbCAtIG9wdGlvbnM6IGNhYmFjPTEgcmVmPTMgZGVibG9jaz0xOjA6MCBhbmFseXNlPTB4MzoweDExMyBtZT1oZXggc3VibWU9NyBwc3k9MSBwc3lfcmQ9MS4wMDowLjAwIG1peGVkX3JlZj0xIG1lX3JhbmdlPTE2IGNocm9tYV9tZT0xIHRyZWxsaXM9MSA4eDhkY3Q9MSBjcW09MCBkZWFkem9uZT0yMSwxMSBmYXN0X3Bza2lwPTEgY2hyb21hX3FwX29mZnNldD0tMiB0aHJlYWRzPTMgbG9va2FoZWFkX3RocmVhZHM9MSBzbGljZWRfdGhyZWFkcz0wIG5yPTAgZGVjaW1hdGU9MSBpbnRlcmxhY2VkPTAgYmx1cmF5X2NvbXBhdD0wIGNvbnN0cmFpbmVkX2ludHJhPTAgYmZyYW1lcz0zIGJfcHlyYW1pZD0yIGJfYWRhcHQ9MSBiX2JpYXM9MCBkaXJlY3Q9MSB3ZWlnaHRiPTEgb3Blbl9nb3A9MCB3ZWlnaHRwPTIga2V5aW50PTI1MCBrZXlpbnRfbWluPTEwIHNjZW5lY3V0PTQwIGludHJhX3JlZnJlc2g9MCByY19sb29rYWhlYWQ9NDAgcmM9Y3JmIG1idHJlZT0xIGNyZj0yMy4wIHFjb21wPTAuNjAgcXBtaW49MCBxcG1heD02OSBxcHN0ZXA9NCBpcF9yYXRpbz0xLjQwIGFxPTE6MS4wMACAAAAVS2WIhAB3ylA/AGaELyNgAnG27gVMxYkQSaJ00ptJ0lAjht3c2BLeInvX4vbpQoGSh9a9UbKcUlr/v21g2xqqoo6AdTfP20Mk1tPuyGrlgk5W3qJWHCpLGCWKCqSCGKBmILByjcbBE6rAvxqDCyi3QYgBPuMJnCydiMXE8NRR5bR81QJCOTuz0xEPl1GPyVyN/YWPZ9y2GnKyJ7lHTAMmJsnTNjvBgBupd7p3438QaczHrGkRk1E+Q0pQXSRG90q07SaVkmUPBET6wVgeX1rqusZ+/9csi/9pib23FOcPgNfYaKapXWkIAD1XnLO+E+Ol5X4JKp0FBsGFf26vlojpH9MQXyXPH2jz3LuMARE8ZrXP4HG9JtLWHlH9qAWo88nD6SJ6u4QNcUVXJZ5q0OLRgEw2WeV1zv7BpUj/9pPOnSqtAuJxadFP6+Ihd6UOzFPVvqAPibHioRzkVR0fjLNtThWgJrcujyRSk6Y5BZZ+PBKgshtN+eXy9DOsRmxAjsydLQZ80bnNqZzAEO3eVMSvfB/FoiqZMLnHNcPkGcOVaArHjiiYgjaRr4wn/pPJjbYWxl2aOStO3sS+r7G7ueSH6llXv1aTT3AOUE6FqYCPiGcVYiEM53qcdwTLqd1OUWWucSwyHiEZhfbnLAEDcHEINsGt8r4BK0sQYD7zXekMZ5AFtlQ4B5zO3aOXFsQ1G2x1asqM8qHMWL+J+xznfsX+EaHOYbCI47U0yv629n49H/umDfYIPbYD2GFLiRiTlY0qOewfhbHkRoBDVrgbqDdeeaenHhbzUOGo1XqDwjVhqbo2ZrNu8wt/t6OR5GU2aatxEMaRovBv+mNJQ7KI7jNCb0sZ33FgDQDZrcHSk9TqOXLG28s5xNBbA3c6Bpiuyvl43yMDm6mK5yh9mH+VQ3oUpHSj5aCltKNpJtJtrl8+LK9Ep/V0l+TE5fD4M2RAGHGSDpHzhOSL8lmG69AOuvIY2QDzwlm3Mon3jexnNfvDpZnxH8LbfDjzHSh6uGljrjKdDY0E1Q9u3cN33zD2NRmJiAjArHoQf9Si1Q2noe6wgpoN9PQrKaDPe7qGz143f7YIK5WdGHDVl+Ph8e6lSv7QZ+th8mZDSpta+2M4r00kK3J8tx8dBqi9MrMnVZSZiQkAAtpcZyzqeQunKr//UkKoyXVzLCEppv5BmFMHdvHGYkE1ZUnPxtX0FjIXq6rHYGbF6cuD0psxEitIjgi70+bK1D6ADa9wkSud5icg6eT7FXIJlPEDUqW8kRrQHWwTSupnDyK2TEBuughGXShzEIaBwHarr7K5y+21bWw0ZoJaPCwEZReZune9fTwYbQ7bmI4VY3ScBtqL6AQm45cZ5IgioEDn8f+ekicqBl2U3U7RZwikXAESbag+XqiTpf1B39ziM5OIZV0B7OIL4uyYNEU6lml47CAUGzVTWiRwFo87FUAhIvXF7cifaH1P0jxobWvvhdi2ZPGaVXCHlMHq3e5WoweyFHfProSORuSwlLfLFJqPJl5Bot8urNcbJSc7eeMM9MTJpbFng6hzXL5XMPJoSirVkwnDjYjSU2kT+IFUOesYW7uUU1yKKzIwt8sXfiQ79Z4Pibr5m3Ti+UBOoDDGX+vy/iT2unyfTeO5dvgLOoWMc37qIFGBs5e+CsjQENERXh+7PsRhdGF2A1OwYw/L3izUJ8M/xUVD8QVymjBH6lcvkjAru7xqWJ74oAdVD4Wu66rwb/uLF7uQrxkcc4NO8EjCxFGLQP7Bg5sfUyOcfqZkbACeLWhCU7woHZF37XlEyNo9DUt2MqlQxTWJ2AW6yMozdguf1A19WabDss1djT1vfCUaTttn20FxJ0lHzStBmBYCOZL0F2+oBTBqNRhb+UX6WkAwkptn3gp5QAAAAwA7WBehPRVBwCKjwHCBo/3EHRN+hgB+iPhhDSP52ns3bAFe0nI3JYsc6T6JnT0TR1En4q1OuwZE1SlDkjRYVmRp4Bgp/NjWSagtD8HVBDTSzP/KXxvAZ8/kSA7YzBnlatRL0mzu+XwzflPVRsDigh5YzK62ZB/4dQBOggDkLCNYM3t6AMoeTVFIuAZlFS+AWUzQD/a/8+WPr3X3WNx/BvkPufdBBg4w1AleifcZtEPpmHFFLMMuL+IASjWtnsjbaBd2mKnfulvO6Fk7D0UdY2J3Cq0Q5WhVJ4gtocuJDzUELr92cUnWkYP1T3Psua67PKXsYoRUdHpEA4fDy/eAo8rTI770kp5RdZxEL78TkUOADdxA0Fa2Rcpe9Xorbdh4O/BNewlEA5BRS3+onYcxgcH+gppr0nfRFNOKqpIe+m5LQ3UIux/R5ZNPHO5UU3qHz4gcU/qiwAJX7bGzCGPVClEh62rwVffPb1wb85q82dI8r6XxjWFVMG8Jo1f9ktGZumx3fEP0G30ACYW3ju7lRX0dW9pkPW+ZAOwxRN8+LZ2poIM+Uv5N4lL0s/59AZj+41x5TCU+V14zjlqaHmH3Ms1ml/gjFPs+lTFPl561A8iJb1EgH7AKiawOFaHvg4RI+WGX1k6Rs8cJYifUAA7SIMXSAltb8aOR4ekyTZLOiEiqReeDbM/5Hda1eHKVi64hH5A21rAbOCLewVIC/93K1bTcYivbH+1LmvEgflCnCECE9GXnbHXJaGqSAAGX//7NQuAUv7CDhcf97r5u8IpWp09aSACKT4nzax1NH+kPvmUIN0AzSDptYUDhY4lDPg0EhpDLRdvj4ZEPBPnOF1DjGNc+ZoyMWmOW8rnHe+xps2ua85sdxksBuVC9Y3N4ItPG1OYq+xBk4hqqI2/OBOqqFUCi/AsE7qZ2tl5WQ8qrdtxYi+/OLW6s46F8AAADAAADAAADAAADAABYAVNpp5Zwyam/ZJdgMLKr2Vu73ysw/RFvCQ3KBS/WlzWlEt50B8w1wMw6vvCLw4xuwuQXqzx3ccCi/YWQVioJQs03Tp/P+K1WLjazQmck9fyeirh0216rLHohvfzIGD+TumKW3NPdsR7cmLlyQM4fmfGaGKSnEP3Fmq3L2CHCUVsE01UNLAR/RlDL4i3YKXErXyyvfCCtzhtoFGbqFmOh+xUrBDea1cuqed7vknKAlrLT7R3nDN1BeTKeUyRFkyt6CJCW2j35jta2RSLHrgzHPYO3F3oNh85uFt8fe7W6mXABA5skVBQc6Ss3f3HnsNIbjoz/8QrWHs52SOG3/jcJPKA5DrE/4vve8UAxYMawN2VNaSkKGyWMhSzCsrNLnwPKX6AghjifELqceYGoLW8Z6ypbyHmwQImQJCDThxDjkyCjd+JAT/2wmTPxP+BklpN+Ns6ooZjq6zruJYrbhy/9ttBLVLgdu0lK0E6tbRpdGh3x7WQoPMGf2e1dmRN2uNdUHI+dIojvtvdUDCu2TH6sSGncE82Flk60GXHHM7RoZ4899BQrSWDJW0uddCvy0WALsRheDR3Ga0MqwWCfK4uuzAfeJCIQEoMhwaK+4CyDobp7TP93pjRibTSKS8lNbZ/Lm6nJeAO8T8mhf/1iGnLGo4PojL8jo3hGRLx6qrLV3cP7yBKyPKHFU3ZwqnWkHuRH8APRlshnz9S+XG4+MSjGmf7YkG9pYGAM7NfBnDT2ddRdx3sIi5dTI+OiOYqMrNiXY/TLM6r2r2vW7mWINvhWFGXIBkMw5UkvAV8n45iGD71CphiWb4Ln6Kg450WpJtMmMvnitx/3I0RM6UWYOsH7aL9ih+bGecNW5d2ohY7gNaULY5gMei4jjWiEO5lLYSQqE72payai0cSfpajiwa9dK3ywprsb/CVY6rYj8rFi6Z56ABZuJkUPiQKYMRgQJgis8rmdRWkKNG0RPLTPaNGl1LaL0qJkuApATH+gu7Rp823g20NH3VQhfPPmcYJrkdmaJkbK5xv3d1BBtp+ybZ6ZjgJr+fqr7ldD85mW5g4RFdp+PLP4Trr2zcUI3ErjTFvl/AuHTJNDfmyaeswze0oehcalezOuoCwoCJhCUIbxRcoV3521PYE32n0+I3LsCF3dcu1mVJH2/n1gBEXuK6D347O0Dw7DHqI8hkEes1pcA6qlpJ4WXaByULkr9/Trdq1vYj8ql11NjkUpfvvZqekaSeTT82Mzf2Z6b7vDunUuq4LY+CyrL9K2+KJTnqS3zDERof+xS+A37KiIhJoSzmlCMphAIjNYVEsX1jp9509lsGDPPcm0BQvl1M5wT0AHMmRIhrxA9IiAQ74NatmXSDKhJGXwRTliYIggY5AaYjDwAVSeWF0dGFNhWSyiuJGtzE0Br1gpIY/IVFQrFVg5xQpxRqqTDDTZbn5QgQqwdZznY+/JRBMHqOKRi5U64bX/go0gC+OKBS3M7IFBx+IwqKiD6ry1LJDdjBT7TWvwJG+eeJJs5dTEFLfRMS0OrH59XOPOfQwZ8sZwLzzz2EcgGfrumcHTZXTDEOJe9RZu4mI2kDM8usBlEicVBDg+M75LXoqsg49KjxIWALwN6Lfivc3u7suR6HygklDgzuZhx6lVifYUDaPYp4IAhQdTI5BZpet3DtUIn817NAt0bFymP8CMJ7fZFwOPDAnk5iAAaJv+ysw/cwT1kLp4fbf62gMXfjw2JoOjr4g+YSRz4BnEukQE2pn2bxIMTLMK6d0s9JLzorx+WCqCBPJKiClLTrFV6ZZNetNPlnhYaEeDfPN0/OnggB0wo4jViCqRN9LvXL76H+uU/fx3ldrzOX/C/dkhv3I3/dgt7LPH9XoI29HgVWwLrmbjdohHKiXoEM40xhnRaIousEQ2B5bSQtUEIIMFRRlAxpk7zPs5CWrzLcihpwZynv9UOEkSEFl9ydQEMzj6CR1jB4d58WM1yZN36efRvSfVLoneQ3Y2qi1hSInzjgekLXMNuwNp8gZsuRBy+xwUsmzv4vwAPgAlVFziM0ARWY31INzxJh5+7IrPkhwJGXOgKEylzEn6VY7PSDSbGzRVXuAtw+ZyIeiSIiKFfPr1pKDZj/EdcwrRPAPPo+0yi7mmzoVIAlnVAVweiqkqIuqFancks9EDo0zpq906HpqdGFFdk+2N0TlT7skBTe/WHn8o3s15p3zZCDqnmJRnITZFewX67VrBLbnNBed6EPiJCAbot1p51uKT+OSKB26iyS7ThnGLZ68dZ8XoE0j57MygI9b4T4ae6qACOQiQdp/BUoLKZHYG+hb+E+xVfw84FiRbeBFXMQANKW9XAeisfGzXvpQzsfDgAAF10fJ8AUdUmxow7Ql2cGWwQBcYs354+CsaUxRYzIfdNyTByU6dJAAnjNF9wl7q0KYQs4O/JVD7yJwlgOEbXDVb4LUwZT8cGNO+2T54T0Ny5dLt/zqBfdu6hC0UN+dMP1MRqp8WO1wsf/5MTIqNNuZBTk7Y0tDvR0NpqG/dSeXw/TykWGFlBct5Uf3MbysdVMAn7M24OsEnSocQQClxNZHR0DHejTXGN/PHEa/E6tfAL1+qwAv8LGy7lKxejDJNEBb5NZMhTfi+uRbDh1vZRVjywjl8+HocetY0Pz3B8OdxIYocL9YRMFznSSWLcYAE72rCa1FZS1bcX3EpteNtOli0n+Q226I/iWUXR3cwjUrFVLFowi6abc1HeOsylINgaU7JAWZKUBMe2JEkfBD2fferc9GZ1TplTv8d42AAaE+EoAc3mafVrsL6MjsLV7ewjnFvf7ONniuQMlBY0OTTQpuyAiGILuTi7vckfOhdzAwJwrzRaoQTISbpsMXqGDEDFU8mwKe3HpcnhuJZNnr1DAi/q99hBZcRmhyk/AEmJpRByF3lmdFkfczZQD7ygCtN/xldfAXnsGjrne7Z2dzLKgD9OSileNA50DJIpTJT9h2ptXKOxsYK2/168ussW66KJ66X3wvEihvL/UNNk/fyPEHUCZaNKZ6UxKSCVRvfai8uHphy2tSZEYWxCJJ93DHGpvHPRNrkQi6OAFaQpNOd+5+uTq/v2J7EPDGb3pAf4WrnDsOXiK+6c6hvn283fZaf/pDyI28HPXz6TwRJIw/RWf32Ho2nEq31Ga+TUZ0IAY9S3hd81FYMG1CVkkqbqtwUdSQa4/PfSQFPjdeeImFrEbVtDe4D75MTe6MrNpvidJOuA8neARQCQP/8609cwUX9d9Rfvz1TT1B/ThKSlvgQZAG2RRGoJUsxwVg6PUo1oE7Yr0AYc4y3Y8mJ+jeCmQYlqGyQ0yfTRp0ZwRVkw1ZeBOaqPP0DDEaEeK7P0qlGcT00e5+NO0yxP1r0lNbd/f+aewxtQpBJ8Irk+KrdGbUK/D/5fdw4LE3yCd8jlL7zSLJlNoVaFfc6HXV1QQHPR5bEmi+DHdnXW51alC25j2TKNbopgOj60QxnZvbonnQWFMskaDuJIZFQhMW765a9QNgGziGJdLAtGI3pmm553/Z3uqPpvBehRoa4MeImCff/cTpLnqfIhQ5tcCKwoLlGxpWLKSGXxguJjDqPcMFeQ1UzY2UorSIqijevtqroBeKDyzJE6JvTNu5Mj8PSc3/M5gqeu+AbMUwGOXmRrj/1TTk0i6saphH+g/kW53Q7juMifaUgyHw53D/vNDVcIZ2NLipEvgmIjOSM0FMfoJ3CPRYuxb4qh36umJP+6scgQ1y5cpdgnDGrnZR8jLilR9t4a5EGB0EBWwnsbO0FWM7UQkbTBtonI/sI6n0qqwreis9Lt80SwQ+DLovAkCAbHexMOISntaBQ6us+budpN0Hshw4prV8H5FqmKbuYjeNTqSajEcNXoiNeGwt/UJ8WY4I2z7pOkdmUDbzISE1edemYGAEAWoB4yP+Sg/OdCBVZxKDpXFsaU/kGIt0ajQz0Bk9WQYacKz4dTqDPsdBQrBXWTWa76nNtwLFliG4Awv1yp+B3wddy1dbXc/IHVTGAXdmpwIm5PIuHuDoK4G4Pha+eY6jSFx3mrZeGj2FhBOmvimPyMud1k/V8GaTzrq9AALeg+7oIwcuqKxFOe35Y4m3hePpwSvVJ7bPAxiNpcvKyWWUU/429d4eTdpOY8yILOVV1lU8J9gaWXezHXclPc5TQrg0CgjyJDiaOW+FlBRrmnjYPEqLoUQi/SmNEqw4luTaEgnQp7xGpZ57h/g79W8dt1nQOG7/tdt7FmLdv53eNkhMYLhLAFBEgFdJyTV67jGwxgV0MHtI8C0UImZJiJu9fgfhLIy/i0ylcCeLqRDksBac5owO3UcxRhARPco5R+m8n1daPK9og9SWcUYx4bW/zGV79WauIMTNfgx+8UiI2IE3LEHG4htLExaPo3jZcCrcDnGoVSQAAA6ZBmiRsRn/5L4xnNpaimAf9XLvYJriFaFM1DCrri07a8DQn05BDThlnhYGs/LJfL+0ucDFCZ27mBGjDQka1pPtmK7TAPXS62+yoJJbsatwBkPf3rV9HRrxHtYzz/ZzLeRpG7PVgAYr3Q5QdxowoVoVjvPZJFLChgMORlWuwDfwICtkEcngzMOE3Oa8Oj6sGFFvykuC1w9r0n/J+L/gMYuXR8ca9auQYReeNUEjHnXFlzO6Vsb4ukC7i/xIRo2V7plD4jKUoh4nXlI6jNQk/Jrbzc8xcN8l87/uw+wjcZFVPZyS0hCT5knoZdU8bHyZUryU3HeidTLvbeGgVXN5a41I+IgezdK+zv23U7vSxET2gif7OecA2FWzlpk9eykjzqhgUF1R/gqiIzo+Jdn00oelWCeHwTUbDMjCIdjc+AUsnCVrrCAaJy8mhRTaGU0BhXH2TLtb17hF3w77jgZDgpLJAKwjN4tjWdobVzArlxH9UGOQBa8HILm5lyKvD7nDquMImPDO9ZtjH9BqzuC9kj2UojdfzPY/h+uVj5thsrVz51ZrSWMNME2WwyzbXW1pMx4jrpN1jX7NggV+YtEW+rHM1MBi7gY3uDCuXS0RuJbU4LUWFuJ6WbvGMTDsVZjisxlLgX/7yX+Bf9Dn4Q0X8pZzcPmEBqtGfH9QwWGoZYj8b+GL1CyB9V/FB8c0wmnARXt4CI+EdqIlbqg5hmrCUUSVAeKBEppGbcBCzK5CveNAm8ZkTy3MRrJl75uJDessLv731cUgzDVo58V7w3FuT65udCjfDY5eC1Su0PF39ws4n5zbIEcuiBJvc26dz9lyuJWGTsMk0ypfaobIUrUyelU2DHfuzDrBhH6M3TUMJpqb6jA6j4SAp0jHHeKp8uoDgivbWrxzaUGvDzq8JQyiblOYXrefwHNxXqfqEGLNZVXhHJrhaldcz13zmW0rIrm28zw8IAcVtDvV3BU8bEQyrrcOiKUcjBKT+3+ub8+1KAlpgZRiQcYO8qzaPHMNYCDWneiBBP23VNMxgO4AAAAMDJIecNI73bHFCYlvUOjlZvIBHn6xRj7FLlKSnYypjq65RJA+EpU9RWRgbBFxBXKIpJ1WcoJnIomxaTJiQqdD1Ir7xpy07sNaqVc8Cj8EcRG295ZpiH0lyHKC5N20xc4VkXJ9f88c6FXmatGfDfJ9L8sH4aJFnwMt+D3OkjS89RA9nb+t18YiEfkcrRw48/r95osgcgVHLZDNAAAAAbEGeQniHf/AoSGnjxCpM5fap6H7lAqhSl/61cAC463A6IeEAE6z0lMQF3crhCNiqaC0V0J0HnwhlQ9gHsJfv0gOi33/qJ22b38nJ1sqGFWPxI6H4IVVS95+fby5OpfYvoZMBFnoB44X73IAOWQAAAFgBnmF0Q3/unHCZSQDzHs0k9ATIAC6T10KrkLMPm9DyTQ+m/94KKI1g7Oul9TIo/CycsGWy2K6cUaInjCa0TFx4GC4kp64kH6t0RNqTbmwjX/xJenZPegl4AAADTQGeY2pGf/sS+H40LhLkdgVl5h1//+aA9ZIy/H/dXoPkq4Uap3bnL4TC+YXwLTsE5MRMYg3c474Lw5lh950TrHxDOICx17/V9aWD+hZytzW8KjMVJUf+zjobhVx+rt+6943zqUq4zp00iX9HsiRX4IR2v/zncDdESgR5BlHCIxwDI3h18Wt6YHyZR83r0HN6bcgZfNRGmXl3XFRUw781tdRvOoEJRbJDNH+tnHP5me3bGOmRKEj4kSCCP/jKSdqj7giLx4EmpblAtyRPQrwjg9w0uAq/pHRr63X1uzHGI62cbcjZiaav3NPtG2DpljI+2iGEudWvEEuFlNXXcNZ3g0sXZyoSDRn33aovMbkh+S9wpTTr6cZAQ50fmkm3rL3VX+Zj969Q7qlzUMr98qKO/WStOcIIJQ0SGPTHnxruXF4dJCha4eJfOiw2RKFHIH53qkrjqCVJkB93QM7Oimgy6PkW6lGqFPC7AVGYdn4sJVQcwwnyHD4xLyWD1jm4fbEd+wxNok3M+/a4MR4kGiLrn0PLtADDHXZ9nDWsn4k1Cd5csK+wxSpqAD8n+FwGr+D0D6Tf334mq229dHb1rpeCtkhboJmCMbkxQX/0I3L8niSEzHLBdB2CP+6qU9OBwajxJzWbL6gpAbLcdU+KoGoCxgXb18WmVqDs8BLFjcVPjS5Bkh1j5ASC+WOBO+h/JK2ATWc3UQmelKiABoeZisqpBXPVK+LbNo3OSJbZcuAsmQOu3EMAc99U4Ptwrmnpoylh8GbrJ51Al7odiI+D51B5LPreUEDIsihfMRBaqUw7XAPSI8kG2g1Zp7koKvHErTtuAwTS2idW41x3xDqiI0C4x/a604vFbn8+4+8N4O+ILvYA/74cuV7gSwdewWWQu2yWb+M5vLTrXOwBoz3XwFlW6O0uBK+1TffunkwRCA6aLRCquGNgQWGm+enj50e8thxaBQ4HwMlWkgAaG2IsgrSKwWGa931c1xHskd1V4FWqR6kJOnJHiJ3q9bCfxqunz13a+gteaqX6Gd48yNLEeqG1yuBt3962Pb/0wJiEnF+SQbK8v+udNqAgwMP1GiERiCSZkcqdtrPjwKKtKUlJzU8IAAfy/rdUZyLsLHEAACthAAAA5UGaaEmoQWiZTAh//5arbeFtp41G+wNJPEw98ZAAAAMD09qeWfXN0rvU8IAAAZPYKQCsLzOTlPxiibWBqQfj4L6UPPJa7sj+hszUdoTuyWkHvqNO9qmI+5cYcvnziVMcvRcxYMAjAEa9Ga3pC6H4F9xDyGaq0DSf2a/LGp+njAuWf6Sm1z8Gj2l8EttpKUMiK63PJW2IR69gUb2h4W7bcZR5UR0iq+KblKrnpTPj03j7pVKVacCdY4cCwhlhKIdQ2DfBRCCHYeGpfq4S7G52jmzUEF404Z3i1ISBy2ce8RBjr8AAZ8EAAAAmQZ6GRREsP//tiW8QpyhNQ+ByYLvBd5d4Kse+njbG46F/kVDtgQ8AAABYAZ6ldEN/7pxwmUkAXO9VV/Uy4ABWwjilCflzJThigm9cbkqHBZxLpxyVjCKB9/TipJo71j4KlwZmr9JIkyBXpat2iC8I4gFoNBr/614NhUiMxDQDhACVgQAAADYBnqdqQ38BDch2kCa1rHW5Pj7tDDsfbcezMQnYALnuuuMVRJeprkiWcw9n0Fr6+iaXFt0CBDwAAAD4QZqsSahBbJlMCG///qeEAAASbjp/UwUPiATStZrvg/uaO7R4bLiLBgJ2m+dwRzMl7UI57ZAlvg8pazRmCXEim19fOQQDts/4uvvQxKJrMibYu9YYc719JWNRamht+xNtBB9ZKz5DXC2TGGykX3QHhb/gGCSuMd6hvbVdw+0s80TuJ3aOiI547bZ/aQkOXJDJBDICfwAigX7a8otwJLusdktmt1y7hBtevXW1WmAUd9AfVaMRJJQ2SSGf9Q37DfFwfPns2z2dwdB5H8onvudYCe2AV4XnFfyPN6zBbmKHncUnGXBZ05wEE9nO1CKAUv+JCS2YUe7AOmAAAAFVQZ7KRRUsd/39ZmSY6hMWRND8/XZj4hN4EPV0BNngcLqHwHIZvK9IVlwb9FGWm787iNVNvpblWaZr2wE3uzhRYUShVuTXMvjrhDHv08d2p4xvcMuZgLgDXKTOPnIeGQPlPwwz0Cqu+kRNelLCKKcl9j2cDw4fvxL3il5B3QHGGEDu8Hz0armZfEneW9/qBMZtyvXGeznwUO8OFi9ylj8AJuGHmhHvPAMy9qJezzsG9upbBImdyBR49O2MCh54TembkygZhqcVRvO4jkY+gh4gEg0x6h8o3aDAwp8QTu2qzOOhDJKzz1fa2Wdh16svd5K/dEtWBsXMg1AxE1WKNAkZ4IamuNmk6iU07Q8Fgwd7y30TEKR6fIoQmVGnK6q2gHlkiz8WBLWnM9KcSsTZcqvbEgFzZ3jeLo9t+zKIvsU75BzJeCAVTULhblBBeXn0br1srMAAXcEAAAAjAZ7pdEN/8W/t0jdGOe6We6griDXGyDlQiAYS7jzcbAgwCXgAAAA+AZ7rakN/73dls4E9yOsce6hu63LI3yRrUB68CFeRsuVkIR+bVcgAXO53/jiVT/vCvMTV8mOsXDGr+lGAaEAAAAB4QZrtSahBbJlMCG///qeEAAADAqKF4UgBNXuBmv2f3kqpiu37+dwuNHm8CEZnQbB57DnRaCIiOF9ujYtDSbjK/du/bd9xVav6umi729lPTAAFZz+Asvniour47bwlXc4nYXQxgdRJ/zdi2LOJDjKr4TsFkHC6QHhBAAAIcUGbDknhClJlMCG//qeECknmyEq1++AAmiKiRCErq0H36J2ks8F4BhZazHGWyEm96a3RsNAEHJthNYOIFPAWOCyzotW9hZRiLBSJcQsVH/BZ+7v4+Cr+L8+bMMHHMwh1Fe36aIPanBETyXsiLr6Mb2m3mUQ64F8KgtfICIJ4gtE23G7s//nQMmeh7nNJs9EqOMTUET5qqNavW9FdAuZqSv2V2mmMMUW4pDZTwkoVyOnTA96ln07LhZ0KjRq62jle64pmzyxDOVfkD/wX0xAA6CAaRgk37cWdbXwxpGb8b5wUE+4tXr4ZY2Zq0D3gArAELJw3fZiXB48T2lrI2x3B37AhA8uewCtMR2FFmY5EqVEpfjEeC2J2u+kUwab0ZutkUTZM9cgYkEZ1Nk6HFPaW5fWt7d+mYK4+rRXyShwunuwpGygUdz+BU/5NsUmFR3tHZx9AWbU3WoRMpgPqGmkVuGkQupS+OE/3o8Na6BBY1I2E5UhIwfVTvqP/eiQhLLK6sZVExE8QFM4eMJuoWVvmrGyE7nnbf9CAsLeP6imTYUV+S0kNtCUhyOVhpzlIbqIPTpaoNjBFh5D++aGaQamlhtDmjy7GCgEHkK/YvDfqZedIalIuIhQa3zKWnJtspgQDKFi+uJ3kTwzYWr7Qg609SpNjkv0vPJA0ihfKByPlnDX7V6GUmLJ+DfmaKIVef8wUPKCUCqt1P3x9icbytfkhBzpXR48+V3QR+Jfd/LQpAVaBjSo8Z9hi+FuAOW49fSuJR9O6ZRQN/Jjrn8T4mguxilVhOkkffVt6pef3WgBAIOPTjeaFt7E+Ka4enFKzrGpP1tnXu8AUzV0N0l28oOfpJIapOFOftq5pdycj+enIIoSAoqsov3uRBIS1MgHEUh1sCeE3ipQHAFah0gC4/ZucHQt4ABbuPYBzJVOaNoSq/yD1KU8Ffrc0Ztes+43V4t6tpTl0etvQTtmyd2Pn9SF9qxguVBCTbtsRGKlW576vHUgsnj6r/mG/lk1foSly0jS0J+dVoTsNPryXQyhqA9Yf5Wwods9jsq5fwqTkCao0bErCkvz2pw0uMwWimtqX06rSWB8S2v9xaN5ZsX8Q/o62cjqN8X6YueHpZCYtkDpY1a0Vv1ttSw3mHUaqukzPHFYOF0lZ/LdyqdVMQankdoNcu2/V8Ogxwa08QVZbGrPuZF8DvzQGK0XwDS2Rzhz72M1VPEYyoxbx2IGRP/8fEFo0QWz4EFxnf9ZD7jIyeTaIg27QCzjydfRbu9CYaZiCUdvZPfhMV520nvd+GxVdXNbaeMy0lEXqRBPHtLTPUncMNcfZbicAXdibTwHZ/0kNV3Xql/389f9wmbOBsk2UUishBsFm/TwM3gmnFtUJLpcEeSbyF+J89N2XLVtYWU21aDgNEFsjQWUATNcRf1uvvssyYzClOEdE2TyjuxDY9lhk2IM6AGme7hekSvr7nHX6y3qbtQVl8uAg5qfKHpUXoL4e/l2AD6TTvCMiiUqDnarG3PsECbqZ38aZ5avRBsPqwWTiNCROVoURCpLJBUWwLRo0e/CPEsoI7l1GsE7ePPFy6qHLadDkXHeReQNQv24sI3GOBpP8CZZAKG9EQhRsgMxv6OR4vyABkTO6TscI3AvcHCrEUIo7BR+vPwF5EGjPKKUWJzY91TPSZpRR9mhtb5zT6oudi47oc8V97gUrAvo5WbZgsxviYyUGwsEsT1iPwLEI09Gc7rdA3u2kedvtaKCs3z+UqV0mLBeyWBunLxElrQdB3GEHiCzuC/2iXvwqDD0O/lzTLc40tCofRhGlu/bL13QVQrQZpv0OI4m/vVNJaNltGt7Do1PZev0YkzRweCVw2VSz1iTCxDAwoDzes3o4UbeulbTzkKMFHt2BWjAXdKBnt0oa/sOdll/aFQ2vCsbs4pXcjWapVZqnnlzbdPFALB+ryI3w6EbFGxIDd3Kh3lSHThvaDj9JEFfXu/lT4C7lNXbBwI37hAWGE9WDgp9Qgk7cI3c4ge5qk0+oPq92mPXLBf3dsFKjwyPNvPSfxcbMhWXt8f8zOx4K8Bh1PbI8/Qb4RTTtgOObu6y+Q8ehBay8So+lBcsMgDzV3qQfvA0UJzZDMAEGRkYbSLU1LKZxmLO0UZsUYVV96FwrwhH1vjostgHbkcKbydlg+dXHkU6Aw3hiiNFMLv8m8gyPgIHPVjxtDyCCV5Us/relB1SRhk0BSA1PJ7Dl3UfxZ0GtRcb3QgV2Eh7pvYLESKEictSOu+grhZRJXhEtNc3FqMAi2Ftu4yqSi0BdflqiJT3I/xz+XTFTXlyRyTP8EDRzQcVPqi/65M8LN5xfb0pCsn64o9irVNbj1LBxFzv5vv1xC/PaqZKyHoLgAF6rrWdV0nVp6Xm66fznSgrkca6aLx6zDdG2zwvhKE/X4x0IWEKt2d8b9MsNNFDBMrgQ3QiUojP235hd7zBtR/ooZoU42RLHzruFku6PIlER7NKt9LUX2sIHDPBGcw27JOsAhDV9xeCjmvaTyR+EEqP4F15YxR0osi4SvSEpdTH0aPaoTpjlhRq/9yiGVcpWy+TwgVIbPhRhEkElR5Xa1Iveln0bQFGyca1GfNeHiNqkOyScYsNZ+0m5qvz3H93rzRBCAUvrA6C7J8ho6srLUbf2epLNdOQhg+4sUgS6H7aXHPEqa2QSqFsGZ/7UxlykcTnS8i1qJv7F7RaeYflhS+wvaHCnZZ6CgY5gHHnNajqez5Fmy9EwD6p9Pis+VVVDg5IwqA1MrvH2RMDgJC5k7ioJXyvEcpdU2/iMKyAcQvi0UzkHqfhqIA2XubMsOGciVxf5RhdWbCjKs2PeogzdaBXrPPnTLy3R4WQB3GlKUAgAAE6mAApwV/1oz60AAAPVbW9vdgAAAGxtdmhkAAAAAAAAAAAAAAAAAAAD6AAABdwAAQAAAQAAAAAAAAAAAAAAAAEAAAAAAAAAAAAAAAAAAAABAAAAAAAAAAAAAAAAAABAAAAAAAAAAAAAAAAAAAAAAAAAAAAAAAAAAAAAAAAAAgAAAwB0cmFrAAAAXHRraGQAAAADAAAAAAAAAAAAAAABAAAAAAAABdwAAAAAAAAAAAAAAAAAAAAAAAEAAAAAAAAAAAAAAAAAAAABAAAAAAAAAAAAAAAAAABAAAAAAmAAAAGwAAAAAAAkZWR0cwAAABxlbHN0AAAAAAAAAAEAAAXcAAAIAAABAAAAAAJ4bWRpYQAAACBtZGhkAAAAAAAAAAAAAAAAAAAoAAAAPABVxAAAAAAALWhkbHIAAAAAAAAAAHZpZGUAAAAAAAAAAAAAAABWaWRlb0hhbmRsZXIAAAACI21pbmYAAAAUdm1oZAAAAAEAAAAAAAAAAAAAACRkaW5mAAAAHGRyZWYAAAAAAAAAAQAAAAx1cmwgAAAAAQAAAeNzdGJsAAAAr3N0c2QAAAAAAAAAAQAAAJ9hdmMxAAAAAAAAAAEAAAAAAAAAAAAAAAAAAAAAAmABsABIAAAASAAAAAAAAAABFExhdmM2MS4zLjEwMCBsaWJ4MjY0AAAAAAAAAAAAAAAAGP//AAAANWF2Y0MBZAAW/+EAGGdkABas2UCYN6EAAAMAAQAAAwAUDxYtlgEABmjr48siwP34+AAAAAAUYnRydAAAAAAAAPCqAADwqgAAABhzdHRzAAAAAAAAAAEAAAAPAAAEAAAAABRzdHNzAAAAAAAAAAEAAAABAAAAgGN0dHMAAAAAAAAADgAAAAEAAAgAAAAAAQAAFAAAAAABAAAIAAAAAAEAAAAAAAAAAQAABAAAAAABAAAUAAAAAAEAAAgAAAAAAQAAAAAAAAABAAAEAAAAAAEAABQAAAAAAQAACAAAAAABAAAAAAAAAAEAAAQAAAAAAgAACAAAAAAcc3RzYwAAAAAAAAABAAAAAQAAAA8AAAABAAAAUHN0c3oAAAAAAAAAAAAAAA8AABgBAAADqgAAAHAAAABcAAADUQAAAOkAAAAqAAAAXAAAADoAAAD8AAABWQAAACcAAABCAAAAfAAACHUAAAAUc3RjbwAAAAAAAAABAAAAMAAAAGF1ZHRhAAAAWW1ldGEAAAAAAAAAIWhkbHIAAAAAAAAAAG1kaXJhcHBsAAAAAAAAAAAAAAAALGlsc3QAAAAkqXRvbwAAABxkYXRhAAAAAQAAAABMYXZmNjEuMS4xMDA=\" type=\"video/mp4\">\n",
              " Your browser does not support the video tag.\n",
              " </video>"
            ]
          },
          "metadata": {},
          "execution_count": 23
        }
      ],
      "source": [
        "Video(\"trajectory.mp4\", embed=True)"
      ]
    },
    {
      "cell_type": "code",
      "execution_count": 24,
      "metadata": {
        "colab": {
          "base_uri": "https://localhost:8080/",
          "height": 1000
        },
        "id": "negD3K3_xmqK",
        "outputId": "8af1fbae-e7d8-46f7-ae58-c4cb7c20b030"
      },
      "outputs": [
        {
          "output_type": "display_data",
          "data": {
            "text/plain": [
              "<Figure size 640x480 with 1 Axes>"
            ],
            "image/png": "[encoded data removed]"
          },
          "metadata": {}
        },
        {
          "output_type": "display_data",
          "data": {
            "text/plain": [
              "<Figure size 640x480 with 1 Axes>"
            ],
            "image/png": "[encoded data removed]"
          },
          "metadata": {}
        },
        {
          "output_type": "display_data",
          "data": {
            "text/plain": [
              "<Figure size 640x480 with 1 Axes>"
            ],
            "image/png": "[encoded data removed]"
          },
          "metadata": {}
        },
        {
          "output_type": "display_data",
          "data": {
            "text/plain": [
              "<Figure size 640x480 with 1 Axes>"
            ],
            "image/png": "[encoded data removed]"
          },
          "metadata": {}
        }
      ],
      "source": [
        "tlol.save_static_plots_in_notebook()\n",
        "# Below charts that will be saved into notebook for solution evaluation\n",
        "# IMPORTANT TIP - when training, there is a small chance that ppo will outperform ppo+rnd"
      ]
    }
  ],
  "metadata": {
    "accelerator": "GPU",
    "colab": {
      "gpuType": "T4",
      "provenance": []
    },
    "kernelspec": {
      "display_name": "rl",
      "language": "python",
      "name": "python3"
    },
    "language_info": {
      "codemirror_mode": {
        "name": "ipython",
        "version": 3
      },
      "file_extension": ".py",
      "mimetype": "text/x-python",
      "name": "python",
      "nbconvert_exporter": "python",
      "pygments_lexer": "ipython3",
      "version": "3.10.16"
    },
    "widgets": {
      "application/vnd.jupyter.widget-state+json": {
        "a656c980f21c4bddb2356f91e796e28b": {
          "model_module": "jupyterlab-plotly",
          "model_name": "FigureModel",
          "model_module_version": "^5.24.1",
          "state": {
            "_config": {
              "plotlyServerURL": "https://plot.ly"
            },
            "_data": [
              {
                "mode": "lines",
                "showlegend": true,
                "x": [],
                "y": [],
                "type": "scatter",
                "uid": "d90d4034-7c61-4fcd-bab4-8f138f253ac6"
              },
              {
                "mode": "lines",
                "showlegend": true,
                "x": [],
                "y": [],
                "type": "scatter",
                "uid": "98aa16ce-e0ad-40c2-ab76-ceae94f9e9ed"
              },
              {
                "mode": "lines",
                "showlegend": true,
                "x": [],
                "y": [],
                "type": "scatter",
                "uid": "0db12f88-205a-46f4-9700-04fbcfd6d7d5"
              },
              {
                "mode": "lines",
                "showlegend": true,
                "x": [],
                "y": [],
                "type": "scatter",
                "uid": "13300774-bc78-4890-8c8d-339108ac58b0"
              },
              {
                "mode": "lines",
                "showlegend": true,
                "x": [],
                "y": [],
                "type": "scatter",
                "uid": "21925499-871c-4a65-a1aa-6b4b00c3e39e"
              },
              {
                "mode": "lines",
                "showlegend": true,
                "x": [],
                "y": [],
                "type": "scatter",
                "uid": "5de04baf-f669-483c-a927-84f6fd21429a"
              },
              {
                "mode": "lines",
                "showlegend": true,
                "x": [],
                "y": [],
                "type": "scatter",
                "uid": "75d6f528-da65-47d1-a83d-51e3e63b2f31"
              },
              {
                "mode": "lines",
                "showlegend": true,
                "x": [],
                "y": [],
                "type": "scatter",
                "uid": "ee940530-327f-44ac-a914-31cc961d40da"
              },
              {
                "mode": "lines",
                "showlegend": true,
                "x": [],
                "y": [],
                "type": "scatter",
                "uid": "5ba2d965-34ec-48e8-bb87-53aa799367ee"
              },
              {
                "mode": "lines",
                "showlegend": true,
                "x": [],
                "y": [],
                "type": "scatter",
                "uid": "06095be4-5293-45e0-909d-052913bb32fc"
              },
              {
                "mode": "lines",
                "showlegend": true,
                "x": [],
                "y": [],
                "type": "scatter",
                "uid": "7ec4b369-8900-4a3a-b204-56ef420c8b85"
              },
              {
                "mode": "lines",
                "showlegend": true,
                "x": [],
                "y": [],
                "type": "scatter",
                "uid": "42204734-3558-4734-a5bc-8fc764dec1bb"
              },
              {
                "mode": "lines",
                "showlegend": true,
                "x": [],
                "y": [],
                "type": "scatter",
                "uid": "feba8c01-b141-440d-a937-a54116d51a1c"
              },
              {
                "mode": "lines",
                "showlegend": true,
                "x": [],
                "y": [],
                "type": "scatter",
                "uid": "b2bb7c3f-47bd-4351-9abc-b4fa7f748d0f"
              },
              {
                "mode": "lines",
                "showlegend": true,
                "x": [],
                "y": [],
                "type": "scatter",
                "uid": "cd705d6e-8025-4a4c-8ae6-b2559971bab8"
              },
              {
                "mode": "lines",
                "showlegend": true,
                "x": [],
                "y": [],
                "type": "scatter",
                "uid": "abe5c2de-9584-4850-8ee9-e94825df3a40"
              },
              {
                "mode": "lines",
                "showlegend": true,
                "x": [],
                "y": [],
                "type": "scatter",
                "uid": "d4c1a584-d551-4d89-ab30-d1d57dae3ca1"
              },
              {
                "mode": "lines",
                "showlegend": true,
                "x": [],
                "y": [],
                "type": "scatter",
                "uid": "c862d9f5-0b96-4e20-9309-1ac0e63a4f05"
              },
              {
                "mode": "lines",
                "showlegend": true,
                "x": [],
                "y": [],
                "type": "scatter",
                "uid": "55e56f67-e0df-4746-91b5-362aa0b9ac4a"
              },
              {
                "mode": "lines",
                "showlegend": true,
                "x": [],
                "y": [],
                "type": "scatter",
                "uid": "e96e408f-d6eb-4be4-989e-54b095d56c17"
              },
              {
                "mode": "lines",
                "showlegend": true,
                "x": [],
                "y": [],
                "type": "scatter",
                "uid": "195f9fa5-e2b3-4487-a8df-800c6d9072f4"
              },
              {
                "mode": "lines",
                "showlegend": true,
                "x": [],
                "y": [],
                "type": "scatter",
                "uid": "e28ea495-a4d1-48e3-96f6-8fcbcf754303"
              },
              {
                "mode": "lines",
                "showlegend": true,
                "x": [],
                "y": [],
                "type": "scatter",
                "uid": "f74a603b-f672-4d36-a89f-0d35bb6ba4f1"
              },
              {
                "mode": "lines",
                "showlegend": true,
                "x": [],
                "y": [],
                "type": "scatter",
                "uid": "d59a3720-26c1-43cb-918f-a7ea4e29fceb"
              },
              {
                "mode": "lines",
                "showlegend": true,
                "x": [],
                "y": [],
                "type": "scatter",
                "uid": "e47b1bbc-8e9c-4cae-96b3-c7142fd7eac2"
              }
            ],
            "_dom_classes": [],
            "_js2py_layoutDelta": null,
            "_js2py_pointsCallback": {},
            "_js2py_relayout": {},
            "_js2py_restyle": {},
            "_js2py_traceDeltas": null,
            "_js2py_update": {},
            "_last_layout_edit_id": 978,
            "_last_trace_edit_id": 978,
            "_layout": {
              "height": 400,
              "margin": {
                "b": 10,
                "t": 60
              },
              "template": {
                "data": {
                  "barpolar": [
                    {
                      "marker": {
                        "line": {
                          "color": "#E5ECF6",
                          "width": 0.5
                        },
                        "pattern": {
                          "fillmode": "overlay",
                          "size": 10,
                          "solidity": 0.2
                        }
                      },
                      "type": "barpolar"
                    }
                  ],
                  "bar": [
                    {
                      "error_x": {
                        "color": "#2a3f5f"
                      },
                      "error_y": {
                        "color": "#2a3f5f"
                      },
                      "marker": {
                        "line": {
                          "color": "#E5ECF6",
                          "width": 0.5
                        },
                        "pattern": {
                          "fillmode": "overlay",
                          "size": 10,
                          "solidity": 0.2
                        }
                      },
                      "type": "bar"
                    }
                  ],
                  "carpet": [
                    {
                      "aaxis": {
                        "endlinecolor": "#2a3f5f",
                        "gridcolor": "white",
                        "linecolor": "white",
                        "minorgridcolor": "white",
                        "startlinecolor": "#2a3f5f"
                      },
                      "baxis": {
                        "endlinecolor": "#2a3f5f",
                        "gridcolor": "white",
                        "linecolor": "white",
                        "minorgridcolor": "white",
                        "startlinecolor": "#2a3f5f"
                      },
                      "type": "carpet"
                    }
                  ],
                  "choropleth": [
                    {
                      "colorbar": {
                        "outlinewidth": 0,
                        "ticks": ""
                      },
                      "type": "choropleth"
                    }
                  ],
                  "contourcarpet": [
                    {
                      "colorbar": {
                        "outlinewidth": 0,
                        "ticks": ""
                      },
                      "type": "contourcarpet"
                    }
                  ],
                  "contour": [
                    {
                      "colorbar": {
                        "outlinewidth": 0,
                        "ticks": ""
                      },
                      "colorscale": [
                        [
                          0,
                          "#0d0887"
                        ],
                        [
                          0.1111111111111111,
                          "#46039f"
                        ],
                        [
                          0.2222222222222222,
                          "#7201a8"
                        ],
                        [
                          0.3333333333333333,
                          "#9c179e"
                        ],
                        [
                          0.4444444444444444,
                          "#bd3786"
                        ],
                        [
                          0.5555555555555556,
                          "#d8576b"
                        ],
                        [
                          0.6666666666666666,
                          "#ed7953"
                        ],
                        [
                          0.7777777777777778,
                          "#fb9f3a"
                        ],
                        [
                          0.8888888888888888,
                          "#fdca26"
                        ],
                        [
                          1,
                          "#f0f921"
                        ]
                      ],
                      "type": "contour"
                    }
                  ],
                  "heatmapgl": [
                    {
                      "colorbar": {
                        "outlinewidth": 0,
                        "ticks": ""
                      },
                      "colorscale": [
                        [
                          0,
                          "#0d0887"
                        ],
                        [
                          0.1111111111111111,
                          "#46039f"
                        ],
                        [
                          0.2222222222222222,
                          "#7201a8"
                        ],
                        [
                          0.3333333333333333,
                          "#9c179e"
                        ],
                        [
                          0.4444444444444444,
                          "#bd3786"
                        ],
                        [
                          0.5555555555555556,
                          "#d8576b"
                        ],
                        [
                          0.6666666666666666,
                          "#ed7953"
                        ],
                        [
                          0.7777777777777778,
                          "#fb9f3a"
                        ],
                        [
                          0.8888888888888888,
                          "#fdca26"
                        ],
                        [
                          1,
                          "#f0f921"
                        ]
                      ],
                      "type": "heatmapgl"
                    }
                  ],
                  "heatmap": [
                    {
                      "colorbar": {
                        "outlinewidth": 0,
                        "ticks": ""
                      },
                      "colorscale": [
                        [
                          0,
                          "#0d0887"
                        ],
                        [
                          0.1111111111111111,
                          "#46039f"
                        ],
                        [
                          0.2222222222222222,
                          "#7201a8"
                        ],
                        [
                          0.3333333333333333,
                          "#9c179e"
                        ],
                        [
                          0.4444444444444444,
                          "#bd3786"
                        ],
                        [
                          0.5555555555555556,
                          "#d8576b"
                        ],
                        [
                          0.6666666666666666,
                          "#ed7953"
                        ],
                        [
                          0.7777777777777778,
                          "#fb9f3a"
                        ],
                        [
                          0.8888888888888888,
                          "#fdca26"
                        ],
                        [
                          1,
                          "#f0f921"
                        ]
                      ],
                      "type": "heatmap"
                    }
                  ],
                  "histogram2dcontour": [
                    {
                      "colorbar": {
                        "outlinewidth": 0,
                        "ticks": ""
                      },
                      "colorscale": [
                        [
                          0,
                          "#0d0887"
                        ],
                        [
                          0.1111111111111111,
                          "#46039f"
                        ],
                        [
                          0.2222222222222222,
                          "#7201a8"
                        ],
                        [
                          0.3333333333333333,
                          "#9c179e"
                        ],
                        [
                          0.4444444444444444,
                          "#bd3786"
                        ],
                        [
                          0.5555555555555556,
                          "#d8576b"
                        ],
                        [
                          0.6666666666666666,
                          "#ed7953"
                        ],
                        [
                          0.7777777777777778,
                          "#fb9f3a"
                        ],
                        [
                          0.8888888888888888,
                          "#fdca26"
                        ],
                        [
                          1,
                          "#f0f921"
                        ]
                      ],
                      "type": "histogram2dcontour"
                    }
                  ],
                  "histogram2d": [
                    {
                      "colorbar": {
                        "outlinewidth": 0,
                        "ticks": ""
                      },
                      "colorscale": [
                        [
                          0,
                          "#0d0887"
                        ],
                        [
                          0.1111111111111111,
                          "#46039f"
                        ],
                        [
                          0.2222222222222222,
                          "#7201a8"
                        ],
                        [
                          0.3333333333333333,
                          "#9c179e"
                        ],
                        [
                          0.4444444444444444,
                          "#bd3786"
                        ],
                        [
                          0.5555555555555556,
                          "#d8576b"
                        ],
                        [
                          0.6666666666666666,
                          "#ed7953"
                        ],
                        [
                          0.7777777777777778,
                          "#fb9f3a"
                        ],
                        [
                          0.8888888888888888,
                          "#fdca26"
                        ],
                        [
                          1,
                          "#f0f921"
                        ]
                      ],
                      "type": "histogram2d"
                    }
                  ],
                  "histogram": [
                    {
                      "marker": {
                        "pattern": {
                          "fillmode": "overlay",
                          "size": 10,
                          "solidity": 0.2
                        }
                      },
                      "type": "histogram"
                    }
                  ],
                  "mesh3d": [
                    {
                      "colorbar": {
                        "outlinewidth": 0,
                        "ticks": ""
                      },
                      "type": "mesh3d"
                    }
                  ],
                  "parcoords": [
                    {
                      "line": {
                        "colorbar": {
                          "outlinewidth": 0,
                          "ticks": ""
                        }
                      },
                      "type": "parcoords"
                    }
                  ],
                  "pie": [
                    {
                      "automargin": true,
                      "type": "pie"
                    }
                  ],
                  "scatter3d": [
                    {
                      "line": {
                        "colorbar": {
                          "outlinewidth": 0,
                          "ticks": ""
                        }
                      },
                      "marker": {
                        "colorbar": {
                          "outlinewidth": 0,
                          "ticks": ""
                        }
                      },
                      "type": "scatter3d"
                    }
                  ],
                  "scattercarpet": [
                    {
                      "marker": {
                        "colorbar": {
                          "outlinewidth": 0,
                          "ticks": ""
                        }
                      },
                      "type": "scattercarpet"
                    }
                  ],
                  "scattergeo": [
                    {
                      "marker": {
                        "colorbar": {
                          "outlinewidth": 0,
                          "ticks": ""
                        }
                      },
                      "type": "scattergeo"
                    }
                  ],
                  "scattergl": [
                    {
                      "marker": {
                        "colorbar": {
                          "outlinewidth": 0,
                          "ticks": ""
                        }
                      },
                      "type": "scattergl"
                    }
                  ],
                  "scattermapbox": [
                    {
                      "marker": {
                        "colorbar": {
                          "outlinewidth": 0,
                          "ticks": ""
                        }
                      },
                      "type": "scattermapbox"
                    }
                  ],
                  "scatterpolargl": [
                    {
                      "marker": {
                        "colorbar": {
                          "outlinewidth": 0,
                          "ticks": ""
                        }
                      },
                      "type": "scatterpolargl"
                    }
                  ],
                  "scatterpolar": [
                    {
                      "marker": {
                        "colorbar": {
                          "outlinewidth": 0,
                          "ticks": ""
                        }
                      },
                      "type": "scatterpolar"
                    }
                  ],
                  "scatter": [
                    {
                      "fillpattern": {
                        "fillmode": "overlay",
                        "size": 10,
                        "solidity": 0.2
                      },
                      "type": "scatter"
                    }
                  ],
                  "scatterternary": [
                    {
                      "marker": {
                        "colorbar": {
                          "outlinewidth": 0,
                          "ticks": ""
                        }
                      },
                      "type": "scatterternary"
                    }
                  ],
                  "surface": [
                    {
                      "colorbar": {
                        "outlinewidth": 0,
                        "ticks": ""
                      },
                      "colorscale": [
                        [
                          0,
                          "#0d0887"
                        ],
                        [
                          0.1111111111111111,
                          "#46039f"
                        ],
                        [
                          0.2222222222222222,
                          "#7201a8"
                        ],
                        [
                          0.3333333333333333,
                          "#9c179e"
                        ],
                        [
                          0.4444444444444444,
                          "#bd3786"
                        ],
                        [
                          0.5555555555555556,
                          "#d8576b"
                        ],
                        [
                          0.6666666666666666,
                          "#ed7953"
                        ],
                        [
                          0.7777777777777778,
                          "#fb9f3a"
                        ],
                        [
                          0.8888888888888888,
                          "#fdca26"
                        ],
                        [
                          1,
                          "#f0f921"
                        ]
                      ],
                      "type": "surface"
                    }
                  ],
                  "table": [
                    {
                      "cells": {
                        "fill": {
                          "color": "#EBF0F8"
                        },
                        "line": {
                          "color": "white"
                        }
                      },
                      "header": {
                        "fill": {
                          "color": "#C8D4E3"
                        },
                        "line": {
                          "color": "white"
                        }
                      },
                      "type": "table"
                    }
                  ]
                },
                "layout": {
                  "annotationdefaults": {
                    "arrowcolor": "#2a3f5f",
                    "arrowhead": 0,
                    "arrowwidth": 1
                  },
                  "autotypenumbers": "strict",
                  "coloraxis": {
                    "colorbar": {
                      "outlinewidth": 0,
                      "ticks": ""
                    }
                  },
                  "colorscale": {
                    "diverging": [
                      [
                        0,
                        "#8e0152"
                      ],
                      [
                        0.1,
                        "#c51b7d"
                      ],
                      [
                        0.2,
                        "#de77ae"
                      ],
                      [
                        0.3,
                        "#f1b6da"
                      ],
                      [
                        0.4,
                        "#fde0ef"
                      ],
                      [
                        0.5,
                        "#f7f7f7"
                      ],
                      [
                        0.6,
                        "#e6f5d0"
                      ],
                      [
                        0.7,
                        "#b8e186"
                      ],
                      [
                        0.8,
                        "#7fbc41"
                      ],
                      [
                        0.9,
                        "#4d9221"
                      ],
                      [
                        1,
                        "#276419"
                      ]
                    ],
                    "sequential": [
                      [
                        0,
                        "#0d0887"
                      ],
                      [
                        0.1111111111111111,
                        "#46039f"
                      ],
                      [
                        0.2222222222222222,
                        "#7201a8"
                      ],
                      [
                        0.3333333333333333,
                        "#9c179e"
                      ],
                      [
                        0.4444444444444444,
                        "#bd3786"
                      ],
                      [
                        0.5555555555555556,
                        "#d8576b"
                      ],
                      [
                        0.6666666666666666,
                        "#ed7953"
                      ],
                      [
                        0.7777777777777778,
                        "#fb9f3a"
                      ],
                      [
                        0.8888888888888888,
                        "#fdca26"
                      ],
                      [
                        1,
                        "#f0f921"
                      ]
                    ],
                    "sequentialminus": [
                      [
                        0,
                        "#0d0887"
                      ],
                      [
                        0.1111111111111111,
                        "#46039f"
                      ],
                      [
                        0.2222222222222222,
                        "#7201a8"
                      ],
                      [
                        0.3333333333333333,
                        "#9c179e"
                      ],
                      [
                        0.4444444444444444,
                        "#bd3786"
                      ],
                      [
                        0.5555555555555556,
                        "#d8576b"
                      ],
                      [
                        0.6666666666666666,
                        "#ed7953"
                      ],
                      [
                        0.7777777777777778,
                        "#fb9f3a"
                      ],
                      [
                        0.8888888888888888,
                        "#fdca26"
                      ],
                      [
                        1,
                        "#f0f921"
                      ]
                    ]
                  },
                  "colorway": [
                    "#636efa",
                    "#EF553B",
                    "#00cc96",
                    "#ab63fa",
                    "#FFA15A",
                    "#19d3f3",
                    "#FF6692",
                    "#B6E880",
                    "#FF97FF",
                    "#FECB52"
                  ],
                  "font": {
                    "color": "#2a3f5f"
                  },
                  "geo": {
                    "bgcolor": "white",
                    "lakecolor": "white",
                    "landcolor": "#E5ECF6",
                    "showlakes": true,
                    "showland": true,
                    "subunitcolor": "white"
                  },
                  "hoverlabel": {
                    "align": "left"
                  },
                  "hovermode": "closest",
                  "mapbox": {
                    "style": "light"
                  },
                  "paper_bgcolor": "white",
                  "plot_bgcolor": "#E5ECF6",
                  "polar": {
                    "angularaxis": {
                      "gridcolor": "white",
                      "linecolor": "white",
                      "ticks": ""
                    },
                    "bgcolor": "#E5ECF6",
                    "radialaxis": {
                      "gridcolor": "white",
                      "linecolor": "white",
                      "ticks": ""
                    }
                  },
                  "scene": {
                    "xaxis": {
                      "backgroundcolor": "#E5ECF6",
                      "gridcolor": "white",
                      "gridwidth": 2,
                      "linecolor": "white",
                      "showbackground": true,
                      "ticks": "",
                      "zerolinecolor": "white"
                    },
                    "yaxis": {
                      "backgroundcolor": "#E5ECF6",
                      "gridcolor": "white",
                      "gridwidth": 2,
                      "linecolor": "white",
                      "showbackground": true,
                      "ticks": "",
                      "zerolinecolor": "white"
                    },
                    "zaxis": {
                      "backgroundcolor": "#E5ECF6",
                      "gridcolor": "white",
                      "gridwidth": 2,
                      "linecolor": "white",
                      "showbackground": true,
                      "ticks": "",
                      "zerolinecolor": "white"
                    }
                  },
                  "shapedefaults": {
                    "line": {
                      "color": "#2a3f5f"
                    }
                  },
                  "ternary": {
                    "aaxis": {
                      "gridcolor": "white",
                      "linecolor": "white",
                      "ticks": ""
                    },
                    "baxis": {
                      "gridcolor": "white",
                      "linecolor": "white",
                      "ticks": ""
                    },
                    "bgcolor": "#E5ECF6",
                    "caxis": {
                      "gridcolor": "white",
                      "linecolor": "white",
                      "ticks": ""
                    }
                  },
                  "title": {
                    "x": 0.05
                  },
                  "xaxis": {
                    "automargin": true,
                    "gridcolor": "white",
                    "linecolor": "white",
                    "ticks": "",
                    "title": {
                      "standoff": 15
                    },
                    "zerolinecolor": "white",
                    "zerolinewidth": 2
                  },
                  "yaxis": {
                    "automargin": true,
                    "gridcolor": "white",
                    "linecolor": "white",
                    "ticks": "",
                    "title": {
                      "standoff": 15
                    },
                    "zerolinecolor": "white",
                    "zerolinewidth": 2
                  }
                }
              },
              "title": {
                "text": "Training entropy loss",
                "x": 0.5
              },
              "width": 1500,
              "xaxis": {
                "title": {
                  "text": "Global step"
                }
              },
              "yaxis": {
                "type": "linear"
              }
            },
            "_model_module": "jupyterlab-plotly",
            "_model_module_version": "^5.24.1",
            "_model_name": "FigureModel",
            "_py2js_addTraces": {},
            "_py2js_animate": {},
            "_py2js_deleteTraces": {},
            "_py2js_moveTraces": {},
            "_py2js_relayout": {},
            "_py2js_removeLayoutProps": {},
            "_py2js_removeTraceProps": {},
            "_py2js_restyle": null,
            "_py2js_update": {},
            "_view_count": 1,
            "_view_module": "jupyterlab-plotly",
            "_view_module_version": "^5.24.1",
            "_view_name": "FigureView"
          }
        },
        "705c52bfb835451d89479264b31890d0": {
          "model_module": "jupyterlab-plotly",
          "model_name": "FigureModel",
          "model_module_version": "^5.24.1",
          "state": {
            "_config": {
              "plotlyServerURL": "https://plot.ly"
            },
            "_data": [
              {
                "mode": "lines",
                "showlegend": true,
                "x": [],
                "y": [],
                "type": "scatter",
                "uid": "daa8889a-8a44-418a-8d0d-c4ae32a3b13d"
              },
              {
                "mode": "lines",
                "showlegend": true,
                "x": [],
                "y": [],
                "type": "scatter",
                "uid": "60c39bdc-2b72-441d-979f-2922897c26fd"
              },
              {
                "mode": "lines",
                "showlegend": true,
                "x": [],
                "y": [],
                "type": "scatter",
                "uid": "13a70b6d-5fa5-40b1-8306-52d721424c32"
              },
              {
                "mode": "lines",
                "showlegend": true,
                "x": [],
                "y": [],
                "type": "scatter",
                "uid": "501e0ec2-b98c-4068-9c1c-b93f8dc17509"
              },
              {
                "mode": "lines",
                "showlegend": true,
                "x": [],
                "y": [],
                "type": "scatter",
                "uid": "fce8cb79-0055-4a2e-9710-ad0decd3741b"
              },
              {
                "mode": "lines",
                "showlegend": true,
                "x": [],
                "y": [],
                "type": "scatter",
                "uid": "92873160-6a02-4dc4-8a0d-3b37ff61545b"
              },
              {
                "mode": "lines",
                "showlegend": true,
                "x": [],
                "y": [],
                "type": "scatter",
                "uid": "28347fb2-1d3f-48a4-8afa-cc367d070662"
              },
              {
                "mode": "lines",
                "showlegend": true,
                "x": [],
                "y": [],
                "type": "scatter",
                "uid": "708b347a-f49f-4c8e-bc51-7f4eaf71d1cd"
              },
              {
                "mode": "lines",
                "showlegend": true,
                "x": [],
                "y": [],
                "type": "scatter",
                "uid": "88d66a89-64da-442a-bdbe-11623cbd9a96"
              },
              {
                "mode": "lines",
                "showlegend": true,
                "x": [],
                "y": [],
                "type": "scatter",
                "uid": "78337071-5886-4d51-a09c-6fccbe8c1a9f"
              },
              {
                "mode": "lines",
                "showlegend": true,
                "x": [],
                "y": [],
                "type": "scatter",
                "uid": "583c5382-0208-4b3c-9840-e58cbbb5fae8"
              },
              {
                "mode": "lines",
                "showlegend": true,
                "x": [],
                "y": [],
                "type": "scatter",
                "uid": "4bae39b8-0a57-4893-8287-0656e2d1bb77"
              },
              {
                "mode": "lines",
                "showlegend": true,
                "x": [],
                "y": [],
                "type": "scatter",
                "uid": "c490f303-1859-4792-82a3-f62d1e0921a8"
              },
              {
                "mode": "lines",
                "showlegend": true,
                "x": [],
                "y": [],
                "type": "scatter",
                "uid": "db5d9f05-fdf0-47ea-aaf5-9cf770a81ff6"
              },
              {
                "mode": "lines",
                "showlegend": true,
                "x": [],
                "y": [],
                "type": "scatter",
                "uid": "87fed213-1f5d-4004-84de-d39c52985cd5"
              },
              {
                "mode": "lines",
                "showlegend": true,
                "x": [],
                "y": [],
                "type": "scatter",
                "uid": "3054ae1f-a426-4172-a2fd-1e7512a1e4a9"
              },
              {
                "mode": "lines",
                "showlegend": true,
                "x": [],
                "y": [],
                "type": "scatter",
                "uid": "a57279e9-0af2-4c7a-863d-eaa40081f250"
              },
              {
                "mode": "lines",
                "showlegend": true,
                "x": [],
                "y": [],
                "type": "scatter",
                "uid": "70b9e8c2-1cfb-4a52-aa5e-6292e5b63e8f"
              },
              {
                "mode": "lines",
                "showlegend": true,
                "x": [],
                "y": [],
                "type": "scatter",
                "uid": "3b47197b-c12f-473b-b346-87e4260aed87"
              },
              {
                "mode": "lines",
                "showlegend": true,
                "x": [],
                "y": [],
                "type": "scatter",
                "uid": "982fbe8c-d3f3-482d-a5e0-54cfde740ebc"
              },
              {
                "mode": "lines",
                "showlegend": true,
                "x": [],
                "y": [],
                "type": "scatter",
                "uid": "1f46242d-70c2-4810-a5e0-444eba1b843d"
              },
              {
                "mode": "lines",
                "showlegend": true,
                "x": [],
                "y": [],
                "type": "scatter",
                "uid": "092d924e-fa49-4e50-bdee-5830b350cec2"
              },
              {
                "mode": "lines",
                "showlegend": true,
                "x": [],
                "y": [],
                "type": "scatter",
                "uid": "af7d5227-6e8c-4474-8f0f-f28011245f1d"
              },
              {
                "mode": "lines",
                "showlegend": true,
                "x": [],
                "y": [],
                "type": "scatter",
                "uid": "a6810819-7871-444b-9a37-41ba30921e09"
              },
              {
                "mode": "lines",
                "showlegend": true,
                "x": [],
                "y": [],
                "type": "scatter",
                "uid": "78360b0f-9001-4be3-9b0a-4c471aa06d88"
              }
            ],
            "_dom_classes": [],
            "_js2py_layoutDelta": null,
            "_js2py_pointsCallback": {},
            "_js2py_relayout": {},
            "_js2py_restyle": {},
            "_js2py_traceDeltas": null,
            "_js2py_update": {},
            "_last_layout_edit_id": 4460,
            "_last_trace_edit_id": 4460,
            "_layout": {
              "height": 400,
              "margin": {
                "b": 10,
                "t": 60
              },
              "template": {
                "data": {
                  "barpolar": [
                    {
                      "marker": {
                        "line": {
                          "color": "#E5ECF6",
                          "width": 0.5
                        },
                        "pattern": {
                          "fillmode": "overlay",
                          "size": 10,
                          "solidity": 0.2
                        }
                      },
                      "type": "barpolar"
                    }
                  ],
                  "bar": [
                    {
                      "error_x": {
                        "color": "#2a3f5f"
                      },
                      "error_y": {
                        "color": "#2a3f5f"
                      },
                      "marker": {
                        "line": {
                          "color": "#E5ECF6",
                          "width": 0.5
                        },
                        "pattern": {
                          "fillmode": "overlay",
                          "size": 10,
                          "solidity": 0.2
                        }
                      },
                      "type": "bar"
                    }
                  ],
                  "carpet": [
                    {
                      "aaxis": {
                        "endlinecolor": "#2a3f5f",
                        "gridcolor": "white",
                        "linecolor": "white",
                        "minorgridcolor": "white",
                        "startlinecolor": "#2a3f5f"
                      },
                      "baxis": {
                        "endlinecolor": "#2a3f5f",
                        "gridcolor": "white",
                        "linecolor": "white",
                        "minorgridcolor": "white",
                        "startlinecolor": "#2a3f5f"
                      },
                      "type": "carpet"
                    }
                  ],
                  "choropleth": [
                    {
                      "colorbar": {
                        "outlinewidth": 0,
                        "ticks": ""
                      },
                      "type": "choropleth"
                    }
                  ],
                  "contourcarpet": [
                    {
                      "colorbar": {
                        "outlinewidth": 0,
                        "ticks": ""
                      },
                      "type": "contourcarpet"
                    }
                  ],
                  "contour": [
                    {
                      "colorbar": {
                        "outlinewidth": 0,
                        "ticks": ""
                      },
                      "colorscale": [
                        [
                          0,
                          "#0d0887"
                        ],
                        [
                          0.1111111111111111,
                          "#46039f"
                        ],
                        [
                          0.2222222222222222,
                          "#7201a8"
                        ],
                        [
                          0.3333333333333333,
                          "#9c179e"
                        ],
                        [
                          0.4444444444444444,
                          "#bd3786"
                        ],
                        [
                          0.5555555555555556,
                          "#d8576b"
                        ],
                        [
                          0.6666666666666666,
                          "#ed7953"
                        ],
                        [
                          0.7777777777777778,
                          "#fb9f3a"
                        ],
                        [
                          0.8888888888888888,
                          "#fdca26"
                        ],
                        [
                          1,
                          "#f0f921"
                        ]
                      ],
                      "type": "contour"
                    }
                  ],
                  "heatmapgl": [
                    {
                      "colorbar": {
                        "outlinewidth": 0,
                        "ticks": ""
                      },
                      "colorscale": [
                        [
                          0,
                          "#0d0887"
                        ],
                        [
                          0.1111111111111111,
                          "#46039f"
                        ],
                        [
                          0.2222222222222222,
                          "#7201a8"
                        ],
                        [
                          0.3333333333333333,
                          "#9c179e"
                        ],
                        [
                          0.4444444444444444,
                          "#bd3786"
                        ],
                        [
                          0.5555555555555556,
                          "#d8576b"
                        ],
                        [
                          0.6666666666666666,
                          "#ed7953"
                        ],
                        [
                          0.7777777777777778,
                          "#fb9f3a"
                        ],
                        [
                          0.8888888888888888,
                          "#fdca26"
                        ],
                        [
                          1,
                          "#f0f921"
                        ]
                      ],
                      "type": "heatmapgl"
                    }
                  ],
                  "heatmap": [
                    {
                      "colorbar": {
                        "outlinewidth": 0,
                        "ticks": ""
                      },
                      "colorscale": [
                        [
                          0,
                          "#0d0887"
                        ],
                        [
                          0.1111111111111111,
                          "#46039f"
                        ],
                        [
                          0.2222222222222222,
                          "#7201a8"
                        ],
                        [
                          0.3333333333333333,
                          "#9c179e"
                        ],
                        [
                          0.4444444444444444,
                          "#bd3786"
                        ],
                        [
                          0.5555555555555556,
                          "#d8576b"
                        ],
                        [
                          0.6666666666666666,
                          "#ed7953"
                        ],
                        [
                          0.7777777777777778,
                          "#fb9f3a"
                        ],
                        [
                          0.8888888888888888,
                          "#fdca26"
                        ],
                        [
                          1,
                          "#f0f921"
                        ]
                      ],
                      "type": "heatmap"
                    }
                  ],
                  "histogram2dcontour": [
                    {
                      "colorbar": {
                        "outlinewidth": 0,
                        "ticks": ""
                      },
                      "colorscale": [
                        [
                          0,
                          "#0d0887"
                        ],
                        [
                          0.1111111111111111,
                          "#46039f"
                        ],
                        [
                          0.2222222222222222,
                          "#7201a8"
                        ],
                        [
                          0.3333333333333333,
                          "#9c179e"
                        ],
                        [
                          0.4444444444444444,
                          "#bd3786"
                        ],
                        [
                          0.5555555555555556,
                          "#d8576b"
                        ],
                        [
                          0.6666666666666666,
                          "#ed7953"
                        ],
                        [
                          0.7777777777777778,
                          "#fb9f3a"
                        ],
                        [
                          0.8888888888888888,
                          "#fdca26"
                        ],
                        [
                          1,
                          "#f0f921"
                        ]
                      ],
                      "type": "histogram2dcontour"
                    }
                  ],
                  "histogram2d": [
                    {
                      "colorbar": {
                        "outlinewidth": 0,
                        "ticks": ""
                      },
                      "colorscale": [
                        [
                          0,
                          "#0d0887"
                        ],
                        [
                          0.1111111111111111,
                          "#46039f"
                        ],
                        [
                          0.2222222222222222,
                          "#7201a8"
                        ],
                        [
                          0.3333333333333333,
                          "#9c179e"
                        ],
                        [
                          0.4444444444444444,
                          "#bd3786"
                        ],
                        [
                          0.5555555555555556,
                          "#d8576b"
                        ],
                        [
                          0.6666666666666666,
                          "#ed7953"
                        ],
                        [
                          0.7777777777777778,
                          "#fb9f3a"
                        ],
                        [
                          0.8888888888888888,
                          "#fdca26"
                        ],
                        [
                          1,
                          "#f0f921"
                        ]
                      ],
                      "type": "histogram2d"
                    }
                  ],
                  "histogram": [
                    {
                      "marker": {
                        "pattern": {
                          "fillmode": "overlay",
                          "size": 10,
                          "solidity": 0.2
                        }
                      },
                      "type": "histogram"
                    }
                  ],
                  "mesh3d": [
                    {
                      "colorbar": {
                        "outlinewidth": 0,
                        "ticks": ""
                      },
                      "type": "mesh3d"
                    }
                  ],
                  "parcoords": [
                    {
                      "line": {
                        "colorbar": {
                          "outlinewidth": 0,
                          "ticks": ""
                        }
                      },
                      "type": "parcoords"
                    }
                  ],
                  "pie": [
                    {
                      "automargin": true,
                      "type": "pie"
                    }
                  ],
                  "scatter3d": [
                    {
                      "line": {
                        "colorbar": {
                          "outlinewidth": 0,
                          "ticks": ""
                        }
                      },
                      "marker": {
                        "colorbar": {
                          "outlinewidth": 0,
                          "ticks": ""
                        }
                      },
                      "type": "scatter3d"
                    }
                  ],
                  "scattercarpet": [
                    {
                      "marker": {
                        "colorbar": {
                          "outlinewidth": 0,
                          "ticks": ""
                        }
                      },
                      "type": "scattercarpet"
                    }
                  ],
                  "scattergeo": [
                    {
                      "marker": {
                        "colorbar": {
                          "outlinewidth": 0,
                          "ticks": ""
                        }
                      },
                      "type": "scattergeo"
                    }
                  ],
                  "scattergl": [
                    {
                      "marker": {
                        "colorbar": {
                          "outlinewidth": 0,
                          "ticks": ""
                        }
                      },
                      "type": "scattergl"
                    }
                  ],
                  "scattermapbox": [
                    {
                      "marker": {
                        "colorbar": {
                          "outlinewidth": 0,
                          "ticks": ""
                        }
                      },
                      "type": "scattermapbox"
                    }
                  ],
                  "scatterpolargl": [
                    {
                      "marker": {
                        "colorbar": {
                          "outlinewidth": 0,
                          "ticks": ""
                        }
                      },
                      "type": "scatterpolargl"
                    }
                  ],
                  "scatterpolar": [
                    {
                      "marker": {
                        "colorbar": {
                          "outlinewidth": 0,
                          "ticks": ""
                        }
                      },
                      "type": "scatterpolar"
                    }
                  ],
                  "scatter": [
                    {
                      "fillpattern": {
                        "fillmode": "overlay",
                        "size": 10,
                        "solidity": 0.2
                      },
                      "type": "scatter"
                    }
                  ],
                  "scatterternary": [
                    {
                      "marker": {
                        "colorbar": {
                          "outlinewidth": 0,
                          "ticks": ""
                        }
                      },
                      "type": "scatterternary"
                    }
                  ],
                  "surface": [
                    {
                      "colorbar": {
                        "outlinewidth": 0,
                        "ticks": ""
                      },
                      "colorscale": [
                        [
                          0,
                          "#0d0887"
                        ],
                        [
                          0.1111111111111111,
                          "#46039f"
                        ],
                        [
                          0.2222222222222222,
                          "#7201a8"
                        ],
                        [
                          0.3333333333333333,
                          "#9c179e"
                        ],
                        [
                          0.4444444444444444,
                          "#bd3786"
                        ],
                        [
                          0.5555555555555556,
                          "#d8576b"
                        ],
                        [
                          0.6666666666666666,
                          "#ed7953"
                        ],
                        [
                          0.7777777777777778,
                          "#fb9f3a"
                        ],
                        [
                          0.8888888888888888,
                          "#fdca26"
                        ],
                        [
                          1,
                          "#f0f921"
                        ]
                      ],
                      "type": "surface"
                    }
                  ],
                  "table": [
                    {
                      "cells": {
                        "fill": {
                          "color": "#EBF0F8"
                        },
                        "line": {
                          "color": "white"
                        }
                      },
                      "header": {
                        "fill": {
                          "color": "#C8D4E3"
                        },
                        "line": {
                          "color": "white"
                        }
                      },
                      "type": "table"
                    }
                  ]
                },
                "layout": {
                  "annotationdefaults": {
                    "arrowcolor": "#2a3f5f",
                    "arrowhead": 0,
                    "arrowwidth": 1
                  },
                  "autotypenumbers": "strict",
                  "coloraxis": {
                    "colorbar": {
                      "outlinewidth": 0,
                      "ticks": ""
                    }
                  },
                  "colorscale": {
                    "diverging": [
                      [
                        0,
                        "#8e0152"
                      ],
                      [
                        0.1,
                        "#c51b7d"
                      ],
                      [
                        0.2,
                        "#de77ae"
                      ],
                      [
                        0.3,
                        "#f1b6da"
                      ],
                      [
                        0.4,
                        "#fde0ef"
                      ],
                      [
                        0.5,
                        "#f7f7f7"
                      ],
                      [
                        0.6,
                        "#e6f5d0"
                      ],
                      [
                        0.7,
                        "#b8e186"
                      ],
                      [
                        0.8,
                        "#7fbc41"
                      ],
                      [
                        0.9,
                        "#4d9221"
                      ],
                      [
                        1,
                        "#276419"
                      ]
                    ],
                    "sequential": [
                      [
                        0,
                        "#0d0887"
                      ],
                      [
                        0.1111111111111111,
                        "#46039f"
                      ],
                      [
                        0.2222222222222222,
                        "#7201a8"
                      ],
                      [
                        0.3333333333333333,
                        "#9c179e"
                      ],
                      [
                        0.4444444444444444,
                        "#bd3786"
                      ],
                      [
                        0.5555555555555556,
                        "#d8576b"
                      ],
                      [
                        0.6666666666666666,
                        "#ed7953"
                      ],
                      [
                        0.7777777777777778,
                        "#fb9f3a"
                      ],
                      [
                        0.8888888888888888,
                        "#fdca26"
                      ],
                      [
                        1,
                        "#f0f921"
                      ]
                    ],
                    "sequentialminus": [
                      [
                        0,
                        "#0d0887"
                      ],
                      [
                        0.1111111111111111,
                        "#46039f"
                      ],
                      [
                        0.2222222222222222,
                        "#7201a8"
                      ],
                      [
                        0.3333333333333333,
                        "#9c179e"
                      ],
                      [
                        0.4444444444444444,
                        "#bd3786"
                      ],
                      [
                        0.5555555555555556,
                        "#d8576b"
                      ],
                      [
                        0.6666666666666666,
                        "#ed7953"
                      ],
                      [
                        0.7777777777777778,
                        "#fb9f3a"
                      ],
                      [
                        0.8888888888888888,
                        "#fdca26"
                      ],
                      [
                        1,
                        "#f0f921"
                      ]
                    ]
                  },
                  "colorway": [
                    "#636efa",
                    "#EF553B",
                    "#00cc96",
                    "#ab63fa",
                    "#FFA15A",
                    "#19d3f3",
                    "#FF6692",
                    "#B6E880",
                    "#FF97FF",
                    "#FECB52"
                  ],
                  "font": {
                    "color": "#2a3f5f"
                  },
                  "geo": {
                    "bgcolor": "white",
                    "lakecolor": "white",
                    "landcolor": "#E5ECF6",
                    "showlakes": true,
                    "showland": true,
                    "subunitcolor": "white"
                  },
                  "hoverlabel": {
                    "align": "left"
                  },
                  "hovermode": "closest",
                  "mapbox": {
                    "style": "light"
                  },
                  "paper_bgcolor": "white",
                  "plot_bgcolor": "#E5ECF6",
                  "polar": {
                    "angularaxis": {
                      "gridcolor": "white",
                      "linecolor": "white",
                      "ticks": ""
                    },
                    "bgcolor": "#E5ECF6",
                    "radialaxis": {
                      "gridcolor": "white",
                      "linecolor": "white",
                      "ticks": ""
                    }
                  },
                  "scene": {
                    "xaxis": {
                      "backgroundcolor": "#E5ECF6",
                      "gridcolor": "white",
                      "gridwidth": 2,
                      "linecolor": "white",
                      "showbackground": true,
                      "ticks": "",
                      "zerolinecolor": "white"
                    },
                    "yaxis": {
                      "backgroundcolor": "#E5ECF6",
                      "gridcolor": "white",
                      "gridwidth": 2,
                      "linecolor": "white",
                      "showbackground": true,
                      "ticks": "",
                      "zerolinecolor": "white"
                    },
                    "zaxis": {
                      "backgroundcolor": "#E5ECF6",
                      "gridcolor": "white",
                      "gridwidth": 2,
                      "linecolor": "white",
                      "showbackground": true,
                      "ticks": "",
                      "zerolinecolor": "white"
                    }
                  },
                  "shapedefaults": {
                    "line": {
                      "color": "#2a3f5f"
                    }
                  },
                  "ternary": {
                    "aaxis": {
                      "gridcolor": "white",
                      "linecolor": "white",
                      "ticks": ""
                    },
                    "baxis": {
                      "gridcolor": "white",
                      "linecolor": "white",
                      "ticks": ""
                    },
                    "bgcolor": "#E5ECF6",
                    "caxis": {
                      "gridcolor": "white",
                      "linecolor": "white",
                      "ticks": ""
                    }
                  },
                  "title": {
                    "x": 0.05
                  },
                  "xaxis": {
                    "automargin": true,
                    "gridcolor": "white",
                    "linecolor": "white",
                    "ticks": "",
                    "title": {
                      "standoff": 15
                    },
                    "zerolinecolor": "white",
                    "zerolinewidth": 2
                  },
                  "yaxis": {
                    "automargin": true,
                    "gridcolor": "white",
                    "linecolor": "white",
                    "ticks": "",
                    "title": {
                      "standoff": 15
                    },
                    "zerolinecolor": "white",
                    "zerolinewidth": 2
                  }
                }
              },
              "title": {
                "text": "Training average episode return",
                "x": 0.5
              },
              "width": 1500,
              "xaxis": {
                "title": {
                  "text": "Global step"
                }
              },
              "yaxis": {
                "type": "linear"
              }
            },
            "_model_module": "jupyterlab-plotly",
            "_model_module_version": "^5.24.1",
            "_model_name": "FigureModel",
            "_py2js_addTraces": {},
            "_py2js_animate": {},
            "_py2js_deleteTraces": {},
            "_py2js_moveTraces": {},
            "_py2js_relayout": {},
            "_py2js_removeLayoutProps": {},
            "_py2js_removeTraceProps": {},
            "_py2js_restyle": null,
            "_py2js_update": {},
            "_view_count": 1,
            "_view_module": "jupyterlab-plotly",
            "_view_module_version": "^5.24.1",
            "_view_name": "FigureView"
          }
        },
        "927ebbfe33464f7cae38b0d500633e68": {
          "model_module": "jupyterlab-plotly",
          "model_name": "FigureModel",
          "model_module_version": "^5.24.1",
          "state": {
            "_config": {
              "plotlyServerURL": "https://plot.ly"
            },
            "_data": [
              {
                "mode": "lines",
                "showlegend": true,
                "x": [],
                "y": [],
                "type": "scatter",
                "uid": "0e95593d-4855-41a7-9af4-554f2fe3526b"
              },
              {
                "mode": "lines",
                "showlegend": true,
                "x": [],
                "y": [],
                "type": "scatter",
                "uid": "7c07311d-1927-41a4-97a6-f7b423fc9015"
              },
              {
                "mode": "lines",
                "showlegend": true,
                "x": [],
                "y": [],
                "type": "scatter",
                "uid": "a25dd9d8-e29f-4a7d-922e-3295349292fd"
              },
              {
                "mode": "lines",
                "showlegend": true,
                "x": [],
                "y": [],
                "type": "scatter",
                "uid": "ac1f50e7-ace6-425b-b028-e01c83298807"
              },
              {
                "mode": "lines",
                "showlegend": true,
                "x": [],
                "y": [],
                "type": "scatter",
                "uid": "cd29d7d1-19fb-43d9-bc6b-364185e1209a"
              },
              {
                "mode": "lines",
                "showlegend": true,
                "x": [],
                "y": [],
                "type": "scatter",
                "uid": "4fe5dd21-cbf2-4fd4-8403-c65a310af5eb"
              },
              {
                "mode": "lines",
                "showlegend": true,
                "x": [],
                "y": [],
                "type": "scatter",
                "uid": "2f01b3df-a53e-47ed-aa11-9b155bae2dcd"
              },
              {
                "mode": "lines",
                "showlegend": true,
                "x": [],
                "y": [],
                "type": "scatter",
                "uid": "eaf15c52-ea95-49e1-bb91-e97b2fa28ded"
              },
              {
                "mode": "lines",
                "showlegend": true,
                "x": [],
                "y": [],
                "type": "scatter",
                "uid": "82ffa3fa-b765-4701-b172-7f4fe32a1d78"
              },
              {
                "mode": "lines",
                "showlegend": true,
                "x": [],
                "y": [],
                "type": "scatter",
                "uid": "3b9feeef-d548-4a84-bd30-d60b8d9d899d"
              },
              {
                "mode": "lines",
                "showlegend": true,
                "x": [],
                "y": [],
                "type": "scatter",
                "uid": "e537daf5-7c07-4ed9-a5b6-604483a0589d"
              },
              {
                "mode": "lines",
                "showlegend": true,
                "x": [],
                "y": [],
                "type": "scatter",
                "uid": "7aa93ded-4dc4-4010-887c-07a230875783"
              },
              {
                "mode": "lines",
                "showlegend": true,
                "x": [],
                "y": [],
                "type": "scatter",
                "uid": "946f78b1-a3ac-458e-9e1a-8e4269177f20"
              },
              {
                "mode": "lines",
                "showlegend": true,
                "x": [],
                "y": [],
                "type": "scatter",
                "uid": "c4091ff0-92f1-45b9-b4ae-4723a64794a3"
              },
              {
                "mode": "lines",
                "showlegend": true,
                "x": [],
                "y": [],
                "type": "scatter",
                "uid": "e607e15c-dcc8-49fc-8c84-e974939718ce"
              },
              {
                "mode": "lines",
                "showlegend": true,
                "x": [],
                "y": [],
                "type": "scatter",
                "uid": "f4e428b6-7554-4c6d-8c5d-3b081213b2b9"
              },
              {
                "mode": "lines",
                "showlegend": true,
                "x": [],
                "y": [],
                "type": "scatter",
                "uid": "a67c8213-565b-4bd5-92f1-bf1eeddac355"
              },
              {
                "mode": "lines",
                "showlegend": true,
                "x": [],
                "y": [],
                "type": "scatter",
                "uid": "6825fb34-e5db-4c23-9662-22c9d4812508"
              },
              {
                "mode": "lines",
                "showlegend": true,
                "x": [],
                "y": [],
                "type": "scatter",
                "uid": "35eb5798-c7ff-4379-a9cb-808cdb99fc82"
              },
              {
                "mode": "lines",
                "showlegend": true,
                "x": [],
                "y": [],
                "type": "scatter",
                "uid": "061eab5f-39c4-45ac-8084-ed466fa0edb7"
              },
              {
                "mode": "lines",
                "showlegend": true,
                "x": [],
                "y": [],
                "type": "scatter",
                "uid": "f0efce0e-d86c-4d17-abd6-604c425bcb24"
              },
              {
                "mode": "lines",
                "showlegend": true,
                "x": [],
                "y": [],
                "type": "scatter",
                "uid": "5f1bfa38-c345-4d79-a021-391f2be41fcf"
              },
              {
                "mode": "lines",
                "showlegend": true,
                "x": [],
                "y": [],
                "type": "scatter",
                "uid": "79dad124-8610-4935-876e-f87b1b7fe1b4"
              },
              {
                "mode": "lines",
                "showlegend": true,
                "x": [],
                "y": [],
                "type": "scatter",
                "uid": "85be2e29-86c7-40e4-a934-22d7e72b8a7f"
              },
              {
                "mode": "lines",
                "showlegend": true,
                "x": [],
                "y": [],
                "type": "scatter",
                "uid": "818c5a44-4dc9-4ac2-ac94-fbe744d906b8"
              }
            ],
            "_dom_classes": [],
            "_js2py_layoutDelta": null,
            "_js2py_pointsCallback": null,
            "_js2py_relayout": {},
            "_js2py_restyle": {},
            "_js2py_traceDeltas": null,
            "_js2py_update": {},
            "_last_layout_edit_id": 2795,
            "_last_trace_edit_id": 2795,
            "_layout": {
              "height": 400,
              "margin": {
                "b": 10,
                "t": 60
              },
              "template": {
                "data": {
                  "barpolar": [
                    {
                      "marker": {
                        "line": {
                          "color": "#E5ECF6",
                          "width": 0.5
                        },
                        "pattern": {
                          "fillmode": "overlay",
                          "size": 10,
                          "solidity": 0.2
                        }
                      },
                      "type": "barpolar"
                    }
                  ],
                  "bar": [
                    {
                      "error_x": {
                        "color": "#2a3f5f"
                      },
                      "error_y": {
                        "color": "#2a3f5f"
                      },
                      "marker": {
                        "line": {
                          "color": "#E5ECF6",
                          "width": 0.5
                        },
                        "pattern": {
                          "fillmode": "overlay",
                          "size": 10,
                          "solidity": 0.2
                        }
                      },
                      "type": "bar"
                    }
                  ],
                  "carpet": [
                    {
                      "aaxis": {
                        "endlinecolor": "#2a3f5f",
                        "gridcolor": "white",
                        "linecolor": "white",
                        "minorgridcolor": "white",
                        "startlinecolor": "#2a3f5f"
                      },
                      "baxis": {
                        "endlinecolor": "#2a3f5f",
                        "gridcolor": "white",
                        "linecolor": "white",
                        "minorgridcolor": "white",
                        "startlinecolor": "#2a3f5f"
                      },
                      "type": "carpet"
                    }
                  ],
                  "choropleth": [
                    {
                      "colorbar": {
                        "outlinewidth": 0,
                        "ticks": ""
                      },
                      "type": "choropleth"
                    }
                  ],
                  "contourcarpet": [
                    {
                      "colorbar": {
                        "outlinewidth": 0,
                        "ticks": ""
                      },
                      "type": "contourcarpet"
                    }
                  ],
                  "contour": [
                    {
                      "colorbar": {
                        "outlinewidth": 0,
                        "ticks": ""
                      },
                      "colorscale": [
                        [
                          0,
                          "#0d0887"
                        ],
                        [
                          0.1111111111111111,
                          "#46039f"
                        ],
                        [
                          0.2222222222222222,
                          "#7201a8"
                        ],
                        [
                          0.3333333333333333,
                          "#9c179e"
                        ],
                        [
                          0.4444444444444444,
                          "#bd3786"
                        ],
                        [
                          0.5555555555555556,
                          "#d8576b"
                        ],
                        [
                          0.6666666666666666,
                          "#ed7953"
                        ],
                        [
                          0.7777777777777778,
                          "#fb9f3a"
                        ],
                        [
                          0.8888888888888888,
                          "#fdca26"
                        ],
                        [
                          1,
                          "#f0f921"
                        ]
                      ],
                      "type": "contour"
                    }
                  ],
                  "heatmapgl": [
                    {
                      "colorbar": {
                        "outlinewidth": 0,
                        "ticks": ""
                      },
                      "colorscale": [
                        [
                          0,
                          "#0d0887"
                        ],
                        [
                          0.1111111111111111,
                          "#46039f"
                        ],
                        [
                          0.2222222222222222,
                          "#7201a8"
                        ],
                        [
                          0.3333333333333333,
                          "#9c179e"
                        ],
                        [
                          0.4444444444444444,
                          "#bd3786"
                        ],
                        [
                          0.5555555555555556,
                          "#d8576b"
                        ],
                        [
                          0.6666666666666666,
                          "#ed7953"
                        ],
                        [
                          0.7777777777777778,
                          "#fb9f3a"
                        ],
                        [
                          0.8888888888888888,
                          "#fdca26"
                        ],
                        [
                          1,
                          "#f0f921"
                        ]
                      ],
                      "type": "heatmapgl"
                    }
                  ],
                  "heatmap": [
                    {
                      "colorbar": {
                        "outlinewidth": 0,
                        "ticks": ""
                      },
                      "colorscale": [
                        [
                          0,
                          "#0d0887"
                        ],
                        [
                          0.1111111111111111,
                          "#46039f"
                        ],
                        [
                          0.2222222222222222,
                          "#7201a8"
                        ],
                        [
                          0.3333333333333333,
                          "#9c179e"
                        ],
                        [
                          0.4444444444444444,
                          "#bd3786"
                        ],
                        [
                          0.5555555555555556,
                          "#d8576b"
                        ],
                        [
                          0.6666666666666666,
                          "#ed7953"
                        ],
                        [
                          0.7777777777777778,
                          "#fb9f3a"
                        ],
                        [
                          0.8888888888888888,
                          "#fdca26"
                        ],
                        [
                          1,
                          "#f0f921"
                        ]
                      ],
                      "type": "heatmap"
                    }
                  ],
                  "histogram2dcontour": [
                    {
                      "colorbar": {
                        "outlinewidth": 0,
                        "ticks": ""
                      },
                      "colorscale": [
                        [
                          0,
                          "#0d0887"
                        ],
                        [
                          0.1111111111111111,
                          "#46039f"
                        ],
                        [
                          0.2222222222222222,
                          "#7201a8"
                        ],
                        [
                          0.3333333333333333,
                          "#9c179e"
                        ],
                        [
                          0.4444444444444444,
                          "#bd3786"
                        ],
                        [
                          0.5555555555555556,
                          "#d8576b"
                        ],
                        [
                          0.6666666666666666,
                          "#ed7953"
                        ],
                        [
                          0.7777777777777778,
                          "#fb9f3a"
                        ],
                        [
                          0.8888888888888888,
                          "#fdca26"
                        ],
                        [
                          1,
                          "#f0f921"
                        ]
                      ],
                      "type": "histogram2dcontour"
                    }
                  ],
                  "histogram2d": [
                    {
                      "colorbar": {
                        "outlinewidth": 0,
                        "ticks": ""
                      },
                      "colorscale": [
                        [
                          0,
                          "#0d0887"
                        ],
                        [
                          0.1111111111111111,
                          "#46039f"
                        ],
                        [
                          0.2222222222222222,
                          "#7201a8"
                        ],
                        [
                          0.3333333333333333,
                          "#9c179e"
                        ],
                        [
                          0.4444444444444444,
                          "#bd3786"
                        ],
                        [
                          0.5555555555555556,
                          "#d8576b"
                        ],
                        [
                          0.6666666666666666,
                          "#ed7953"
                        ],
                        [
                          0.7777777777777778,
                          "#fb9f3a"
                        ],
                        [
                          0.8888888888888888,
                          "#fdca26"
                        ],
                        [
                          1,
                          "#f0f921"
                        ]
                      ],
                      "type": "histogram2d"
                    }
                  ],
                  "histogram": [
                    {
                      "marker": {
                        "pattern": {
                          "fillmode": "overlay",
                          "size": 10,
                          "solidity": 0.2
                        }
                      },
                      "type": "histogram"
                    }
                  ],
                  "mesh3d": [
                    {
                      "colorbar": {
                        "outlinewidth": 0,
                        "ticks": ""
                      },
                      "type": "mesh3d"
                    }
                  ],
                  "parcoords": [
                    {
                      "line": {
                        "colorbar": {
                          "outlinewidth": 0,
                          "ticks": ""
                        }
                      },
                      "type": "parcoords"
                    }
                  ],
                  "pie": [
                    {
                      "automargin": true,
                      "type": "pie"
                    }
                  ],
                  "scatter3d": [
                    {
                      "line": {
                        "colorbar": {
                          "outlinewidth": 0,
                          "ticks": ""
                        }
                      },
                      "marker": {
                        "colorbar": {
                          "outlinewidth": 0,
                          "ticks": ""
                        }
                      },
                      "type": "scatter3d"
                    }
                  ],
                  "scattercarpet": [
                    {
                      "marker": {
                        "colorbar": {
                          "outlinewidth": 0,
                          "ticks": ""
                        }
                      },
                      "type": "scattercarpet"
                    }
                  ],
                  "scattergeo": [
                    {
                      "marker": {
                        "colorbar": {
                          "outlinewidth": 0,
                          "ticks": ""
                        }
                      },
                      "type": "scattergeo"
                    }
                  ],
                  "scattergl": [
                    {
                      "marker": {
                        "colorbar": {
                          "outlinewidth": 0,
                          "ticks": ""
                        }
                      },
                      "type": "scattergl"
                    }
                  ],
                  "scattermapbox": [
                    {
                      "marker": {
                        "colorbar": {
                          "outlinewidth": 0,
                          "ticks": ""
                        }
                      },
                      "type": "scattermapbox"
                    }
                  ],
                  "scatterpolargl": [
                    {
                      "marker": {
                        "colorbar": {
                          "outlinewidth": 0,
                          "ticks": ""
                        }
                      },
                      "type": "scatterpolargl"
                    }
                  ],
                  "scatterpolar": [
                    {
                      "marker": {
                        "colorbar": {
                          "outlinewidth": 0,
                          "ticks": ""
                        }
                      },
                      "type": "scatterpolar"
                    }
                  ],
                  "scatter": [
                    {
                      "fillpattern": {
                        "fillmode": "overlay",
                        "size": 10,
                        "solidity": 0.2
                      },
                      "type": "scatter"
                    }
                  ],
                  "scatterternary": [
                    {
                      "marker": {
                        "colorbar": {
                          "outlinewidth": 0,
                          "ticks": ""
                        }
                      },
                      "type": "scatterternary"
                    }
                  ],
                  "surface": [
                    {
                      "colorbar": {
                        "outlinewidth": 0,
                        "ticks": ""
                      },
                      "colorscale": [
                        [
                          0,
                          "#0d0887"
                        ],
                        [
                          0.1111111111111111,
                          "#46039f"
                        ],
                        [
                          0.2222222222222222,
                          "#7201a8"
                        ],
                        [
                          0.3333333333333333,
                          "#9c179e"
                        ],
                        [
                          0.4444444444444444,
                          "#bd3786"
                        ],
                        [
                          0.5555555555555556,
                          "#d8576b"
                        ],
                        [
                          0.6666666666666666,
                          "#ed7953"
                        ],
                        [
                          0.7777777777777778,
                          "#fb9f3a"
                        ],
                        [
                          0.8888888888888888,
                          "#fdca26"
                        ],
                        [
                          1,
                          "#f0f921"
                        ]
                      ],
                      "type": "surface"
                    }
                  ],
                  "table": [
                    {
                      "cells": {
                        "fill": {
                          "color": "#EBF0F8"
                        },
                        "line": {
                          "color": "white"
                        }
                      },
                      "header": {
                        "fill": {
                          "color": "#C8D4E3"
                        },
                        "line": {
                          "color": "white"
                        }
                      },
                      "type": "table"
                    }
                  ]
                },
                "layout": {
                  "annotationdefaults": {
                    "arrowcolor": "#2a3f5f",
                    "arrowhead": 0,
                    "arrowwidth": 1
                  },
                  "autotypenumbers": "strict",
                  "coloraxis": {
                    "colorbar": {
                      "outlinewidth": 0,
                      "ticks": ""
                    }
                  },
                  "colorscale": {
                    "diverging": [
                      [
                        0,
                        "#8e0152"
                      ],
                      [
                        0.1,
                        "#c51b7d"
                      ],
                      [
                        0.2,
                        "#de77ae"
                      ],
                      [
                        0.3,
                        "#f1b6da"
                      ],
                      [
                        0.4,
                        "#fde0ef"
                      ],
                      [
                        0.5,
                        "#f7f7f7"
                      ],
                      [
                        0.6,
                        "#e6f5d0"
                      ],
                      [
                        0.7,
                        "#b8e186"
                      ],
                      [
                        0.8,
                        "#7fbc41"
                      ],
                      [
                        0.9,
                        "#4d9221"
                      ],
                      [
                        1,
                        "#276419"
                      ]
                    ],
                    "sequential": [
                      [
                        0,
                        "#0d0887"
                      ],
                      [
                        0.1111111111111111,
                        "#46039f"
                      ],
                      [
                        0.2222222222222222,
                        "#7201a8"
                      ],
                      [
                        0.3333333333333333,
                        "#9c179e"
                      ],
                      [
                        0.4444444444444444,
                        "#bd3786"
                      ],
                      [
                        0.5555555555555556,
                        "#d8576b"
                      ],
                      [
                        0.6666666666666666,
                        "#ed7953"
                      ],
                      [
                        0.7777777777777778,
                        "#fb9f3a"
                      ],
                      [
                        0.8888888888888888,
                        "#fdca26"
                      ],
                      [
                        1,
                        "#f0f921"
                      ]
                    ],
                    "sequentialminus": [
                      [
                        0,
                        "#0d0887"
                      ],
                      [
                        0.1111111111111111,
                        "#46039f"
                      ],
                      [
                        0.2222222222222222,
                        "#7201a8"
                      ],
                      [
                        0.3333333333333333,
                        "#9c179e"
                      ],
                      [
                        0.4444444444444444,
                        "#bd3786"
                      ],
                      [
                        0.5555555555555556,
                        "#d8576b"
                      ],
                      [
                        0.6666666666666666,
                        "#ed7953"
                      ],
                      [
                        0.7777777777777778,
                        "#fb9f3a"
                      ],
                      [
                        0.8888888888888888,
                        "#fdca26"
                      ],
                      [
                        1,
                        "#f0f921"
                      ]
                    ]
                  },
                  "colorway": [
                    "#636efa",
                    "#EF553B",
                    "#00cc96",
                    "#ab63fa",
                    "#FFA15A",
                    "#19d3f3",
                    "#FF6692",
                    "#B6E880",
                    "#FF97FF",
                    "#FECB52"
                  ],
                  "font": {
                    "color": "#2a3f5f"
                  },
                  "geo": {
                    "bgcolor": "white",
                    "lakecolor": "white",
                    "landcolor": "#E5ECF6",
                    "showlakes": true,
                    "showland": true,
                    "subunitcolor": "white"
                  },
                  "hoverlabel": {
                    "align": "left"
                  },
                  "hovermode": "closest",
                  "mapbox": {
                    "style": "light"
                  },
                  "paper_bgcolor": "white",
                  "plot_bgcolor": "#E5ECF6",
                  "polar": {
                    "angularaxis": {
                      "gridcolor": "white",
                      "linecolor": "white",
                      "ticks": ""
                    },
                    "bgcolor": "#E5ECF6",
                    "radialaxis": {
                      "gridcolor": "white",
                      "linecolor": "white",
                      "ticks": ""
                    }
                  },
                  "scene": {
                    "xaxis": {
                      "backgroundcolor": "#E5ECF6",
                      "gridcolor": "white",
                      "gridwidth": 2,
                      "linecolor": "white",
                      "showbackground": true,
                      "ticks": "",
                      "zerolinecolor": "white"
                    },
                    "yaxis": {
                      "backgroundcolor": "#E5ECF6",
                      "gridcolor": "white",
                      "gridwidth": 2,
                      "linecolor": "white",
                      "showbackground": true,
                      "ticks": "",
                      "zerolinecolor": "white"
                    },
                    "zaxis": {
                      "backgroundcolor": "#E5ECF6",
                      "gridcolor": "white",
                      "gridwidth": 2,
                      "linecolor": "white",
                      "showbackground": true,
                      "ticks": "",
                      "zerolinecolor": "white"
                    }
                  },
                  "shapedefaults": {
                    "line": {
                      "color": "#2a3f5f"
                    }
                  },
                  "ternary": {
                    "aaxis": {
                      "gridcolor": "white",
                      "linecolor": "white",
                      "ticks": ""
                    },
                    "baxis": {
                      "gridcolor": "white",
                      "linecolor": "white",
                      "ticks": ""
                    },
                    "bgcolor": "#E5ECF6",
                    "caxis": {
                      "gridcolor": "white",
                      "linecolor": "white",
                      "ticks": ""
                    }
                  },
                  "title": {
                    "x": 0.05
                  },
                  "xaxis": {
                    "automargin": true,
                    "gridcolor": "white",
                    "linecolor": "white",
                    "ticks": "",
                    "title": {
                      "standoff": 15
                    },
                    "zerolinecolor": "white",
                    "zerolinewidth": 2
                  },
                  "yaxis": {
                    "automargin": true,
                    "gridcolor": "white",
                    "linecolor": "white",
                    "ticks": "",
                    "title": {
                      "standoff": 15
                    },
                    "zerolinecolor": "white",
                    "zerolinewidth": 2
                  }
                }
              },
              "title": {
                "text": "Training average curiosity reward",
                "x": 0.5
              },
              "width": 1500,
              "xaxis": {
                "title": {
                  "text": "Global step"
                }
              },
              "yaxis": {
                "type": "linear"
              }
            },
            "_model_module": "jupyterlab-plotly",
            "_model_module_version": "^5.24.1",
            "_model_name": "FigureModel",
            "_py2js_addTraces": {},
            "_py2js_animate": {},
            "_py2js_deleteTraces": {},
            "_py2js_moveTraces": {},
            "_py2js_relayout": {},
            "_py2js_removeLayoutProps": {},
            "_py2js_removeTraceProps": {},
            "_py2js_restyle": null,
            "_py2js_update": {},
            "_view_count": 1,
            "_view_module": "jupyterlab-plotly",
            "_view_module_version": "^5.24.1",
            "_view_name": "FigureView"
          }
        },
        "9907bf6098794ea59b23c4b1d868664c": {
          "model_module": "jupyterlab-plotly",
          "model_name": "FigureModel",
          "model_module_version": "^5.24.1",
          "state": {
            "_config": {
              "plotlyServerURL": "https://plot.ly"
            },
            "_data": [
              {
                "mode": "lines",
                "showlegend": true,
                "x": [],
                "y": [],
                "type": "scatter",
                "uid": "c20da99e-4e5b-4bcf-8503-e2c94dc5d99b"
              },
              {
                "mode": "lines",
                "showlegend": true,
                "x": [],
                "y": [],
                "type": "scatter",
                "uid": "bdd6f4e0-6ce3-4ad0-967b-d9345aeb0d6f"
              },
              {
                "mode": "lines",
                "showlegend": true,
                "x": [],
                "y": [],
                "type": "scatter",
                "uid": "ba4721d1-0c09-4735-8c34-ffd43d83ae94"
              },
              {
                "mode": "lines",
                "showlegend": true,
                "x": [],
                "y": [],
                "type": "scatter",
                "uid": "bc159531-98c5-4303-962c-ef50f941c882"
              },
              {
                "mode": "lines",
                "showlegend": true,
                "x": [],
                "y": [],
                "type": "scatter",
                "uid": "4d38bd8e-f558-4313-b6c3-8bce006eacf9"
              },
              {
                "mode": "lines",
                "showlegend": true,
                "x": [],
                "y": [],
                "type": "scatter",
                "uid": "824f2897-2a52-4de7-b16e-aeed2d959ae4"
              },
              {
                "mode": "lines",
                "showlegend": true,
                "x": [],
                "y": [],
                "type": "scatter",
                "uid": "f8361919-82fd-42a7-a661-347062e5eac1"
              },
              {
                "mode": "lines",
                "showlegend": true,
                "x": [],
                "y": [],
                "type": "scatter",
                "uid": "3f48f79b-b584-4e8f-9bed-23718aa4196c"
              },
              {
                "mode": "lines",
                "showlegend": true,
                "x": [],
                "y": [],
                "type": "scatter",
                "uid": "6ec2a83d-cfc8-4010-9b30-ea704ce4ff9c"
              },
              {
                "mode": "lines",
                "showlegend": true,
                "x": [],
                "y": [],
                "type": "scatter",
                "uid": "ab04d7e3-255e-42ac-956e-21f89acdd150"
              },
              {
                "mode": "lines",
                "showlegend": true,
                "x": [],
                "y": [],
                "type": "scatter",
                "uid": "fe491697-38f7-4a9c-98be-5058da7fc360"
              },
              {
                "mode": "lines",
                "showlegend": true,
                "x": [],
                "y": [],
                "type": "scatter",
                "uid": "475017ac-0b46-458d-87ac-721ad8d5296c"
              },
              {
                "mode": "lines",
                "showlegend": true,
                "x": [],
                "y": [],
                "type": "scatter",
                "uid": "2fd9e137-a285-425c-997f-39f7dbb6e2b8"
              },
              {
                "mode": "lines",
                "showlegend": true,
                "x": [],
                "y": [],
                "type": "scatter",
                "uid": "e801254c-b7a6-4ddd-a931-b7685d573361"
              },
              {
                "mode": "lines",
                "showlegend": true,
                "x": [],
                "y": [],
                "type": "scatter",
                "uid": "e7b4b5c7-c02f-4fab-9e84-f568a41f578e"
              },
              {
                "mode": "lines",
                "showlegend": true,
                "x": [],
                "y": [],
                "type": "scatter",
                "uid": "a81f1a9d-2b7e-4676-9707-e7dfca29e204"
              },
              {
                "mode": "lines",
                "showlegend": true,
                "x": [],
                "y": [],
                "type": "scatter",
                "uid": "54cc503f-070b-488d-806e-fb3ed7020db0"
              },
              {
                "mode": "lines",
                "showlegend": true,
                "x": [],
                "y": [],
                "type": "scatter",
                "uid": "6c1ee63e-6e2f-4a9b-83c4-4590a765e992"
              },
              {
                "mode": "lines",
                "showlegend": true,
                "x": [],
                "y": [],
                "type": "scatter",
                "uid": "20f166fe-e146-4ee7-bb4d-aaf28938bd60"
              },
              {
                "mode": "lines",
                "showlegend": true,
                "x": [],
                "y": [],
                "type": "scatter",
                "uid": "2ec29180-7b9a-4807-b920-b2a7d25f918d"
              },
              {
                "mode": "lines",
                "showlegend": true,
                "x": [],
                "y": [],
                "type": "scatter",
                "uid": "1f304b13-3615-40de-be60-8e5f31105c44"
              },
              {
                "mode": "lines",
                "showlegend": true,
                "x": [],
                "y": [],
                "type": "scatter",
                "uid": "f3bf9a29-e501-4f0f-a1b5-d6705befadde"
              },
              {
                "mode": "lines",
                "showlegend": true,
                "x": [],
                "y": [],
                "type": "scatter",
                "uid": "9dc03cf1-92ab-45b8-b02f-aec76e9719b1"
              },
              {
                "mode": "lines",
                "showlegend": true,
                "x": [],
                "y": [],
                "type": "scatter",
                "uid": "9a66946e-98b5-4b12-93b5-f7eddbf2a197"
              },
              {
                "mode": "lines",
                "showlegend": true,
                "x": [],
                "y": [],
                "type": "scatter",
                "uid": "55fa99b4-6b8f-44e3-a051-42fadb56b759"
              }
            ],
            "_dom_classes": [],
            "_js2py_layoutDelta": null,
            "_js2py_pointsCallback": {},
            "_js2py_relayout": {},
            "_js2py_restyle": {},
            "_js2py_traceDeltas": null,
            "_js2py_update": {},
            "_last_layout_edit_id": 978,
            "_last_trace_edit_id": 978,
            "_layout": {
              "height": 400,
              "margin": {
                "b": 10,
                "t": 60
              },
              "template": {
                "data": {
                  "barpolar": [
                    {
                      "marker": {
                        "line": {
                          "color": "#E5ECF6",
                          "width": 0.5
                        },
                        "pattern": {
                          "fillmode": "overlay",
                          "size": 10,
                          "solidity": 0.2
                        }
                      },
                      "type": "barpolar"
                    }
                  ],
                  "bar": [
                    {
                      "error_x": {
                        "color": "#2a3f5f"
                      },
                      "error_y": {
                        "color": "#2a3f5f"
                      },
                      "marker": {
                        "line": {
                          "color": "#E5ECF6",
                          "width": 0.5
                        },
                        "pattern": {
                          "fillmode": "overlay",
                          "size": 10,
                          "solidity": 0.2
                        }
                      },
                      "type": "bar"
                    }
                  ],
                  "carpet": [
                    {
                      "aaxis": {
                        "endlinecolor": "#2a3f5f",
                        "gridcolor": "white",
                        "linecolor": "white",
                        "minorgridcolor": "white",
                        "startlinecolor": "#2a3f5f"
                      },
                      "baxis": {
                        "endlinecolor": "#2a3f5f",
                        "gridcolor": "white",
                        "linecolor": "white",
                        "minorgridcolor": "white",
                        "startlinecolor": "#2a3f5f"
                      },
                      "type": "carpet"
                    }
                  ],
                  "choropleth": [
                    {
                      "colorbar": {
                        "outlinewidth": 0,
                        "ticks": ""
                      },
                      "type": "choropleth"
                    }
                  ],
                  "contourcarpet": [
                    {
                      "colorbar": {
                        "outlinewidth": 0,
                        "ticks": ""
                      },
                      "type": "contourcarpet"
                    }
                  ],
                  "contour": [
                    {
                      "colorbar": {
                        "outlinewidth": 0,
                        "ticks": ""
                      },
                      "colorscale": [
                        [
                          0,
                          "#0d0887"
                        ],
                        [
                          0.1111111111111111,
                          "#46039f"
                        ],
                        [
                          0.2222222222222222,
                          "#7201a8"
                        ],
                        [
                          0.3333333333333333,
                          "#9c179e"
                        ],
                        [
                          0.4444444444444444,
                          "#bd3786"
                        ],
                        [
                          0.5555555555555556,
                          "#d8576b"
                        ],
                        [
                          0.6666666666666666,
                          "#ed7953"
                        ],
                        [
                          0.7777777777777778,
                          "#fb9f3a"
                        ],
                        [
                          0.8888888888888888,
                          "#fdca26"
                        ],
                        [
                          1,
                          "#f0f921"
                        ]
                      ],
                      "type": "contour"
                    }
                  ],
                  "heatmapgl": [
                    {
                      "colorbar": {
                        "outlinewidth": 0,
                        "ticks": ""
                      },
                      "colorscale": [
                        [
                          0,
                          "#0d0887"
                        ],
                        [
                          0.1111111111111111,
                          "#46039f"
                        ],
                        [
                          0.2222222222222222,
                          "#7201a8"
                        ],
                        [
                          0.3333333333333333,
                          "#9c179e"
                        ],
                        [
                          0.4444444444444444,
                          "#bd3786"
                        ],
                        [
                          0.5555555555555556,
                          "#d8576b"
                        ],
                        [
                          0.6666666666666666,
                          "#ed7953"
                        ],
                        [
                          0.7777777777777778,
                          "#fb9f3a"
                        ],
                        [
                          0.8888888888888888,
                          "#fdca26"
                        ],
                        [
                          1,
                          "#f0f921"
                        ]
                      ],
                      "type": "heatmapgl"
                    }
                  ],
                  "heatmap": [
                    {
                      "colorbar": {
                        "outlinewidth": 0,
                        "ticks": ""
                      },
                      "colorscale": [
                        [
                          0,
                          "#0d0887"
                        ],
                        [
                          0.1111111111111111,
                          "#46039f"
                        ],
                        [
                          0.2222222222222222,
                          "#7201a8"
                        ],
                        [
                          0.3333333333333333,
                          "#9c179e"
                        ],
                        [
                          0.4444444444444444,
                          "#bd3786"
                        ],
                        [
                          0.5555555555555556,
                          "#d8576b"
                        ],
                        [
                          0.6666666666666666,
                          "#ed7953"
                        ],
                        [
                          0.7777777777777778,
                          "#fb9f3a"
                        ],
                        [
                          0.8888888888888888,
                          "#fdca26"
                        ],
                        [
                          1,
                          "#f0f921"
                        ]
                      ],
                      "type": "heatmap"
                    }
                  ],
                  "histogram2dcontour": [
                    {
                      "colorbar": {
                        "outlinewidth": 0,
                        "ticks": ""
                      },
                      "colorscale": [
                        [
                          0,
                          "#0d0887"
                        ],
                        [
                          0.1111111111111111,
                          "#46039f"
                        ],
                        [
                          0.2222222222222222,
                          "#7201a8"
                        ],
                        [
                          0.3333333333333333,
                          "#9c179e"
                        ],
                        [
                          0.4444444444444444,
                          "#bd3786"
                        ],
                        [
                          0.5555555555555556,
                          "#d8576b"
                        ],
                        [
                          0.6666666666666666,
                          "#ed7953"
                        ],
                        [
                          0.7777777777777778,
                          "#fb9f3a"
                        ],
                        [
                          0.8888888888888888,
                          "#fdca26"
                        ],
                        [
                          1,
                          "#f0f921"
                        ]
                      ],
                      "type": "histogram2dcontour"
                    }
                  ],
                  "histogram2d": [
                    {
                      "colorbar": {
                        "outlinewidth": 0,
                        "ticks": ""
                      },
                      "colorscale": [
                        [
                          0,
                          "#0d0887"
                        ],
                        [
                          0.1111111111111111,
                          "#46039f"
                        ],
                        [
                          0.2222222222222222,
                          "#7201a8"
                        ],
                        [
                          0.3333333333333333,
                          "#9c179e"
                        ],
                        [
                          0.4444444444444444,
                          "#bd3786"
                        ],
                        [
                          0.5555555555555556,
                          "#d8576b"
                        ],
                        [
                          0.6666666666666666,
                          "#ed7953"
                        ],
                        [
                          0.7777777777777778,
                          "#fb9f3a"
                        ],
                        [
                          0.8888888888888888,
                          "#fdca26"
                        ],
                        [
                          1,
                          "#f0f921"
                        ]
                      ],
                      "type": "histogram2d"
                    }
                  ],
                  "histogram": [
                    {
                      "marker": {
                        "pattern": {
                          "fillmode": "overlay",
                          "size": 10,
                          "solidity": 0.2
                        }
                      },
                      "type": "histogram"
                    }
                  ],
                  "mesh3d": [
                    {
                      "colorbar": {
                        "outlinewidth": 0,
                        "ticks": ""
                      },
                      "type": "mesh3d"
                    }
                  ],
                  "parcoords": [
                    {
                      "line": {
                        "colorbar": {
                          "outlinewidth": 0,
                          "ticks": ""
                        }
                      },
                      "type": "parcoords"
                    }
                  ],
                  "pie": [
                    {
                      "automargin": true,
                      "type": "pie"
                    }
                  ],
                  "scatter3d": [
                    {
                      "line": {
                        "colorbar": {
                          "outlinewidth": 0,
                          "ticks": ""
                        }
                      },
                      "marker": {
                        "colorbar": {
                          "outlinewidth": 0,
                          "ticks": ""
                        }
                      },
                      "type": "scatter3d"
                    }
                  ],
                  "scattercarpet": [
                    {
                      "marker": {
                        "colorbar": {
                          "outlinewidth": 0,
                          "ticks": ""
                        }
                      },
                      "type": "scattercarpet"
                    }
                  ],
                  "scattergeo": [
                    {
                      "marker": {
                        "colorbar": {
                          "outlinewidth": 0,
                          "ticks": ""
                        }
                      },
                      "type": "scattergeo"
                    }
                  ],
                  "scattergl": [
                    {
                      "marker": {
                        "colorbar": {
                          "outlinewidth": 0,
                          "ticks": ""
                        }
                      },
                      "type": "scattergl"
                    }
                  ],
                  "scattermapbox": [
                    {
                      "marker": {
                        "colorbar": {
                          "outlinewidth": 0,
                          "ticks": ""
                        }
                      },
                      "type": "scattermapbox"
                    }
                  ],
                  "scatterpolargl": [
                    {
                      "marker": {
                        "colorbar": {
                          "outlinewidth": 0,
                          "ticks": ""
                        }
                      },
                      "type": "scatterpolargl"
                    }
                  ],
                  "scatterpolar": [
                    {
                      "marker": {
                        "colorbar": {
                          "outlinewidth": 0,
                          "ticks": ""
                        }
                      },
                      "type": "scatterpolar"
                    }
                  ],
                  "scatter": [
                    {
                      "fillpattern": {
                        "fillmode": "overlay",
                        "size": 10,
                        "solidity": 0.2
                      },
                      "type": "scatter"
                    }
                  ],
                  "scatterternary": [
                    {
                      "marker": {
                        "colorbar": {
                          "outlinewidth": 0,
                          "ticks": ""
                        }
                      },
                      "type": "scatterternary"
                    }
                  ],
                  "surface": [
                    {
                      "colorbar": {
                        "outlinewidth": 0,
                        "ticks": ""
                      },
                      "colorscale": [
                        [
                          0,
                          "#0d0887"
                        ],
                        [
                          0.1111111111111111,
                          "#46039f"
                        ],
                        [
                          0.2222222222222222,
                          "#7201a8"
                        ],
                        [
                          0.3333333333333333,
                          "#9c179e"
                        ],
                        [
                          0.4444444444444444,
                          "#bd3786"
                        ],
                        [
                          0.5555555555555556,
                          "#d8576b"
                        ],
                        [
                          0.6666666666666666,
                          "#ed7953"
                        ],
                        [
                          0.7777777777777778,
                          "#fb9f3a"
                        ],
                        [
                          0.8888888888888888,
                          "#fdca26"
                        ],
                        [
                          1,
                          "#f0f921"
                        ]
                      ],
                      "type": "surface"
                    }
                  ],
                  "table": [
                    {
                      "cells": {
                        "fill": {
                          "color": "#EBF0F8"
                        },
                        "line": {
                          "color": "white"
                        }
                      },
                      "header": {
                        "fill": {
                          "color": "#C8D4E3"
                        },
                        "line": {
                          "color": "white"
                        }
                      },
                      "type": "table"
                    }
                  ]
                },
                "layout": {
                  "annotationdefaults": {
                    "arrowcolor": "#2a3f5f",
                    "arrowhead": 0,
                    "arrowwidth": 1
                  },
                  "autotypenumbers": "strict",
                  "coloraxis": {
                    "colorbar": {
                      "outlinewidth": 0,
                      "ticks": ""
                    }
                  },
                  "colorscale": {
                    "diverging": [
                      [
                        0,
                        "#8e0152"
                      ],
                      [
                        0.1,
                        "#c51b7d"
                      ],
                      [
                        0.2,
                        "#de77ae"
                      ],
                      [
                        0.3,
                        "#f1b6da"
                      ],
                      [
                        0.4,
                        "#fde0ef"
                      ],
                      [
                        0.5,
                        "#f7f7f7"
                      ],
                      [
                        0.6,
                        "#e6f5d0"
                      ],
                      [
                        0.7,
                        "#b8e186"
                      ],
                      [
                        0.8,
                        "#7fbc41"
                      ],
                      [
                        0.9,
                        "#4d9221"
                      ],
                      [
                        1,
                        "#276419"
                      ]
                    ],
                    "sequential": [
                      [
                        0,
                        "#0d0887"
                      ],
                      [
                        0.1111111111111111,
                        "#46039f"
                      ],
                      [
                        0.2222222222222222,
                        "#7201a8"
                      ],
                      [
                        0.3333333333333333,
                        "#9c179e"
                      ],
                      [
                        0.4444444444444444,
                        "#bd3786"
                      ],
                      [
                        0.5555555555555556,
                        "#d8576b"
                      ],
                      [
                        0.6666666666666666,
                        "#ed7953"
                      ],
                      [
                        0.7777777777777778,
                        "#fb9f3a"
                      ],
                      [
                        0.8888888888888888,
                        "#fdca26"
                      ],
                      [
                        1,
                        "#f0f921"
                      ]
                    ],
                    "sequentialminus": [
                      [
                        0,
                        "#0d0887"
                      ],
                      [
                        0.1111111111111111,
                        "#46039f"
                      ],
                      [
                        0.2222222222222222,
                        "#7201a8"
                      ],
                      [
                        0.3333333333333333,
                        "#9c179e"
                      ],
                      [
                        0.4444444444444444,
                        "#bd3786"
                      ],
                      [
                        0.5555555555555556,
                        "#d8576b"
                      ],
                      [
                        0.6666666666666666,
                        "#ed7953"
                      ],
                      [
                        0.7777777777777778,
                        "#fb9f3a"
                      ],
                      [
                        0.8888888888888888,
                        "#fdca26"
                      ],
                      [
                        1,
                        "#f0f921"
                      ]
                    ]
                  },
                  "colorway": [
                    "#636efa",
                    "#EF553B",
                    "#00cc96",
                    "#ab63fa",
                    "#FFA15A",
                    "#19d3f3",
                    "#FF6692",
                    "#B6E880",
                    "#FF97FF",
                    "#FECB52"
                  ],
                  "font": {
                    "color": "#2a3f5f"
                  },
                  "geo": {
                    "bgcolor": "white",
                    "lakecolor": "white",
                    "landcolor": "#E5ECF6",
                    "showlakes": true,
                    "showland": true,
                    "subunitcolor": "white"
                  },
                  "hoverlabel": {
                    "align": "left"
                  },
                  "hovermode": "closest",
                  "mapbox": {
                    "style": "light"
                  },
                  "paper_bgcolor": "white",
                  "plot_bgcolor": "#E5ECF6",
                  "polar": {
                    "angularaxis": {
                      "gridcolor": "white",
                      "linecolor": "white",
                      "ticks": ""
                    },
                    "bgcolor": "#E5ECF6",
                    "radialaxis": {
                      "gridcolor": "white",
                      "linecolor": "white",
                      "ticks": ""
                    }
                  },
                  "scene": {
                    "xaxis": {
                      "backgroundcolor": "#E5ECF6",
                      "gridcolor": "white",
                      "gridwidth": 2,
                      "linecolor": "white",
                      "showbackground": true,
                      "ticks": "",
                      "zerolinecolor": "white"
                    },
                    "yaxis": {
                      "backgroundcolor": "#E5ECF6",
                      "gridcolor": "white",
                      "gridwidth": 2,
                      "linecolor": "white",
                      "showbackground": true,
                      "ticks": "",
                      "zerolinecolor": "white"
                    },
                    "zaxis": {
                      "backgroundcolor": "#E5ECF6",
                      "gridcolor": "white",
                      "gridwidth": 2,
                      "linecolor": "white",
                      "showbackground": true,
                      "ticks": "",
                      "zerolinecolor": "white"
                    }
                  },
                  "shapedefaults": {
                    "line": {
                      "color": "#2a3f5f"
                    }
                  },
                  "ternary": {
                    "aaxis": {
                      "gridcolor": "white",
                      "linecolor": "white",
                      "ticks": ""
                    },
                    "baxis": {
                      "gridcolor": "white",
                      "linecolor": "white",
                      "ticks": ""
                    },
                    "bgcolor": "#E5ECF6",
                    "caxis": {
                      "gridcolor": "white",
                      "linecolor": "white",
                      "ticks": ""
                    }
                  },
                  "title": {
                    "x": 0.05
                  },
                  "xaxis": {
                    "automargin": true,
                    "gridcolor": "white",
                    "linecolor": "white",
                    "ticks": "",
                    "title": {
                      "standoff": 15
                    },
                    "zerolinecolor": "white",
                    "zerolinewidth": 2
                  },
                  "yaxis": {
                    "automargin": true,
                    "gridcolor": "white",
                    "linecolor": "white",
                    "ticks": "",
                    "title": {
                      "standoff": 15
                    },
                    "zerolinecolor": "white",
                    "zerolinewidth": 2
                  }
                }
              },
              "title": {
                "text": "Steps Per Socond",
                "x": 0.5
              },
              "width": 1500,
              "xaxis": {
                "title": {
                  "text": "Global step"
                }
              },
              "yaxis": {
                "type": "linear"
              }
            },
            "_model_module": "jupyterlab-plotly",
            "_model_module_version": "^5.24.1",
            "_model_name": "FigureModel",
            "_py2js_addTraces": {},
            "_py2js_animate": {},
            "_py2js_deleteTraces": {},
            "_py2js_moveTraces": {},
            "_py2js_relayout": {},
            "_py2js_removeLayoutProps": {},
            "_py2js_removeTraceProps": {},
            "_py2js_restyle": null,
            "_py2js_update": {},
            "_view_count": 1,
            "_view_module": "jupyterlab-plotly",
            "_view_module_version": "^5.24.1",
            "_view_name": "FigureView"
          }
        }
      }
    }
  },
  "nbformat": 4,
  "nbformat_minor": 0
}